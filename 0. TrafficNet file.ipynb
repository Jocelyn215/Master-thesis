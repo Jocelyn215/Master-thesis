{
 "cells": [
  {
   "cell_type": "code",
   "execution_count": null,
   "metadata": {},
   "outputs": [],
   "source": [
    "import pandas as pd\n",
    "import numpy as np\n",
    "import csv\n",
    "\n",
    "# read DataWsu.csv file\n",
    "Wsu = pd.read_csv('../XWang221/Download/DataWsu_New.csv', usecols=['Device','Trip','Time','LatitudeWsu','LongitudeWsu','GpsHeadingWsu','GpsSpeedWsu','SpeedWsu','AxWsu','Flow','CutIn','Following'])\n",
    "\n",
    "# read DataLane.csv file\n",
    "Lane = pd.read_csv('../XWang221/Download/DataLane.csv', usecols=['Device','Trip','Time','LaneDistanceLeft','LaneDistanceRight','LaneHeading'])\n",
    "\n",
    "# merge the two file to one file based on 'Device','Trip','Time'\n",
    "WsuLane = pd.merge(Wsu, Lane, how='left', on=['Device','Trip','Time'])\n",
    "\n",
    "# read DataFrontTargets.csv file\n",
    "Front = pd.read_csv('../XWang221/Download/DataFrontTargets_New.csv', usecols=['Device','Trip','Time','TargetId','ObstacleId','Range','Rangerate','Transversal','TargetType','CIPV'])\n",
    "\n",
    "# merge the two file to one file based on 'Device','Trip','Time'\n",
    "WsuLaneFront = pd.merge(WsuLane, Front,  how='outer', on=['Device','Trip','Time'])\n",
    "\n",
    "# All the information for one drive is saved in one file\n",
    "WsuLaneFront.to_csv('../XWang221/Download/TrafficNet.csv', encoding='utf_8_sig', index=False)"
   ]
  }
 ],
 "metadata": {
  "kernelspec": {
   "display_name": "Python 3",
   "language": "python",
   "name": "python3"
  },
  "language_info": {
   "codemirror_mode": {
    "name": "ipython",
    "version": 3
   },
   "file_extension": ".py",
   "mimetype": "text/x-python",
   "name": "python",
   "nbconvert_exporter": "python",
   "pygments_lexer": "ipython3",
   "version": "3.7.4"
  }
 },
 "nbformat": 4,
 "nbformat_minor": 2
}
