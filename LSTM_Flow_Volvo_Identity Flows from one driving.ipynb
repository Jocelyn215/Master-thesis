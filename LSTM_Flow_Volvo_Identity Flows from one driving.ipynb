{
 "cells": [
  {
   "cell_type": "code",
   "execution_count": null,
   "metadata": {},
   "outputs": [],
   "source": [
    "from keras.utils import np_utils\n",
    "from keras.models import Sequential\n",
    "from keras.layers import Dense, LSTM, Dropout\n",
    "from keras.callbacks import EarlyStopping\n",
    "from sklearn.preprocessing import StandardScaler\n",
    "from pandas import read_csv\n",
    "from keras.models import load_model\n",
    "\n",
    "import pandas as pd\n",
    "import numpy as np\n",
    "import glob\n",
    "import matplotlib.pyplot as plt\n",
    "import collections\n",
    "%matplotlib inline"
   ]
  },
  {
   "cell_type": "code",
   "execution_count": null,
   "metadata": {},
   "outputs": [],
   "source": [
    "# Set up a 'look back' dataset for sequence to label prediction with Keras.\n",
    "\n",
    "# The LSTM network expects the input data (X) to be provided with a specific\n",
    "# array structure in the form of: [samples, time steps, features].\n",
    "\n",
    "# create_dataset is adapted from\n",
    "# http://machinelearningmastery.com/time-series-prediction-lstm-recurrent-neural-networks-python-keras/\n",
    "\n",
    "def create_dataset(X, Y, **options):\n",
    "    \"\"\"Convert an array of X, Y values into a dataset matrix for and LSTM\"\"\"\n",
    "    \n",
    "    look_back = options.pop('look_back', None)\n",
    "    dataX, dataY = [], []\n",
    "    for i in range(len(X) - look_back):\n",
    "        a = X[i:(i+look_back)]\n",
    "        dataX.append(a)\n",
    "        dataY.append(Y[i + look_back - 1])\n",
    "    return np.array(dataX), np.array(dataY)\n",
    "\n",
    "# Predictions will be based on look_back minutes of data:\n",
    "look_back = 50"
   ]
  },
  {
   "cell_type": "code",
   "execution_count": null,
   "metadata": {},
   "outputs": [],
   "source": [
    "model = load_model('LSTM_Flow_Volvo.h5')"
   ]
  },
  {
   "cell_type": "code",
   "execution_count": null,
   "metadata": {},
   "outputs": [],
   "source": [
    "path = glob.glob('C:\\\\Users\\\\XWANG221\\\\Downloads\\\\Test_2019w26_CPUload_Kiel_Amsterdam\\\\*.csv')\n",
    "\n",
    "XPP_volvo = np.empty((1, 50, 22))\n",
    "YPP_volvo = np.empty((1,))\n",
    "\n",
    "for j in range(len(path)):\n",
    "    \n",
    "    volvo = pd.read_csv(path[j], usecols=['Lat','YawRate','Acceleration','PositionInLane','InReverse','Id1','Id2','Id6','Id7','PosLgt1','PosLgt6','PosLgt7','VelLgt6','VelLgt7','PosLat1','PosLat6','PosLat7','Type1','Type7','Lane1','Lane2','Flow'])\n",
    "    if volvo.shape[0] <= 50:\n",
    "        pass\n",
    "    else:\n",
    "        volvo['PositionInLaneRight'] = 2.5 - volvo['PositionInLane']\n",
    "        volvo.fillna(10000000, inplace=True)\n",
    "    \n",
    "        Yvolvo = np.array(volvo['Flow'].values)\n",
    "        Xvolvo = np.array(volvo[['Lat','YawRate','Acceleration','PositionInLane','PositionInLaneRight','InReverse','Id1','Id2','Id6','Id7','PosLgt1','PosLgt6','PosLgt7','VelLgt6','VelLgt7','PosLat1','PosLat6','PosLat7','Type1','Type7','Lane1','Lane2']])\n",
    "\n",
    "        scaler = StandardScaler()\n",
    "        X_volvo = scaler.fit_transform(Xvolvo)\n",
    "        XP_volvo, YP_volvo = create_dataset(X_volvo, Yvolvo, look_back=look_back)\n",
    "        #print(XP_volvo.shape, YP_volvo.shape)\n",
    "    \n",
    "        XPP_volvo = np.append(XPP_volvo, XP_volvo, axis=0)\n",
    "        YPP_volvo = np.append(YPP_volvo, YP_volvo, axis=0)\n"
   ]
  },
  {
   "cell_type": "code",
   "execution_count": null,
   "metadata": {},
   "outputs": [],
   "source": [
    "print(len(YPP_volvo)//64*64+1)"
   ]
  },
  {
   "cell_type": "code",
   "execution_count": null,
   "metadata": {},
   "outputs": [],
   "source": [
    "XPP_volvo = XPP_volvo[1:14977]\n",
    "YPP_volvo = YPP_volvo[1:14977]"
   ]
  },
  {
   "cell_type": "code",
   "execution_count": null,
   "metadata": {},
   "outputs": [],
   "source": [
    "Y_predict_volvo = model.predict_classes(XPP_volvo, verbose=True)\n",
    "\n",
    "a6 = Y_predict_volvo.tolist()\n",
    "a26 = [item[0] for item in a6]\n",
    "b6 = YPP_volvo.tolist()"
   ]
  },
  {
   "cell_type": "code",
   "execution_count": null,
   "metadata": {},
   "outputs": [],
   "source": [
    "# Test_2019w26_CPUload_Kiel_Amsterdam-0011\n",
    "print(\"Predict:\", Predict, \"-\", \"True:\", Y)   \n",
    "print(\"big:\",big, \"-\", \"precision:\", precision(big), \"-\", \"recall:\", recall(big))  \n",
    "print(\"small:\",small, \"-\", \"precision:\", precision(small), \"-\", \"recall:\", recall(small)) \n",
    "print(\"-\")\n",
    "print(\"same:\",same, \"-\", \"precision:\", precision(same), \"-\", \"recall:\", recall(same)) \n",
    "print(\"con95:\",con95, \"-\", \"precision:\", precision(con95), \"-\", \"recall:\", recall(con95))  \n",
    "print(\"con90:\",con90, \"-\", \"precision:\", precision(con90), \"-\", \"recall:\", recall(con90)) \n",
    "print(\"con85:\",con85, \"-\", \"precision:\", precision(con85), \"-\", \"recall:\", recall(con85)) \n",
    "print(\"con80:\",con80, \"-\", \"precision:\", precision(con80), \"-\", \"recall:\", recall(con80))"
   ]
  },
  {
   "cell_type": "code",
   "execution_count": null,
   "metadata": {},
   "outputs": [],
   "source": []
  },
  {
   "cell_type": "code",
   "execution_count": null,
   "metadata": {},
   "outputs": [],
   "source": []
  }
 ],
 "metadata": {
  "kernelspec": {
   "display_name": "Python 3",
   "language": "python",
   "name": "python3"
  },
  "language_info": {
   "codemirror_mode": {
    "name": "ipython",
    "version": 3
   },
   "file_extension": ".py",
   "mimetype": "text/x-python",
   "name": "python",
   "nbconvert_exporter": "python",
   "pygments_lexer": "ipython3",
   "version": "3.7.4"
  }
 },
 "nbformat": 4,
 "nbformat_minor": 2
}
