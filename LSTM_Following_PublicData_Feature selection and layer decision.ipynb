{
 "cells": [
  {
   "cell_type": "code",
   "execution_count": 1,
   "metadata": {
    "scrolled": false
   },
   "outputs": [
    {
     "name": "stderr",
     "output_type": "stream",
     "text": [
      "Using TensorFlow backend.\n",
      "/Users/jocelyn/opt/anaconda3/lib/python3.7/site-packages/tensorflow/python/framework/dtypes.py:516: FutureWarning: Passing (type, 1) or '1type' as a synonym of type is deprecated; in a future version of numpy, it will be understood as (type, (1,)) / '(1,)type'.\n",
      "  _np_qint8 = np.dtype([(\"qint8\", np.int8, 1)])\n",
      "/Users/jocelyn/opt/anaconda3/lib/python3.7/site-packages/tensorflow/python/framework/dtypes.py:517: FutureWarning: Passing (type, 1) or '1type' as a synonym of type is deprecated; in a future version of numpy, it will be understood as (type, (1,)) / '(1,)type'.\n",
      "  _np_quint8 = np.dtype([(\"quint8\", np.uint8, 1)])\n",
      "/Users/jocelyn/opt/anaconda3/lib/python3.7/site-packages/tensorflow/python/framework/dtypes.py:518: FutureWarning: Passing (type, 1) or '1type' as a synonym of type is deprecated; in a future version of numpy, it will be understood as (type, (1,)) / '(1,)type'.\n",
      "  _np_qint16 = np.dtype([(\"qint16\", np.int16, 1)])\n",
      "/Users/jocelyn/opt/anaconda3/lib/python3.7/site-packages/tensorflow/python/framework/dtypes.py:519: FutureWarning: Passing (type, 1) or '1type' as a synonym of type is deprecated; in a future version of numpy, it will be understood as (type, (1,)) / '(1,)type'.\n",
      "  _np_quint16 = np.dtype([(\"quint16\", np.uint16, 1)])\n",
      "/Users/jocelyn/opt/anaconda3/lib/python3.7/site-packages/tensorflow/python/framework/dtypes.py:520: FutureWarning: Passing (type, 1) or '1type' as a synonym of type is deprecated; in a future version of numpy, it will be understood as (type, (1,)) / '(1,)type'.\n",
      "  _np_qint32 = np.dtype([(\"qint32\", np.int32, 1)])\n",
      "/Users/jocelyn/opt/anaconda3/lib/python3.7/site-packages/tensorflow/python/framework/dtypes.py:525: FutureWarning: Passing (type, 1) or '1type' as a synonym of type is deprecated; in a future version of numpy, it will be understood as (type, (1,)) / '(1,)type'.\n",
      "  np_resource = np.dtype([(\"resource\", np.ubyte, 1)])\n",
      "/Users/jocelyn/opt/anaconda3/lib/python3.7/site-packages/tensorboard/compat/tensorflow_stub/dtypes.py:541: FutureWarning: Passing (type, 1) or '1type' as a synonym of type is deprecated; in a future version of numpy, it will be understood as (type, (1,)) / '(1,)type'.\n",
      "  _np_qint8 = np.dtype([(\"qint8\", np.int8, 1)])\n",
      "/Users/jocelyn/opt/anaconda3/lib/python3.7/site-packages/tensorboard/compat/tensorflow_stub/dtypes.py:542: FutureWarning: Passing (type, 1) or '1type' as a synonym of type is deprecated; in a future version of numpy, it will be understood as (type, (1,)) / '(1,)type'.\n",
      "  _np_quint8 = np.dtype([(\"quint8\", np.uint8, 1)])\n",
      "/Users/jocelyn/opt/anaconda3/lib/python3.7/site-packages/tensorboard/compat/tensorflow_stub/dtypes.py:543: FutureWarning: Passing (type, 1) or '1type' as a synonym of type is deprecated; in a future version of numpy, it will be understood as (type, (1,)) / '(1,)type'.\n",
      "  _np_qint16 = np.dtype([(\"qint16\", np.int16, 1)])\n",
      "/Users/jocelyn/opt/anaconda3/lib/python3.7/site-packages/tensorboard/compat/tensorflow_stub/dtypes.py:544: FutureWarning: Passing (type, 1) or '1type' as a synonym of type is deprecated; in a future version of numpy, it will be understood as (type, (1,)) / '(1,)type'.\n",
      "  _np_quint16 = np.dtype([(\"quint16\", np.uint16, 1)])\n",
      "/Users/jocelyn/opt/anaconda3/lib/python3.7/site-packages/tensorboard/compat/tensorflow_stub/dtypes.py:545: FutureWarning: Passing (type, 1) or '1type' as a synonym of type is deprecated; in a future version of numpy, it will be understood as (type, (1,)) / '(1,)type'.\n",
      "  _np_qint32 = np.dtype([(\"qint32\", np.int32, 1)])\n",
      "/Users/jocelyn/opt/anaconda3/lib/python3.7/site-packages/tensorboard/compat/tensorflow_stub/dtypes.py:550: FutureWarning: Passing (type, 1) or '1type' as a synonym of type is deprecated; in a future version of numpy, it will be understood as (type, (1,)) / '(1,)type'.\n",
      "  np_resource = np.dtype([(\"resource\", np.ubyte, 1)])\n"
     ]
    }
   ],
   "source": [
    "from keras.utils import np_utils\n",
    "from keras.models import Sequential\n",
    "from keras.layers import Dense, LSTM, Dropout\n",
    "from keras.callbacks import EarlyStopping\n",
    "from sklearn.preprocessing import StandardScaler\n",
    "\n",
    "import pandas as pd\n",
    "import numpy as np\n",
    "import glob\n",
    "import matplotlib.pyplot as plt\n",
    "import collections\n",
    "%matplotlib inline"
   ]
  },
  {
   "cell_type": "code",
   "execution_count": 3,
   "metadata": {
    "scrolled": true
   },
   "outputs": [
    {
     "name": "stdout",
     "output_type": "stream",
     "text": [
      "0\n",
      "(19544, 51) (19544,)\n",
      "1\n",
      "(11740, 51) (11740,)\n",
      "2\n",
      "(11496, 51) (11496,)\n",
      "3\n",
      "(26081, 51) (26081,)\n",
      "4\n",
      "(29270, 51) (29270,)\n",
      "5\n",
      "(14507, 51) (14507,)\n",
      "6\n",
      "(15172, 51) (15172,)\n",
      "7\n",
      "(15276, 51) (15276,)\n",
      "8\n",
      "(14923, 51) (14923,)\n",
      "9\n",
      "(28756, 51) (28756,)\n",
      "10\n",
      "(14470, 51) (14470,)\n",
      "11\n",
      "(21603, 51) (21603,)\n",
      "12\n",
      "(11005, 51) (11005,)\n",
      "13\n",
      "(20745, 51) (20745,)\n",
      "14\n",
      "(14776, 51) (14776,)\n",
      "15\n",
      "(13823, 51) (13823,)\n",
      "16\n",
      "(13538, 51) (13538,)\n",
      "17\n",
      "(22155, 51) (22155,)\n",
      "18\n",
      "(21394, 51) (21394,)\n",
      "19\n",
      "(23821, 51) (23821,)\n",
      "20\n",
      "(18307, 51) (18307,)\n",
      "21\n",
      "(16944, 51) (16944,)\n",
      "22\n",
      "(23309, 51) (23309,)\n",
      "23\n",
      "(15579, 51) (15579,)\n",
      "24\n",
      "(22866, 51) (22866,)\n",
      "25\n",
      "(23109, 51) (23109,)\n",
      "26\n",
      "(16561, 51) (16561,)\n",
      "27\n",
      "(29807, 51) (29807,)\n",
      "28\n",
      "(24413, 51) (24413,)\n",
      "29\n",
      "(34055, 51) (34055,)\n",
      "30\n",
      "(15272, 51) (15272,)\n",
      "31\n",
      "(41559, 51) (41559,)\n",
      "32\n",
      "(21897, 51) (21897,)\n",
      "33\n",
      "(18440, 51) (18440,)\n",
      "34\n",
      "(21140, 51) (21140,)\n",
      "35\n",
      "(23049, 51) (23049,)\n",
      "36\n",
      "(26455, 51) (26455,)\n",
      "37\n",
      "(23781, 51) (23781,)\n",
      "38\n",
      "(23305, 51) (23305,)\n",
      "39\n",
      "(24190, 51) (24190,)\n",
      "40\n",
      "(17157, 51) (17157,)\n",
      "41\n",
      "(29288, 51) (29288,)\n",
      "42\n",
      "(30416, 51) (30416,)\n",
      "43\n",
      "(17290, 51) (17290,)\n",
      "44\n",
      "(27801, 51) (27801,)\n",
      "45\n",
      "(17008, 51) (17008,)\n",
      "46\n",
      "(16449, 51) (16449,)\n",
      "47\n",
      "(24832, 51) (24832,)\n"
     ]
    }
   ],
   "source": [
    "path = glob.glob('../XiaonfengWang/Desktop/TrafficNetToVolvo_Following/*.csv')\n",
    "\n",
    "X_all = np.empty((1, 51))\n",
    "Y_all = np.empty((1,))\n",
    "\n",
    "for i in range(len(path)):\n",
    "    print(i)\n",
    "    \n",
    "    Following = pd.read_csv(path[i], usecols=['LatitudeWsu','LongitudeWsu','GpsHeadingWsu','GpsSpeedWsu','SpeedWsu','AxWsu','Following','LaneDistanceLeft','LaneDistanceRight','LaneHeading','o1','o2','o3','o4','o5','o6','o7','r1','r2','r3','r4','r5','r6','r7','rr1','rr2','rr3','rr4','rr5','rr6','rr7','t1','t2','t3','t4','t5','t6','t7','tt1','tt2','tt3','tt4','tt5','tt6','tt7','c1','c2','c3','c4','c5','c6','c7'])\n",
    "    \n",
    "    Following.fillna(-1, inplace=True)\n",
    "    \n",
    "    Y_train = np.array(Following['Following'].values)\n",
    "    X_train = np.array(Following[['LatitudeWsu','LongitudeWsu','GpsHeadingWsu','GpsSpeedWsu','SpeedWsu','AxWsu','LaneDistanceLeft','LaneDistanceRight','LaneHeading','o1','o2','o3','o4','o5','o6','o7','r1','r2','r3','r4','r5','r6','r7','rr1','rr2','rr3','rr4','rr5','rr6','rr7','t1','t2','t3','t4','t5','t6','t7','tt1','tt2','tt3','tt4','tt5','tt6','tt7','c1','c2','c3','c4','c5','c6','c7']])\n",
    "             \n",
    "    # Get dimensions of input and output\n",
    "    #dimof_output = int(np.max(Y_train) + 1)\n",
    "    dimof_output = 1\n",
    "    dimof_input = X_train.shape[1]\n",
    "             \n",
    "    #print('dimof_input_train: ', dimof_input)\n",
    "    #print('dimof_output_train: ', dimof_output)\n",
    "\n",
    "    # Scale/whiten the X data\n",
    "    scaler = StandardScaler()\n",
    "    X_train = scaler.fit_transform(X_train)\n",
    "    #print(len(X_train))\n",
    "    print(X_train.shape, Y_train.shape)\n",
    "    \n",
    "    # Set y as categorical data\n",
    "    #Y_train = np_utils.to_categorical(Y_train, dimof_output)\n",
    "    #print(len(Y_train))\n",
    "    \n",
    "    X_all = np.append(X_all, X_train, axis=0)\n",
    "    Y_all = np.append(Y_all, Y_train, axis=0)"
   ]
  },
  {
   "cell_type": "code",
   "execution_count": 4,
   "metadata": {},
   "outputs": [
    {
     "data": {
      "text/plain": [
       "1008375"
      ]
     },
     "execution_count": 4,
     "metadata": {},
     "output_type": "execute_result"
    }
   ],
   "source": [
    "len(X_all)"
   ]
  },
  {
   "cell_type": "code",
   "execution_count": 5,
   "metadata": {},
   "outputs": [],
   "source": [
    "X_all = X_all[1:1008375]\n",
    "Y_all = Y_all[1:1008375]"
   ]
  },
  {
   "cell_type": "markdown",
   "metadata": {},
   "source": [
    "# Feature selection"
   ]
  },
  {
   "cell_type": "markdown",
   "metadata": {},
   "source": [
    "## ANOVA f-test Feature Selection"
   ]
  },
  {
   "cell_type": "code",
   "execution_count": 6,
   "metadata": {},
   "outputs": [],
   "source": [
    "# example of anova f-test feature selection for numerical data\n",
    "from pandas import read_csv\n",
    "from sklearn.model_selection import train_test_split\n",
    "from sklearn.feature_selection import SelectKBest\n",
    "from sklearn.feature_selection import f_classif\n",
    "from matplotlib import pyplot"
   ]
  },
  {
   "cell_type": "code",
   "execution_count": 7,
   "metadata": {},
   "outputs": [],
   "source": [
    "# feature selection\n",
    "def select_features(X_train, y_train, X_test):\n",
    "\t# configure to select all features\n",
    "\tfs = SelectKBest(score_func=f_classif, k='all')\n",
    "\t# learn relationship from training data\n",
    "\tfs.fit(X_train, y_train)\n",
    "\t# transform train input data\n",
    "\tX_train_fs = fs.transform(X_train)\n",
    "\t# transform test input data\n",
    "\tX_test_fs = fs.transform(X_test)\n",
    "\treturn X_train_fs, X_test_fs, fs"
   ]
  },
  {
   "cell_type": "code",
   "execution_count": 8,
   "metadata": {},
   "outputs": [
    {
     "name": "stderr",
     "output_type": "stream",
     "text": [
      "/Users/jocelyn/opt/anaconda3/lib/python3.7/site-packages/sklearn/feature_selection/univariate_selection.py:114: UserWarning: Features [12 19 26 33 40 47] are constant.\n",
      "  UserWarning)\n",
      "/Users/jocelyn/opt/anaconda3/lib/python3.7/site-packages/sklearn/feature_selection/univariate_selection.py:115: RuntimeWarning: invalid value encountered in true_divide\n",
      "  f = msb / msw\n"
     ]
    },
    {
     "name": "stdout",
     "output_type": "stream",
     "text": [
      "Feature 0: 1240.032795\n",
      "Feature 1: 1962.256394\n",
      "Feature 2: 2483.772948\n",
      "Feature 3: 238.637894\n",
      "Feature 4: 237.996339\n",
      "Feature 5: 386.632996\n",
      "Feature 6: 85.893797\n",
      "Feature 7: 2.492610\n",
      "Feature 8: 16589.311679\n",
      "Feature 9: 62820.815588\n",
      "Feature 10: 44030.190862\n",
      "Feature 11: 13270.831872\n",
      "Feature 12: nan\n",
      "Feature 13: 8.274730\n",
      "Feature 14: 3.961534\n",
      "Feature 15: 4.009371\n",
      "Feature 16: 2357.618440\n",
      "Feature 17: 13984.231692\n",
      "Feature 18: 8581.489682\n",
      "Feature 19: nan\n",
      "Feature 20: 5.028590\n",
      "Feature 21: 5.290169\n",
      "Feature 22: 2.982276\n",
      "Feature 23: 22751.834253\n",
      "Feature 24: 835.979496\n",
      "Feature 25: 25.020051\n",
      "Feature 26: nan\n",
      "Feature 27: 0.207840\n",
      "Feature 28: 0.686515\n",
      "Feature 29: 0.642565\n",
      "Feature 30: 11656.904805\n",
      "Feature 31: 1410.160611\n",
      "Feature 32: 837.242090\n",
      "Feature 33: nan\n",
      "Feature 34: 0.119012\n",
      "Feature 35: 1.420079\n",
      "Feature 36: 0.110184\n",
      "Feature 37: 126812.945842\n",
      "Feature 38: 63952.195963\n",
      "Feature 39: 16406.799128\n",
      "Feature 40: nan\n",
      "Feature 41: 13.533430\n",
      "Feature 42: 6.485062\n",
      "Feature 43: 3.544253\n",
      "Feature 44: 2406935.083669\n",
      "Feature 45: 72046.488765\n",
      "Feature 46: 17909.502511\n",
      "Feature 47: nan\n",
      "Feature 48: 12.850733\n",
      "Feature 49: 8.891280\n",
      "Feature 50: 3.815060\n"
     ]
    },
    {
     "data": {
      "image/png": "[encoded data removed]",
      "text/plain": [
       "<Figure size 432x288 with 1 Axes>"
      ]
     },
     "metadata": {
      "needs_background": "light"
     },
     "output_type": "display_data"
    }
   ],
   "source": [
    "# split into train and test sets\n",
    "X_train, X_test, y_train, y_test = train_test_split(X_all, Y_all, test_size=0.5, random_state=1)\n",
    "# feature selection\n",
    "X_train_fs, X_test_fs, fs = select_features(X_train, y_train, X_test)\n",
    "# what are scores for the features\n",
    "for i in range(len(fs.scores_)):\n",
    "\tprint('Feature %d: %f' % (i, fs.scores_[i]))\n",
    "# plot the scores\n",
    "pyplot.bar([i for i in range(len(fs.scores_))], fs.scores_)\n",
    "pyplot.show()"
   ]
  },
  {
   "cell_type": "markdown",
   "metadata": {},
   "source": [
    "# Modeling With Selected Features"
   ]
  },
  {
   "cell_type": "markdown",
   "metadata": {},
   "source": [
    "## Model Built Using All Features"
   ]
  },
  {
   "cell_type": "code",
   "execution_count": 9,
   "metadata": {},
   "outputs": [
    {
     "name": "stdout",
     "output_type": "stream",
     "text": [
      "Accuracy: 100.00\n"
     ]
    }
   ],
   "source": [
    "# evaluation of a model using all input features\n",
    "from pandas import read_csv\n",
    "from sklearn.model_selection import train_test_split\n",
    "from sklearn.linear_model import LogisticRegression\n",
    "from sklearn.metrics import accuracy_score\n",
    "\n",
    "# split into train and test sets\n",
    "#X_train, X_test, y_train, y_test = train_test_split(X, y, test_size=0.33, random_state=1)\n",
    "# fit the model\n",
    "model = LogisticRegression(solver='liblinear')\n",
    "model.fit(X_train, y_train)\n",
    "# evaluate the model\n",
    "yhat = model.predict(X_test)\n",
    "# evaluate predictions\n",
    "accuracy = accuracy_score(y_test, yhat)\n",
    "print('Accuracy: %.2f' % (accuracy*100))"
   ]
  },
  {
   "cell_type": "markdown",
   "metadata": {},
   "source": [
    "## Model Built Using ANOVA f-test Features"
   ]
  },
  {
   "cell_type": "code",
   "execution_count": 10,
   "metadata": {},
   "outputs": [
    {
     "name": "stderr",
     "output_type": "stream",
     "text": [
      "/Users/jocelyn/opt/anaconda3/lib/python3.7/site-packages/sklearn/feature_selection/univariate_selection.py:114: UserWarning: Features [12 19 26 33 40 47] are constant.\n",
      "  UserWarning)\n",
      "/Users/jocelyn/opt/anaconda3/lib/python3.7/site-packages/sklearn/feature_selection/univariate_selection.py:115: RuntimeWarning: invalid value encountered in true_divide\n",
      "  f = msb / msw\n"
     ]
    },
    {
     "name": "stdout",
     "output_type": "stream",
     "text": [
      "Accuracy: 100.00\n"
     ]
    }
   ],
   "source": [
    "# evaluation of a model using 4 features chosen with anova f-test\n",
    "from pandas import read_csv\n",
    "from sklearn.model_selection import train_test_split\n",
    "from sklearn.feature_selection import SelectKBest\n",
    "from sklearn.feature_selection import f_classif\n",
    "from sklearn.linear_model import LogisticRegression\n",
    "from sklearn.metrics import accuracy_score\n",
    "\n",
    "# feature selection\n",
    "def select_features_self(X_train, y_train, X_test):\n",
    "\t# configure to select a subset of features\n",
    "\tfs = SelectKBest(score_func=f_classif, k=6)\n",
    "\t# learn relationship from training data\n",
    "\tfs.fit(X_train, y_train)\n",
    "\t# transform train input data\n",
    "\tX_train_fs = fs.transform(X_train)\n",
    "\t# transform test input data\n",
    "\tX_test_fs = fs.transform(X_test)\n",
    "\treturn X_train_fs, X_test_fs, fs\n",
    "\n",
    "# feature selection\n",
    "X_train_fs, X_test_fs, fs = select_features_self(X_train, y_train, X_test)\n",
    "# fit the model\n",
    "model = LogisticRegression(solver='liblinear')\n",
    "model.fit(X_train_fs, y_train)\n",
    "# evaluate the model\n",
    "yhat_anova = model.predict(X_test_fs)\n",
    "# evaluate predictions\n",
    "accuracy_anova = accuracy_score(y_test, yhat_anova)\n",
    "print('Accuracy: %.2f' % (accuracy_anova*100))"
   ]
  },
  {
   "cell_type": "markdown",
   "metadata": {},
   "source": [
    "## Tune the Number of Selected Features"
   ]
  },
  {
   "cell_type": "code",
   "execution_count": 1,
   "metadata": {},
   "outputs": [],
   "source": [
    "from pandas import read_csv\n",
    "from sklearn.model_selection import RepeatedStratifiedKFold\n",
    "from sklearn.feature_selection import SelectKBest\n",
    "from sklearn.feature_selection import f_classif\n",
    "from sklearn.linear_model import LogisticRegression\n",
    "from sklearn.pipeline import Pipeline\n",
    "from sklearn.model_selection import GridSearchCV\n",
    "from matplotlib import pyplot\n",
    "from numpy import mean\n",
    "from numpy import std\n",
    "from sklearn.model_selection import cross_val_score\n",
    "from sklearn.model_selection import train_test_split\n",
    "import glob"
   ]
  },
  {
   "cell_type": "code",
   "execution_count": 4,
   "metadata": {},
   "outputs": [
    {
     "name": "stdout",
     "output_type": "stream",
     "text": [
      "0\n",
      "(19544, 51) (19544,)\n",
      "1\n",
      "(11740, 51) (11740,)\n",
      "2\n",
      "(11496, 51) (11496,)\n",
      "3\n",
      "(26081, 51) (26081,)\n",
      "4\n",
      "(29270, 51) (29270,)\n",
      "5\n",
      "(14507, 51) (14507,)\n",
      "6\n",
      "(15172, 51) (15172,)\n"
     ]
    }
   ],
   "source": [
    "path = glob.glob('../Users/XiaonfengWang/Desktop/TrafficNet/TrafficNetToVolvo_Following/*.csv')\n",
    "\n",
    "X_all = np.empty((1, 51))\n",
    "Y_all = np.empty((1,))\n",
    "\n",
    "for i in range(7):\n",
    "    print(i)\n",
    "    \n",
    "    Following = pd.read_csv(path[i], usecols=['LatitudeWsu','LongitudeWsu','GpsHeadingWsu','GpsSpeedWsu','SpeedWsu','AxWsu','Following','LaneDistanceLeft','LaneDistanceRight','LaneHeading','o1','o2','o3','o4','o5','o6','o7','r1','r2','r3','r4','r5','r6','r7','rr1','rr2','rr3','rr4','rr5','rr6','rr7','t1','t2','t3','t4','t5','t6','t7','tt1','tt2','tt3','tt4','tt5','tt6','tt7','c1','c2','c3','c4','c5','c6','c7'])\n",
    "    \n",
    "    indexNames = Following[ (Following['Following'] != 0) & (Following['Following'] != 1) ].index\n",
    "    #print(indexNames)\n",
    "    Following.drop(indexNames , inplace=True)\n",
    "    \n",
    "    Following.fillna(-1, inplace=True)\n",
    "    \n",
    "    Y_train = np.array(Following['Following'].values)\n",
    "    X_train = np.array(Following[['LatitudeWsu','LongitudeWsu','GpsHeadingWsu','GpsSpeedWsu','SpeedWsu','AxWsu','LaneDistanceLeft','LaneDistanceRight','LaneHeading','o1','o2','o3','o4','o5','o6','o7','r1','r2','r3','r4','r5','r6','r7','rr1','rr2','rr3','rr4','rr5','rr6','rr7','t1','t2','t3','t4','t5','t6','t7','tt1','tt2','tt3','tt4','tt5','tt6','tt7','c1','c2','c3','c4','c5','c6','c7']])\n",
    "             \n",
    "    # Get dimensions of input and output\n",
    "    #dimof_output = int(np.max(Y_train) + 1)\n",
    "    dimof_output = 1\n",
    "    dimof_input = X_train.shape[1]\n",
    "             \n",
    "    #print('dimof_input_train: ', dimof_input)\n",
    "    #print('dimof_output_train: ', dimof_output)\n",
    "\n",
    "    # Scale/whiten the X data\n",
    "    scaler = StandardScaler()\n",
    "    X_train = scaler.fit_transform(X_train)\n",
    "    #print(len(X_train))\n",
    "    print(X_train.shape, Y_train.shape)\n",
    "    \n",
    "    # Set y as categorical data\n",
    "    #Y_train = np_utils.to_categorical(Y_train, dimof_output)\n",
    "    #print(len(Y_train))\n",
    "    \n",
    "    X_all = np.append(X_all, X_train, axis=0)\n",
    "    Y_all = np.append(Y_all, Y_train, axis=0)"
   ]
  },
  {
   "cell_type": "code",
   "execution_count": 5,
   "metadata": {},
   "outputs": [
    {
     "data": {
      "text/plain": [
       "127811"
      ]
     },
     "execution_count": 5,
     "metadata": {},
     "output_type": "execute_result"
    }
   ],
   "source": [
    "len(X_all)"
   ]
  },
  {
   "cell_type": "code",
   "execution_count": 6,
   "metadata": {},
   "outputs": [],
   "source": [
    "X_all = X_all[1:127811]\n",
    "Y_all = Y_all[1:127811]"
   ]
  },
  {
   "cell_type": "code",
   "execution_count": 6,
   "metadata": {},
   "outputs": [
    {
     "data": {
      "text/plain": [
       "Counter({0.0: 62800, 1.0: 65010})"
      ]
     },
     "execution_count": 6,
     "metadata": {},
     "output_type": "execute_result"
    }
   ],
   "source": [
    "collections.Counter(Y_all)"
   ]
  },
  {
   "cell_type": "code",
   "execution_count": 15,
   "metadata": {},
   "outputs": [
    {
     "name": "stdout",
     "output_type": "stream",
     "text": [
      "Best Mean Accuracy: 1.000\n",
      "Best Config: {'anova__k': 1}\n"
     ]
    },
    {
     "name": "stderr",
     "output_type": "stream",
     "text": [
      "/Users/jocelyn/opt/anaconda3/lib/python3.7/site-packages/sklearn/feature_selection/univariate_selection.py:114: UserWarning: Features [12 15 19 22 26 29 33 36 40 43 47 50] are constant.\n",
      "  UserWarning)\n",
      "/Users/jocelyn/opt/anaconda3/lib/python3.7/site-packages/sklearn/feature_selection/univariate_selection.py:115: RuntimeWarning: invalid value encountered in true_divide\n",
      "  f = msb / msw\n"
     ]
    }
   ],
   "source": [
    "# compare different numbers of features selected using anova f-test\n",
    "\n",
    "\n",
    "# define the evaluation method\n",
    "cv = RepeatedStratifiedKFold(n_splits=5, n_repeats=3, random_state=1)\n",
    "# define the pipeline to evaluate\n",
    "model = LogisticRegression(solver='liblinear')\n",
    "fs = SelectKBest(score_func=f_classif)\n",
    "pipeline = Pipeline(steps=[('anova',fs), ('lr', model)])\n",
    "# define the grid\n",
    "grid = dict()\n",
    "grid['anova__k'] = [i+1 for i in range(X_all.shape[1])]\n",
    "# define the grid search\n",
    "search = GridSearchCV(pipeline, grid, scoring='accuracy', n_jobs=-1, cv=cv)\n",
    "# perform the search\n",
    "results = search.fit(X_all, Y_all)\n",
    "# summarize best\n",
    "print('Best Mean Accuracy: %.3f' % results.best_score_)\n",
    "print('Best Config: %s' % results.best_params_)"
   ]
  },
  {
   "cell_type": "code",
   "execution_count": 16,
   "metadata": {
    "scrolled": true
   },
   "outputs": [
    {
     "name": "stdout",
     "output_type": "stream",
     "text": [
      ">1 1.000 (0.000)\n",
      ">2 1.000 (0.000)\n",
      ">3 1.000 (0.000)\n",
      ">4 1.000 (0.000)\n",
      ">5 1.000 (0.000)\n",
      ">6 1.000 (0.000)\n",
      ">7 1.000 (0.000)\n",
      ">8 1.000 (0.000)\n",
      ">9 1.000 (0.000)\n",
      ">10 1.000 (0.000)\n",
      ">11 1.000 (0.000)\n",
      ">12 1.000 (0.000)\n",
      ">13 1.000 (0.000)\n",
      ">14 1.000 (0.000)\n",
      ">15 1.000 (0.000)\n",
      ">16 1.000 (0.000)\n",
      ">17 1.000 (0.000)\n",
      ">18 1.000 (0.000)\n",
      ">19 1.000 (0.000)\n",
      ">20 1.000 (0.000)\n",
      ">21 1.000 (0.000)\n",
      ">22 1.000 (0.000)\n",
      ">23 1.000 (0.000)\n",
      ">24 1.000 (0.000)\n",
      ">25 1.000 (0.000)\n",
      ">26 1.000 (0.000)\n",
      ">27 1.000 (0.000)\n",
      ">28 1.000 (0.000)\n",
      ">29 1.000 (0.000)\n",
      ">30 1.000 (0.000)\n",
      ">31 1.000 (0.000)\n",
      ">32 1.000 (0.000)\n",
      ">33 1.000 (0.000)\n",
      ">34 1.000 (0.000)\n",
      ">35 1.000 (0.000)\n",
      ">36 1.000 (0.000)\n",
      ">37 1.000 (0.000)\n",
      ">38 1.000 (0.000)\n",
      ">39 1.000 (0.000)\n",
      ">40 1.000 (0.000)\n",
      ">41 1.000 (0.000)\n",
      ">42 1.000 (0.000)\n",
      ">43 1.000 (0.000)\n",
      ">44 1.000 (0.000)\n",
      ">45 1.000 (0.000)\n",
      ">46 1.000 (0.000)\n",
      ">47 1.000 (0.000)\n",
      ">48 1.000 (0.000)\n",
      ">49 1.000 (0.000)\n",
      ">50 1.000 (0.000)\n",
      ">51 1.000 (0.000)\n"
     ]
    },
    {
     "data": {
      "image/png": "[encoded data removed]",
      "text/plain": [
       "<Figure size 432x288 with 1 Axes>"
      ]
     },
     "metadata": {
      "needs_background": "light"
     },
     "output_type": "display_data"
    }
   ],
   "source": [
    "# compare different numbers of features selected using anova f-test\n",
    "\n",
    "\n",
    "# evaluate a give model using cross-validation\n",
    "def evaluate_model(model):\n",
    "\tcv = RepeatedStratifiedKFold(n_splits=5, n_repeats=3, random_state=1)\n",
    "\tscores = cross_val_score(model, X_all, Y_all, scoring='accuracy', cv=cv, n_jobs=-1, error_score='raise')\n",
    "\treturn scores\n",
    "\n",
    "# define number of features to evaluate\n",
    "num_features = [i+1 for i in range(X_all.shape[1])]\n",
    "# enumerate each number of features\n",
    "results = list()\n",
    "for k in num_features:\n",
    "\t# create pipeline\n",
    "\tmodel = LogisticRegression(solver='liblinear')\n",
    "\tfs = SelectKBest(score_func=f_classif, k=k)\n",
    "\tpipeline = Pipeline(steps=[('anova',fs), ('lr', model)])\n",
    "\t# evaluate the model\n",
    "\tscores = evaluate_model(pipeline)\n",
    "\tresults.append(scores)\n",
    "\t# summarize the results\n",
    "\tprint('>%d %.3f (%.3f)' % (k, mean(scores), std(scores)))\n",
    "# plot model performance for comparison\n",
    "pyplot.boxplot(results, labels=num_features, showmeans=True)\n",
    "pyplot.show()"
   ]
  },
  {
   "cell_type": "code",
   "execution_count": 18,
   "metadata": {},
   "outputs": [
    {
     "data": {
      "image/png": "[encoded data removed]",
      "text/plain": [
       "<Figure size 1440x432 with 1 Axes>"
      ]
     },
     "metadata": {
      "needs_background": "light"
     },
     "output_type": "display_data"
    }
   ],
   "source": [
    "pyplot.figure(figsize=(20,6))\n",
    "pyplot.xticks(fontsize=15)\n",
    "pyplot.yticks(fontsize=20)\n",
    "\n",
    "bp = pyplot.boxplot(results, labels=num_features, showmeans=True, patch_artist=True)\n",
    "#ax = fig.add_subplot(111)\n",
    "for box in bp['boxes']:\n",
    "    # change outline color\n",
    "    box.set( color='#7570b3', linewidth=2)\n",
    "    # change fill color\n",
    "    box.set( facecolor = '#1b9e70' )\n",
    "\n",
    "## change color and linewidth of the whiskers\n",
    "for whisker in bp['whiskers']:\n",
    "    whisker.set(color='#7570b3', linewidth=2)\n",
    "\n",
    "## change color and linewidth of the caps\n",
    "for cap in bp['caps']:\n",
    "    cap.set(color='#7570b3', linewidth=2)\n",
    "\n",
    "## change color and linewidth of the medians\n",
    "for median in bp['medians']:\n",
    "    median.set(color='yellow', linewidth=2)\n",
    "\n",
    "## change the style of fliers and their fill\n",
    "for flier in bp['fliers']:\n",
    "    flier.set(marker='o', color='#e7298a', alpha=0.5)"
   ]
  },
  {
   "cell_type": "markdown",
   "metadata": {},
   "source": [
    "## the final 28 features"
   ]
  },
  {
   "cell_type": "code",
   "execution_count": 7,
   "metadata": {},
   "outputs": [],
   "source": [
    "# feature selection\n",
    "def select_features(X_train, y_train, X_test, n):\n",
    "\t# configure to select all features\n",
    "\tfs = SelectKBest(score_func=f_classif, k=n)\n",
    "\t# learn relationship from training data\n",
    "\tfs.fit(X_train, y_train)\n",
    "\t# transform train input data\n",
    "\tX_train_fs = fs.transform(X_train)\n",
    "\t# transform test input data\n",
    "\tX_test_fs = fs.transform(X_test)\n",
    "\treturn X_train_fs, X_test_fs, fs"
   ]
  },
  {
   "cell_type": "code",
   "execution_count": 8,
   "metadata": {},
   "outputs": [
    {
     "name": "stderr",
     "output_type": "stream",
     "text": [
      "/Users/jocelyn/opt/anaconda3/lib/python3.7/site-packages/sklearn/feature_selection/univariate_selection.py:114: UserWarning: Features [12 15 19 22 26 29 33 36 40 43 47 50] are constant.\n",
      "  UserWarning)\n",
      "/Users/jocelyn/opt/anaconda3/lib/python3.7/site-packages/sklearn/feature_selection/univariate_selection.py:115: RuntimeWarning: invalid value encountered in true_divide\n",
      "  f = msb / msw\n"
     ]
    },
    {
     "name": "stdout",
     "output_type": "stream",
     "text": [
      "Feature 0: 2678.144262\n",
      "Feature 1: 55.261198\n",
      "Feature 2: 2202.679688\n",
      "Feature 3: 9.765581\n",
      "Feature 4: 44.754948\n",
      "Feature 5: 42.198041\n",
      "Feature 6: 67.895223\n",
      "Feature 7: 207.024132\n",
      "Feature 8: 1042.697019\n",
      "Feature 9: 6169.164083\n",
      "Feature 10: 9753.097995\n",
      "Feature 11: 2441.082707\n",
      "Feature 12: nan\n",
      "Feature 13: 1.947832\n",
      "Feature 14: 0.615807\n",
      "Feature 15: nan\n",
      "Feature 16: 2007.795662\n",
      "Feature 17: 3804.458407\n",
      "Feature 18: 2271.108600\n",
      "Feature 19: nan\n",
      "Feature 20: 4.569960\n",
      "Feature 21: 0.231104\n",
      "Feature 22: nan\n",
      "Feature 23: 2803.180535\n",
      "Feature 24: 21.511862\n",
      "Feature 25: 131.107015\n",
      "Feature 26: nan\n",
      "Feature 27: 4.620101\n",
      "Feature 28: 1.557415\n",
      "Feature 29: nan\n",
      "Feature 30: 44.563087\n",
      "Feature 31: 438.527480\n",
      "Feature 32: 96.093730\n",
      "Feature 33: nan\n",
      "Feature 34: 0.265585\n",
      "Feature 35: 0.319541\n",
      "Feature 36: nan\n",
      "Feature 37: 20207.009034\n",
      "Feature 38: 12894.618628\n",
      "Feature 39: 2959.200774\n",
      "Feature 40: nan\n",
      "Feature 41: 7.138875\n",
      "Feature 42: 0.392084\n",
      "Feature 43: nan\n",
      "Feature 44: 265111.285893\n",
      "Feature 45: 14814.254029\n",
      "Feature 46: 3302.581259\n",
      "Feature 47: nan\n",
      "Feature 48: 4.233952\n",
      "Feature 49: 0.392084\n",
      "Feature 50: nan\n"
     ]
    },
    {
     "data": {
      "image/png": "[encoded data removed]",
      "text/plain": [
       "<Figure size 432x288 with 1 Axes>"
      ]
     },
     "metadata": {
      "needs_background": "light"
     },
     "output_type": "display_data"
    }
   ],
   "source": [
    "# split into train and test sets\n",
    "X_train, X_test, y_train, y_test = train_test_split(X_all, Y_all, test_size=0.5, random_state=1)\n",
    "# feature selection\n",
    "X_train_fs, X_test_fs, fs = select_features(X_train, y_train, X_test, 28)\n",
    "# what are scores for the features\n",
    "for i in range(len(fs.scores_)):\n",
    "\tprint('Feature %d: %f' % (i, fs.scores_[i]))\n",
    "# plot the scores\n",
    "pyplot.bar([i for i in range(len(fs.scores_))], fs.scores_)\n",
    "pyplot.show()"
   ]
  },
  {
   "cell_type": "code",
   "execution_count": 9,
   "metadata": {},
   "outputs": [
    {
     "data": {
      "text/plain": [
       "array([ 0,  1,  2,  3,  4,  5,  6,  7,  8,  9, 10, 11, 16, 17, 18, 23, 24,\n",
       "       25, 30, 31, 32, 37, 38, 39, 41, 44, 45, 46])"
      ]
     },
     "execution_count": 9,
     "metadata": {},
     "output_type": "execute_result"
    }
   ],
   "source": [
    "fs.get_support(indices=True)"
   ]
  },
  {
   "cell_type": "markdown",
   "metadata": {},
   "source": [
    "# Layer decision of LSTM for Following_TraNet"
   ]
  },
  {
   "cell_type": "code",
   "execution_count": 2,
   "metadata": {},
   "outputs": [],
   "source": [
    "# Set up a 'look back' dataset for sequence to label prediction with Keras.\n",
    "\n",
    "# The LSTM network expects the input data (X) to be provided with a specific\n",
    "# array structure in the form of: [samples, time steps, features].\n",
    "\n",
    "def create_dataset(X, Y, **options):\n",
    "    \"\"\"Convert an array of X, Y values into a dataset matrix for and LSTM\"\"\"\n",
    "    \n",
    "    look_back = options.pop('look_back', None)\n",
    "    dataX, dataY = [], []\n",
    "    for i in range(len(X) - look_back):\n",
    "        a = X[i:(i+look_back)]\n",
    "        dataX.append(a)\n",
    "        dataY.append(Y[i + look_back - 1])\n",
    "    return np.array(dataX), np.array(dataY)\n",
    "\n",
    "# Predictions will be based on look_back minutes of data:\n",
    "look_back = 50"
   ]
  },
  {
   "cell_type": "code",
   "execution_count": 3,
   "metadata": {
    "scrolled": true
   },
   "outputs": [
    {
     "name": "stdout",
     "output_type": "stream",
     "text": [
      "0\n",
      "(19544, 28) (19544,)\n",
      "(19494, 50, 28) (19494,)\n",
      "1\n",
      "(11740, 28) (11740,)\n",
      "(11690, 50, 28) (11690,)\n",
      "2\n",
      "(11496, 28) (11496,)\n",
      "(11446, 50, 28) (11446,)\n",
      "3\n",
      "(26081, 28) (26081,)\n",
      "(26031, 50, 28) (26031,)\n",
      "4\n",
      "(14507, 28) (14507,)\n",
      "(14457, 50, 28) (14457,)\n",
      "5\n",
      "(15172, 28) (15172,)\n",
      "(15122, 50, 28) (15122,)\n",
      "6\n",
      "(15276, 28) (15276,)\n",
      "(15226, 50, 28) (15226,)\n",
      "7\n",
      "(14923, 28) (14923,)\n",
      "(14873, 50, 28) (14873,)\n",
      "8\n",
      "(28756, 28) (28756,)\n",
      "(28706, 50, 28) (28706,)\n",
      "9\n",
      "(14470, 28) (14470,)\n",
      "(14420, 50, 28) (14420,)\n",
      "10\n",
      "(21603, 28) (21603,)\n",
      "(21553, 50, 28) (21553,)\n",
      "11\n",
      "(11005, 28) (11005,)\n",
      "(10955, 50, 28) (10955,)\n",
      "12\n",
      "(20745, 28) (20745,)\n",
      "(20695, 50, 28) (20695,)\n",
      "13\n",
      "(14776, 28) (14776,)\n",
      "(14726, 50, 28) (14726,)\n",
      "14\n",
      "(13823, 28) (13823,)\n",
      "(13773, 50, 28) (13773,)\n",
      "15\n",
      "(13538, 28) (13538,)\n",
      "(13488, 50, 28) (13488,)\n",
      "16\n",
      "(22155, 28) (22155,)\n",
      "(22105, 50, 28) (22105,)\n",
      "17\n",
      "(21394, 28) (21394,)\n",
      "(21344, 50, 28) (21344,)\n",
      "18\n",
      "(23821, 28) (23821,)\n",
      "(23771, 50, 28) (23771,)\n",
      "19\n",
      "(18307, 28) (18307,)\n",
      "(18257, 50, 28) (18257,)\n",
      "20\n",
      "(16944, 28) (16944,)\n",
      "(16894, 50, 28) (16894,)\n",
      "21\n",
      "(23309, 28) (23309,)\n",
      "(23259, 50, 28) (23259,)\n",
      "22\n",
      "(15579, 28) (15579,)\n",
      "(15529, 50, 28) (15529,)\n",
      "23\n",
      "(22866, 28) (22866,)\n",
      "(22816, 50, 28) (22816,)\n",
      "24\n",
      "(23109, 28) (23109,)\n",
      "(23059, 50, 28) (23059,)\n",
      "25\n",
      "(16561, 28) (16561,)\n",
      "(16511, 50, 28) (16511,)\n",
      "26\n",
      "(29807, 28) (29807,)\n",
      "(29757, 50, 28) (29757,)\n",
      "27\n",
      "(24413, 28) (24413,)\n",
      "(24363, 50, 28) (24363,)\n",
      "28\n",
      "(34055, 28) (34055,)\n",
      "(34005, 50, 28) (34005,)\n",
      "29\n",
      "(15272, 28) (15272,)\n",
      "(15222, 50, 28) (15222,)\n",
      "30\n",
      "(41559, 28) (41559,)\n",
      "(41509, 50, 28) (41509,)\n",
      "31\n",
      "(21897, 28) (21897,)\n",
      "(21847, 50, 28) (21847,)\n",
      "32\n",
      "(18440, 28) (18440,)\n",
      "(18390, 50, 28) (18390,)\n",
      "33\n",
      "(21140, 28) (21140,)\n",
      "(21090, 50, 28) (21090,)\n",
      "34\n",
      "(23049, 28) (23049,)\n",
      "(22999, 50, 28) (22999,)\n",
      "35\n",
      "(26455, 28) (26455,)\n",
      "(26405, 50, 28) (26405,)\n",
      "36\n",
      "(23781, 28) (23781,)\n",
      "(23731, 50, 28) (23731,)\n",
      "37\n",
      "(23305, 28) (23305,)\n",
      "(23255, 50, 28) (23255,)\n",
      "38\n",
      "(24190, 28) (24190,)\n",
      "(24140, 50, 28) (24140,)\n",
      "39\n",
      "(17157, 28) (17157,)\n",
      "(17107, 50, 28) (17107,)\n",
      "40\n",
      "(29288, 28) (29288,)\n",
      "(29238, 50, 28) (29238,)\n"
     ]
    }
   ],
   "source": [
    "path = glob.glob('../XiaonfengWang/Desktop/TrafficNetToVolvo_Following/*.csv')\n",
    "\n",
    "X_all = np.empty((1, 50, 28))\n",
    "Y_all = np.empty((1,))\n",
    "\n",
    "for i in range(41):\n",
    "    print(i)\n",
    "    \n",
    "    Following = pd.read_csv(path[i], usecols=['LatitudeWsu','LongitudeWsu','GpsHeadingWsu','GpsSpeedWsu','SpeedWsu','AxWsu','LaneDistanceLeft','LaneDistanceRight','LaneHeading','Following','o1','o2','o3','r1','r2','r3','rr1','rr2','rr3','t1','t2','t3','tt1','tt2','tt3','tt5','c1','c2','c3'])\n",
    "    Following.fillna(-1, inplace=True)\n",
    "    \n",
    "    Y_train = np.array(Following['Following'].values)\n",
    "    X_train = np.array(Following[['LatitudeWsu','LongitudeWsu','GpsHeadingWsu','GpsSpeedWsu','SpeedWsu','AxWsu','LaneDistanceLeft','LaneDistanceRight','LaneHeading','o1','o2','o3','r1','r2','r3','rr1','rr2','rr3','t1','t2','t3','tt1','tt2','tt3','tt5','c1','c2','c3']])\n",
    "\n",
    "    dimof_output = 1\n",
    "    dimof_input = X_train.shape[1]\n",
    "             \n",
    "    # Scale/whiten the X data\n",
    "    scaler = StandardScaler()\n",
    "    X_train = scaler.fit_transform(X_train)\n",
    "    print(X_train.shape, Y_train.shape)\n",
    "    \n",
    "    X, Y = create_dataset(X_train, Y_train, look_back=look_back)\n",
    "    print(X.shape, Y.shape)\n",
    "    \n",
    "    X_all = np.append(X_all, X, axis=0)\n",
    "    Y_all = np.append(Y_all, Y, axis=0)"
   ]
  },
  {
   "cell_type": "code",
   "execution_count": 4,
   "metadata": {},
   "outputs": [
    {
     "data": {
      "text/plain": [
       "843201"
      ]
     },
     "execution_count": 4,
     "metadata": {},
     "output_type": "execute_result"
    }
   ],
   "source": [
    "(len(X_all)//64)*64 + 1"
   ]
  },
  {
   "cell_type": "code",
   "execution_count": 5,
   "metadata": {},
   "outputs": [
    {
     "data": {
      "text/plain": [
       "Counter({0.0: 424572, 1.0: 418628})"
      ]
     },
     "execution_count": 5,
     "metadata": {},
     "output_type": "execute_result"
    }
   ],
   "source": [
    "X_all = X_all[1:843201]\n",
    "Y_all = Y_all[1:843201]\n",
    "\n",
    "collections.Counter(Y_all)"
   ]
  },
  {
   "cell_type": "code",
   "execution_count": 6,
   "metadata": {},
   "outputs": [
    {
     "data": {
      "text/plain": [
       "1.0141987635800758"
      ]
     },
     "execution_count": 6,
     "metadata": {},
     "output_type": "execute_result"
    }
   ],
   "source": [
    "436577/(436577+435871)\n",
    "424572/418628"
   ]
  },
  {
   "cell_type": "code",
   "execution_count": 7,
   "metadata": {},
   "outputs": [],
   "source": [
    "# Create the LSTM network.\n",
    "batch_size = 32\n",
    "dropout = 0.5\n",
    "num_epoch = 100\n",
    "earlyStopping = EarlyStopping(monitor='val_loss', patience=0, verbose=0, mode='auto')\n",
    "weights = {0:1, 1:1}"
   ]
  },
  {
   "cell_type": "code",
   "execution_count": 6,
   "metadata": {},
   "outputs": [
    {
     "name": "stderr",
     "output_type": "stream",
     "text": [
      "/Users/jocelyn/opt/anaconda3/lib/python3.7/site-packages/ipykernel_launcher.py:2: UserWarning: Update your `LSTM` call to the Keras 2 API: `LSTM(batch_input_shape=[32, 50, 2..., units=10)`\n",
      "  \n",
      "/Users/jocelyn/opt/anaconda3/lib/python3.7/site-packages/ipykernel_launcher.py:4: UserWarning: Update your `Dense` call to the Keras 2 API: `Dense(1, activation=\"sigmoid\", kernel_initializer=\"uniform\")`\n",
      "  after removing the cwd from sys.path.\n"
     ]
    },
    {
     "name": "stdout",
     "output_type": "stream",
     "text": [
      "WARNING:tensorflow:From /Users/jocelyn/opt/anaconda3/lib/python3.7/site-packages/tensorflow/python/ops/nn_impl.py:180: add_dispatch_support.<locals>.wrapper (from tensorflow.python.ops.array_ops) is deprecated and will be removed in a future version.\n",
      "Instructions for updating:\n",
      "Use tf.where in 2.0, which has the same broadcast rule as np.where\n"
     ]
    }
   ],
   "source": [
    "Following1 = Sequential()\n",
    "Following1.add(LSTM(output_dim=10, batch_input_shape=[batch_size, look_back, dimof_input]))\n",
    "Following1.add(Dropout(dropout))\n",
    "Following1.add(Dense(dimof_output, init='uniform', activation='sigmoid'))\n",
    "Following1.compile(loss='binary_crossentropy', optimizer='adam',metrics=['accuracy'])"
   ]
  },
  {
   "cell_type": "code",
   "execution_count": 10,
   "metadata": {},
   "outputs": [
    {
     "name": "stdout",
     "output_type": "stream",
     "text": [
      "Model: \"sequential_1\"\n",
      "_________________________________________________________________\n",
      "Layer (type)                 Output Shape              Param #   \n",
      "=================================================================\n",
      "lstm_1 (LSTM)                (32, 10)                  1560      \n",
      "_________________________________________________________________\n",
      "dropout_1 (Dropout)          (32, 10)                  0         \n",
      "_________________________________________________________________\n",
      "dense_1 (Dense)              (32, 1)                   11        \n",
      "=================================================================\n",
      "Total params: 1,571\n",
      "Trainable params: 1,571\n",
      "Non-trainable params: 0\n",
      "_________________________________________________________________\n"
     ]
    }
   ],
   "source": [
    "Following1.summary()"
   ]
  },
  {
   "cell_type": "code",
   "execution_count": 7,
   "metadata": {},
   "outputs": [
    {
     "name": "stderr",
     "output_type": "stream",
     "text": [
      "/Users/jocelyn/opt/anaconda3/lib/python3.7/site-packages/ipykernel_launcher.py:6: UserWarning: The `nb_epoch` argument in `fit` has been renamed `epochs`.\n",
      "  \n"
     ]
    },
    {
     "name": "stdout",
     "output_type": "stream",
     "text": [
      "WARNING:tensorflow:From /Users/jocelyn/opt/anaconda3/lib/python3.7/site-packages/keras/backend/tensorflow_backend.py:422: The name tf.global_variables is deprecated. Please use tf.compat.v1.global_variables instead.\n",
      "\n",
      "Train on 421600 samples, validate on 421600 samples\n",
      "Epoch 1/100\n",
      "421600/421600 [==============================] - 2024s 5ms/step - loss: 0.0305 - accuracy: 0.9924 - val_loss: 4.5271e-04 - val_accuracy: 0.9998\n",
      "Epoch 2/100\n",
      "421600/421600 [==============================] - 2210s 5ms/step - loss: 0.0022 - accuracy: 0.9993 - val_loss: 1.6473e-04 - val_accuracy: 1.0000\n",
      "Epoch 3/100\n",
      "421600/421600 [==============================] - 2259s 5ms/step - loss: 0.0018 - accuracy: 0.9994 - val_loss: 1.5591e-04 - val_accuracy: 1.0000\n",
      "Epoch 4/100\n",
      "421600/421600 [==============================] - 2357s 6ms/step - loss: 0.0016 - accuracy: 0.9994 - val_loss: 2.6898e-04 - val_accuracy: 0.9999\n"
     ]
    }
   ],
   "source": [
    "history1 = Following1.fit(\n",
    "    X_all, Y_all,\n",
    "    validation_split=0.5,\n",
    "    callbacks=[earlyStopping],\n",
    "    shuffle=True,\n",
    "    nb_epoch=num_epoch, batch_size=batch_size, verbose=1)"
   ]
  },
  {
   "cell_type": "code",
   "execution_count": 8,
   "metadata": {},
   "outputs": [
    {
     "data": {
      "text/plain": [
       "{'val_loss': [0.00045270545071073606,\n",
       "  0.00016472569935435872,\n",
       "  0.0001559061244378731,\n",
       "  0.0002689772372401061],\n",
       " 'val_accuracy': [0.9998458027839661,\n",
       "  0.9999691843986511,\n",
       "  0.9999786615371704,\n",
       "  0.9999454617500305],\n",
       " 'loss': [0.030459760662286783,\n",
       "  0.0021967290413353623,\n",
       "  0.00182361107488103,\n",
       "  0.0015568573932573943],\n",
       " 'accuracy': [0.9924004, 0.9993359, 0.99935246, 0.99938565]}"
      ]
     },
     "execution_count": 8,
     "metadata": {},
     "output_type": "execute_result"
    }
   ],
   "source": [
    "history1.history"
   ]
  },
  {
   "cell_type": "code",
   "execution_count": 9,
   "metadata": {},
   "outputs": [
    {
     "data": {
      "image/png": "[encoded data removed]",
      "text/plain": [
       "<Figure size 432x288 with 1 Axes>"
      ]
     },
     "metadata": {
      "needs_background": "light"
     },
     "output_type": "display_data"
    }
   ],
   "source": [
    "# Plot history for training and validation loss.\n",
    "\n",
    "plt.plot(history1.history['accuracy'])\n",
    "plt.plot(history1.history['val_accuracy'])\n",
    "plt.title('2-layer LSTM model')\n",
    "plt.ylabel('accuracy')\n",
    "plt.xlabel('epoch')\n",
    "plt.legend(['Train', 'Validate'], loc='upper left')\n",
    "plt.show()"
   ]
  },
  {
   "cell_type": "code",
   "execution_count": 10,
   "metadata": {},
   "outputs": [
    {
     "data": {
      "image/png": "[encoded data removed]",
      "text/plain": [
       "<Figure size 432x288 with 1 Axes>"
      ]
     },
     "metadata": {
      "needs_background": "light"
     },
     "output_type": "display_data"
    }
   ],
   "source": [
    "# Plot history for training and validation loss.\n",
    "\n",
    "plt.plot(history1.history['loss'])\n",
    "plt.plot(history1.history['val_loss'])\n",
    "plt.title('2-layer LSTM model')\n",
    "plt.ylabel('loss')\n",
    "plt.xlabel('epoch')\n",
    "plt.legend(['Train', 'Validate'], loc='upper left')\n",
    "plt.show()"
   ]
  },
  {
   "cell_type": "code",
   "execution_count": 15,
   "metadata": {},
   "outputs": [
    {
     "name": "stderr",
     "output_type": "stream",
     "text": [
      "/Users/jocelyn/opt/anaconda3/lib/python3.7/site-packages/ipykernel_launcher.py:2: UserWarning: Update your `LSTM` call to the Keras 2 API: `LSTM(batch_input_shape=[32, 50, 2..., units=10)`\n",
      "  \n",
      "/Users/jocelyn/opt/anaconda3/lib/python3.7/site-packages/ipykernel_launcher.py:6: UserWarning: Update your `Dense` call to the Keras 2 API: `Dense(1, activation=\"sigmoid\", kernel_initializer=\"uniform\")`\n",
      "  \n"
     ]
    }
   ],
   "source": [
    "Following2 = Sequential()\n",
    "Following2.add(LSTM(output_dim=10, batch_input_shape=[batch_size, look_back, dimof_input]))\n",
    "Following2.add(Dropout(dropout))\n",
    "Following2.add(Dense(30, activation='relu'))\n",
    "Following2.add(Dropout(dropout))\n",
    "Following2.add(Dense(dimof_output, init='uniform', activation='sigmoid'))\n",
    "Following2.compile(loss='binary_crossentropy', optimizer='adam',metrics=['accuracy'])"
   ]
  },
  {
   "cell_type": "code",
   "execution_count": 25,
   "metadata": {},
   "outputs": [
    {
     "name": "stdout",
     "output_type": "stream",
     "text": [
      "Model: \"sequential_3\"\n",
      "_________________________________________________________________\n",
      "Layer (type)                 Output Shape              Param #   \n",
      "=================================================================\n",
      "lstm_3 (LSTM)                (32, 10)                  1040      \n",
      "_________________________________________________________________\n",
      "dropout_3 (Dropout)          (32, 10)                  0         \n",
      "_________________________________________________________________\n",
      "dense_3 (Dense)              (32, 30)                  330       \n",
      "_________________________________________________________________\n",
      "dropout_4 (Dropout)          (32, 30)                  0         \n",
      "_________________________________________________________________\n",
      "dense_4 (Dense)              (32, 1)                   31        \n",
      "=================================================================\n",
      "Total params: 1,401\n",
      "Trainable params: 1,401\n",
      "Non-trainable params: 0\n",
      "_________________________________________________________________\n"
     ]
    }
   ],
   "source": [
    "model_Flow2.summary()"
   ]
  },
  {
   "cell_type": "code",
   "execution_count": 16,
   "metadata": {},
   "outputs": [
    {
     "name": "stderr",
     "output_type": "stream",
     "text": [
      "/Users/jocelyn/opt/anaconda3/lib/python3.7/site-packages/ipykernel_launcher.py:6: UserWarning: The `nb_epoch` argument in `fit` has been renamed `epochs`.\n",
      "  \n"
     ]
    },
    {
     "name": "stdout",
     "output_type": "stream",
     "text": [
      "Train on 421600 samples, validate on 421600 samples\n",
      "Epoch 1/100\n",
      "421600/421600 [==============================] - 2646s 6ms/step - loss: 0.0271 - accuracy: 0.9910 - val_loss: 2.1645e-04 - val_accuracy: 1.0000\n",
      "Epoch 2/100\n",
      "421600/421600 [==============================] - 2710s 6ms/step - loss: 0.0032 - accuracy: 0.9993 - val_loss: 2.0643e-04 - val_accuracy: 1.0000\n",
      "Epoch 3/100\n",
      "421600/421600 [==============================] - 2832s 7ms/step - loss: 0.0025 - accuracy: 0.9993 - val_loss: 2.6082e-04 - val_accuracy: 1.0000\n"
     ]
    }
   ],
   "source": [
    "history2 = Following2.fit(\n",
    "    X_all, Y_all,\n",
    "    validation_split=0.5,\n",
    "    callbacks=[earlyStopping],\n",
    "    shuffle=True,\n",
    "    nb_epoch=num_epoch, batch_size=batch_size, verbose=1)"
   ]
  },
  {
   "cell_type": "code",
   "execution_count": 17,
   "metadata": {},
   "outputs": [
    {
     "data": {
      "text/plain": [
       "{'val_loss': [0.00021644713507688903,\n",
       "  0.00020643173054967403,\n",
       "  0.0002608227588275683],\n",
       " 'val_accuracy': [0.9999668002128601, 0.9999715089797974, 0.9999644160270691],\n",
       " 'loss': [0.027147338102533735, 0.003157763367803798, 0.00250208314072072],\n",
       " 'accuracy': [0.9910152, 0.99925524, 0.99929315]}"
      ]
     },
     "execution_count": 17,
     "metadata": {},
     "output_type": "execute_result"
    }
   ],
   "source": [
    "history2.history"
   ]
  },
  {
   "cell_type": "code",
   "execution_count": 18,
   "metadata": {},
   "outputs": [
    {
     "data": {
      "image/png": "[encoded data removed]",
      "text/plain": [
       "<Figure size 432x288 with 1 Axes>"
      ]
     },
     "metadata": {
      "needs_background": "light"
     },
     "output_type": "display_data"
    }
   ],
   "source": [
    "# Plot history for training and validation loss.\n",
    "\n",
    "plt.plot(history2.history['accuracy'])\n",
    "plt.plot(history2.history['val_accuracy'])\n",
    "plt.title('3-layer LSTM model')\n",
    "plt.ylabel('accuracy')\n",
    "plt.xlabel('epoch')\n",
    "plt.legend(['Train', 'Validate'], loc='upper left')\n",
    "plt.show()"
   ]
  },
  {
   "cell_type": "code",
   "execution_count": 19,
   "metadata": {},
   "outputs": [
    {
     "data": {
      "image/png": "[encoded data removed]",
      "text/plain": [
       "<Figure size 432x288 with 1 Axes>"
      ]
     },
     "metadata": {
      "needs_background": "light"
     },
     "output_type": "display_data"
    }
   ],
   "source": [
    "# Plot history for training and validation loss.\n",
    "\n",
    "plt.plot(history2.history['loss'])\n",
    "plt.plot(history2.history['val_loss'])\n",
    "plt.title('3-layer LSTM model')\n",
    "plt.ylabel('loss')\n",
    "plt.xlabel('epoch')\n",
    "plt.legend(['Train', 'Validate'], loc='upper left')\n",
    "plt.show()"
   ]
  },
  {
   "cell_type": "code",
   "execution_count": 6,
   "metadata": {},
   "outputs": [
    {
     "name": "stderr",
     "output_type": "stream",
     "text": [
      "/Users/jocelyn/opt/anaconda3/lib/python3.7/site-packages/ipykernel_launcher.py:2: UserWarning: Update your `LSTM` call to the Keras 2 API: `LSTM(batch_input_shape=[32, 50, 2..., units=10)`\n",
      "  \n"
     ]
    },
    {
     "name": "stdout",
     "output_type": "stream",
     "text": [
      "WARNING:tensorflow:From /Users/jocelyn/opt/anaconda3/lib/python3.7/site-packages/tensorflow/python/ops/nn_impl.py:180: add_dispatch_support.<locals>.wrapper (from tensorflow.python.ops.array_ops) is deprecated and will be removed in a future version.\n",
      "Instructions for updating:\n",
      "Use tf.where in 2.0, which has the same broadcast rule as np.where\n"
     ]
    },
    {
     "name": "stderr",
     "output_type": "stream",
     "text": [
      "/Users/jocelyn/opt/anaconda3/lib/python3.7/site-packages/ipykernel_launcher.py:8: UserWarning: Update your `Dense` call to the Keras 2 API: `Dense(1, activation=\"sigmoid\", kernel_initializer=\"uniform\")`\n",
      "  \n"
     ]
    }
   ],
   "source": [
    "Following3 = Sequential()\n",
    "Following3.add(LSTM(output_dim=10, batch_input_shape=[batch_size, look_back, dimof_input]))\n",
    "Following3.add(Dropout(dropout))\n",
    "Following3.add(Dense(30, activation='relu'))\n",
    "Following3.add(Dropout(dropout))\n",
    "Following3.add(Dense(30, activation='relu'))\n",
    "Following3.add(Dropout(dropout))\n",
    "Following3.add(Dense(dimof_output, init='uniform', activation='sigmoid'))\n",
    "Following3.compile(loss='binary_crossentropy', optimizer='adam',metrics=['accuracy'])"
   ]
  },
  {
   "cell_type": "code",
   "execution_count": 21,
   "metadata": {},
   "outputs": [
    {
     "name": "stdout",
     "output_type": "stream",
     "text": [
      "Model: \"sequential_3\"\n",
      "_________________________________________________________________\n",
      "Layer (type)                 Output Shape              Param #   \n",
      "=================================================================\n",
      "lstm_3 (LSTM)                (32, 10)                  1560      \n",
      "_________________________________________________________________\n",
      "dropout_4 (Dropout)          (32, 10)                  0         \n",
      "_________________________________________________________________\n",
      "dense_4 (Dense)              (32, 30)                  330       \n",
      "_________________________________________________________________\n",
      "dropout_5 (Dropout)          (32, 30)                  0         \n",
      "_________________________________________________________________\n",
      "dense_5 (Dense)              (32, 30)                  930       \n",
      "_________________________________________________________________\n",
      "dropout_6 (Dropout)          (32, 30)                  0         \n",
      "_________________________________________________________________\n",
      "dense_6 (Dense)              (32, 1)                   31        \n",
      "=================================================================\n",
      "Total params: 2,851\n",
      "Trainable params: 2,851\n",
      "Non-trainable params: 0\n",
      "_________________________________________________________________\n"
     ]
    }
   ],
   "source": [
    "Following3.summary()"
   ]
  },
  {
   "cell_type": "code",
   "execution_count": 7,
   "metadata": {},
   "outputs": [
    {
     "name": "stderr",
     "output_type": "stream",
     "text": [
      "/Users/jocelyn/opt/anaconda3/lib/python3.7/site-packages/ipykernel_launcher.py:6: UserWarning: The `nb_epoch` argument in `fit` has been renamed `epochs`.\n",
      "  \n"
     ]
    },
    {
     "name": "stdout",
     "output_type": "stream",
     "text": [
      "WARNING:tensorflow:From /Users/jocelyn/opt/anaconda3/lib/python3.7/site-packages/keras/backend/tensorflow_backend.py:422: The name tf.global_variables is deprecated. Please use tf.compat.v1.global_variables instead.\n",
      "\n",
      "Train on 421600 samples, validate on 421600 samples\n",
      "Epoch 1/100\n",
      "421600/421600 [==============================] - 1975s 5ms/step - loss: 0.0275 - accuracy: 0.9911 - val_loss: 3.4957e-04 - val_accuracy: 1.0000\n",
      "Epoch 2/100\n",
      "421600/421600 [==============================] - 2116s 5ms/step - loss: 0.0034 - accuracy: 0.9992 - val_loss: 3.7169e-04 - val_accuracy: 1.0000\n"
     ]
    }
   ],
   "source": [
    "history3 = Following3.fit(\n",
    "    X_all, Y_all,\n",
    "    validation_split=0.5,\n",
    "    callbacks=[earlyStopping],\n",
    "    shuffle=True,\n",
    "    nb_epoch=num_epoch, batch_size=batch_size, verbose=1)"
   ]
  },
  {
   "cell_type": "code",
   "execution_count": 8,
   "metadata": {},
   "outputs": [
    {
     "data": {
      "text/plain": [
       "{'val_loss': [0.00034956731816516615, 0.00037168658596329154],\n",
       " 'val_accuracy': [0.9999501705169678, 0.9999738931655884],\n",
       " 'loss': [0.027537829565766867, 0.003382818227419228],\n",
       " 'accuracy': [0.9911243, 0.99919355]}"
      ]
     },
     "execution_count": 8,
     "metadata": {},
     "output_type": "execute_result"
    }
   ],
   "source": [
    "history3.history"
   ]
  },
  {
   "cell_type": "code",
   "execution_count": 9,
   "metadata": {},
   "outputs": [
    {
     "data": {
      "image/png": "[encoded data removed]",
      "text/plain": [
       "<Figure size 432x288 with 1 Axes>"
      ]
     },
     "metadata": {
      "needs_background": "light"
     },
     "output_type": "display_data"
    }
   ],
   "source": [
    "# Plot history for training and validation loss.\n",
    "\n",
    "plt.plot(history3.history['accuracy'])\n",
    "plt.plot(history3.history['val_accuracy'])\n",
    "plt.title('4-layer LSTM model')\n",
    "plt.ylabel('accuracy')\n",
    "plt.xlabel('epoch')\n",
    "plt.legend(['Train', 'Validate'], loc='upper left')\n",
    "plt.show()"
   ]
  },
  {
   "cell_type": "code",
   "execution_count": 10,
   "metadata": {},
   "outputs": [
    {
     "data": {
      "image/png": "[encoded data removed]",
      "text/plain": [
       "<Figure size 432x288 with 1 Axes>"
      ]
     },
     "metadata": {
      "needs_background": "light"
     },
     "output_type": "display_data"
    }
   ],
   "source": [
    "# Plot history for training and validation loss.\n",
    "\n",
    "plt.plot(history3.history['loss'])\n",
    "plt.plot(history3.history['val_loss'])\n",
    "plt.title('4-layer LSTM model')\n",
    "plt.ylabel('loss')\n",
    "plt.xlabel('epoch')\n",
    "plt.legend(['Train', 'Validate'], loc='upper left')\n",
    "plt.show()"
   ]
  },
  {
   "cell_type": "code",
   "execution_count": 11,
   "metadata": {},
   "outputs": [
    {
     "name": "stderr",
     "output_type": "stream",
     "text": [
      "/Users/jocelyn/opt/anaconda3/lib/python3.7/site-packages/ipykernel_launcher.py:2: UserWarning: Update your `LSTM` call to the Keras 2 API: `LSTM(batch_input_shape=[32, 50, 2..., units=10)`\n",
      "  \n",
      "/Users/jocelyn/opt/anaconda3/lib/python3.7/site-packages/ipykernel_launcher.py:10: UserWarning: Update your `Dense` call to the Keras 2 API: `Dense(1, activation=\"sigmoid\", kernel_initializer=\"uniform\")`\n",
      "  # Remove the CWD from sys.path while we load stuff.\n"
     ]
    }
   ],
   "source": [
    "Following4 = Sequential()\n",
    "Following4.add(LSTM(output_dim=10, batch_input_shape=[batch_size, look_back, dimof_input]))\n",
    "Following4.add(Dropout(dropout))\n",
    "Following4.add(Dense(30, activation='relu'))\n",
    "Following4.add(Dropout(dropout))\n",
    "Following4.add(Dense(30, activation='relu'))\n",
    "Following4.add(Dropout(dropout))\n",
    "Following4.add(Dense(10, activation='relu'))\n",
    "Following4.add(Dropout(dropout))\n",
    "Following4.add(Dense(dimof_output, init='uniform', activation='sigmoid'))\n",
    "Following4.compile(loss='binary_crossentropy', optimizer='adam',metrics=['accuracy'])"
   ]
  },
  {
   "cell_type": "code",
   "execution_count": 12,
   "metadata": {},
   "outputs": [
    {
     "name": "stdout",
     "output_type": "stream",
     "text": [
      "Model: \"sequential_2\"\n",
      "_________________________________________________________________\n",
      "Layer (type)                 Output Shape              Param #   \n",
      "=================================================================\n",
      "lstm_2 (LSTM)                (32, 10)                  1560      \n",
      "_________________________________________________________________\n",
      "dropout_4 (Dropout)          (32, 10)                  0         \n",
      "_________________________________________________________________\n",
      "dense_4 (Dense)              (32, 30)                  330       \n",
      "_________________________________________________________________\n",
      "dropout_5 (Dropout)          (32, 30)                  0         \n",
      "_________________________________________________________________\n",
      "dense_5 (Dense)              (32, 30)                  930       \n",
      "_________________________________________________________________\n",
      "dropout_6 (Dropout)          (32, 30)                  0         \n",
      "_________________________________________________________________\n",
      "dense_6 (Dense)              (32, 10)                  310       \n",
      "_________________________________________________________________\n",
      "dropout_7 (Dropout)          (32, 10)                  0         \n",
      "_________________________________________________________________\n",
      "dense_7 (Dense)              (32, 1)                   11        \n",
      "=================================================================\n",
      "Total params: 3,141\n",
      "Trainable params: 3,141\n",
      "Non-trainable params: 0\n",
      "_________________________________________________________________\n"
     ]
    }
   ],
   "source": [
    "Following4.summary()"
   ]
  },
  {
   "cell_type": "code",
   "execution_count": 13,
   "metadata": {},
   "outputs": [
    {
     "name": "stderr",
     "output_type": "stream",
     "text": [
      "/Users/jocelyn/opt/anaconda3/lib/python3.7/site-packages/ipykernel_launcher.py:6: UserWarning: The `nb_epoch` argument in `fit` has been renamed `epochs`.\n",
      "  \n"
     ]
    },
    {
     "name": "stdout",
     "output_type": "stream",
     "text": [
      "Train on 421600 samples, validate on 421600 samples\n",
      "Epoch 1/100\n",
      "421600/421600 [==============================] - 2291s 5ms/step - loss: 0.0558 - accuracy: 0.9791 - val_loss: 0.0011 - val_accuracy: 0.9999\n",
      "Epoch 2/100\n",
      "421600/421600 [==============================] - 2414s 6ms/step - loss: 0.0248 - accuracy: 0.9914 - val_loss: 0.0011 - val_accuracy: 1.0000\n",
      "Epoch 3/100\n",
      "421600/421600 [==============================] - 2489s 6ms/step - loss: 0.0248 - accuracy: 0.9915 - val_loss: 6.7765e-04 - val_accuracy: 1.0000\n",
      "Epoch 4/100\n",
      "421600/421600 [==============================] - 2606s 6ms/step - loss: 0.0239 - accuracy: 0.9918 - val_loss: 0.0010 - val_accuracy: 1.0000\n"
     ]
    }
   ],
   "source": [
    "history4 = Following4.fit(\n",
    "    X_all, Y_all,\n",
    "    validation_split=0.5,\n",
    "    callbacks=[earlyStopping],\n",
    "    shuffle=True,\n",
    "    nb_epoch=num_epoch, batch_size=batch_size, verbose=1)"
   ]
  },
  {
   "cell_type": "code",
   "execution_count": 14,
   "metadata": {},
   "outputs": [
    {
     "data": {
      "text/plain": [
       "{'val_loss': [0.0011215364523811868,\n",
       "  0.001060938165146462,\n",
       "  0.0006776546396136351,\n",
       "  0.0010393021618715025],\n",
       " 'val_accuracy': [0.9998980164527893,\n",
       "  0.9999501705169678,\n",
       "  0.9999596476554871,\n",
       "  0.9999549388885498],\n",
       " 'loss': [0.055800721002230734,\n",
       "  0.02483841040495747,\n",
       "  0.024836125998088637,\n",
       "  0.023917891630339444],\n",
       " 'accuracy': [0.9790726, 0.99141127, 0.9914682, 0.99180263]}"
      ]
     },
     "execution_count": 14,
     "metadata": {},
     "output_type": "execute_result"
    }
   ],
   "source": [
    "history4.history"
   ]
  },
  {
   "cell_type": "code",
   "execution_count": 15,
   "metadata": {},
   "outputs": [
    {
     "data": {
      "image/png": "[encoded data removed]",
      "text/plain": [
       "<Figure size 432x288 with 1 Axes>"
      ]
     },
     "metadata": {
      "needs_background": "light"
     },
     "output_type": "display_data"
    }
   ],
   "source": [
    "# Plot history for training and validation loss.\n",
    "\n",
    "plt.plot(history4.history['accuracy'])\n",
    "plt.plot(history4.history['val_accuracy'])\n",
    "plt.title('5-layer LSTM model')\n",
    "plt.ylabel('accuracy')\n",
    "plt.xlabel('epoch')\n",
    "plt.legend(['Train', 'Validate'], loc='upper left')\n",
    "plt.show()"
   ]
  },
  {
   "cell_type": "code",
   "execution_count": 16,
   "metadata": {},
   "outputs": [
    {
     "data": {
      "image/png": "[encoded data removed]",
      "text/plain": [
       "<Figure size 432x288 with 1 Axes>"
      ]
     },
     "metadata": {
      "needs_background": "light"
     },
     "output_type": "display_data"
    }
   ],
   "source": [
    "# Plot history for training and validation loss.\n",
    "\n",
    "plt.plot(history4.history['loss'])\n",
    "plt.plot(history4.history['val_loss'])\n",
    "plt.title('5-layer LSTM model')\n",
    "plt.ylabel('loss')\n",
    "plt.xlabel('epoch')\n",
    "plt.legend(['Train', 'Validate'], loc='upper left')\n",
    "plt.show()"
   ]
  },
  {
   "cell_type": "code",
   "execution_count": 8,
   "metadata": {},
   "outputs": [
    {
     "name": "stderr",
     "output_type": "stream",
     "text": [
      "/Users/jocelyn/opt/anaconda3/lib/python3.7/site-packages/ipykernel_launcher.py:2: UserWarning: Update your `LSTM` call to the Keras 2 API: `LSTM(batch_input_shape=[32, 50, 2..., units=20)`\n",
      "  \n",
      "/Users/jocelyn/opt/anaconda3/lib/python3.7/site-packages/ipykernel_launcher.py:6: UserWarning: Update your `Dense` call to the Keras 2 API: `Dense(1, activation=\"sigmoid\", kernel_initializer=\"uniform\")`\n",
      "  \n"
     ]
    },
    {
     "name": "stdout",
     "output_type": "stream",
     "text": [
      "WARNING:tensorflow:From /Users/jocelyn/opt/anaconda3/lib/python3.7/site-packages/tensorflow/python/ops/nn_impl.py:180: add_dispatch_support.<locals>.wrapper (from tensorflow.python.ops.array_ops) is deprecated and will be removed in a future version.\n",
      "Instructions for updating:\n",
      "Use tf.where in 2.0, which has the same broadcast rule as np.where\n"
     ]
    }
   ],
   "source": [
    "model_Flow5 = Sequential()\n",
    "model_Flow5.add(LSTM(output_dim=20, batch_input_shape=[batch_size, look_back, dimof_input]))\n",
    "model_Flow5.add(Dropout(dropout))\n",
    "model_Flow5.add(Dense(40, activation='relu'))\n",
    "model_Flow5.add(Dropout(dropout))\n",
    "model_Flow5.add(Dense(dimof_output, init='uniform', activation='sigmoid'))\n",
    "model_Flow5.compile(loss='binary_crossentropy', optimizer='adam',metrics=['accuracy'])"
   ]
  },
  {
   "cell_type": "code",
   "execution_count": 28,
   "metadata": {},
   "outputs": [
    {
     "name": "stdout",
     "output_type": "stream",
     "text": [
      "Model: \"sequential_4\"\n",
      "_________________________________________________________________\n",
      "Layer (type)                 Output Shape              Param #   \n",
      "=================================================================\n",
      "lstm_4 (LSTM)                (32, 20)                  3440      \n",
      "_________________________________________________________________\n",
      "dropout_10 (Dropout)         (32, 20)                  0         \n",
      "_________________________________________________________________\n",
      "dense_10 (Dense)             (32, 40)                  840       \n",
      "_________________________________________________________________\n",
      "dropout_11 (Dropout)         (32, 40)                  0         \n",
      "_________________________________________________________________\n",
      "dense_11 (Dense)             (32, 1)                   41        \n",
      "=================================================================\n",
      "Total params: 4,321\n",
      "Trainable params: 4,321\n",
      "Non-trainable params: 0\n",
      "_________________________________________________________________\n"
     ]
    }
   ],
   "source": [
    "model_Flow5.summary()"
   ]
  },
  {
   "cell_type": "code",
   "execution_count": 9,
   "metadata": {},
   "outputs": [
    {
     "name": "stderr",
     "output_type": "stream",
     "text": [
      "/Users/jocelyn/opt/anaconda3/lib/python3.7/site-packages/ipykernel_launcher.py:6: UserWarning: The `nb_epoch` argument in `fit` has been renamed `epochs`.\n",
      "  \n"
     ]
    },
    {
     "name": "stdout",
     "output_type": "stream",
     "text": [
      "WARNING:tensorflow:From /Users/jocelyn/opt/anaconda3/lib/python3.7/site-packages/keras/backend/tensorflow_backend.py:422: The name tf.global_variables is deprecated. Please use tf.compat.v1.global_variables instead.\n",
      "\n",
      "Train on 421600 samples, validate on 421600 samples\n",
      "Epoch 1/100\n",
      "421600/421600 [==============================] - 2902s 7ms/step - loss: 0.0151 - accuracy: 0.9957 - val_loss: 3.4385e-04 - val_accuracy: 0.9999\n",
      "Epoch 2/100\n",
      "421600/421600 [==============================] - 3060s 7ms/step - loss: 0.0013 - accuracy: 0.9998 - val_loss: 2.0740e-04 - val_accuracy: 1.0000\n",
      "Epoch 3/100\n",
      "421600/421600 [==============================] - 3003s 7ms/step - loss: 0.0010 - accuracy: 0.9999 - val_loss: 2.4541e-04 - val_accuracy: 1.0000\n"
     ]
    }
   ],
   "source": [
    "history5 = model_Flow5.fit(\n",
    "    X_all, Y_all,\n",
    "    validation_split=0.5,\n",
    "    callbacks=[earlyStopping],\n",
    "    shuffle=True,\n",
    "    nb_epoch=num_epoch, batch_size=batch_size, verbose=1)"
   ]
  },
  {
   "cell_type": "code",
   "execution_count": 10,
   "metadata": {},
   "outputs": [
    {
     "data": {
      "text/plain": [
       "{'val_loss': [0.0003438521432313304,\n",
       "  0.00020740113061933294,\n",
       "  0.00024541185062919703],\n",
       " 'val_accuracy': [0.9999406933784485, 0.9999810457229614, 0.9999833703041077],\n",
       " 'loss': [0.015058707124871824, 0.001253135689730621, 0.001038232949385062],\n",
       " 'accuracy': [0.99565464, 0.9998363, 0.9998838]}"
      ]
     },
     "execution_count": 10,
     "metadata": {},
     "output_type": "execute_result"
    }
   ],
   "source": [
    "history5.history"
   ]
  },
  {
   "cell_type": "code",
   "execution_count": 11,
   "metadata": {},
   "outputs": [
    {
     "data": {
      "image/png": "[encoded data removed]",
      "text/plain": [
       "<Figure size 432x288 with 1 Axes>"
      ]
     },
     "metadata": {
      "needs_background": "light"
     },
     "output_type": "display_data"
    }
   ],
   "source": [
    "# Plot history for training and validation loss.\n",
    "\n",
    "plt.plot(history5.history['accuracy'])\n",
    "plt.plot(history5.history['val_accuracy'])\n",
    "plt.title('3-layer LSTM model with more nodes')\n",
    "plt.ylabel('accuracy')\n",
    "plt.xlabel('epoch')\n",
    "plt.legend(['Train', 'Validate'], loc='upper left')\n",
    "plt.show()"
   ]
  },
  {
   "cell_type": "code",
   "execution_count": 12,
   "metadata": {},
   "outputs": [
    {
     "data": {
      "image/png": "[encoded data removed]",
      "text/plain": [
       "<Figure size 432x288 with 1 Axes>"
      ]
     },
     "metadata": {
      "needs_background": "light"
     },
     "output_type": "display_data"
    }
   ],
   "source": [
    "# Plot history for training and validation loss.\n",
    "\n",
    "plt.plot(history5.history['loss'])\n",
    "plt.plot(history5.history['val_loss'])\n",
    "plt.title('3-layer LSTM model with more nodes')\n",
    "plt.ylabel('loss')\n",
    "plt.xlabel('epoch')\n",
    "plt.legend(['Train', 'Validate'], loc='upper left')\n",
    "plt.show()"
   ]
  },
  {
   "cell_type": "code",
   "execution_count": null,
   "metadata": {},
   "outputs": [],
   "source": []
  },
  {
   "cell_type": "code",
   "execution_count": null,
   "metadata": {},
   "outputs": [],
   "source": []
  }
 ],
 "metadata": {
  "kernelspec": {
   "display_name": "Python 3",
   "language": "python",
   "name": "python3"
  },
  "language_info": {
   "codemirror_mode": {
    "name": "ipython",
    "version": 3
   },
   "file_extension": ".py",
   "mimetype": "text/x-python",
   "name": "python",
   "nbconvert_exporter": "python",
   "pygments_lexer": "ipython3",
   "version": "3.7.4"
  }
 },
 "nbformat": 4,
 "nbformat_minor": 1
}
