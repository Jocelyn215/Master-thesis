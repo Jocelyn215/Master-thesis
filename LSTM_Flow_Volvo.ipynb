{
 "cells": [
  {
   "cell_type": "code",
   "execution_count": 35,
   "metadata": {},
   "outputs": [],
   "source": [
    "from keras.utils import np_utils\n",
    "from keras.models import Sequential\n",
    "from keras.layers import Dense, LSTM, Dropout\n",
    "from keras.callbacks import EarlyStopping\n",
    "from sklearn.preprocessing import StandardScaler\n",
    "from pandas import read_csv\n",
    "\n",
    "import pandas as pd\n",
    "import numpy as np\n",
    "import glob\n",
    "import matplotlib.pyplot as plt\n",
    "import collections\n",
    "%matplotlib inline"
   ]
  },
  {
   "cell_type": "code",
   "execution_count": 36,
   "metadata": {},
   "outputs": [],
   "source": [
    "# Set up a 'look back' dataset for sequence to label prediction with Keras.\n",
    "\n",
    "# The LSTM network expects the input data (X) to be provided with a specific\n",
    "# array structure in the form of: [samples, time steps, features].\n",
    "\n",
    "# create_dataset is adapted from\n",
    "# http://machinelearningmastery.com/time-series-prediction-lstm-recurrent-neural-networks-python-keras/\n",
    "\n",
    "def create_dataset(X, Y, **options):\n",
    "    \"\"\"Convert an array of X, Y values into a dataset matrix for and LSTM\"\"\"\n",
    "    \n",
    "    look_back = options.pop('look_back', None)\n",
    "    dataX, dataY = [], []\n",
    "    for i in range(len(X) - look_back):\n",
    "        a = X[i:(i+look_back)]\n",
    "        dataX.append(a)\n",
    "        dataY.append(Y[i + look_back - 1])\n",
    "    return np.array(dataX), np.array(dataY)\n",
    "\n",
    "# Predictions will be based on look_back minutes of data:\n",
    "look_back = 50"
   ]
  },
  {
   "cell_type": "code",
   "execution_count": null,
   "metadata": {},
   "outputs": [],
   "source": [
    "Test1 = glob.glob('../Users/XiaonfengWang/Desktop/TrafficNet/Required/Test_Flow/*.csv')\n",
    "\n",
    "X_Test1 = np.empty((1, 50, 35))\n",
    "Y_Test1 = np.empty((1,))\n",
    "\n",
    "for f in range(300):\n",
    "    print(Test1[f].split('/')[-1])\n",
    "    \n",
    "    Flow_Test1 = pd.read_csv(Test1[f], usecols=['Lane','Velocity','PosLgt1','PosLgt2','PosLgt3','PosLat1','PosLat2','VelLgt1','VelLgt2','VelLgt3','VelLat1','VelLat2','VelLat3','AccLgt1','AccLgt2','AccLgt3','AccLat1','AccLat2','AccLat3','Angle1','Angle2','Angle3','Type1','Type2','Type3','Id1','Id2','Id3','Lane1','Lane2','Lane3','PositionInLane1','PositionInLane2','PositionInLane3','Lead','Flow'])\n",
    "    Flow_Test1.fillna(10000000, inplace=True)\n",
    "    \n",
    "    Y_train_Test1 = np.array(Flow_Test1['Flow'].values)\n",
    "    X_train_Test1 = np.array(Flow_Test1[['Lane','Velocity','PosLgt1','PosLgt2','PosLgt3','PosLat1','PosLat2','VelLgt1','VelLgt2','VelLgt3','VelLat1','VelLat2','VelLat3','AccLgt1','AccLgt2','AccLgt3','AccLat1','AccLat2','AccLat3','Angle1','Angle2','Angle3','Type1','Type2','Type3','Id1','Id2','Id3','Lane1','Lane2','Lane3','PositionInLane1','PositionInLane2','PositionInLane3','Lead']])\n",
    "    \n",
    "    # Get dimensions of input and output\n",
    "    #dimof_output = int(np.max(Y_train) + 1)\n",
    "    dimof_output = 1\n",
    "    dimof_input = X_train_Test1.shape[1]\n",
    "\n",
    "    # Scale/whiten the X data\n",
    "    scaler = StandardScaler()\n",
    "    X_train_Test1 = scaler.fit_transform(X_train_Test1)\n",
    "    #print(len(X_train))\n",
    "    #print(X_train_Test1.shape, Y_train_Test1.shape)\n",
    "    \n",
    "    XTest1, YTest1 = create_dataset(X_train_Test1, Y_train_Test1, look_back=look_back)\n",
    "    #print(XTest1.shape, YTest1.shape)\n",
    "    \n",
    "    X_Test1 = np.append(X_Test1, XTest1, axis=0)\n",
    "    Y_Test1 = np.append(Y_Test1, YTest1, axis=0)"
   ]
  },
  {
   "cell_type": "code",
   "execution_count": 73,
   "metadata": {},
   "outputs": [],
   "source": [
    "path = glob.glob('../Users/XiaonfengWang/Desktop/TrafficNet/Required/Train_Flow/*.csv')\n",
    "\n",
    "X_all = np.empty((1, 50, 35))\n",
    "Y_all = np.empty((1,))\n",
    "\n",
    "for j in range(50):\n",
    "    #print(j)\n",
    "    \n",
    "    Flow = pd.read_csv(path[j], usecols=['Lane','Velocity','PosLgt1','PosLgt2','PosLgt3','PosLat1','PosLat2','VelLgt1','VelLgt2','VelLgt3','VelLat1','VelLat2','VelLat3','AccLgt1','AccLgt2','AccLgt3','AccLat1','AccLat2','AccLat3','Angle1','Angle2','Angle3','Type1','Type2','Type3','Id1','Id2','Id3','Lane1','Lane2','Lane3','PositionInLane1','PositionInLane2','PositionInLane3','Lead','Flow'])\n",
    "    Flow.fillna(10000000, inplace=True)\n",
    "    \n",
    "    Y_train = np.array(Flow['Flow'].values)\n",
    "    X_train = np.array(Flow[['Lane','Velocity','PosLgt1','PosLgt2','PosLgt3','PosLat1','PosLat2','VelLgt1','VelLgt2','VelLgt3','VelLat1','VelLat2','VelLat3','AccLgt1','AccLgt2','AccLgt3','AccLat1','AccLat2','AccLat3','Angle1','Angle2','Angle3','Type1','Type2','Type3','Id1','Id2','Id3','Lane1','Lane2','Lane3','PositionInLane1','PositionInLane2','PositionInLane3','Lead']])\n",
    "    # Get dimensions of input and output\n",
    "    #dimof_output = int(np.max(Y_train) + 1)\n",
    "    dimof_output = 1\n",
    "    dimof_input = X_train.shape[1]\n",
    "\n",
    "    # Scale/whiten the X data\n",
    "    scaler = StandardScaler()\n",
    "    X_train = scaler.fit_transform(X_train)\n",
    "    #print(len(X_train))\n",
    "    #print(X_train.shape, Y_train.shape)\n",
    "    \n",
    "    X, Y = create_dataset(X_train, Y_train, look_back=look_back)\n",
    "    #print(X.shape, Y.shape)\n",
    "    \n",
    "    X_all = np.append(X_all, X, axis=0)\n",
    "    Y_all = np.append(Y_all, Y, axis=0)"
   ]
  },
  {
   "cell_type": "markdown",
   "metadata": {},
   "source": [
    "# more 500"
   ]
  },
  {
   "cell_type": "code",
   "execution_count": 64,
   "metadata": {
    "scrolled": true
   },
   "outputs": [],
   "source": [
    "X_all5 = np.empty((1, 50, 35))\n",
    "Y_all5 = np.empty((1,))\n",
    "\n",
    "for j in range(450,500):\n",
    "    #print(j)\n",
    "    \n",
    "    Flow5 = pd.read_csv(path[j], usecols=['Lane','Velocity','PosLgt1','PosLgt2','PosLgt3','PosLat1','PosLat2','VelLgt1','VelLgt2','VelLgt3','VelLat1','VelLat2','VelLat3','AccLgt1','AccLgt2','AccLgt3','AccLat1','AccLat2','AccLat3','Angle1','Angle2','Angle3','Type1','Type2','Type3','Id1','Id2','Id3','Lane1','Lane2','Lane3','PositionInLane1','PositionInLane2','PositionInLane3','Lead','Flow'])\n",
    "    if Flow5.shape[0] <= 50:\n",
    "        pass\n",
    "    else:\n",
    "        Flow5.fillna(10000000, inplace=True)\n",
    "    \n",
    "        Y_train5 = np.array(Flow5['Flow'].values)\n",
    "        X_train5 = np.array(Flow5[['Lane','Velocity','PosLgt1','PosLgt2','PosLgt3','PosLat1','PosLat2','VelLgt1','VelLgt2','VelLgt3','VelLat1','VelLat2','VelLat3','AccLgt1','AccLgt2','AccLgt3','AccLat1','AccLat2','AccLat3','Angle1','Angle2','Angle3','Type1','Type2','Type3','Id1','Id2','Id3','Lane1','Lane2','Lane3','PositionInLane1','PositionInLane2','PositionInLane3','Lead']])\n",
    "\n",
    "    # Scale/whiten the X data\n",
    "        scaler = StandardScaler()\n",
    "        X_train5 = scaler.fit_transform(X_train5)\n",
    "    #print(len(X_train))\n",
    "    #print(X_train5.shape, Y_train5.shape)\n",
    "    \n",
    "        X5, Y5 = create_dataset(X_train5, Y_train5, look_back=look_back)\n",
    "        #print(X5.shape, Y5.shape)\n",
    "    \n",
    "        X_all5 = np.append(X_all5, X5, axis=0)\n",
    "        Y_all5 = np.append(Y_all5, Y5, axis=0)\n"
   ]
  },
  {
   "cell_type": "code",
   "execution_count": 65,
   "metadata": {},
   "outputs": [
    {
     "name": "stdout",
     "output_type": "stream",
     "text": [
      "2113\n"
     ]
    }
   ],
   "source": [
    "print(len(X_all5)//64*64+1)"
   ]
  },
  {
   "cell_type": "code",
   "execution_count": 66,
   "metadata": {},
   "outputs": [],
   "source": [
    "X_all5 = X_all5[1:2113]\n",
    "Y_all5 = Y_all5[1:2113]\n",
    "\n",
    "Xtrain = np.append(Xtrain, X_all5, axis=0)\n",
    "Ytrain = np.append(Ytrain, Y_all5, axis=0)\n",
    "\n",
    "#collections.Counter(Ytrain)"
   ]
  },
  {
   "cell_type": "code",
   "execution_count": 74,
   "metadata": {},
   "outputs": [
    {
     "name": "stdout",
     "output_type": "stream",
     "text": [
      "4545 28929\n"
     ]
    }
   ],
   "source": [
    "print(len(X_all)//64*64 + 1, len(X_Test1)//64*64 + 1)"
   ]
  },
  {
   "cell_type": "code",
   "execution_count": 75,
   "metadata": {},
   "outputs": [],
   "source": [
    "XAlltest1 = X_Test1[1:28929]\n",
    "YAlltest1 = Y_Test1[1:28929]\n",
    "\n",
    "Xtrain = X_all[1:4545]\n",
    "Ytrain = Y_all[1:4545]\n",
    "\n",
    "collections.Counter(Ytrain)"
   ]
  },
  {
   "cell_type": "code",
   "execution_count": 7,
   "metadata": {},
   "outputs": [],
   "source": [
    "# Create the LSTM network.\n",
    "batch_size = 32\n",
    "dropout = 0.5\n",
    "num_epoch = 100\n",
    "earlyStopping = EarlyStopping(monitor='val_loss', patience=0, verbose=0, mode='auto')\n",
    "weights = {0:1, 1:1}"
   ]
  },
  {
   "cell_type": "code",
   "execution_count": 76,
   "metadata": {},
   "outputs": [
    {
     "name": "stderr",
     "output_type": "stream",
     "text": [
      "/Users/jocelyn/opt/anaconda3/lib/python3.7/site-packages/ipykernel_launcher.py:2: UserWarning: Update your `LSTM` call to the Keras 2 API: `LSTM(batch_input_shape=[32, 50, 3..., units=10)`\n",
      "  \n",
      "/Users/jocelyn/opt/anaconda3/lib/python3.7/site-packages/ipykernel_launcher.py:4: UserWarning: Update your `Dense` call to the Keras 2 API: `Dense(1, activation=\"sigmoid\", kernel_initializer=\"uniform\")`\n",
      "  after removing the cwd from sys.path.\n",
      "/Users/jocelyn/opt/anaconda3/lib/python3.7/site-packages/ipykernel_launcher.py:13: UserWarning: The `nb_epoch` argument in `fit` has been renamed `epochs`.\n",
      "  del sys.path[0]\n"
     ]
    },
    {
     "name": "stdout",
     "output_type": "stream",
     "text": [
      "Train on 4544 samples, validate on 28928 samples\n",
      "Epoch 1/100\n",
      "4544/4544 [==============================] - 30s 7ms/step - loss: 0.5319 - accuracy: 0.9054 - val_loss: 0.3745 - val_accuracy: 0.9608\n",
      "Epoch 2/100\n",
      "4544/4544 [==============================] - 26s 6ms/step - loss: 0.3159 - accuracy: 0.9452 - val_loss: 0.2280 - val_accuracy: 0.9599\n",
      "Epoch 3/100\n",
      "4544/4544 [==============================] - 24s 5ms/step - loss: 0.2228 - accuracy: 0.9615 - val_loss: 0.1555 - val_accuracy: 0.9668\n",
      "Epoch 4/100\n",
      "4544/4544 [==============================] - 23s 5ms/step - loss: 0.1763 - accuracy: 0.9663 - val_loss: 0.1393 - val_accuracy: 0.9554\n",
      "Epoch 5/100\n",
      "4544/4544 [==============================] - 22s 5ms/step - loss: 0.1384 - accuracy: 0.9729 - val_loss: 0.1230 - val_accuracy: 0.9526\n",
      "Epoch 6/100\n",
      "4544/4544 [==============================] - 23s 5ms/step - loss: 0.1214 - accuracy: 0.9767 - val_loss: 0.1105 - val_accuracy: 0.9559\n",
      "Epoch 7/100\n",
      "4544/4544 [==============================] - 23s 5ms/step - loss: 0.1002 - accuracy: 0.9820 - val_loss: 0.0967 - val_accuracy: 0.9644\n",
      "Epoch 8/100\n",
      "4544/4544 [==============================] - 23s 5ms/step - loss: 0.0846 - accuracy: 0.9831 - val_loss: 0.0916 - val_accuracy: 0.9656\n",
      "Epoch 9/100\n",
      "4544/4544 [==============================] - 24s 5ms/step - loss: 0.0825 - accuracy: 0.9831 - val_loss: 0.1085 - val_accuracy: 0.9535\n",
      "{'val_loss': [0.3745155342879285, 0.22796630728330497, 0.15547261081339248, 0.1392776440227388, 0.12302309175565905, 0.11049508722705058, 0.09670176599648642, 0.0916356677601559, 0.10847330417286243], 'val_accuracy': [0.9607992172241211, 0.959900438785553, 0.9667795896530151, 0.9553719758987427, 0.9526410102844238, 0.9558904767036438, 0.9643943309783936, 0.9655696749687195, 0.953505277633667], 'loss': [0.5319020364066245, 0.3158768834152692, 0.22284843027591705, 0.17632374461268036, 0.13836830807193903, 0.1214222993019601, 0.10016631920048048, 0.0845945216846508, 0.08253101256846541], 'accuracy': [0.9053697, 0.94520247, 0.96148765, 0.9663292, 0.9729313, 0.97667253, 0.9819542, 0.9830546, 0.9830546]}\n",
      "28928/28928 [==============================] - 22s 750us/step\n"
     ]
    }
   ],
   "source": [
    "model_Flow1 = Sequential()\n",
    "model_Flow1.add(LSTM(output_dim=10, batch_input_shape=[batch_size, look_back, dimof_input]))\n",
    "model_Flow1.add(Dropout(dropout))\n",
    "model_Flow1.add(Dense(dimof_output, init='uniform', activation='sigmoid'))\n",
    "model_Flow1.compile(loss='binary_crossentropy', optimizer='adam',metrics=['accuracy'])\n",
    "\n",
    "history91 = model_Flow1.fit(\n",
    "    Xtrain, Ytrain,\n",
    "    class_weight=weights,\n",
    "    validation_data=(XAlltest1, YAlltest1),\n",
    "    callbacks=[earlyStopping],\n",
    "    shuffle=True,\n",
    "    nb_epoch=num_epoch, batch_size=batch_size, verbose=1)\n",
    "\n",
    "print(history91.history)\n",
    "\n",
    "Y_predict4 = model_Flow1.predict_classes(XAlltest1, verbose=True)\n",
    "\n",
    "a6 = Y_predict4.tolist()\n",
    "a26 = [item[0] for item in a6]\n",
    "b6 = YAlltest1.tolist()\n",
    "#equal_arrays6 = [i for i, (x, y) in enumerate(zip(a26, b6)) if x == y]\n",
    "#acc6 = len(equal_arrays6)/len(a26)\n",
    "#print(acc6)\n",
    "\n",
    "#f = open(\"CutIn9_clean_TestAll_volvo.csv\", \"w\")\n",
    "\n",
    "#for index in range(len(a26)):\n",
    "#    f.write(str(a26[index]) + \",\" + str(b6[index]) + \"\\n\")\n",
    "#f.close()"
   ]
  },
  {
   "cell_type": "code",
   "execution_count": null,
   "metadata": {},
   "outputs": [],
   "source": [
    "nums_predict = [index for index, element in enumerate(a26) if element == 1]\n",
    "p = sum((list(t) for t in zip(nums_predict, nums_predict[1:]) if t[0]+1 != t[1]), [])\n",
    "p.insert(0,nums_predict[0])\n",
    "p.append(nums_predict[-1])\n",
    "\n",
    "nums_Y = [index for index, element in enumerate(b6) if element == 1]\n",
    "y = sum((list(t) for t in zip(nums_Y, nums_Y[1:]) if t[0]+1 != t[1]), [])\n",
    "y.insert(0,nums_Y[0])\n",
    "y.append(nums_Y[-1])\n",
    "\n",
    "big=0\n",
    "small=0\n",
    "same=0\n",
    "\n",
    "for i in range(len(y)-1):\n",
    "    if i % 2 == 0:\n",
    "        for j in range(len(p)):\n",
    "            if j % 2 == 0: \n",
    "\n",
    "                if (y[i] == p[j]) and (y[i+1] == p[j+1]):\n",
    "                    same=same+1\n",
    "                    j=j+2\n",
    "                \n",
    "                elif p[j]<=y[i] and p[j+1]>=y[i+1]:\n",
    "                    big=big+1\n",
    "                    j=j+2\n",
    "                        \n",
    "                elif p[j]>=y[i] and p[j+1]<=y[i+1]:\n",
    "                    small=small+1\n",
    "                    j=j+2\n",
    "                    \n",
    "                else:\n",
    "                    j=j+2       \n",
    "        i=i+2    \n",
    "\n",
    "Predict = len(p)/2\n",
    "Y = len(y)/2\n",
    "#fp = Predict-same\n",
    "#fn = Y-same\n",
    "#prec = same/(same+fp)\n",
    "#recall = same/(same+fn)\n",
    "\n",
    "def precision(n):\n",
    "    fp = Predict-n\n",
    "    prec = n/(n+fp)\n",
    "    if prec >=1:\n",
    "        b=1\n",
    "    else:\n",
    "        b=prec\n",
    "    return b\n",
    "\n",
    "def recall(n):\n",
    "    fn = Y-n\n",
    "    rec = n/(n+fn)\n",
    "    if rec >=1:\n",
    "        a=1\n",
    "    else:\n",
    "        a=rec\n",
    "    return a\n",
    "    \n",
    "def conf(f):\n",
    "    conf95 = []\n",
    "    for i in range(len(y)):\n",
    "        if i%2 == 0:\n",
    "            c951=int(y[i]-f*(y[i+1]-y[i]))\n",
    "            conf95.append(c951)\n",
    "            conf95.append(y[i+1])\n",
    "        \n",
    "            c9522=y[i]+f*(y[i+1]-y[i])\n",
    "            if float(c9522).is_integer()==True:\n",
    "                conf95.append(c9522)\n",
    "                conf95.append(y[i+1])\n",
    "            else:\n",
    "                con952 = int(c9522)+1\n",
    "                conf95.append(con952)\n",
    "                conf95.append(y[i+1])\n",
    "        \n",
    "            conf95.append(y[i])\n",
    "            c9533=int(y[i+1]-f*(y[i+1]-y[i]))\n",
    "            if float(c9533).is_integer()==True:\n",
    "                conf95.append(c9533)\n",
    "            else:\n",
    "                c953 = int(c9533)+1\n",
    "                conf95.append(c953)\n",
    "            \n",
    "            conf95.append(y[i])    \n",
    "            c9544=y[i+1]+f*(y[i+1]-y[i])\n",
    "            if float(c9544).is_integer()==True:\n",
    "                conf95.append(c9544)\n",
    "            else:\n",
    "                con954 = int(c9544)+1\n",
    "                conf95.append(con954)\n",
    "        i=i+2\n",
    "    return conf95\n",
    "\n",
    "def result(rangelist):\n",
    "    con95=0\n",
    "    for i in range(len(p)):\n",
    "        if i%2 == 0:\n",
    "            for j in range(len(rangelist)-7):\n",
    "                if j%8==0:\n",
    "                    if (rangelist[j]<=p[i] and p[i+1]<=rangelist[j+1]) or (rangelist[j+2]<=p[i] and p[i+1]<=rangelist[j+3]) or (rangelist[j+4]<=p[i] and p[i+1]<=rangelist[j+5]) or (rangelist[j+6]<=p[i] and p[i+1]<=rangelist[j+7]):       \n",
    "                        con95=con95+1\n",
    "                        #break\n",
    "                        j=j+8\n",
    "                    else:\n",
    "                        j=j+8\n",
    "            i=i+2\n",
    "    return con95   \n",
    "\n",
    "con95 = result(conf(0.05))\n",
    "con90 = result(conf(0.1))          \n",
    "con85 = result(conf(0.15))            \n",
    "con80 = result(conf(0.2))"
   ]
  },
  {
   "cell_type": "code",
   "execution_count": 78,
   "metadata": {},
   "outputs": [
    {
     "name": "stdout",
     "output_type": "stream",
     "text": [
      "Predict: 498.0 - True: 529.0\n",
      "big: 143 - precision: 0.28714859437751006 - recall: 0.27032136105860116\n",
      "small: 58 - precision: 0.11646586345381527 - recall: 0.10964083175803403\n",
      "-\n",
      "same: 305 - precision: 0.6124497991967871 - recall: 0.5765595463137996\n",
      "con95: 458 - precision: 0.9196787148594378 - recall: 0.8657844990548205\n",
      "con90: 463 - precision: 0.929718875502008 - recall: 0.8752362948960303\n",
      "con85: 465 - precision: 0.9337349397590361 - recall: 0.8790170132325141\n",
      "con80: 468 - precision: 0.9397590361445783 - recall: 0.8846880907372401\n"
     ]
    }
   ],
   "source": [
    "print(\"Predict:\", Predict, \"-\", \"True:\", Y)   \n",
    "print(\"big:\",big, \"-\", \"precision:\", precision(big), \"-\", \"recall:\", recall(big))  \n",
    "print(\"small:\",small, \"-\", \"precision:\", precision(small), \"-\", \"recall:\", recall(small)) \n",
    "print(\"-\")\n",
    "print(\"same:\",same, \"-\", \"precision:\", precision(same), \"-\", \"recall:\", recall(same)) \n",
    "print(\"con95:\",con95, \"-\", \"precision:\", precision(con95), \"-\", \"recall:\", recall(con95))  \n",
    "print(\"con90:\",con90, \"-\", \"precision:\", precision(con90), \"-\", \"recall:\", recall(con90)) \n",
    "print(\"con85:\",con85, \"-\", \"precision:\", precision(con85), \"-\", \"recall:\", recall(con85)) \n",
    "print(\"con80:\",con80, \"-\", \"precision:\", precision(con80), \"-\", \"recall:\", recall(con80))"
   ]
  },
  {
   "cell_type": "code",
   "execution_count": 80,
   "metadata": {},
   "outputs": [
    {
     "data": {
      "image/png": "[encoded data removed]",
      "text/plain": [
       "<Figure size 720x216 with 1 Axes>"
      ]
     },
     "metadata": {
      "needs_background": "light"
     },
     "output_type": "display_data"
    }
   ],
   "source": [
    "same_P = [0.6124497991967871,0.8780487804878049 ,0.9405204460966543 ,0.9333333333333333 ,0.9444444444444444 , 0.9481481481481482,0.9215328467153284 , 0.9369202226345084, 0.948051948051948, 0.948051948051948]\n",
    "con95_P = [ 0.9196787148594378,0.9774859287054409,0.9888475836431226 ,0.987037037037037 , 0.9851851851851852,0.987037037037037 ,0.9835766423357665 ,0.987012987012987, 0.987012987012987, 0.987012987012987]\n",
    "con90_P = [0.929718875502008, 0.9793621013133208, 0.9907063197026023,0.9888888888888889 , 0.987037037037037,0.9888888888888889,0.9854014598540146 , 0.9888682745825603,0.9888682745825603,0.9888682745825603 ]\n",
    "con85_P = [ 0.9337349397590361,0.9812382739212008,0.9925650557620818 ,0.9907407407407407 ,0.9888888888888889 ,0.9907407407407407, 0.9872262773722628, 0.9907235621521335,0.9907235621521335,0.9907235621521335]\n",
    "con80_P = [0.9397590361445783, 0.9831144465290806,0.9944237918215614 ,0.9925925925925926 , 0.9907407407407407, 0.9925925925925926, 0.9890510948905109,0.9925788497217068,0.9925788497217068,0.9925788497217068]\n",
    "\n",
    "\n",
    "x = [50,100,150,200,250,300,350,400,450,500]\n",
    "\n",
    "f, ax = plt.subplots(figsize=(10,3))\n",
    "plt.plot(x, same_P)\n",
    "plt.plot(x, con95_P)\n",
    "plt.plot(x, con90_P)\n",
    "plt.plot(x, con85_P)\n",
    "plt.plot(x, con80_P)\n",
    "\n",
    "plt.legend(['Same', 'Overlap:95%', 'Overlap:90%', 'Overlap:85%', 'Overlap:80%'], loc='upper left', bbox_to_anchor=(1, 0.5))\n",
    "plt.title('Precision for Flow')\n",
    "plt.show()\n"
   ]
  },
  {
   "cell_type": "code",
   "execution_count": 84,
   "metadata": {},
   "outputs": [
    {
     "data": {
      "image/png": "[encoded data removed]",
      "text/plain": [
       "<Figure size 720x216 with 1 Axes>"
      ]
     },
     "metadata": {
      "needs_background": "light"
     },
     "output_type": "display_data"
    }
   ],
   "source": [
    "same_R = [0.5765595463137996,0.8846880907372401 , 0.9565217391304348, 0.9527410207939508, 0.972181551976574, 0.9640831758034026, 0.9678638941398866,0.9546313799621928 , 0.9546313799621928, 0.9659735349716446]\n",
    "con95_R = [0.8657844990548205,0.9848771266540642,1, 1, 1, 1,1,1, 1,1 ]\n",
    "con90_R = [0.8752362948960303,0.9867674858223062,1, 1, 1, 1, 1,1, 1,1]\n",
    "con85_R = [0.8790170132325141,0.9886578449905482,1, 1, 1, 1,1,1, 1,1]\n",
    "con80_R = [0.8846880907372401,0.9905482041587902,1, 1, 1, 1, 1, 1,1,1]\n",
    "\n",
    "\n",
    "f, ax = plt.subplots(figsize=(10,3))\n",
    "plt.plot(x, same_R)\n",
    "plt.plot(x, con95_R)\n",
    "plt.plot(x, con90_R)\n",
    "plt.plot(x, con85_R)\n",
    "plt.plot(x, con80_R)\n",
    "\n",
    "plt.legend(['Same', 'Overlap:95%', 'Overlap:90%', 'Overlap:85%', 'Overlap:80%'], loc='upper left', bbox_to_anchor=(1, 0.5))\n",
    "plt.title('Recall for Flow')\n",
    "plt.show()"
   ]
  },
  {
   "cell_type": "code",
   "execution_count": 85,
   "metadata": {},
   "outputs": [
    {
     "name": "stdout",
     "output_type": "stream",
     "text": [
      "Saved model to disk\n"
     ]
    }
   ],
   "source": [
    "#model_Flow1.save(\"TrafficNetToVolvo_FlowMaskingSparse-1.h5\")\n",
    "model_Flow1.save(\"Flow_volvo_precision_recall.h5\")\n",
    "print(\"Saved model to disk\")"
   ]
  },
  {
   "cell_type": "code",
   "execution_count": 100,
   "metadata": {},
   "outputs": [
    {
     "data": {
      "text/html": [
       "<div>\n",
       "<style scoped>\n",
       "    .dataframe tbody tr th:only-of-type {\n",
       "        vertical-align: middle;\n",
       "    }\n",
       "\n",
       "    .dataframe tbody tr th {\n",
       "        vertical-align: top;\n",
       "    }\n",
       "\n",
       "    .dataframe thead th {\n",
       "        text-align: right;\n",
       "    }\n",
       "</style>\n",
       "<table border=\"1\" class=\"dataframe\">\n",
       "  <thead>\n",
       "    <tr style=\"text-align: right;\">\n",
       "      <th></th>\n",
       "      <th>Lane</th>\n",
       "      <th>Velocity</th>\n",
       "      <th>PosLgt1</th>\n",
       "      <th>PosLgt2</th>\n",
       "      <th>PosLgt3</th>\n",
       "      <th>PosLat1</th>\n",
       "      <th>PosLat2</th>\n",
       "      <th>VelLgt1</th>\n",
       "      <th>VelLgt2</th>\n",
       "      <th>VelLgt3</th>\n",
       "      <th>...</th>\n",
       "      <th>Id2</th>\n",
       "      <th>Id3</th>\n",
       "      <th>Lane1</th>\n",
       "      <th>Lane2</th>\n",
       "      <th>Lane3</th>\n",
       "      <th>PositionInLane1</th>\n",
       "      <th>PositionInLane2</th>\n",
       "      <th>PositionInLane3</th>\n",
       "      <th>Lead</th>\n",
       "      <th>Flow</th>\n",
       "    </tr>\n",
       "  </thead>\n",
       "  <tbody>\n",
       "    <tr>\n",
       "      <td>0</td>\n",
       "      <td>1</td>\n",
       "      <td>0.0</td>\n",
       "      <td>NaN</td>\n",
       "      <td>NaN</td>\n",
       "      <td>NaN</td>\n",
       "      <td>NaN</td>\n",
       "      <td>NaN</td>\n",
       "      <td>NaN</td>\n",
       "      <td>NaN</td>\n",
       "      <td>NaN</td>\n",
       "      <td>...</td>\n",
       "      <td>NaN</td>\n",
       "      <td>NaN</td>\n",
       "      <td>NaN</td>\n",
       "      <td>NaN</td>\n",
       "      <td>NaN</td>\n",
       "      <td>NaN</td>\n",
       "      <td>NaN</td>\n",
       "      <td>NaN</td>\n",
       "      <td>NaN</td>\n",
       "      <td>0</td>\n",
       "    </tr>\n",
       "    <tr>\n",
       "      <td>1</td>\n",
       "      <td>1</td>\n",
       "      <td>0.0</td>\n",
       "      <td>NaN</td>\n",
       "      <td>NaN</td>\n",
       "      <td>NaN</td>\n",
       "      <td>NaN</td>\n",
       "      <td>NaN</td>\n",
       "      <td>NaN</td>\n",
       "      <td>NaN</td>\n",
       "      <td>NaN</td>\n",
       "      <td>...</td>\n",
       "      <td>NaN</td>\n",
       "      <td>NaN</td>\n",
       "      <td>NaN</td>\n",
       "      <td>NaN</td>\n",
       "      <td>NaN</td>\n",
       "      <td>NaN</td>\n",
       "      <td>NaN</td>\n",
       "      <td>NaN</td>\n",
       "      <td>NaN</td>\n",
       "      <td>0</td>\n",
       "    </tr>\n",
       "    <tr>\n",
       "      <td>2</td>\n",
       "      <td>1</td>\n",
       "      <td>0.0</td>\n",
       "      <td>NaN</td>\n",
       "      <td>NaN</td>\n",
       "      <td>NaN</td>\n",
       "      <td>NaN</td>\n",
       "      <td>NaN</td>\n",
       "      <td>NaN</td>\n",
       "      <td>NaN</td>\n",
       "      <td>NaN</td>\n",
       "      <td>...</td>\n",
       "      <td>NaN</td>\n",
       "      <td>NaN</td>\n",
       "      <td>NaN</td>\n",
       "      <td>NaN</td>\n",
       "      <td>NaN</td>\n",
       "      <td>NaN</td>\n",
       "      <td>NaN</td>\n",
       "      <td>NaN</td>\n",
       "      <td>NaN</td>\n",
       "      <td>0</td>\n",
       "    </tr>\n",
       "    <tr>\n",
       "      <td>3</td>\n",
       "      <td>1</td>\n",
       "      <td>0.0</td>\n",
       "      <td>NaN</td>\n",
       "      <td>NaN</td>\n",
       "      <td>NaN</td>\n",
       "      <td>NaN</td>\n",
       "      <td>NaN</td>\n",
       "      <td>NaN</td>\n",
       "      <td>NaN</td>\n",
       "      <td>NaN</td>\n",
       "      <td>...</td>\n",
       "      <td>NaN</td>\n",
       "      <td>NaN</td>\n",
       "      <td>NaN</td>\n",
       "      <td>NaN</td>\n",
       "      <td>NaN</td>\n",
       "      <td>NaN</td>\n",
       "      <td>NaN</td>\n",
       "      <td>NaN</td>\n",
       "      <td>NaN</td>\n",
       "      <td>0</td>\n",
       "    </tr>\n",
       "    <tr>\n",
       "      <td>4</td>\n",
       "      <td>1</td>\n",
       "      <td>0.0</td>\n",
       "      <td>NaN</td>\n",
       "      <td>NaN</td>\n",
       "      <td>NaN</td>\n",
       "      <td>NaN</td>\n",
       "      <td>NaN</td>\n",
       "      <td>NaN</td>\n",
       "      <td>NaN</td>\n",
       "      <td>NaN</td>\n",
       "      <td>...</td>\n",
       "      <td>NaN</td>\n",
       "      <td>NaN</td>\n",
       "      <td>NaN</td>\n",
       "      <td>NaN</td>\n",
       "      <td>NaN</td>\n",
       "      <td>NaN</td>\n",
       "      <td>NaN</td>\n",
       "      <td>NaN</td>\n",
       "      <td>NaN</td>\n",
       "      <td>0</td>\n",
       "    </tr>\n",
       "  </tbody>\n",
       "</table>\n",
       "<p>5 rows × 36 columns</p>\n",
       "</div>"
      ],
      "text/plain": [
       "   Lane  Velocity  PosLgt1  PosLgt2  PosLgt3  PosLat1  PosLat2  VelLgt1  \\\n",
       "0     1       0.0      NaN      NaN      NaN      NaN      NaN      NaN   \n",
       "1     1       0.0      NaN      NaN      NaN      NaN      NaN      NaN   \n",
       "2     1       0.0      NaN      NaN      NaN      NaN      NaN      NaN   \n",
       "3     1       0.0      NaN      NaN      NaN      NaN      NaN      NaN   \n",
       "4     1       0.0      NaN      NaN      NaN      NaN      NaN      NaN   \n",
       "\n",
       "   VelLgt2  VelLgt3  ...  Id2  Id3  Lane1  Lane2  Lane3  PositionInLane1  \\\n",
       "0      NaN      NaN  ...  NaN  NaN    NaN    NaN    NaN              NaN   \n",
       "1      NaN      NaN  ...  NaN  NaN    NaN    NaN    NaN              NaN   \n",
       "2      NaN      NaN  ...  NaN  NaN    NaN    NaN    NaN              NaN   \n",
       "3      NaN      NaN  ...  NaN  NaN    NaN    NaN    NaN              NaN   \n",
       "4      NaN      NaN  ...  NaN  NaN    NaN    NaN    NaN              NaN   \n",
       "\n",
       "   PositionInLane2  PositionInLane3  Lead  Flow  \n",
       "0              NaN              NaN   NaN     0  \n",
       "1              NaN              NaN   NaN     0  \n",
       "2              NaN              NaN   NaN     0  \n",
       "3              NaN              NaN   NaN     0  \n",
       "4              NaN              NaN   NaN     0  \n",
       "\n",
       "[5 rows x 36 columns]"
      ]
     },
     "execution_count": 100,
     "metadata": {},
     "output_type": "execute_result"
    }
   ],
   "source": [
    "volvo = pd.read_csv('../TrafficNet/VolvoData/2018w33_San_Francisco-0011.csv', usecols=['Lane','Velocity','PosLgt1','PosLgt2','PosLgt3','PosLat1','PosLat2','VelLgt1','VelLgt2','VelLgt3','VelLat1','VelLat2','VelLat3','AccLgt1','AccLgt2','AccLgt3','AccLat1','AccLat2','AccLat3','Angle1','Angle2','Angle3','Type1','Type2','Type3','Id1','Id2','Id3','Lane1','Lane2','Lane3','PositionInLane1','PositionInLane2','PositionInLane3','Lead','Flow'])\n",
    "volvo.head()"
   ]
  },
  {
   "cell_type": "code",
   "execution_count": 101,
   "metadata": {},
   "outputs": [
    {
     "data": {
      "text/plain": [
       "63744"
      ]
     },
     "execution_count": 101,
     "metadata": {},
     "output_type": "execute_result"
    }
   ],
   "source": [
    "volvo.fillna(10000000, inplace=True)\n",
    "\n",
    "Yvolvo = np.array(volvo['Flow'].values)\n",
    "Xvolvo = np.array(volvo[['Lane','Velocity','PosLgt1','PosLgt2','PosLgt3','PosLat1','PosLat2','VelLgt1','VelLgt2','VelLgt3','VelLat1','VelLat2','VelLat3','AccLgt1','AccLgt2','AccLgt3','AccLat1','AccLat2','AccLat3','Angle1','Angle2','Angle3','Type1','Type2','Type3','Id1','Id2','Id3','Lane1','Lane2','Lane3','PositionInLane1','PositionInLane2','PositionInLane3','Lead']])\n",
    "\n",
    "    \n",
    "# Scale/whiten the X data\n",
    "scaler = StandardScaler()\n",
    "X_volvo = scaler.fit_transform(Xvolvo)\n",
    "XP_volvo, YP_volvo = create_dataset(X_volvo, Yvolvo, look_back=look_back)\n",
    "\n",
    "(len(XP_volvo)//64)*64"
   ]
  },
  {
   "cell_type": "code",
   "execution_count": 102,
   "metadata": {},
   "outputs": [],
   "source": [
    "XPP_volvo = XP_volvo[:63744]\n",
    "YPP_volvo = YP_volvo[:63744]"
   ]
  },
  {
   "cell_type": "code",
   "execution_count": 103,
   "metadata": {},
   "outputs": [
    {
     "name": "stdout",
     "output_type": "stream",
     "text": [
      "63744/63744 [==============================] - 43s 671us/step\n"
     ]
    }
   ],
   "source": [
    "Y_predict_volvo = model_Flow1.predict_classes(XPP_volvo, verbose=True)\n",
    "\n",
    "#equal_arrays_volvo = (Y_predict_volvo == YPP_volvo).all(axis=1)\n",
    "#acc_volvo = np.count_nonzero(equal_arrays_volvo == True)/len(equal_arrays_volvo)\n",
    "\n",
    "a6 = Y_predict_volvo.tolist()\n",
    "a26 = [item[0] for item in a6]\n",
    "b6 = YPP_volvo.tolist()"
   ]
  },
  {
   "cell_type": "code",
   "execution_count": 105,
   "metadata": {},
   "outputs": [
    {
     "name": "stdout",
     "output_type": "stream",
     "text": [
      "Predict: 131.0 - True: 113.0\n",
      "big: 2 - precision: 0.015267175572519083 - recall: 0.017699115044247787\n",
      "small: 0 - precision: 0.0 - recall: 0.0\n",
      "-\n",
      "same: 111 - precision: 0.8473282442748091 - recall: 0.9823008849557522\n",
      "con95: 114 - precision: 0.8702290076335878 - recall: 1\n",
      "con90: 117 - precision: 0.8931297709923665 - recall: 1\n",
      "con85: 121 - precision: 0.9236641221374046 - recall: 1\n",
      "con80: 126 - precision: 0.9618320610687023 - recall: 1\n"
     ]
    }
   ],
   "source": [
    "# 2018w33_San_Francisco\n",
    "print(\"Predict:\", Predict, \"-\", \"True:\", Y)   \n",
    "print(\"big:\",big, \"-\", \"precision:\", precision(big), \"-\", \"recall:\", recall(big))  \n",
    "print(\"small:\",small, \"-\", \"precision:\", precision(small), \"-\", \"recall:\", recall(small)) \n",
    "print(\"-\")\n",
    "print(\"same:\",same, \"-\", \"precision:\", precision(same), \"-\", \"recall:\", recall(same)) \n",
    "print(\"con95:\",con95, \"-\", \"precision:\", precision(con95), \"-\", \"recall:\", recall(con95))  \n",
    "print(\"con90:\",con90, \"-\", \"precision:\", precision(con90), \"-\", \"recall:\", recall(con90)) \n",
    "print(\"con85:\",con85, \"-\", \"precision:\", precision(con85), \"-\", \"recall:\", recall(con85)) \n",
    "print(\"con80:\",con80, \"-\", \"precision:\", precision(con80), \"-\", \"recall:\", recall(con80))"
   ]
  },
  {
   "cell_type": "code",
   "execution_count": 99,
   "metadata": {},
   "outputs": [
    {
     "name": "stdout",
     "output_type": "stream",
     "text": [
      "Predict: 513.0 - True: 129.0\n",
      "big: 33 - precision: 0.06432748538011696 - recall: 0.2558139534883721\n",
      "small: 0 - precision: 0.0 - recall: 0.0\n",
      "-\n",
      "same: 96 - precision: 0.1871345029239766 - recall: 0.7441860465116279\n",
      "con95: 130 - precision: 0.253411306042885 - recall: 1\n",
      "con90: 137 - precision: 0.26705653021442494 - recall: 1\n",
      "con85: 143 - precision: 0.2787524366471735 - recall: 1\n",
      "con80: 148 - precision: 0.2884990253411306 - recall: 1\n"
     ]
    }
   ],
   "source": [
    "# Test_2019w26_CPUload_Kiel_Amsterdam-0011\n",
    "print(\"Predict:\", Predict, \"-\", \"True:\", Y)   \n",
    "print(\"big:\",big, \"-\", \"precision:\", precision(big), \"-\", \"recall:\", recall(big))  \n",
    "print(\"small:\",small, \"-\", \"precision:\", precision(small), \"-\", \"recall:\", recall(small)) \n",
    "print(\"-\")\n",
    "print(\"same:\",same, \"-\", \"precision:\", precision(same), \"-\", \"recall:\", recall(same)) \n",
    "print(\"con95:\",con95, \"-\", \"precision:\", precision(con95), \"-\", \"recall:\", recall(con95))  \n",
    "print(\"con90:\",con90, \"-\", \"precision:\", precision(con90), \"-\", \"recall:\", recall(con90)) \n",
    "print(\"con85:\",con85, \"-\", \"precision:\", precision(con85), \"-\", \"recall:\", recall(con85)) \n",
    "print(\"con80:\",con80, \"-\", \"precision:\", precision(con80), \"-\", \"recall:\", recall(con80))"
   ]
  },
  {
   "cell_type": "code",
   "execution_count": null,
   "metadata": {},
   "outputs": [],
   "source": []
  },
  {
   "cell_type": "code",
   "execution_count": null,
   "metadata": {},
   "outputs": [],
   "source": []
  },
  {
   "cell_type": "code",
   "execution_count": null,
   "metadata": {},
   "outputs": [],
   "source": []
  }
 ],
 "metadata": {
  "kernelspec": {
   "display_name": "Python 3",
   "language": "python",
   "name": "python3"
  },
  "language_info": {
   "codemirror_mode": {
    "name": "ipython",
    "version": 3
   },
   "file_extension": ".py",
   "mimetype": "text/x-python",
   "name": "python",
   "nbconvert_exporter": "python",
   "pygments_lexer": "ipython3",
   "version": "3.7.4"
  }
 },
 "nbformat": 4,
 "nbformat_minor": 2
}
