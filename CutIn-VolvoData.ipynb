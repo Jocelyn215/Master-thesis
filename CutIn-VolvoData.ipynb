{
 "cells": [
  {
   "cell_type": "code",
   "execution_count": 1,
   "metadata": {
    "scrolled": false
   },
   "outputs": [
    {
     "name": "stderr",
     "output_type": "stream",
     "text": [
      "Using TensorFlow backend.\n",
      "/Users/jocelyn/opt/anaconda3/lib/python3.7/site-packages/tensorflow/python/framework/dtypes.py:516: FutureWarning: Passing (type, 1) or '1type' as a synonym of type is deprecated; in a future version of numpy, it will be understood as (type, (1,)) / '(1,)type'.\n",
      "  _np_qint8 = np.dtype([(\"qint8\", np.int8, 1)])\n",
      "/Users/jocelyn/opt/anaconda3/lib/python3.7/site-packages/tensorflow/python/framework/dtypes.py:517: FutureWarning: Passing (type, 1) or '1type' as a synonym of type is deprecated; in a future version of numpy, it will be understood as (type, (1,)) / '(1,)type'.\n",
      "  _np_quint8 = np.dtype([(\"quint8\", np.uint8, 1)])\n",
      "/Users/jocelyn/opt/anaconda3/lib/python3.7/site-packages/tensorflow/python/framework/dtypes.py:518: FutureWarning: Passing (type, 1) or '1type' as a synonym of type is deprecated; in a future version of numpy, it will be understood as (type, (1,)) / '(1,)type'.\n",
      "  _np_qint16 = np.dtype([(\"qint16\", np.int16, 1)])\n",
      "/Users/jocelyn/opt/anaconda3/lib/python3.7/site-packages/tensorflow/python/framework/dtypes.py:519: FutureWarning: Passing (type, 1) or '1type' as a synonym of type is deprecated; in a future version of numpy, it will be understood as (type, (1,)) / '(1,)type'.\n",
      "  _np_quint16 = np.dtype([(\"quint16\", np.uint16, 1)])\n",
      "/Users/jocelyn/opt/anaconda3/lib/python3.7/site-packages/tensorflow/python/framework/dtypes.py:520: FutureWarning: Passing (type, 1) or '1type' as a synonym of type is deprecated; in a future version of numpy, it will be understood as (type, (1,)) / '(1,)type'.\n",
      "  _np_qint32 = np.dtype([(\"qint32\", np.int32, 1)])\n",
      "/Users/jocelyn/opt/anaconda3/lib/python3.7/site-packages/tensorflow/python/framework/dtypes.py:525: FutureWarning: Passing (type, 1) or '1type' as a synonym of type is deprecated; in a future version of numpy, it will be understood as (type, (1,)) / '(1,)type'.\n",
      "  np_resource = np.dtype([(\"resource\", np.ubyte, 1)])\n",
      "/Users/jocelyn/opt/anaconda3/lib/python3.7/site-packages/tensorboard/compat/tensorflow_stub/dtypes.py:541: FutureWarning: Passing (type, 1) or '1type' as a synonym of type is deprecated; in a future version of numpy, it will be understood as (type, (1,)) / '(1,)type'.\n",
      "  _np_qint8 = np.dtype([(\"qint8\", np.int8, 1)])\n",
      "/Users/jocelyn/opt/anaconda3/lib/python3.7/site-packages/tensorboard/compat/tensorflow_stub/dtypes.py:542: FutureWarning: Passing (type, 1) or '1type' as a synonym of type is deprecated; in a future version of numpy, it will be understood as (type, (1,)) / '(1,)type'.\n",
      "  _np_quint8 = np.dtype([(\"quint8\", np.uint8, 1)])\n",
      "/Users/jocelyn/opt/anaconda3/lib/python3.7/site-packages/tensorboard/compat/tensorflow_stub/dtypes.py:543: FutureWarning: Passing (type, 1) or '1type' as a synonym of type is deprecated; in a future version of numpy, it will be understood as (type, (1,)) / '(1,)type'.\n",
      "  _np_qint16 = np.dtype([(\"qint16\", np.int16, 1)])\n",
      "/Users/jocelyn/opt/anaconda3/lib/python3.7/site-packages/tensorboard/compat/tensorflow_stub/dtypes.py:544: FutureWarning: Passing (type, 1) or '1type' as a synonym of type is deprecated; in a future version of numpy, it will be understood as (type, (1,)) / '(1,)type'.\n",
      "  _np_quint16 = np.dtype([(\"quint16\", np.uint16, 1)])\n",
      "/Users/jocelyn/opt/anaconda3/lib/python3.7/site-packages/tensorboard/compat/tensorflow_stub/dtypes.py:545: FutureWarning: Passing (type, 1) or '1type' as a synonym of type is deprecated; in a future version of numpy, it will be understood as (type, (1,)) / '(1,)type'.\n",
      "  _np_qint32 = np.dtype([(\"qint32\", np.int32, 1)])\n",
      "/Users/jocelyn/opt/anaconda3/lib/python3.7/site-packages/tensorboard/compat/tensorflow_stub/dtypes.py:550: FutureWarning: Passing (type, 1) or '1type' as a synonym of type is deprecated; in a future version of numpy, it will be understood as (type, (1,)) / '(1,)type'.\n",
      "  np_resource = np.dtype([(\"resource\", np.ubyte, 1)])\n"
     ]
    }
   ],
   "source": [
    "from keras.utils import np_utils\n",
    "from keras.models import Sequential\n",
    "from keras.layers import Dense, LSTM, Dropout\n",
    "from keras.callbacks import EarlyStopping\n",
    "from sklearn.preprocessing import StandardScaler\n",
    "from pandas import read_csv\n",
    "\n",
    "import pandas as pd\n",
    "import numpy as np\n",
    "import glob\n",
    "import matplotlib.pyplot as plt\n",
    "import collections\n",
    "%matplotlib inline"
   ]
  },
  {
   "cell_type": "markdown",
   "metadata": {},
   "source": [
    "# standardization"
   ]
  },
  {
   "cell_type": "code",
   "execution_count": 4,
   "metadata": {
    "scrolled": true
   },
   "outputs": [
    {
     "name": "stdout",
     "output_type": "stream",
     "text": [
      "0\n",
      "(97434, 88) (97434,)\n",
      "1\n",
      "(46362, 88) (46362,)\n",
      "2\n",
      "(56119, 88) (56119,)\n",
      "3\n",
      "(107451, 88) (107451,)\n",
      "4\n",
      "(54506, 88) (54506,)\n",
      "5\n",
      "(56795, 88) (56795,)\n",
      "6\n",
      "(54873, 88) (54873,)\n",
      "7\n",
      "(139583, 88) (139583,)\n",
      "8\n",
      "(95999, 88) (95999,)\n",
      "9\n",
      "(93916, 88) (93916,)\n",
      "10\n",
      "(67954, 88) (67954,)\n",
      "11\n",
      "(70547, 88) (70547,)\n",
      "12\n",
      "(142409, 88) (142409,)\n",
      "13\n",
      "(32138, 88) (32138,)\n"
     ]
    }
   ],
   "source": [
    "path = glob.glob('../TrafficNet/VolvoData/2019/*.csv')\n",
    "\n",
    "X_all = np.empty((1, 88))\n",
    "Y_all = np.empty((1,))\n",
    "\n",
    "for i in range(len(path)):\n",
    "    print(i)\n",
    "    \n",
    "    CutIn = pd.read_csv(path[i], usecols=['Lat','Long','Acceleration','Decelerating','Indicator','InReverse','Lane','PositionInLane','Velocity','YawRate','PosLgt1','PosLgt2','PosLgt3','PosLgt4','PosLgt5','PosLgt6','PosLgt7','PosLat1','PosLat2','PosLat3','PosLat4','PosLat5','PosLat6','PosLat7','VelLgt1','VelLgt2','VelLgt3','VelLgt4','VelLgt5','VelLgt6','VelLgt7','VelLat1','VelLat2','VelLat3','VelLat4','VelLat5','VelLat6','VelLat7','AccLgt1','AccLgt2','AccLgt3','AccLgt4','AccLgt5','AccLgt6','AccLgt7','AccLat1','AccLat2','AccLat3','AccLat4','AccLat5','AccLat6','AccLat7','Angle1','Angle2','Angle3','Angle4','Angle5','Angle6','Angle7','Type1','Type2','Type3','Type4','Type5','Type6','Type7','Id1','Id2','Id3','Id4','Id5','Id6','Id7','Lane1','Lane2','Lane3','Lane4','Lane5','Lane6','Lane7','PositionInLane1','PositionInLane2','PositionInLane3','PositionInLane4','PositionInLane5','PositionInLane6','PositionInLane7','Lead','CutIn'])\n",
    "    CutIn.fillna(-1, inplace=True)\n",
    "    \n",
    "    Y_train = np.array(CutIn['CutIn'].values)\n",
    "    X_train = np.array(CutIn[['Lat','Long','Acceleration','Decelerating','Indicator','InReverse','Lane','PositionInLane','Velocity','YawRate','PosLgt1','PosLgt2','PosLgt3','PosLgt4','PosLgt5','PosLgt6','PosLgt7','PosLat1','PosLat2','PosLat3','PosLat4','PosLat5','PosLat6','PosLat7','VelLgt1','VelLgt2','VelLgt3','VelLgt4','VelLgt5','VelLgt6','VelLgt7','VelLat1','VelLat2','VelLat3','VelLat4','VelLat5','VelLat6','VelLat7','AccLgt1','AccLgt2','AccLgt3','AccLgt4','AccLgt5','AccLgt6','AccLgt7','AccLat1','AccLat2','AccLat3','AccLat4','AccLat5','AccLat6','AccLat7','Angle1','Angle2','Angle3','Angle4','Angle5','Angle6','Angle7','Type1','Type2','Type3','Type4','Type5','Type6','Type7','Id1','Id2','Id3','Id4','Id5','Id6','Id7','Lane1','Lane2','Lane3','Lane4','Lane5','Lane6','Lane7','PositionInLane1','PositionInLane2','PositionInLane3','PositionInLane4','PositionInLane5','PositionInLane6','PositionInLane7','Lead']])\n",
    "    # Get dimensions of input and output\n",
    "    #dimof_output = int(np.max(Y_train) + 1)\n",
    "    dimof_output = 1\n",
    "    dimof_input = X_train.shape[1]\n",
    "\n",
    "    # Scale/whiten the X data\n",
    "    scaler = StandardScaler()\n",
    "    X_train = scaler.fit_transform(X_train)\n",
    "    #print(len(X_train))\n",
    "    print(X_train.shape, Y_train.shape)\n",
    "    \n",
    "    X_all = np.append(X_all, X_train, axis=0)\n",
    "    Y_all = np.append(Y_all, Y_train, axis=0)"
   ]
  },
  {
   "cell_type": "code",
   "execution_count": 5,
   "metadata": {},
   "outputs": [
    {
     "data": {
      "text/plain": [
       "1116087"
      ]
     },
     "execution_count": 5,
     "metadata": {},
     "output_type": "execute_result"
    }
   ],
   "source": [
    "len(X_all)"
   ]
  },
  {
   "cell_type": "code",
   "execution_count": 6,
   "metadata": {},
   "outputs": [],
   "source": [
    "X_all = X_all[1:1116087]\n",
    "Y_all = Y_all[1:1116087]"
   ]
  },
  {
   "cell_type": "markdown",
   "metadata": {},
   "source": [
    "# Feature selection"
   ]
  },
  {
   "cell_type": "markdown",
   "metadata": {},
   "source": [
    "## ANOVA f-test Feature Selection"
   ]
  },
  {
   "cell_type": "code",
   "execution_count": 11,
   "metadata": {},
   "outputs": [],
   "source": [
    "# example of anova f-test feature selection for numerical data\n",
    "from pandas import read_csv\n",
    "from sklearn.model_selection import train_test_split\n",
    "from sklearn.feature_selection import SelectKBest\n",
    "from sklearn.feature_selection import f_classif\n",
    "from matplotlib import pyplot"
   ]
  },
  {
   "cell_type": "code",
   "execution_count": 12,
   "metadata": {},
   "outputs": [],
   "source": [
    "# feature selection\n",
    "def select_features(X_train, y_train, X_test):\n",
    "\t# configure to select all features\n",
    "\tfs = SelectKBest(score_func=f_classif, k='all')\n",
    "\t# learn relationship from training data\n",
    "\tfs.fit(X_train, y_train)\n",
    "\t# transform train input data\n",
    "\tX_train_fs = fs.transform(X_train)\n",
    "\t# transform test input data\n",
    "\tX_test_fs = fs.transform(X_test)\n",
    "\treturn X_train_fs, X_test_fs, fs"
   ]
  },
  {
   "cell_type": "code",
   "execution_count": 13,
   "metadata": {},
   "outputs": [
    {
     "name": "stdout",
     "output_type": "stream",
     "text": [
      "Feature 0: 105.125323\n",
      "Feature 1: 84.472824\n",
      "Feature 2: 55.359863\n",
      "Feature 3: 4.396479\n",
      "Feature 4: 18.563934\n",
      "Feature 5: 0.471025\n",
      "Feature 6: 934.559849\n",
      "Feature 7: 476.542188\n",
      "Feature 8: 466.239602\n",
      "Feature 9: 21.847455\n",
      "Feature 10: 120.005507\n",
      "Feature 11: 490.904250\n",
      "Feature 12: 499.581716\n",
      "Feature 13: 401.627605\n",
      "Feature 14: 184.721948\n",
      "Feature 15: 6.221834\n",
      "Feature 16: 86.492656\n",
      "Feature 17: 32.484388\n",
      "Feature 18: 138.485958\n",
      "Feature 19: 82.305227\n",
      "Feature 20: 228.483060\n",
      "Feature 21: 35.792907\n",
      "Feature 22: 7.347584\n",
      "Feature 23: 86.761729\n",
      "Feature 24: 3969.100841\n",
      "Feature 25: 2140.612995\n",
      "Feature 26: 1017.039243\n",
      "Feature 27: 361.181105\n",
      "Feature 28: 89.552175\n",
      "Feature 29: 10.574436\n",
      "Feature 30: 86.800660\n",
      "Feature 31: 622.616121\n",
      "Feature 32: 304.831461\n",
      "Feature 33: 327.589128\n",
      "Feature 34: 340.045956\n",
      "Feature 35: 158.576511\n",
      "Feature 36: 3.432030\n",
      "Feature 37: 84.347584\n",
      "Feature 38: 2225.580819\n",
      "Feature 39: 1107.598834\n",
      "Feature 40: 550.260468\n",
      "Feature 41: 305.863006\n",
      "Feature 42: 55.353669\n",
      "Feature 43: 10.620026\n",
      "Feature 44: 87.636833\n",
      "Feature 45: 2247.685293\n",
      "Feature 46: 936.172225\n",
      "Feature 47: 527.550099\n",
      "Feature 48: 244.502159\n",
      "Feature 49: 66.829421\n",
      "Feature 50: 11.070701\n",
      "Feature 51: 11.070701\n",
      "Feature 52: 1745.336667\n",
      "Feature 53: 907.580514\n",
      "Feature 54: 477.786020\n",
      "Feature 55: 238.002918\n",
      "Feature 56: 71.855758\n",
      "Feature 57: 10.970370\n",
      "Feature 58: 87.134602\n",
      "Feature 59: 853.588103\n",
      "Feature 60: 406.991760\n",
      "Feature 61: 382.148406\n",
      "Feature 62: 212.155854\n",
      "Feature 63: 93.302022\n",
      "Feature 64: 8.779791\n",
      "Feature 65: 75.289762\n",
      "Feature 66: 777.598798\n",
      "Feature 67: 640.628217\n",
      "Feature 68: 397.165786\n",
      "Feature 69: 175.111650\n",
      "Feature 70: 22.842121\n",
      "Feature 71: 5.084399\n",
      "Feature 72: 26.508389\n",
      "Feature 73: 611.591193\n",
      "Feature 74: 722.374476\n",
      "Feature 75: 324.880005\n",
      "Feature 76: 278.779961\n",
      "Feature 77: 26.038409\n",
      "Feature 78: 0.288339\n",
      "Feature 79: 114.073478\n",
      "Feature 80: 746.841393\n",
      "Feature 81: 714.232819\n",
      "Feature 82: 407.810556\n",
      "Feature 83: 281.836494\n",
      "Feature 84: 37.027868\n",
      "Feature 85: 3.877178\n",
      "Feature 86: 91.881294\n",
      "Feature 87: 722.416632\n"
     ]
    },
    {
     "data": {
      "image/png": "[encoded data removed]",
      "text/plain": [
       "<Figure size 432x288 with 1 Axes>"
      ]
     },
     "metadata": {
      "needs_background": "light"
     },
     "output_type": "display_data"
    }
   ],
   "source": [
    "# split into train and test sets\n",
    "X_train, X_test, y_train, y_test = train_test_split(X_all, Y_all, test_size=0.5, random_state=1)\n",
    "# feature selection\n",
    "X_train_fs, X_test_fs, fs = select_features(X_train, y_train, X_test)\n",
    "# what are scores for the features\n",
    "for i in range(len(fs.scores_)):\n",
    "\tprint('Feature %d: %f' % (i, fs.scores_[i]))\n",
    "# plot the scores\n",
    "pyplot.bar([i for i in range(len(fs.scores_))], fs.scores_)\n",
    "pyplot.show()"
   ]
  },
  {
   "cell_type": "markdown",
   "metadata": {},
   "source": [
    "## Mutual Information Feature Selection"
   ]
  },
  {
   "cell_type": "code",
   "execution_count": 9,
   "metadata": {},
   "outputs": [],
   "source": [
    "# example of mutual information feature selection for numerical input data\n",
    "from pandas import read_csv\n",
    "from sklearn.model_selection import train_test_split\n",
    "from sklearn.feature_selection import SelectKBest\n",
    "from sklearn.feature_selection import mutual_info_classif\n",
    "from matplotlib import pyplot"
   ]
  },
  {
   "cell_type": "code",
   "execution_count": null,
   "metadata": {},
   "outputs": [],
   "source": [
    "# feature selection\n",
    "def Mutual_select_features(X_train, y_train, X_test):\n",
    "\t# configure to select all features\n",
    "\tfsm = SelectKBest(score_func=mutual_info_classif, k='all')\n",
    "\t# learn relationship from training data\n",
    "\tfsm.fit(X_train, y_train)\n",
    "\t# transform train input data\n",
    "\tX_train_fsm = fsm.transform(X_train)\n",
    "\t# transform test input data\n",
    "\tX_test_fsm = fsm.transform(X_test)\n",
    "\treturn X_train_fsm, X_test_fsm, fsm\n",
    "\n",
    "# split into train and test sets\n",
    "X_train, X_test, y_train, y_test = train_test_split(X_all, Y_all, test_size=0.5, random_state=1)\n",
    "# feature selection\n",
    "X_train_fsm, X_test_fsm, fsm = Mutual_select_features(X_train, y_train, X_test)\n",
    "# what are scores for the features\n",
    "for i in range(len(fsm.scores_)):\n",
    "\tprint('Feature %d: %f' % (i, fsm.scores_[i]))\n",
    "# plot the scores\n",
    "pyplot.bar([i for i in range(len(fsm.scores_))], fsm.scores_)\n",
    "pyplot.show()"
   ]
  },
  {
   "cell_type": "markdown",
   "metadata": {},
   "source": [
    "# Modeling With Selected Features"
   ]
  },
  {
   "cell_type": "markdown",
   "metadata": {},
   "source": [
    "## Model Built Using All Features"
   ]
  },
  {
   "cell_type": "code",
   "execution_count": 15,
   "metadata": {},
   "outputs": [
    {
     "name": "stdout",
     "output_type": "stream",
     "text": [
      "Accuracy: 98.01\n"
     ]
    }
   ],
   "source": [
    "# evaluation of a model using all input features\n",
    "from pandas import read_csv\n",
    "from sklearn.model_selection import train_test_split\n",
    "from sklearn.linear_model import LogisticRegression\n",
    "from sklearn.metrics import accuracy_score\n",
    "\n",
    "# split into train and test sets\n",
    "#X_train, X_test, y_train, y_test = train_test_split(X, y, test_size=0.33, random_state=1)\n",
    "# fit the model\n",
    "model = LogisticRegression(solver='liblinear')\n",
    "model.fit(X_train, y_train)\n",
    "# evaluate the model\n",
    "yhat = model.predict(X_test)\n",
    "# evaluate predictions\n",
    "accuracy = accuracy_score(y_test, yhat)\n",
    "print('Accuracy: %.2f' % (accuracy*100))"
   ]
  },
  {
   "cell_type": "markdown",
   "metadata": {},
   "source": [
    "## Model Built Using ANOVA f-test Features"
   ]
  },
  {
   "cell_type": "code",
   "execution_count": 16,
   "metadata": {},
   "outputs": [
    {
     "name": "stdout",
     "output_type": "stream",
     "text": [
      "Accuracy: 98.00\n"
     ]
    }
   ],
   "source": [
    "# evaluation of a model using 4 features chosen with anova f-test\n",
    "from pandas import read_csv\n",
    "from sklearn.model_selection import train_test_split\n",
    "from sklearn.feature_selection import SelectKBest\n",
    "from sklearn.feature_selection import f_classif\n",
    "from sklearn.linear_model import LogisticRegression\n",
    "from sklearn.metrics import accuracy_score\n",
    "\n",
    "# feature selection\n",
    "def select_features(X_train, y_train, X_test):\n",
    "\t# configure to select a subset of features >400\n",
    "\tfs = SelectKBest(score_func=f_classif, k=29)\n",
    "\t# learn relationship from training data\n",
    "\tfs.fit(X_train, y_train)\n",
    "\t# transform train input data\n",
    "\tX_train_fs = fs.transform(X_train)\n",
    "\t# transform test input data\n",
    "\tX_test_fs = fs.transform(X_test)\n",
    "\treturn X_train_fs, X_test_fs, fs\n",
    "\n",
    "# feature selection\n",
    "X_train_fs, X_test_fs, fs = select_features(X_train, y_train, X_test)\n",
    "# fit the model\n",
    "model = LogisticRegression(solver='liblinear')\n",
    "model.fit(X_train_fs, y_train)\n",
    "# evaluate the model\n",
    "yhat_anova = model.predict(X_test_fs)\n",
    "# evaluate predictions\n",
    "accuracy_anova = accuracy_score(y_test, yhat_anova)\n",
    "print('Accuracy: %.2f' % (accuracy_anova*100))"
   ]
  },
  {
   "cell_type": "markdown",
   "metadata": {},
   "source": [
    "## Tune the Number of Selected Features"
   ]
  },
  {
   "cell_type": "code",
   "execution_count": 2,
   "metadata": {},
   "outputs": [],
   "source": [
    "from pandas import read_csv\n",
    "from sklearn.model_selection import RepeatedStratifiedKFold\n",
    "from sklearn.feature_selection import SelectKBest\n",
    "from sklearn.feature_selection import f_classif\n",
    "from sklearn.linear_model import LogisticRegression\n",
    "from sklearn.pipeline import Pipeline\n",
    "from sklearn.model_selection import GridSearchCV\n",
    "from matplotlib import pyplot\n",
    "from numpy import mean\n",
    "from numpy import std\n",
    "from sklearn.model_selection import cross_val_score\n",
    "from sklearn.model_selection import train_test_split"
   ]
  },
  {
   "cell_type": "code",
   "execution_count": 3,
   "metadata": {},
   "outputs": [
    {
     "name": "stdout",
     "output_type": "stream",
     "text": [
      "0\n",
      "(97434, 88) (97434,)\n",
      "1\n",
      "(46362, 88) (46362,)\n",
      "2\n",
      "(56119, 88) (56119,)\n",
      "3\n",
      "(107451, 88) (107451,)\n",
      "4\n",
      "(54506, 88) (54506,)\n"
     ]
    }
   ],
   "source": [
    "path = glob.glob('../TrafficNet/VolvoData/2019/*.csv')\n",
    "\n",
    "X_all = np.empty((1, 88))\n",
    "Y_all = np.empty((1,))\n",
    "\n",
    "for i in range(5):\n",
    "    print(i)\n",
    "    \n",
    "    CutIn = pd.read_csv(path[i], usecols=['Lat','Long','Acceleration','Decelerating','Indicator','InReverse','Lane','PositionInLane','Velocity','YawRate','PosLgt1','PosLgt2','PosLgt3','PosLgt4','PosLgt5','PosLgt6','PosLgt7','PosLat1','PosLat2','PosLat3','PosLat4','PosLat5','PosLat6','PosLat7','VelLgt1','VelLgt2','VelLgt3','VelLgt4','VelLgt5','VelLgt6','VelLgt7','VelLat1','VelLat2','VelLat3','VelLat4','VelLat5','VelLat6','VelLat7','AccLgt1','AccLgt2','AccLgt3','AccLgt4','AccLgt5','AccLgt6','AccLgt7','AccLat1','AccLat2','AccLat3','AccLat4','AccLat5','AccLat6','AccLat7','Angle1','Angle2','Angle3','Angle4','Angle5','Angle6','Angle7','Type1','Type2','Type3','Type4','Type5','Type6','Type7','Id1','Id2','Id3','Id4','Id5','Id6','Id7','Lane1','Lane2','Lane3','Lane4','Lane5','Lane6','Lane7','PositionInLane1','PositionInLane2','PositionInLane3','PositionInLane4','PositionInLane5','PositionInLane6','PositionInLane7','Lead','CutIn'])\n",
    "    CutIn.fillna(-1, inplace=True)\n",
    "    \n",
    "    Y_train = np.array(CutIn['CutIn'].values)\n",
    "    X_train = np.array(CutIn[['Lat','Long','Acceleration','Decelerating','Indicator','InReverse','Lane','PositionInLane','Velocity','YawRate','PosLgt1','PosLgt2','PosLgt3','PosLgt4','PosLgt5','PosLgt6','PosLgt7','PosLat1','PosLat2','PosLat3','PosLat4','PosLat5','PosLat6','PosLat7','VelLgt1','VelLgt2','VelLgt3','VelLgt4','VelLgt5','VelLgt6','VelLgt7','VelLat1','VelLat2','VelLat3','VelLat4','VelLat5','VelLat6','VelLat7','AccLgt1','AccLgt2','AccLgt3','AccLgt4','AccLgt5','AccLgt6','AccLgt7','AccLat1','AccLat2','AccLat3','AccLat4','AccLat5','AccLat6','AccLat7','Angle1','Angle2','Angle3','Angle4','Angle5','Angle6','Angle7','Type1','Type2','Type3','Type4','Type5','Type6','Type7','Id1','Id2','Id3','Id4','Id5','Id6','Id7','Lane1','Lane2','Lane3','Lane4','Lane5','Lane6','Lane7','PositionInLane1','PositionInLane2','PositionInLane3','PositionInLane4','PositionInLane5','PositionInLane6','PositionInLane7','Lead']])\n",
    "    # Get dimensions of input and output\n",
    "    #dimof_output = int(np.max(Y_train) + 1)\n",
    "    dimof_output = 1\n",
    "    dimof_input = X_train.shape[1]\n",
    "\n",
    "    # Scale/whiten the X data\n",
    "    scaler = StandardScaler()\n",
    "    X_train = scaler.fit_transform(X_train)\n",
    "    #print(len(X_train))\n",
    "    print(X_train.shape, Y_train.shape)\n",
    "    \n",
    "    X_all = np.append(X_all, X_train, axis=0)\n",
    "    Y_all = np.append(Y_all, Y_train, axis=0)"
   ]
  },
  {
   "cell_type": "code",
   "execution_count": 4,
   "metadata": {},
   "outputs": [
    {
     "data": {
      "text/plain": [
       "361873"
      ]
     },
     "execution_count": 4,
     "metadata": {},
     "output_type": "execute_result"
    }
   ],
   "source": [
    "len(X_all)"
   ]
  },
  {
   "cell_type": "code",
   "execution_count": 5,
   "metadata": {},
   "outputs": [],
   "source": [
    "X_all = X_all[1:361873]\n",
    "Y_all = Y_all[1:361873]"
   ]
  },
  {
   "cell_type": "code",
   "execution_count": 6,
   "metadata": {},
   "outputs": [
    {
     "name": "stderr",
     "output_type": "stream",
     "text": [
      "/Users/jocelyn/opt/anaconda3/lib/python3.7/site-packages/joblib/externals/loky/process_executor.py:706: UserWarning: A worker stopped while some jobs were given to the executor. This can be caused by a too short worker timeout or by a memory leak.\n",
      "  \"timeout or by a memory leak.\", UserWarning\n",
      "/Users/jocelyn/opt/anaconda3/lib/python3.7/site-packages/sklearn/feature_selection/univariate_selection.py:114: UserWarning: Features [ 5 16 23 30 37 44 58 65 72 79 86] are constant.\n",
      "  UserWarning)\n",
      "/Users/jocelyn/opt/anaconda3/lib/python3.7/site-packages/sklearn/feature_selection/univariate_selection.py:115: RuntimeWarning: invalid value encountered in true_divide\n",
      "  f = msb / msw\n"
     ]
    },
    {
     "name": "stdout",
     "output_type": "stream",
     "text": [
      "Best Mean Accuracy: 0.954\n",
      "Best Config: {'anova__k': 28}\n"
     ]
    }
   ],
   "source": [
    "# compare different numbers of features selected using anova f-test\n",
    "\n",
    "\n",
    "# define the evaluation method\n",
    "cv = RepeatedStratifiedKFold(n_splits=5, n_repeats=3, random_state=1)\n",
    "# define the pipeline to evaluate\n",
    "model = LogisticRegression(solver='liblinear')\n",
    "fs = SelectKBest(score_func=f_classif)\n",
    "pipeline = Pipeline(steps=[('anova',fs), ('lr', model)])\n",
    "# define the grid\n",
    "grid = dict()\n",
    "grid['anova__k'] = [i+1 for i in range(X_all.shape[1])]\n",
    "# define the grid search\n",
    "search = GridSearchCV(pipeline, grid, scoring='accuracy', n_jobs=-1, cv=cv)\n",
    "# perform the search\n",
    "results = search.fit(X_all, Y_all)\n",
    "# summarize best\n",
    "print('Best Mean Accuracy: %.3f' % results.best_score_)\n",
    "print('Best Config: %s' % results.best_params_)"
   ]
  },
  {
   "cell_type": "code",
   "execution_count": 7,
   "metadata": {
    "scrolled": true
   },
   "outputs": [
    {
     "name": "stdout",
     "output_type": "stream",
     "text": [
      ">1 0.954 (0.000)\n",
      ">2 0.954 (0.000)\n",
      ">3 0.954 (0.000)\n",
      ">4 0.954 (0.000)\n",
      ">5 0.954 (0.000)\n",
      ">6 0.954 (0.000)\n",
      ">7 0.954 (0.000)\n",
      ">8 0.954 (0.000)\n",
      ">9 0.954 (0.000)\n",
      ">10 0.954 (0.000)\n",
      ">11 0.954 (0.000)\n",
      ">12 0.954 (0.000)\n",
      ">13 0.954 (0.000)\n",
      ">14 0.954 (0.000)\n",
      ">15 0.954 (0.000)\n",
      ">16 0.954 (0.000)\n",
      ">17 0.954 (0.000)\n",
      ">18 0.954 (0.000)\n",
      ">19 0.954 (0.000)\n",
      ">20 0.954 (0.000)\n",
      ">21 0.954 (0.000)\n",
      ">22 0.954 (0.000)\n",
      ">23 0.954 (0.000)\n",
      ">24 0.954 (0.000)\n",
      ">25 0.954 (0.000)\n",
      ">26 0.954 (0.000)\n",
      ">27 0.954 (0.000)\n",
      ">28 0.954 (0.000)\n",
      ">29 0.954 (0.000)\n",
      ">30 0.954 (0.000)\n",
      ">31 0.954 (0.000)\n",
      ">32 0.954 (0.000)\n",
      ">33 0.954 (0.000)\n",
      ">34 0.954 (0.000)\n",
      ">35 0.954 (0.000)\n",
      ">36 0.954 (0.000)\n",
      ">37 0.954 (0.000)\n",
      ">38 0.954 (0.000)\n",
      ">39 0.954 (0.000)\n",
      ">40 0.954 (0.000)\n",
      ">41 0.954 (0.000)\n",
      ">42 0.954 (0.000)\n",
      ">43 0.954 (0.000)\n",
      ">44 0.954 (0.000)\n",
      ">45 0.954 (0.000)\n",
      ">46 0.954 (0.000)\n",
      ">47 0.953 (0.000)\n",
      ">48 0.953 (0.000)\n",
      ">49 0.954 (0.000)\n",
      ">50 0.954 (0.000)\n",
      ">51 0.954 (0.000)\n",
      ">52 0.954 (0.000)\n",
      ">53 0.954 (0.000)\n",
      ">54 0.954 (0.000)\n",
      ">55 0.954 (0.000)\n",
      ">56 0.954 (0.000)\n",
      ">57 0.954 (0.000)\n",
      ">58 0.954 (0.000)\n",
      ">59 0.954 (0.000)\n",
      ">60 0.954 (0.000)\n",
      ">61 0.954 (0.000)\n",
      ">62 0.954 (0.000)\n",
      ">63 0.954 (0.000)\n",
      ">64 0.954 (0.000)\n",
      ">65 0.954 (0.000)\n",
      ">66 0.954 (0.000)\n",
      ">67 0.954 (0.000)\n"
     ]
    },
    {
     "name": "stderr",
     "output_type": "stream",
     "text": [
      "/Users/jocelyn/opt/anaconda3/lib/python3.7/site-packages/joblib/externals/loky/process_executor.py:706: UserWarning: A worker stopped while some jobs were given to the executor. This can be caused by a too short worker timeout or by a memory leak.\n",
      "  \"timeout or by a memory leak.\", UserWarning\n"
     ]
    },
    {
     "name": "stdout",
     "output_type": "stream",
     "text": [
      ">68 0.954 (0.000)\n",
      ">69 0.954 (0.000)\n",
      ">70 0.954 (0.000)\n",
      ">71 0.954 (0.000)\n",
      ">72 0.954 (0.000)\n",
      ">73 0.954 (0.000)\n",
      ">74 0.954 (0.000)\n",
      ">75 0.954 (0.000)\n",
      ">76 0.954 (0.000)\n",
      ">77 0.954 (0.000)\n",
      ">78 0.954 (0.000)\n",
      ">79 0.954 (0.000)\n"
     ]
    },
    {
     "name": "stderr",
     "output_type": "stream",
     "text": [
      "/Users/jocelyn/opt/anaconda3/lib/python3.7/site-packages/joblib/externals/loky/process_executor.py:706: UserWarning: A worker stopped while some jobs were given to the executor. This can be caused by a too short worker timeout or by a memory leak.\n",
      "  \"timeout or by a memory leak.\", UserWarning\n"
     ]
    },
    {
     "name": "stdout",
     "output_type": "stream",
     "text": [
      ">80 0.954 (0.000)\n",
      ">81 0.954 (0.000)\n",
      ">82 0.954 (0.000)\n",
      ">83 0.954 (0.000)\n",
      ">84 0.954 (0.000)\n",
      ">85 0.954 (0.000)\n",
      ">86 0.954 (0.000)\n",
      ">87 0.954 (0.000)\n",
      ">88 0.954 (0.000)\n"
     ]
    },
    {
     "data": {
      "image/png": "[encoded data removed]",
      "text/plain": [
       "<Figure size 432x288 with 1 Axes>"
      ]
     },
     "metadata": {
      "needs_background": "light"
     },
     "output_type": "display_data"
    }
   ],
   "source": [
    "# compare different numbers of features selected using anova f-test\n",
    "\n",
    "\n",
    "# evaluate a give model using cross-validation\n",
    "def evaluate_model(model):\n",
    "\tcv = RepeatedStratifiedKFold(n_splits=5, n_repeats=3, random_state=1)\n",
    "\tscores = cross_val_score(model, X_all, Y_all, scoring='accuracy', cv=cv, n_jobs=-1, error_score='raise')\n",
    "\treturn scores\n",
    "\n",
    "# define number of features to evaluate\n",
    "num_features = [i+1 for i in range(X_all.shape[1])]\n",
    "# enumerate each number of features\n",
    "results = list()\n",
    "for k in num_features:\n",
    "\t# create pipeline\n",
    "\tmodel = LogisticRegression(solver='liblinear')\n",
    "\tfs = SelectKBest(score_func=f_classif, k=k)\n",
    "\tpipeline = Pipeline(steps=[('anova',fs), ('lr', model)])\n",
    "\t# evaluate the model\n",
    "\tscores = evaluate_model(pipeline)\n",
    "\tresults.append(scores)\n",
    "\t# summarize the results\n",
    "\tprint('>%d %.3f (%.3f)' % (k, mean(scores), std(scores)))\n",
    "# plot model performance for comparison\n",
    "pyplot.boxplot(results, labels=num_features, showmeans=True)\n",
    "pyplot.show()"
   ]
  },
  {
   "cell_type": "code",
   "execution_count": 70,
   "metadata": {},
   "outputs": [
    {
     "data": {
      "text/plain": [
       "<Figure size 432x288 with 0 Axes>"
      ]
     },
     "metadata": {},
     "output_type": "display_data"
    }
   ],
   "source": [
    "pyplot.savefig('boxplot.png',bbox_inches='tight')"
   ]
  },
  {
   "cell_type": "code",
   "execution_count": 12,
   "metadata": {},
   "outputs": [
    {
     "data": {
      "image/png": "[encoded data removed]",
      "text/plain": [
       "<Figure size 1440x432 with 1 Axes>"
      ]
     },
     "metadata": {
      "needs_background": "light"
     },
     "output_type": "display_data"
    }
   ],
   "source": [
    "pyplot.figure(figsize=(20,6))\n",
    "pyplot.boxplot(results, labels=num_features, showmeans=True, patch_artist=True)\n",
    "pyplot.xticks(fontsize=9)\n",
    "pyplot.yticks(fontsize=20)\n",
    "pyplot.show()"
   ]
  },
  {
   "cell_type": "code",
   "execution_count": 11,
   "metadata": {},
   "outputs": [
    {
     "data": {
      "image/png": "[encoded data removed]",
      "text/plain": [
       "<Figure size 1440x432 with 1 Axes>"
      ]
     },
     "metadata": {
      "needs_background": "light"
     },
     "output_type": "display_data"
    }
   ],
   "source": [
    "pyplot.figure(figsize=(20,6))\n",
    "pyplot.xticks(fontsize=9)\n",
    "pyplot.yticks(fontsize=20)\n",
    "\n",
    "bp = pyplot.boxplot(results, labels=num_features, showmeans=True, patch_artist=True)\n",
    "#ax = fig.add_subplot(111)\n",
    "for box in bp['boxes']:\n",
    "    # change outline color\n",
    "    box.set( color='#7570b3', linewidth=2)\n",
    "    # change fill color\n",
    "    box.set( facecolor = '#1b9e70' )\n",
    "\n",
    "## change color and linewidth of the whiskers\n",
    "for whisker in bp['whiskers']:\n",
    "    whisker.set(color='#7570b3', linewidth=2)\n",
    "\n",
    "## change color and linewidth of the caps\n",
    "for cap in bp['caps']:\n",
    "    cap.set(color='#7570b3', linewidth=2)\n",
    "\n",
    "## change color and linewidth of the medians\n",
    "for median in bp['medians']:\n",
    "    median.set(color='yellow', linewidth=2)\n",
    "\n",
    "## change the style of fliers and their fill\n",
    "for flier in bp['fliers']:\n",
    "    flier.set(marker='o', color='#e7298a', alpha=0.5)"
   ]
  },
  {
   "cell_type": "markdown",
   "metadata": {},
   "source": [
    "## the final 28 features"
   ]
  },
  {
   "cell_type": "code",
   "execution_count": 6,
   "metadata": {},
   "outputs": [],
   "source": [
    "# feature selection\n",
    "def select_features(X_train, y_train, X_test):\n",
    "\t# configure to select all features\n",
    "\tfs = SelectKBest(score_func=f_classif, k=28)\n",
    "\t# learn relationship from training data\n",
    "\tfs.fit(X_train, y_train)\n",
    "\t# transform train input data\n",
    "\tX_train_fs = fs.transform(X_train)\n",
    "\t# transform test input data\n",
    "\tX_test_fs = fs.transform(X_test)\n",
    "\treturn X_train_fs, X_test_fs, fs"
   ]
  },
  {
   "cell_type": "code",
   "execution_count": 7,
   "metadata": {},
   "outputs": [
    {
     "name": "stdout",
     "output_type": "stream",
     "text": [
      "Feature 0: 495.062521\n",
      "Feature 1: 326.535655\n",
      "Feature 2: 1.760106\n",
      "Feature 3: 0.941693\n",
      "Feature 4: 6.004378\n",
      "Feature 5: 1.278721\n",
      "Feature 6: 465.795677\n",
      "Feature 7: 164.186153\n",
      "Feature 8: 324.125064\n",
      "Feature 9: 0.298129\n",
      "Feature 10: 0.038193\n",
      "Feature 11: 193.080350\n",
      "Feature 12: 244.622972\n",
      "Feature 13: 38.451299\n",
      "Feature 14: 35.398625\n",
      "Feature 15: 0.036040\n",
      "Feature 16: 0.101694\n",
      "Feature 17: 0.018312\n",
      "Feature 18: 3.908238\n",
      "Feature 19: 9.185823\n",
      "Feature 20: 1.324230\n",
      "Feature 21: 2.945601\n",
      "Feature 22: 24.002629\n",
      "Feature 23: 0.099572\n",
      "Feature 24: 1704.379395\n",
      "Feature 25: 769.886622\n",
      "Feature 26: 430.732195\n",
      "Feature 27: 66.462847\n",
      "Feature 28: 33.298152\n",
      "Feature 29: 0.011443\n",
      "Feature 30: 0.094722\n",
      "Feature 31: 16.911075\n",
      "Feature 32: 37.948015\n",
      "Feature 33: 173.597003\n",
      "Feature 34: 4.673381\n",
      "Feature 35: 2.323235\n",
      "Feature 36: 9.476983\n",
      "Feature 37: 0.092364\n",
      "Feature 38: 1235.182205\n",
      "Feature 39: 484.910089\n",
      "Feature 40: 301.082066\n",
      "Feature 41: 34.665145\n",
      "Feature 42: 7.928305\n",
      "Feature 43: 0.026193\n",
      "Feature 44: 0.094482\n",
      "Feature 45: 1249.281655\n",
      "Feature 46: 412.852243\n",
      "Feature 47: 287.028480\n",
      "Feature 48: 31.500009\n",
      "Feature 49: 9.858719\n",
      "Feature 50: 0.032394\n",
      "Feature 51: 0.032394\n",
      "Feature 52: 1001.496001\n",
      "Feature 53: 389.809584\n",
      "Feature 54: 291.372332\n",
      "Feature 55: 30.415376\n",
      "Feature 56: 9.615518\n",
      "Feature 57: 0.083192\n",
      "Feature 58: 0.094091\n",
      "Feature 59: 543.817261\n",
      "Feature 60: 169.997945\n",
      "Feature 61: 137.725437\n",
      "Feature 62: 8.233287\n",
      "Feature 63: 10.040398\n",
      "Feature 64: 0.016356\n",
      "Feature 65: 0.094482\n",
      "Feature 66: 225.212378\n",
      "Feature 67: 205.126840\n",
      "Feature 68: 61.516220\n",
      "Feature 69: 2.873362\n",
      "Feature 70: 3.825976\n",
      "Feature 71: 0.030667\n",
      "Feature 72: 0.094482\n",
      "Feature 73: 166.500637\n",
      "Feature 74: 159.251048\n",
      "Feature 75: 121.493052\n",
      "Feature 76: 32.447494\n",
      "Feature 77: 3.268449\n",
      "Feature 78: 3.150230\n",
      "Feature 79: 0.094482\n",
      "Feature 80: 212.887729\n",
      "Feature 81: 183.131616\n",
      "Feature 82: 168.857026\n",
      "Feature 83: 30.724637\n",
      "Feature 84: 3.899509\n",
      "Feature 85: 0.851817\n",
      "Feature 86: 0.095053\n",
      "Feature 87: 372.200882\n"
     ]
    },
    {
     "data": {
      "image/png": "[encoded data removed]",
      "text/plain": [
       "<Figure size 432x288 with 1 Axes>"
      ]
     },
     "metadata": {
      "needs_background": "light"
     },
     "output_type": "display_data"
    }
   ],
   "source": [
    "# split into train and test sets\n",
    "X_train, X_test, y_train, y_test = train_test_split(X_all, Y_all, test_size=0.5, random_state=1)\n",
    "# feature selection\n",
    "X_train_fs, X_test_fs, fs = select_features(X_train, y_train, X_test)\n",
    "# what are scores for the features\n",
    "for i in range(len(fs.scores_)):\n",
    "\tprint('Feature %d: %f' % (i, fs.scores_[i]))\n",
    "# plot the scores\n",
    "pyplot.bar([i for i in range(len(fs.scores_))], fs.scores_)\n",
    "pyplot.show()"
   ]
  },
  {
   "cell_type": "code",
   "execution_count": 8,
   "metadata": {},
   "outputs": [
    {
     "data": {
      "text/plain": [
       "array([ 0,  1,  6,  8, 11, 12, 24, 25, 26, 33, 38, 39, 40, 45, 46, 47, 52,\n",
       "       53, 54, 59, 60, 66, 67, 73, 80, 81, 82, 87])"
      ]
     },
     "execution_count": 8,
     "metadata": {},
     "output_type": "execute_result"
    }
   ],
   "source": [
    "fs.get_support(indices=True)"
   ]
  },
  {
   "cell_type": "markdown",
   "metadata": {},
   "source": [
    "1,2,7,9,12,13,25-27,34,39-41,46-48,53-55,60,61,67,68,74,81,82,83,88\n",
    "'Lat','Long','Lane','Velocity','PosLgt2','PosLgt3','VelLgt1','VelLgt2','VelLgt3','VelLat3','AccLgt1','AccLgt2','AccLgt3','AccLat1','AccLat2','AccLat3','Angle1','Angle2','Angle3','Type1','Type2','Id1','Id2','Lane1','PositionInLane1','PositionInLane2','PositionInLane3','Lead'\n",
    "\n",
    "       \n",
    "'Lat','Long',\n",
    "'Acceleration','Decelerating','Indicator','InReverse','Lane','PositionInLane','Velocity','YawRate','PosLgt1','PosLgt2','PosLgt3',\n",
    "'PosLgt4','PosLgt5','PosLgt6','PosLgt7','PosLat1','PosLat2','PosLat3','PosLat4','PosLat5','PosLat6','PosLat7','VelLgt1','VelLgt2','VelLgt3',\n",
    "'VelLgt4','VelLgt5','VelLgt6','VelLgt7','VelLat1','VelLat2','VelLat3','VelLat4',\n",
    "'VelLat5','VelLat6','VelLat7','AccLgt1','AccLgt2','AccLgt3','AccLgt4',\n",
    "'AccLgt5','AccLgt6','AccLgt7','AccLat1','AccLat2','AccLat3','AccLat4',\n",
    "'AccLat5','AccLat6','AccLat7','Angle1','Angle2','Angle3','Angle4',\n",
    "'Angle5','Angle6','Angle7','Type1','Type2','Type3',\n",
    "'Type4','Type5','Type6','Type7','Id1','Id2','Id3','Id4','Id5','Id6','Id7','Lane1','Lane2','Lane3','Lane4','Lane5','Lane6','Lane7','PositionInLane1','PositionInLane2','PositionInLane3','PositionInLane4','PositionInLane5','PositionInLane6','PositionInLane7','Lead']])\n",
    "           "
   ]
  },
  {
   "cell_type": "markdown",
   "metadata": {},
   "source": [
    "# Train model"
   ]
  },
  {
   "cell_type": "code",
   "execution_count": 2,
   "metadata": {},
   "outputs": [],
   "source": [
    "# Set up a 'look back' dataset for sequence to label prediction with Keras.\n",
    "\n",
    "# The LSTM network expects the input data (X) to be provided with a specific\n",
    "# array structure in the form of: [samples, time steps, features].\n",
    "\n",
    "# create_dataset is adapted from\n",
    "# http://machinelearningmastery.com/time-series-prediction-lstm-recurrent-neural-networks-python-keras/\n",
    "\n",
    "def create_dataset(X, Y, **options):\n",
    "    \"\"\"Convert an array of X, Y values into a dataset matrix for and LSTM\"\"\"\n",
    "    \n",
    "    look_back = options.pop('look_back', None)\n",
    "    dataX, dataY = [], []\n",
    "    for i in range(len(X) - look_back):\n",
    "        a = X[i:(i+look_back)]\n",
    "        dataX.append(a)\n",
    "        dataY.append(Y[i + look_back - 1])\n",
    "    return np.array(dataX), np.array(dataY)\n",
    "\n",
    "# Predictions will be based on look_back minutes of data:\n",
    "look_back = 50"
   ]
  },
  {
   "cell_type": "markdown",
   "metadata": {},
   "source": [
    " 0,  1,  6,  8, 11, 12, 13, 24, 25, 26, 27, 32, 33, 38, 39, 40, 41,\n",
    "       45, 46, 47, 52, 53, 54, 59, 60, 61, 66, 67, 68, 74, 75, 81, 82, 87\n",
    "'Lat','Long','Lane','Velocity','PosLgt2','PosLgt3','PosLgt4','VelLgt1','VelLgt2','VelLgt3','VelLgt4','VelLat2','VelLat3','AccLgt1','AccLgt2','AccLgt3','AccLgt4','AccLat1','AccLat2','AccLat3','Angle1','Angle2','Angle3','Type1','Type2','Type3','Id1','Id2','Id3','Lane2','Lane3','PositionInLane2','PositionInLane3','Lead'\n",
    " "
   ]
  },
  {
   "cell_type": "code",
   "execution_count": 3,
   "metadata": {
    "scrolled": false
   },
   "outputs": [
    {
     "name": "stdout",
     "output_type": "stream",
     "text": [
      "0\n",
      "(97434, 28) (97434,)\n",
      "(97384, 50, 28) (97384,)\n",
      "1\n",
      "(46362, 28) (46362,)\n",
      "(46312, 50, 28) (46312,)\n",
      "2\n",
      "(56119, 28) (56119,)\n",
      "(56069, 50, 28) (56069,)\n",
      "3\n",
      "(107451, 28) (107451,)\n",
      "(107401, 50, 28) (107401,)\n",
      "4\n",
      "(54506, 28) (54506,)\n",
      "(54456, 50, 28) (54456,)\n",
      "5\n",
      "(56795, 28) (56795,)\n",
      "(56745, 50, 28) (56745,)\n",
      "6\n",
      "(54873, 28) (54873,)\n",
      "(54823, 50, 28) (54823,)\n",
      "7\n",
      "(95999, 28) (95999,)\n",
      "(95949, 50, 28) (95949,)\n",
      "8\n",
      "(93916, 28) (93916,)\n",
      "(93866, 50, 28) (93866,)\n",
      "9\n",
      "(67954, 28) (67954,)\n",
      "(67904, 50, 28) (67904,)\n"
     ]
    }
   ],
   "source": [
    "path = glob.glob('../TrafficNet/VolvoData/2019/*.csv')\n",
    "\n",
    "X_all = np.empty((1, 50, 28))\n",
    "Y_all = np.empty((1,))\n",
    "\n",
    "for i in range(10):\n",
    "    print(i)\n",
    "    \n",
    "    CutIn = pd.read_csv(path[i], usecols=['Lat','Long','Lane','Velocity','PosLgt2','PosLgt3','VelLgt1','VelLgt2','VelLgt3','VelLat3','AccLgt1','AccLgt2','AccLgt3','AccLat1','AccLat2','AccLat3','Angle1','Angle2','Angle3','Type1','Type2','Id1','Id2','Lane1','PositionInLane1','PositionInLane2','PositionInLane3','Lead','CutIn'])\n",
    "    CutIn.fillna(-1, inplace=True)\n",
    "    \n",
    "    Y_train = np.array(CutIn['CutIn'].values)\n",
    "    X_train = np.array(CutIn[['Lat','Long','Lane','Velocity','PosLgt2','PosLgt3','VelLgt1','VelLgt2','VelLgt3','VelLat3','AccLgt1','AccLgt2','AccLgt3','AccLat1','AccLat2','AccLat3','Angle1','Angle2','Angle3','Type1','Type2','Id1','Id2','Lane1','PositionInLane1','PositionInLane2','PositionInLane3','Lead']])\n",
    "    # Get dimensions of input and output\n",
    "    #dimof_output = int(np.max(Y_train) + 1)\n",
    "    dimof_output = 1\n",
    "    dimof_input = X_train.shape[1]\n",
    "\n",
    "    # Scale/whiten the X data\n",
    "    scaler = StandardScaler()\n",
    "    X_train = scaler.fit_transform(X_train)\n",
    "    #print(len(X_train))\n",
    "    print(X_train.shape, Y_train.shape)\n",
    "    \n",
    "    X, Y = create_dataset(X_train, Y_train, look_back=look_back)\n",
    "    print(X.shape, Y.shape)\n",
    "    \n",
    "    X_all = np.append(X_all, X, axis=0)\n",
    "    Y_all = np.append(Y_all, Y, axis=0)"
   ]
  },
  {
   "cell_type": "code",
   "execution_count": 4,
   "metadata": {},
   "outputs": [
    {
     "data": {
      "text/plain": [
       "730881"
      ]
     },
     "execution_count": 4,
     "metadata": {},
     "output_type": "execute_result"
    }
   ],
   "source": [
    "(len(X_all)//64)*64 + 1"
   ]
  },
  {
   "cell_type": "code",
   "execution_count": 5,
   "metadata": {},
   "outputs": [
    {
     "data": {
      "text/plain": [
       "Counter({0.0: 710772, 1.0: 20108})"
      ]
     },
     "execution_count": 5,
     "metadata": {},
     "output_type": "execute_result"
    }
   ],
   "source": [
    "X_all = X_all[1:730881]\n",
    "Y_all = Y_all[1:730881]\n",
    "\n",
    "collections.Counter(Y_all)"
   ]
  },
  {
   "cell_type": "code",
   "execution_count": 6,
   "metadata": {},
   "outputs": [
    {
     "data": {
      "text/plain": [
       "35.34772229958226"
      ]
     },
     "execution_count": 6,
     "metadata": {},
     "output_type": "execute_result"
    }
   ],
   "source": [
    "710772/20108"
   ]
  },
  {
   "cell_type": "code",
   "execution_count": 7,
   "metadata": {},
   "outputs": [],
   "source": [
    "# Create the LSTM network.\n",
    "batch_size = 32\n",
    "dropout = 0.5\n",
    "num_epoch = 100\n",
    "earlyStopping = EarlyStopping(monitor='val_loss', patience=0, verbose=0, mode='auto')\n",
    "weights = {0:1, 1:36}"
   ]
  },
  {
   "cell_type": "code",
   "execution_count": 6,
   "metadata": {},
   "outputs": [],
   "source": [
    "# Shared Feature Extraction Layer\n",
    "from keras.utils import plot_model\n",
    "from keras.models import Model\n",
    "from keras.layers import Input\n",
    "from keras.layers import Dense\n",
    "from keras.layers.recurrent import LSTM\n",
    "from keras.layers.merge import concatenate"
   ]
  },
  {
   "cell_type": "code",
   "execution_count": 9,
   "metadata": {},
   "outputs": [
    {
     "name": "stderr",
     "output_type": "stream",
     "text": [
      "/Users/jocelyn/opt/anaconda3/lib/python3.7/site-packages/ipykernel_launcher.py:26: UserWarning: The `nb_epoch` argument in `fit` has been renamed `epochs`.\n"
     ]
    },
    {
     "name": "stdout",
     "output_type": "stream",
     "text": [
      "Train on 305344 samples, validate on 305344 samples\n",
      "Epoch 1/100\n",
      "305344/305344 [==============================] - 1696s 6ms/step - loss: 0.6426 - accuracy: 0.8808 - val_loss: 2.6898 - val_accuracy: 0.7810\n",
      "Epoch 2/100\n",
      "305344/305344 [==============================] - 1757s 6ms/step - loss: 0.3904 - accuracy: 0.9128 - val_loss: 2.9066 - val_accuracy: 0.8027\n"
     ]
    },
    {
     "data": {
      "text/plain": [
       "<keras.callbacks.callbacks.History at 0x1a44bc2850>"
      ]
     },
     "execution_count": 9,
     "metadata": {},
     "output_type": "execute_result"
    }
   ],
   "source": [
    "def Functional1():\n",
    "    # define input\n",
    "    visible = Input(shape=(50,27))\n",
    "    # feature extraction\n",
    "    extract1 = LSTM(10)(visible)\n",
    "    # first interpretation model\n",
    "    interp1 = Dense(10, activation='relu')(extract1)\n",
    "    # second interpretation model\n",
    "    interp11 = Dense(10, activation='relu')(extract1)\n",
    "    interp12 = Dense(20, activation='relu')(interp11)\n",
    "    interp13 = Dense(10, activation='relu')(interp12)\n",
    "    # merge interpretation\n",
    "    merge = concatenate([interp1, interp13])\n",
    "    # output\n",
    "    output = Dense(1, activation='sigmoid')(merge)\n",
    "    model = Model(inputs=visible, outputs=output)\n",
    "    model.compile(loss='binary_crossentropy', optimizer='adam', metrics=['accuracy'])\n",
    "    return model\n",
    "\n",
    "Functional1 = Functional1()\n",
    "Functional1.fit(X_all, Y_all,\n",
    "    class_weight=weights,\n",
    "    validation_split=0.5,\n",
    "    callbacks=[earlyStopping],\n",
    "    shuffle=True,\n",
    "    nb_epoch=num_epoch, batch_size=batch_size, verbose=1)\n",
    "\n",
    "#_, accuracy = model.evaluate(X, trainY)\n",
    "#print('Accuracy: %.2f' % (accuracy*100))"
   ]
  },
  {
   "cell_type": "code",
   "execution_count": null,
   "metadata": {},
   "outputs": [],
   "source": [
    "# Multilayer Perceptron\n",
    "from keras.utils import plot_model\n",
    "from keras.models import Model\n",
    "from keras.layers import Input\n",
    "from keras.layers import Dense\n",
    "visible = Input(shape=(10,))\n",
    "hidden1 = Dense(10, activation='relu')(visible)\n",
    "hidden2 = Dense(20, activation='relu')(hidden1)\n",
    "hidden3 = Dense(10, activation='relu')(hidden2)\n",
    "output = Dense(1, activation='sigmoid')(hidden3)\n",
    "model = Model(inputs=visible, outputs=output)\n",
    "# summarize layers\n",
    "print(model.summary())\n",
    "# plot graph\n",
    "plot_model(model, to_file='multilayer_perceptron_graph.png')"
   ]
  },
  {
   "cell_type": "markdown",
   "metadata": {},
   "source": [
    "## 6.6 model_CutIn1 simplest"
   ]
  },
  {
   "cell_type": "code",
   "execution_count": 7,
   "metadata": {},
   "outputs": [
    {
     "name": "stderr",
     "output_type": "stream",
     "text": [
      "/Users/jocelyn/opt/anaconda3/lib/python3.7/site-packages/ipykernel_launcher.py:2: UserWarning: Update your `LSTM` call to the Keras 2 API: `LSTM(batch_input_shape=[32, 50, 2..., units=10)`\n",
      "  \n",
      "/Users/jocelyn/opt/anaconda3/lib/python3.7/site-packages/ipykernel_launcher.py:4: UserWarning: Update your `Dense` call to the Keras 2 API: `Dense(1, activation=\"sigmoid\", kernel_initializer=\"uniform\")`\n",
      "  after removing the cwd from sys.path.\n"
     ]
    },
    {
     "name": "stdout",
     "output_type": "stream",
     "text": [
      "WARNING:tensorflow:From /Users/jocelyn/opt/anaconda3/lib/python3.7/site-packages/tensorflow/python/ops/nn_impl.py:180: add_dispatch_support.<locals>.wrapper (from tensorflow.python.ops.array_ops) is deprecated and will be removed in a future version.\n",
      "Instructions for updating:\n",
      "Use tf.where in 2.0, which has the same broadcast rule as np.where\n"
     ]
    }
   ],
   "source": [
    "model_CutIn1 = Sequential()\n",
    "model_CutIn1.add(LSTM(output_dim=10, batch_input_shape=[batch_size, look_back, dimof_input]))\n",
    "model_CutIn1.add(Dropout(dropout))\n",
    "model_CutIn1.add(Dense(dimof_output, init='uniform', activation='sigmoid'))\n",
    "model_CutIn1.compile(loss='binary_crossentropy', optimizer='adam',metrics=['accuracy'])"
   ]
  },
  {
   "cell_type": "code",
   "execution_count": 8,
   "metadata": {},
   "outputs": [
    {
     "name": "stdout",
     "output_type": "stream",
     "text": [
      "Model: \"sequential_1\"\n",
      "_________________________________________________________________\n",
      "Layer (type)                 Output Shape              Param #   \n",
      "=================================================================\n",
      "lstm_1 (LSTM)                (32, 10)                  1560      \n",
      "_________________________________________________________________\n",
      "dropout_1 (Dropout)          (32, 10)                  0         \n",
      "_________________________________________________________________\n",
      "dense_1 (Dense)              (32, 1)                   11        \n",
      "=================================================================\n",
      "Total params: 1,571\n",
      "Trainable params: 1,571\n",
      "Non-trainable params: 0\n",
      "_________________________________________________________________\n"
     ]
    }
   ],
   "source": [
    "model_CutIn1.summary()"
   ]
  },
  {
   "cell_type": "code",
   "execution_count": 9,
   "metadata": {},
   "outputs": [
    {
     "name": "stderr",
     "output_type": "stream",
     "text": [
      "/Users/jocelyn/opt/anaconda3/lib/python3.7/site-packages/ipykernel_launcher.py:7: UserWarning: The `nb_epoch` argument in `fit` has been renamed `epochs`.\n",
      "  import sys\n"
     ]
    },
    {
     "name": "stdout",
     "output_type": "stream",
     "text": [
      "WARNING:tensorflow:From /Users/jocelyn/opt/anaconda3/lib/python3.7/site-packages/keras/backend/tensorflow_backend.py:422: The name tf.global_variables is deprecated. Please use tf.compat.v1.global_variables instead.\n",
      "\n",
      "Train on 416736 samples, validate on 416736 samples\n",
      "Epoch 1/100\n",
      "416736/416736 [==============================] - 2089s 5ms/step - loss: 1.0580 - accuracy: 0.6433 - val_loss: 1.1283 - val_accuracy: 0.6946\n",
      "Epoch 2/100\n",
      "416736/416736 [==============================] - 2191s 5ms/step - loss: 0.8653 - accuracy: 0.7526 - val_loss: 1.1695 - val_accuracy: 0.7512\n"
     ]
    }
   ],
   "source": [
    "history1 = model_CutIn1.fit(\n",
    "    X_all, Y_all,\n",
    "    class_weight=weights,\n",
    "    validation_split=0.5,\n",
    "    callbacks=[earlyStopping],\n",
    "    shuffle=True,\n",
    "    nb_epoch=num_epoch, batch_size=batch_size, verbose=1)"
   ]
  },
  {
   "cell_type": "code",
   "execution_count": 10,
   "metadata": {},
   "outputs": [
    {
     "data": {
      "text/plain": [
       "{'val_loss': [1.1283175639797023, 1.1694741968068647],\n",
       " 'val_accuracy': [0.6946364045143127, 0.751245379447937],\n",
       " 'loss': [1.0579656382866338, 0.8653319734019599],\n",
       " 'accuracy': [0.64328736, 0.75261074]}"
      ]
     },
     "execution_count": 10,
     "metadata": {},
     "output_type": "execute_result"
    }
   ],
   "source": [
    "history1.history"
   ]
  },
  {
   "cell_type": "code",
   "execution_count": 11,
   "metadata": {},
   "outputs": [
    {
     "data": {
      "image/png": "[encoded data removed]",
      "text/plain": [
       "<Figure size 432x288 with 1 Axes>"
      ]
     },
     "metadata": {
      "needs_background": "light"
     },
     "output_type": "display_data"
    }
   ],
   "source": [
    "# Plot history for training and validation loss.\n",
    "\n",
    "plt.plot(history1.history['accuracy'])\n",
    "plt.plot(history1.history['val_accuracy'])\n",
    "plt.title('2-layer LSTM model')\n",
    "plt.ylabel('accuracy')\n",
    "plt.xlabel('epoch')\n",
    "plt.legend(['Train', 'Validate'], loc='upper left')\n",
    "plt.show()"
   ]
  },
  {
   "cell_type": "code",
   "execution_count": 12,
   "metadata": {},
   "outputs": [
    {
     "data": {
      "image/png": "[encoded data removed]",
      "text/plain": [
       "<Figure size 432x288 with 1 Axes>"
      ]
     },
     "metadata": {
      "needs_background": "light"
     },
     "output_type": "display_data"
    }
   ],
   "source": [
    "# Plot history for training and validation loss.\n",
    "\n",
    "plt.plot(history1.history['loss'])\n",
    "plt.plot(history1.history['val_loss'])\n",
    "plt.title('2-layer LSTM model')\n",
    "plt.ylabel('loss')\n",
    "plt.xlabel('epoch')\n",
    "plt.legend(['Train', 'Validate'], loc='upper left')\n",
    "plt.show()"
   ]
  },
  {
   "cell_type": "markdown",
   "metadata": {},
   "source": [
    "## 2 hidden layers"
   ]
  },
  {
   "cell_type": "code",
   "execution_count": 13,
   "metadata": {},
   "outputs": [
    {
     "name": "stderr",
     "output_type": "stream",
     "text": [
      "/Users/jocelyn/opt/anaconda3/lib/python3.7/site-packages/ipykernel_launcher.py:2: UserWarning: Update your `LSTM` call to the Keras 2 API: `LSTM(batch_input_shape=[32, 50, 2..., units=10)`\n",
      "  \n",
      "/Users/jocelyn/opt/anaconda3/lib/python3.7/site-packages/ipykernel_launcher.py:6: UserWarning: Update your `Dense` call to the Keras 2 API: `Dense(1, activation=\"sigmoid\", kernel_initializer=\"uniform\")`\n",
      "  \n"
     ]
    }
   ],
   "source": [
    "model_CutIn2 = Sequential()\n",
    "model_CutIn2.add(LSTM(output_dim=10, batch_input_shape=[batch_size, look_back, dimof_input]))\n",
    "model_CutIn2.add(Dropout(dropout))\n",
    "model_CutIn2.add(Dense(30, activation='relu'))\n",
    "model_CutIn2.add(Dropout(dropout))\n",
    "model_CutIn2.add(Dense(dimof_output, init='uniform', activation='sigmoid'))\n",
    "model_CutIn2.compile(loss='binary_crossentropy', optimizer='adam',metrics=['accuracy'])"
   ]
  },
  {
   "cell_type": "code",
   "execution_count": 14,
   "metadata": {},
   "outputs": [],
   "source": [
    "from keras.utils import plot_model"
   ]
  },
  {
   "cell_type": "code",
   "execution_count": 15,
   "metadata": {},
   "outputs": [
    {
     "data": {
      "image/png": "[encoded data removed]",
      "text/plain": [
       "<IPython.core.display.Image object>"
      ]
     },
     "execution_count": 15,
     "metadata": {},
     "output_type": "execute_result"
    }
   ],
   "source": [
    "plot_model(model_CutIn2)"
   ]
  },
  {
   "cell_type": "code",
   "execution_count": 16,
   "metadata": {},
   "outputs": [
    {
     "name": "stderr",
     "output_type": "stream",
     "text": [
      "/Users/jocelyn/opt/anaconda3/lib/python3.7/site-packages/ipykernel_launcher.py:7: UserWarning: The `nb_epoch` argument in `fit` has been renamed `epochs`.\n",
      "  import sys\n"
     ]
    },
    {
     "name": "stdout",
     "output_type": "stream",
     "text": [
      "Train on 416736 samples, validate on 416736 samples\n",
      "Epoch 1/100\n",
      "416736/416736 [==============================] - 2262s 5ms/step - loss: 1.0263 - accuracy: 0.6332 - val_loss: 1.3415 - val_accuracy: 0.6243\n",
      "Epoch 2/100\n",
      "416736/416736 [==============================] - 2400s 6ms/step - loss: 0.8678 - accuracy: 0.7208 - val_loss: 1.4123 - val_accuracy: 0.7211\n"
     ]
    }
   ],
   "source": [
    "history2 = model_CutIn2.fit(\n",
    "    X_all, Y_all,\n",
    "    class_weight=weights,\n",
    "    validation_split=0.5,\n",
    "    callbacks=[earlyStopping],\n",
    "    shuffle=True,\n",
    "    nb_epoch=num_epoch, batch_size=batch_size, verbose=1)"
   ]
  },
  {
   "cell_type": "code",
   "execution_count": 17,
   "metadata": {},
   "outputs": [
    {
     "name": "stdout",
     "output_type": "stream",
     "text": [
      "Model: \"sequential_2\"\n",
      "_________________________________________________________________\n",
      "Layer (type)                 Output Shape              Param #   \n",
      "=================================================================\n",
      "lstm_2 (LSTM)                (32, 10)                  1880      \n",
      "_________________________________________________________________\n",
      "dropout_2 (Dropout)          (32, 10)                  0         \n",
      "_________________________________________________________________\n",
      "dense_2 (Dense)              (32, 30)                  330       \n",
      "_________________________________________________________________\n",
      "dropout_3 (Dropout)          (32, 30)                  0         \n",
      "_________________________________________________________________\n",
      "dense_3 (Dense)              (32, 1)                   31        \n",
      "=================================================================\n",
      "Total params: 2,241\n",
      "Trainable params: 2,241\n",
      "Non-trainable params: 0\n",
      "_________________________________________________________________\n"
     ]
    }
   ],
   "source": [
    "model_CutIn2.summary()"
   ]
  },
  {
   "cell_type": "code",
   "execution_count": 17,
   "metadata": {},
   "outputs": [
    {
     "data": {
      "image/png": "[encoded data removed]",
      "text/plain": [
       "<Figure size 432x288 with 1 Axes>"
      ]
     },
     "metadata": {
      "needs_background": "light"
     },
     "output_type": "display_data"
    }
   ],
   "source": [
    "# Plot history for training and validation loss.\n",
    "\n",
    "plt.plot(history2.history['accuracy'])\n",
    "plt.plot(history2.history['val_accuracy'])\n",
    "plt.title('3-layer LSTM model')\n",
    "plt.ylabel('accuracy')\n",
    "plt.xlabel('epoch')\n",
    "plt.legend(['Train', 'Validate'], loc='upper left')\n",
    "plt.show()"
   ]
  },
  {
   "cell_type": "code",
   "execution_count": 18,
   "metadata": {},
   "outputs": [
    {
     "data": {
      "image/png": "[encoded data removed]",
      "text/plain": [
       "<Figure size 432x288 with 1 Axes>"
      ]
     },
     "metadata": {
      "needs_background": "light"
     },
     "output_type": "display_data"
    }
   ],
   "source": [
    "# Plot history for training and validation loss.\n",
    "\n",
    "plt.plot(history2.history['loss'])\n",
    "plt.plot(history2.history['val_loss'])\n",
    "plt.title('3-layer LSTM model')\n",
    "plt.ylabel('loss')\n",
    "plt.xlabel('epoch')\n",
    "plt.legend(['Train', 'Validate'], loc='upper left')\n",
    "plt.show()"
   ]
  },
  {
   "cell_type": "code",
   "execution_count": 19,
   "metadata": {},
   "outputs": [
    {
     "data": {
      "text/plain": [
       "{'val_loss': [1.3414887844431824, 1.4123254835276862],\n",
       " 'val_accuracy': [0.624323308467865, 0.721123218536377],\n",
       " 'loss': [1.0263277976288459, 0.8678148636769051],\n",
       " 'accuracy': [0.63320905, 0.72079206]}"
      ]
     },
     "execution_count": 19,
     "metadata": {},
     "output_type": "execute_result"
    }
   ],
   "source": [
    "history2.history"
   ]
  },
  {
   "cell_type": "markdown",
   "metadata": {},
   "source": [
    "## Model 3"
   ]
  },
  {
   "cell_type": "code",
   "execution_count": 20,
   "metadata": {},
   "outputs": [
    {
     "name": "stderr",
     "output_type": "stream",
     "text": [
      "/Users/jocelyn/opt/anaconda3/lib/python3.7/site-packages/ipykernel_launcher.py:2: UserWarning: Update your `LSTM` call to the Keras 2 API: `LSTM(batch_input_shape=[32, 50, 2..., units=10)`\n",
      "  \n",
      "/Users/jocelyn/opt/anaconda3/lib/python3.7/site-packages/ipykernel_launcher.py:8: UserWarning: Update your `Dense` call to the Keras 2 API: `Dense(1, activation=\"sigmoid\", kernel_initializer=\"uniform\")`\n",
      "  \n"
     ]
    }
   ],
   "source": [
    "model_CutIn3 = Sequential()\n",
    "model_CutIn3.add(LSTM(output_dim=10, batch_input_shape=[batch_size, look_back, dimof_input]))\n",
    "model_CutIn3.add(Dropout(dropout))\n",
    "model_CutIn3.add(Dense(30, activation='relu'))\n",
    "model_CutIn3.add(Dropout(dropout))\n",
    "model_CutIn3.add(Dense(30, activation='relu'))\n",
    "model_CutIn3.add(Dropout(dropout))\n",
    "model_CutIn3.add(Dense(dimof_output, init='uniform', activation='sigmoid'))\n",
    "model_CutIn3.compile(loss='binary_crossentropy', optimizer='adam',metrics=['accuracy'])"
   ]
  },
  {
   "cell_type": "code",
   "execution_count": 22,
   "metadata": {},
   "outputs": [
    {
     "name": "stdout",
     "output_type": "stream",
     "text": [
      "Model: \"sequential_3\"\n",
      "_________________________________________________________________\n",
      "Layer (type)                 Output Shape              Param #   \n",
      "=================================================================\n",
      "lstm_3 (LSTM)                (32, 10)                  1880      \n",
      "_________________________________________________________________\n",
      "dropout_4 (Dropout)          (32, 10)                  0         \n",
      "_________________________________________________________________\n",
      "dense_4 (Dense)              (32, 30)                  330       \n",
      "_________________________________________________________________\n",
      "dropout_5 (Dropout)          (32, 30)                  0         \n",
      "_________________________________________________________________\n",
      "dense_5 (Dense)              (32, 30)                  930       \n",
      "_________________________________________________________________\n",
      "dropout_6 (Dropout)          (32, 30)                  0         \n",
      "_________________________________________________________________\n",
      "dense_6 (Dense)              (32, 1)                   31        \n",
      "=================================================================\n",
      "Total params: 3,171\n",
      "Trainable params: 3,171\n",
      "Non-trainable params: 0\n",
      "_________________________________________________________________\n"
     ]
    }
   ],
   "source": [
    "model_CutIn3.summary()"
   ]
  },
  {
   "cell_type": "code",
   "execution_count": 21,
   "metadata": {},
   "outputs": [
    {
     "name": "stderr",
     "output_type": "stream",
     "text": [
      "/Users/jocelyn/opt/anaconda3/lib/python3.7/site-packages/ipykernel_launcher.py:7: UserWarning: The `nb_epoch` argument in `fit` has been renamed `epochs`.\n",
      "  import sys\n"
     ]
    },
    {
     "name": "stdout",
     "output_type": "stream",
     "text": [
      "Train on 416736 samples, validate on 416736 samples\n",
      "Epoch 1/100\n",
      "416736/416736 [==============================] - 2572s 6ms/step - loss: 1.0635 - accuracy: 0.5925 - val_loss: 1.2135 - val_accuracy: 0.6697\n",
      "Epoch 2/100\n",
      "416736/416736 [==============================] - 2752s 7ms/step - loss: 0.9186 - accuracy: 0.6682 - val_loss: 1.3968 - val_accuracy: 0.6352\n"
     ]
    }
   ],
   "source": [
    "history3 = model_CutIn3.fit(\n",
    "    X_all, Y_all,\n",
    "    class_weight=weights,\n",
    "    validation_split=0.5,\n",
    "    callbacks=[earlyStopping],\n",
    "    shuffle=True,\n",
    "    nb_epoch=num_epoch, batch_size=batch_size, verbose=1)"
   ]
  },
  {
   "cell_type": "code",
   "execution_count": 22,
   "metadata": {},
   "outputs": [
    {
     "data": {
      "text/plain": [
       "{'val_loss': [1.213475360768301, 1.3968340861113488],\n",
       " 'val_accuracy': [0.6697261333465576, 0.6352319121360779],\n",
       " 'loss': [1.063486843444204, 0.9186048505665162],\n",
       " 'accuracy': [0.59247583, 0.66816884]}"
      ]
     },
     "execution_count": 22,
     "metadata": {},
     "output_type": "execute_result"
    }
   ],
   "source": [
    "history3.history"
   ]
  },
  {
   "cell_type": "code",
   "execution_count": 23,
   "metadata": {},
   "outputs": [
    {
     "data": {
      "image/png": "[encoded data removed]",
      "text/plain": [
       "<Figure size 432x288 with 1 Axes>"
      ]
     },
     "metadata": {
      "needs_background": "light"
     },
     "output_type": "display_data"
    }
   ],
   "source": [
    "# Plot history for training and validation loss.\n",
    "\n",
    "plt.plot(history3.history['accuracy'])\n",
    "plt.plot(history3.history['val_accuracy'])\n",
    "plt.title('4-layer LSTM model')\n",
    "plt.ylabel('accuracy')\n",
    "plt.xlabel('epoch')\n",
    "plt.legend(['Train', 'Validate'], loc='upper left')\n",
    "plt.show()"
   ]
  },
  {
   "cell_type": "code",
   "execution_count": 24,
   "metadata": {},
   "outputs": [
    {
     "data": {
      "image/png": "[encoded data removed]",
      "text/plain": [
       "<Figure size 432x288 with 1 Axes>"
      ]
     },
     "metadata": {
      "needs_background": "light"
     },
     "output_type": "display_data"
    }
   ],
   "source": [
    "# Plot history for training and validation loss.\n",
    "\n",
    "plt.plot(history3.history['loss'])\n",
    "plt.plot(history3.history['val_loss'])\n",
    "plt.title('4-layer LSTM model')\n",
    "plt.ylabel('loss')\n",
    "plt.xlabel('epoch')\n",
    "plt.legend(['Train', 'Validate'], loc='upper left')\n",
    "plt.show()"
   ]
  },
  {
   "cell_type": "markdown",
   "metadata": {},
   "source": [
    "## Model 4"
   ]
  },
  {
   "cell_type": "code",
   "execution_count": 6,
   "metadata": {},
   "outputs": [
    {
     "name": "stderr",
     "output_type": "stream",
     "text": [
      "/Users/jocelyn/opt/anaconda3/lib/python3.7/site-packages/ipykernel_launcher.py:2: UserWarning: Update your `LSTM` call to the Keras 2 API: `LSTM(batch_input_shape=[32, 50, 2..., units=10)`\n",
      "  \n"
     ]
    },
    {
     "name": "stdout",
     "output_type": "stream",
     "text": [
      "WARNING:tensorflow:From /Users/jocelyn/opt/anaconda3/lib/python3.7/site-packages/tensorflow/python/ops/nn_impl.py:180: add_dispatch_support.<locals>.wrapper (from tensorflow.python.ops.array_ops) is deprecated and will be removed in a future version.\n",
      "Instructions for updating:\n",
      "Use tf.where in 2.0, which has the same broadcast rule as np.where\n"
     ]
    },
    {
     "name": "stderr",
     "output_type": "stream",
     "text": [
      "/Users/jocelyn/opt/anaconda3/lib/python3.7/site-packages/ipykernel_launcher.py:10: UserWarning: Update your `Dense` call to the Keras 2 API: `Dense(1, activation=\"sigmoid\", kernel_initializer=\"uniform\")`\n",
      "  # Remove the CWD from sys.path while we load stuff.\n"
     ]
    }
   ],
   "source": [
    "model_CutIn4 = Sequential()\n",
    "model_CutIn4.add(LSTM(output_dim=10, batch_input_shape=[batch_size, look_back, dimof_input]))\n",
    "model_CutIn4.add(Dropout(dropout))\n",
    "model_CutIn4.add(Dense(30, activation='relu'))\n",
    "model_CutIn4.add(Dropout(dropout))\n",
    "model_CutIn4.add(Dense(30, activation='relu'))\n",
    "model_CutIn4.add(Dropout(dropout))\n",
    "model_CutIn4.add(Dense(10, activation='relu'))\n",
    "model_CutIn4.add(Dropout(dropout))\n",
    "model_CutIn4.add(Dense(dimof_output, init='uniform', activation='sigmoid'))\n",
    "model_CutIn4.compile(loss='binary_crossentropy', optimizer='adam',metrics=['accuracy'])"
   ]
  },
  {
   "cell_type": "code",
   "execution_count": 12,
   "metadata": {},
   "outputs": [
    {
     "name": "stdout",
     "output_type": "stream",
     "text": [
      "Model: \"sequential_2\"\n",
      "_________________________________________________________________\n",
      "Layer (type)                 Output Shape              Param #   \n",
      "=================================================================\n",
      "lstm_2 (LSTM)                (32, 10)                  1800      \n",
      "_________________________________________________________________\n",
      "dropout_4 (Dropout)          (32, 10)                  0         \n",
      "_________________________________________________________________\n",
      "dense_4 (Dense)              (32, 30)                  330       \n",
      "_________________________________________________________________\n",
      "dropout_5 (Dropout)          (32, 30)                  0         \n",
      "_________________________________________________________________\n",
      "dense_5 (Dense)              (32, 30)                  930       \n",
      "_________________________________________________________________\n",
      "dropout_6 (Dropout)          (32, 30)                  0         \n",
      "_________________________________________________________________\n",
      "dense_6 (Dense)              (32, 10)                  310       \n",
      "_________________________________________________________________\n",
      "dropout_7 (Dropout)          (32, 10)                  0         \n",
      "_________________________________________________________________\n",
      "dense_7 (Dense)              (32, 1)                   11        \n",
      "=================================================================\n",
      "Total params: 3,381\n",
      "Trainable params: 3,381\n",
      "Non-trainable params: 0\n",
      "_________________________________________________________________\n"
     ]
    }
   ],
   "source": [
    "model_CutIn4.summary()"
   ]
  },
  {
   "cell_type": "code",
   "execution_count": 7,
   "metadata": {},
   "outputs": [
    {
     "name": "stderr",
     "output_type": "stream",
     "text": [
      "/Users/jocelyn/opt/anaconda3/lib/python3.7/site-packages/ipykernel_launcher.py:7: UserWarning: The `nb_epoch` argument in `fit` has been renamed `epochs`.\n",
      "  import sys\n"
     ]
    },
    {
     "name": "stdout",
     "output_type": "stream",
     "text": [
      "WARNING:tensorflow:From /Users/jocelyn/opt/anaconda3/lib/python3.7/site-packages/keras/backend/tensorflow_backend.py:422: The name tf.global_variables is deprecated. Please use tf.compat.v1.global_variables instead.\n",
      "\n",
      "Train on 416736 samples, validate on 416736 samples\n",
      "Epoch 1/100\n",
      "416736/416736 [==============================] - 2083s 5ms/step - loss: 1.1477 - accuracy: 0.4759 - val_loss: 1.4311 - val_accuracy: 0.5908\n",
      "Epoch 2/100\n",
      "416736/416736 [==============================] - 2278s 5ms/step - loss: 1.0097 - accuracy: 0.5862 - val_loss: 1.1269 - val_accuracy: 0.4994\n",
      "Epoch 3/100\n",
      "416736/416736 [==============================] - 2337s 6ms/step - loss: 0.9351 - accuracy: 0.6415 - val_loss: 1.4466 - val_accuracy: 0.6082\n"
     ]
    }
   ],
   "source": [
    "history4 = model_CutIn4.fit(\n",
    "    X_all, Y_all,\n",
    "    class_weight=weights,\n",
    "    validation_split=0.5,\n",
    "    callbacks=[earlyStopping],\n",
    "    shuffle=True,\n",
    "    nb_epoch=num_epoch, batch_size=batch_size, verbose=1)"
   ]
  },
  {
   "cell_type": "code",
   "execution_count": 8,
   "metadata": {},
   "outputs": [
    {
     "data": {
      "text/plain": [
       "{'val_loss': [1.4310544289702156, 1.1268565436142521, 1.446616234381726],\n",
       " 'val_accuracy': [0.5907936692237854, 0.4993545114994049, 0.6082099676132202],\n",
       " 'loss': [1.1476993419685955, 1.009732874318732, 0.935132349542298],\n",
       " 'accuracy': [0.4758912, 0.58616245, 0.64147806]}"
      ]
     },
     "execution_count": 8,
     "metadata": {},
     "output_type": "execute_result"
    }
   ],
   "source": [
    "history4.history"
   ]
  },
  {
   "cell_type": "code",
   "execution_count": 9,
   "metadata": {},
   "outputs": [
    {
     "data": {
      "image/png": "[encoded data removed]",
      "text/plain": [
       "<Figure size 432x288 with 1 Axes>"
      ]
     },
     "metadata": {
      "needs_background": "light"
     },
     "output_type": "display_data"
    }
   ],
   "source": [
    "# Plot history for training and validation loss.\n",
    "\n",
    "plt.plot(history4.history['accuracy'])\n",
    "plt.plot(history4.history['val_accuracy'])\n",
    "plt.title('5-layer LSTM model')\n",
    "plt.ylabel('accuracy')\n",
    "plt.xlabel('epoch')\n",
    "plt.legend(['Train', 'Validate'], loc='upper left')\n",
    "plt.show()"
   ]
  },
  {
   "cell_type": "code",
   "execution_count": 10,
   "metadata": {},
   "outputs": [
    {
     "data": {
      "image/png": "[encoded data removed]",
      "text/plain": [
       "<Figure size 432x288 with 1 Axes>"
      ]
     },
     "metadata": {
      "needs_background": "light"
     },
     "output_type": "display_data"
    }
   ],
   "source": [
    "# Plot history for training and validation loss.\n",
    "\n",
    "plt.plot(history4.history['loss'])\n",
    "plt.plot(history4.history['val_loss'])\n",
    "plt.title('5-layer LSTM model')\n",
    "plt.ylabel('loss')\n",
    "plt.xlabel('epoch')\n",
    "plt.legend(['Train', 'Validate'], loc='upper left')\n",
    "plt.show()"
   ]
  },
  {
   "cell_type": "code",
   "execution_count": 11,
   "metadata": {},
   "outputs": [
    {
     "name": "stderr",
     "output_type": "stream",
     "text": [
      "/Users/jocelyn/opt/anaconda3/lib/python3.7/site-packages/ipykernel_launcher.py:2: UserWarning: Update your `LSTM` call to the Keras 2 API: `LSTM(batch_input_shape=[32, 50, 2..., units=20)`\n",
      "  \n",
      "/Users/jocelyn/opt/anaconda3/lib/python3.7/site-packages/ipykernel_launcher.py:6: UserWarning: Update your `Dense` call to the Keras 2 API: `Dense(1, activation=\"sigmoid\", kernel_initializer=\"uniform\")`\n",
      "  \n"
     ]
    }
   ],
   "source": [
    "model_CutIn5 = Sequential()\n",
    "model_CutIn5.add(LSTM(output_dim=20, batch_input_shape=[batch_size, look_back, dimof_input]))\n",
    "model_CutIn5.add(Dropout(dropout))\n",
    "model_CutIn5.add(Dense(40, activation='relu'))\n",
    "model_CutIn5.add(Dropout(dropout))\n",
    "model_CutIn5.add(Dense(dimof_output, init='uniform', activation='sigmoid'))\n",
    "model_CutIn5.compile(loss='binary_crossentropy', optimizer='adam',metrics=['accuracy'])"
   ]
  },
  {
   "cell_type": "code",
   "execution_count": 12,
   "metadata": {},
   "outputs": [
    {
     "name": "stdout",
     "output_type": "stream",
     "text": [
      "Model: \"sequential_2\"\n",
      "_________________________________________________________________\n",
      "Layer (type)                 Output Shape              Param #   \n",
      "=================================================================\n",
      "lstm_2 (LSTM)                (32, 20)                  3920      \n",
      "_________________________________________________________________\n",
      "dropout_5 (Dropout)          (32, 20)                  0         \n",
      "_________________________________________________________________\n",
      "dense_5 (Dense)              (32, 40)                  840       \n",
      "_________________________________________________________________\n",
      "dropout_6 (Dropout)          (32, 40)                  0         \n",
      "_________________________________________________________________\n",
      "dense_6 (Dense)              (32, 1)                   41        \n",
      "=================================================================\n",
      "Total params: 4,801\n",
      "Trainable params: 4,801\n",
      "Non-trainable params: 0\n",
      "_________________________________________________________________\n"
     ]
    }
   ],
   "source": [
    "model_CutIn5.summary()"
   ]
  },
  {
   "cell_type": "code",
   "execution_count": 13,
   "metadata": {},
   "outputs": [
    {
     "name": "stderr",
     "output_type": "stream",
     "text": [
      "/Users/jocelyn/opt/anaconda3/lib/python3.7/site-packages/ipykernel_launcher.py:7: UserWarning: The `nb_epoch` argument in `fit` has been renamed `epochs`.\n",
      "  import sys\n"
     ]
    },
    {
     "name": "stdout",
     "output_type": "stream",
     "text": [
      "Train on 416736 samples, validate on 416736 samples\n",
      "Epoch 1/100\n",
      "416736/416736 [==============================] - 2639s 6ms/step - loss: 0.9855 - accuracy: 0.6489 - val_loss: 1.2046 - val_accuracy: 0.6834\n",
      "Epoch 2/100\n",
      "416736/416736 [==============================] - 2705s 6ms/step - loss: 0.8107 - accuracy: 0.7464 - val_loss: 1.1477 - val_accuracy: 0.7347\n",
      "Epoch 3/100\n",
      "416736/416736 [==============================] - 2852s 7ms/step - loss: 0.6740 - accuracy: 0.8001 - val_loss: 1.3529 - val_accuracy: 0.7448\n"
     ]
    }
   ],
   "source": [
    "history5 = model_CutIn5.fit(\n",
    "    X_all, Y_all,\n",
    "    class_weight=weights,\n",
    "    validation_split=0.5,\n",
    "    callbacks=[earlyStopping],\n",
    "    shuffle=True,\n",
    "    nb_epoch=num_epoch, batch_size=batch_size, verbose=1)"
   ]
  },
  {
   "cell_type": "code",
   "execution_count": 14,
   "metadata": {},
   "outputs": [
    {
     "data": {
      "text/plain": [
       "{'val_loss': [1.204553354195314, 1.147679831241274, 1.3528506965511522],\n",
       " 'val_accuracy': [0.6833918690681458, 0.7347361445426941, 0.7447712421417236],\n",
       " 'loss': [0.9855492876669985, 0.8107066508323918, 0.6739673446376166],\n",
       " 'accuracy': [0.64887124, 0.7463766, 0.80011326]}"
      ]
     },
     "execution_count": 14,
     "metadata": {},
     "output_type": "execute_result"
    }
   ],
   "source": [
    "history5.history"
   ]
  },
  {
   "cell_type": "code",
   "execution_count": 17,
   "metadata": {},
   "outputs": [
    {
     "data": {
      "image/png": "[encoded data removed]",
      "text/plain": [
       "<Figure size 432x288 with 1 Axes>"
      ]
     },
     "metadata": {
      "needs_background": "light"
     },
     "output_type": "display_data"
    }
   ],
   "source": [
    "# Plot history for training and validation loss.\n",
    "\n",
    "plt.plot(history5.history['accuracy'])\n",
    "plt.plot(history5.history['val_accuracy'])\n",
    "plt.title('3-layer LSTM model with more nodes')\n",
    "plt.ylabel('accuracy')\n",
    "plt.xlabel('epoch')\n",
    "plt.legend(['Train', 'Validate'], loc='upper left')\n",
    "plt.show()"
   ]
  },
  {
   "cell_type": "code",
   "execution_count": 16,
   "metadata": {},
   "outputs": [
    {
     "data": {
      "image/png": "[encoded data removed]",
      "text/plain": [
       "<Figure size 432x288 with 1 Axes>"
      ]
     },
     "metadata": {
      "needs_background": "light"
     },
     "output_type": "display_data"
    }
   ],
   "source": [
    "# Plot history for training and validation loss.\n",
    "\n",
    "plt.plot(history5.history['loss'])\n",
    "plt.plot(history5.history['val_loss'])\n",
    "plt.title('3-layer LSTM model with more nodes')\n",
    "plt.ylabel('loss')\n",
    "plt.xlabel('epoch')\n",
    "plt.legend(['Train', 'Validate'], loc='upper left')\n",
    "plt.show()"
   ]
  },
  {
   "cell_type": "code",
   "execution_count": 7,
   "metadata": {},
   "outputs": [
    {
     "name": "stderr",
     "output_type": "stream",
     "text": [
      "/Users/jocelyn/opt/anaconda3/lib/python3.7/site-packages/ipykernel_launcher.py:2: UserWarning: Update your `LSTM` call to the Keras 2 API: `LSTM(batch_input_shape=[32, 50, 2..., units=30)`\n",
      "  \n"
     ]
    },
    {
     "name": "stdout",
     "output_type": "stream",
     "text": [
      "WARNING:tensorflow:From /Users/jocelyn/opt/anaconda3/lib/python3.7/site-packages/tensorflow/python/ops/nn_impl.py:180: add_dispatch_support.<locals>.wrapper (from tensorflow.python.ops.array_ops) is deprecated and will be removed in a future version.\n",
      "Instructions for updating:\n",
      "Use tf.where in 2.0, which has the same broadcast rule as np.where\n"
     ]
    },
    {
     "name": "stderr",
     "output_type": "stream",
     "text": [
      "/Users/jocelyn/opt/anaconda3/lib/python3.7/site-packages/ipykernel_launcher.py:6: UserWarning: Update your `Dense` call to the Keras 2 API: `Dense(1, activation=\"sigmoid\", kernel_initializer=\"uniform\")`\n",
      "  \n"
     ]
    }
   ],
   "source": [
    "model_CutIn6 = Sequential()\n",
    "model_CutIn6.add(LSTM(output_dim=30, batch_input_shape=[batch_size, look_back, dimof_input]))\n",
    "model_CutIn6.add(Dropout(dropout))\n",
    "model_CutIn6.add(Dense(50, activation='relu'))\n",
    "model_CutIn6.add(Dropout(dropout))\n",
    "model_CutIn6.add(Dense(dimof_output, init='uniform', activation='sigmoid'))\n",
    "model_CutIn6.compile(loss='binary_crossentropy', optimizer='adam',metrics=['accuracy'])"
   ]
  },
  {
   "cell_type": "code",
   "execution_count": 8,
   "metadata": {},
   "outputs": [
    {
     "name": "stderr",
     "output_type": "stream",
     "text": [
      "/Users/jocelyn/opt/anaconda3/lib/python3.7/site-packages/ipykernel_launcher.py:7: UserWarning: The `nb_epoch` argument in `fit` has been renamed `epochs`.\n",
      "  import sys\n"
     ]
    },
    {
     "name": "stdout",
     "output_type": "stream",
     "text": [
      "WARNING:tensorflow:From /Users/jocelyn/opt/anaconda3/lib/python3.7/site-packages/keras/backend/tensorflow_backend.py:422: The name tf.global_variables is deprecated. Please use tf.compat.v1.global_variables instead.\n",
      "\n",
      "Train on 416736 samples, validate on 416736 samples\n",
      "Epoch 1/100\n",
      "416736/416736 [==============================] - 2376s 6ms/step - loss: 0.8940 - accuracy: 0.7027 - val_loss: 1.3323 - val_accuracy: 0.7240\n",
      "Epoch 2/100\n",
      "416736/416736 [==============================] - 2626s 6ms/step - loss: 0.6454 - accuracy: 0.8107 - val_loss: 1.6488 - val_accuracy: 0.7575\n"
     ]
    }
   ],
   "source": [
    "history6 = model_CutIn6.fit(\n",
    "    X_all, Y_all,\n",
    "    class_weight=weights,\n",
    "    validation_split=0.5,\n",
    "    callbacks=[earlyStopping],\n",
    "    shuffle=True,\n",
    "    nb_epoch=num_epoch, batch_size=batch_size, verbose=1)"
   ]
  },
  {
   "cell_type": "code",
   "execution_count": 22,
   "metadata": {},
   "outputs": [
    {
     "name": "stdout",
     "output_type": "stream",
     "text": [
      "Model: \"sequential_3\"\n",
      "_________________________________________________________________\n",
      "Layer (type)                 Output Shape              Param #   \n",
      "=================================================================\n",
      "lstm_3 (LSTM)                (32, 30)                  7080      \n",
      "_________________________________________________________________\n",
      "dropout_7 (Dropout)          (32, 30)                  0         \n",
      "_________________________________________________________________\n",
      "dense_7 (Dense)              (32, 50)                  1550      \n",
      "_________________________________________________________________\n",
      "dropout_8 (Dropout)          (32, 50)                  0         \n",
      "_________________________________________________________________\n",
      "dense_8 (Dense)              (32, 1)                   51        \n",
      "=================================================================\n",
      "Total params: 8,681\n",
      "Trainable params: 8,681\n",
      "Non-trainable params: 0\n",
      "_________________________________________________________________\n"
     ]
    }
   ],
   "source": [
    "model_CutIn6.summary()"
   ]
  },
  {
   "cell_type": "code",
   "execution_count": 9,
   "metadata": {},
   "outputs": [
    {
     "data": {
      "image/png": "[encoded data removed]",
      "text/plain": [
       "<Figure size 432x288 with 1 Axes>"
      ]
     },
     "metadata": {
      "needs_background": "light"
     },
     "output_type": "display_data"
    }
   ],
   "source": [
    "# Plot history for training and validation loss.\n",
    "\n",
    "plt.plot(history6.history['accuracy'])\n",
    "plt.plot(history6.history['val_accuracy'])\n",
    "plt.title('3-layer LSTM model with more nodes')\n",
    "plt.ylabel('accuracy')\n",
    "plt.xlabel('epoch')\n",
    "plt.legend(['Train', 'Validate'], loc='upper left')\n",
    "plt.show()"
   ]
  },
  {
   "cell_type": "code",
   "execution_count": 10,
   "metadata": {},
   "outputs": [
    {
     "data": {
      "image/png": "[encoded data removed]",
      "text/plain": [
       "<Figure size 432x288 with 1 Axes>"
      ]
     },
     "metadata": {
      "needs_background": "light"
     },
     "output_type": "display_data"
    }
   ],
   "source": [
    "# Plot history for training and validation loss.\n",
    "\n",
    "plt.plot(history6.history['loss'])\n",
    "plt.plot(history6.history['val_loss'])\n",
    "plt.title('3-layer LSTM model with more nodes')\n",
    "plt.ylabel('loss')\n",
    "plt.xlabel('epoch')\n",
    "plt.legend(['Train', 'Validate'], loc='upper left')\n",
    "plt.show()"
   ]
  },
  {
   "cell_type": "code",
   "execution_count": 15,
   "metadata": {},
   "outputs": [
    {
     "name": "stderr",
     "output_type": "stream",
     "text": [
      "/Users/jocelyn/opt/anaconda3/lib/python3.7/site-packages/ipykernel_launcher.py:2: UserWarning: Update your `LSTM` call to the Keras 2 API: `LSTM(batch_input_shape=[32, 50, 2..., units=40)`\n",
      "  \n",
      "/Users/jocelyn/opt/anaconda3/lib/python3.7/site-packages/ipykernel_launcher.py:6: UserWarning: Update your `Dense` call to the Keras 2 API: `Dense(1, activation=\"sigmoid\", kernel_initializer=\"uniform\")`\n",
      "  \n"
     ]
    }
   ],
   "source": [
    "model_CutIn7 = Sequential()\n",
    "model_CutIn7.add(LSTM(output_dim=40, batch_input_shape=[batch_size, look_back, dimof_input]))\n",
    "model_CutIn7.add(Dropout(dropout))\n",
    "model_CutIn7.add(Dense(60, activation='relu'))\n",
    "model_CutIn7.add(Dropout(dropout))\n",
    "model_CutIn7.add(Dense(dimof_output, init='uniform', activation='sigmoid'))\n",
    "model_CutIn7.compile(loss='binary_crossentropy', optimizer='adam',metrics=['accuracy'])"
   ]
  },
  {
   "cell_type": "code",
   "execution_count": 16,
   "metadata": {},
   "outputs": [
    {
     "name": "stdout",
     "output_type": "stream",
     "text": [
      "Model: \"sequential_3\"\n",
      "_________________________________________________________________\n",
      "Layer (type)                 Output Shape              Param #   \n",
      "=================================================================\n",
      "lstm_2 (LSTM)                (32, 40)                  11040     \n",
      "_________________________________________________________________\n",
      "dropout_3 (Dropout)          (32, 40)                  0         \n",
      "_________________________________________________________________\n",
      "dense_3 (Dense)              (32, 60)                  2460      \n",
      "_________________________________________________________________\n",
      "dropout_4 (Dropout)          (32, 60)                  0         \n",
      "_________________________________________________________________\n",
      "dense_4 (Dense)              (32, 1)                   61        \n",
      "=================================================================\n",
      "Total params: 13,561\n",
      "Trainable params: 13,561\n",
      "Non-trainable params: 0\n",
      "_________________________________________________________________\n"
     ]
    }
   ],
   "source": [
    "model_CutIn7.summary()"
   ]
  },
  {
   "cell_type": "code",
   "execution_count": 17,
   "metadata": {},
   "outputs": [
    {
     "name": "stderr",
     "output_type": "stream",
     "text": [
      "/Users/jocelyn/opt/anaconda3/lib/python3.7/site-packages/ipykernel_launcher.py:7: UserWarning: The `nb_epoch` argument in `fit` has been renamed `epochs`.\n",
      "  import sys\n"
     ]
    },
    {
     "name": "stdout",
     "output_type": "stream",
     "text": [
      "Train on 416736 samples, validate on 416736 samples\n",
      "Epoch 1/100\n",
      "416736/416736 [==============================] - 2753s 7ms/step - loss: 0.8620 - accuracy: 0.7154 - val_loss: 1.4487 - val_accuracy: 0.7304\n",
      "Epoch 2/100\n",
      "416736/416736 [==============================] - 2826s 7ms/step - loss: 0.6127 - accuracy: 0.8152 - val_loss: 1.5776 - val_accuracy: 0.7394\n"
     ]
    }
   ],
   "source": [
    "history7 = model_CutIn7.fit(\n",
    "    X_all, Y_all,\n",
    "    class_weight=weights,\n",
    "    validation_split=0.5,\n",
    "    callbacks=[earlyStopping],\n",
    "    shuffle=True,\n",
    "    nb_epoch=num_epoch, batch_size=batch_size, verbose=1)"
   ]
  },
  {
   "cell_type": "code",
   "execution_count": 18,
   "metadata": {},
   "outputs": [
    {
     "data": {
      "image/png": "[encoded data removed]",
      "text/plain": [
       "<Figure size 432x288 with 1 Axes>"
      ]
     },
     "metadata": {
      "needs_background": "light"
     },
     "output_type": "display_data"
    }
   ],
   "source": [
    "# Plot history for training and validation loss.\n",
    "\n",
    "plt.plot(history7.history['accuracy'])\n",
    "plt.plot(history7.history['val_accuracy'])\n",
    "plt.title('3-layer LSTM model with more nodes')\n",
    "plt.ylabel('accuracy')\n",
    "plt.xlabel('epoch')\n",
    "plt.legend(['Train', 'Validate'], loc='upper left')\n",
    "plt.show()"
   ]
  },
  {
   "cell_type": "code",
   "execution_count": 19,
   "metadata": {},
   "outputs": [
    {
     "data": {
      "image/png": "[encoded data removed]",
      "text/plain": [
       "<Figure size 432x288 with 1 Axes>"
      ]
     },
     "metadata": {
      "needs_background": "light"
     },
     "output_type": "display_data"
    }
   ],
   "source": [
    "# Plot history for training and validation loss.\n",
    "\n",
    "plt.plot(history7.history['loss'])\n",
    "plt.plot(history7.history['val_loss'])\n",
    "plt.title('3-layer LSTM model with more nodes')\n",
    "plt.ylabel('loss')\n",
    "plt.xlabel('epoch')\n",
    "plt.legend(['Train', 'Validate'], loc='upper left')\n",
    "plt.show()"
   ]
  },
  {
   "cell_type": "code",
   "execution_count": null,
   "metadata": {},
   "outputs": [],
   "source": [
    "# Plot history for training and validation loss.\n",
    "\n",
    "plt.plot(history1.history['accuracy'])\n",
    "plt.plot(history2.history['accuracy'])\n",
    "plt.plot(history3.history['accuracy'])\n",
    "plt.plot(history4.history['accuracy'])\n",
    "plt.plot(history5.history['accuracy'])\n",
    "plt.plot(history6.history['accuracy'])\n",
    "plt.plot(history7.history['accuracy'])\n",
    "plt.title('model accuracy with replacing missing data')\n",
    "plt.ylabel('accuracy')\n",
    "plt.xlabel('epoch')\n",
    "plt.legend(['Train', 'Validate'], loc='upper left')\n",
    "plt.show()"
   ]
  },
  {
   "cell_type": "code",
   "execution_count": null,
   "metadata": {},
   "outputs": [],
   "source": [
    "# Plot history for training and validation loss.\n",
    "\n",
    "plt.plot(history1.history['val_accuracy'])\n",
    "plt.plot(history2.history['val_accuracy'])\n",
    "plt.plot(history3.history['val_accuracy'])\n",
    "plt.plot(history4.history['val_accuracy'])\n",
    "plt.plot(history5.history['val_accuracy'])\n",
    "plt.plot(history6.history['val_accuracy'])\n",
    "plt.plot(history7.history['val_accuracy'])\n",
    "plt.title('model accuracy with replacing missing data')\n",
    "plt.ylabel('accuracy')\n",
    "plt.xlabel('epoch')\n",
    "plt.legend(['Train', 'Validate'], loc='upper left')\n",
    "plt.show()"
   ]
  },
  {
   "cell_type": "code",
   "execution_count": 8,
   "metadata": {},
   "outputs": [
    {
     "name": "stderr",
     "output_type": "stream",
     "text": [
      "/Users/jocelyn/opt/anaconda3/lib/python3.7/site-packages/ipykernel_launcher.py:2: UserWarning: Update your `LSTM` call to the Keras 2 API: `LSTM(batch_input_shape=[32, 50, 2..., units=30)`\n",
      "  \n",
      "/Users/jocelyn/opt/anaconda3/lib/python3.7/site-packages/ipykernel_launcher.py:4: UserWarning: Update your `Dense` call to the Keras 2 API: `Dense(1, activation=\"sigmoid\", kernel_initializer=\"uniform\")`\n",
      "  after removing the cwd from sys.path.\n"
     ]
    },
    {
     "name": "stdout",
     "output_type": "stream",
     "text": [
      "WARNING:tensorflow:From /Users/jocelyn/opt/anaconda3/lib/python3.7/site-packages/tensorflow/python/ops/nn_impl.py:180: add_dispatch_support.<locals>.wrapper (from tensorflow.python.ops.array_ops) is deprecated and will be removed in a future version.\n",
      "Instructions for updating:\n",
      "Use tf.where in 2.0, which has the same broadcast rule as np.where\n"
     ]
    }
   ],
   "source": [
    "model_CutIn8 = Sequential()\n",
    "model_CutIn8.add(LSTM(output_dim=30, batch_input_shape=[batch_size, look_back, dimof_input]))\n",
    "model_CutIn8.add(Dropout(dropout))\n",
    "model_CutIn8.add(Dense(dimof_output, init='uniform', activation='sigmoid'))\n",
    "model_CutIn8.compile(loss='binary_crossentropy', optimizer='adam',metrics=['accuracy'])"
   ]
  },
  {
   "cell_type": "code",
   "execution_count": 9,
   "metadata": {},
   "outputs": [
    {
     "name": "stdout",
     "output_type": "stream",
     "text": [
      "Model: \"sequential_1\"\n",
      "_________________________________________________________________\n",
      "Layer (type)                 Output Shape              Param #   \n",
      "=================================================================\n",
      "lstm_1 (LSTM)                (32, 30)                  7080      \n",
      "_________________________________________________________________\n",
      "dropout_1 (Dropout)          (32, 30)                  0         \n",
      "_________________________________________________________________\n",
      "dense_1 (Dense)              (32, 1)                   31        \n",
      "=================================================================\n",
      "Total params: 7,111\n",
      "Trainable params: 7,111\n",
      "Non-trainable params: 0\n",
      "_________________________________________________________________\n"
     ]
    }
   ],
   "source": [
    "model_CutIn8.summary()"
   ]
  },
  {
   "cell_type": "code",
   "execution_count": 10,
   "metadata": {},
   "outputs": [
    {
     "name": "stderr",
     "output_type": "stream",
     "text": [
      "/Users/jocelyn/opt/anaconda3/lib/python3.7/site-packages/ipykernel_launcher.py:7: UserWarning: The `nb_epoch` argument in `fit` has been renamed `epochs`.\n",
      "  import sys\n"
     ]
    },
    {
     "name": "stdout",
     "output_type": "stream",
     "text": [
      "WARNING:tensorflow:From /Users/jocelyn/opt/anaconda3/lib/python3.7/site-packages/keras/backend/tensorflow_backend.py:422: The name tf.global_variables is deprecated. Please use tf.compat.v1.global_variables instead.\n",
      "\n",
      "Train on 365440 samples, validate on 365440 samples\n",
      "Epoch 1/100\n",
      "365440/365440 [==============================] - 1866s 5ms/step - loss: 0.8602 - accuracy: 0.7375 - val_loss: 1.1869 - val_accuracy: 0.7936\n",
      "Epoch 2/100\n",
      "365440/365440 [==============================] - 1998s 5ms/step - loss: 0.6123 - accuracy: 0.8365 - val_loss: 1.3628 - val_accuracy: 0.8014\n"
     ]
    }
   ],
   "source": [
    "history8 = model_CutIn8.fit(\n",
    "    X_all, Y_all,\n",
    "    class_weight=weights,\n",
    "    validation_split=0.5,\n",
    "    callbacks=[earlyStopping],\n",
    "    shuffle=True,\n",
    "    nb_epoch=num_epoch, batch_size=batch_size, verbose=1)"
   ]
  },
  {
   "cell_type": "code",
   "execution_count": 11,
   "metadata": {},
   "outputs": [
    {
     "data": {
      "image/png": "[encoded data removed]",
      "text/plain": [
       "<Figure size 432x288 with 1 Axes>"
      ]
     },
     "metadata": {
      "needs_background": "light"
     },
     "output_type": "display_data"
    }
   ],
   "source": [
    "# Plot history for training and validation loss.\n",
    "\n",
    "plt.plot(history8.history['accuracy'])\n",
    "plt.plot(history8.history['val_accuracy'])\n",
    "plt.title('2-layer LSTM model with more nodes')\n",
    "plt.ylabel('accuracy')\n",
    "plt.xlabel('epoch')\n",
    "plt.legend(['Train', 'Validate'], loc='upper left')\n",
    "plt.show()"
   ]
  },
  {
   "cell_type": "code",
   "execution_count": 12,
   "metadata": {},
   "outputs": [
    {
     "data": {
      "image/png": "[encoded data removed]",
      "text/plain": [
       "<Figure size 432x288 with 1 Axes>"
      ]
     },
     "metadata": {
      "needs_background": "light"
     },
     "output_type": "display_data"
    }
   ],
   "source": [
    "# Plot history for training and validation loss.\n",
    "\n",
    "plt.plot(history8.history['loss'])\n",
    "plt.plot(history8.history['val_loss'])\n",
    "plt.title('2-layer LSTM model with more nodes')\n",
    "plt.ylabel('loss')\n",
    "plt.xlabel('epoch')\n",
    "plt.legend(['Train', 'Validate'], loc='upper left')\n",
    "plt.show()"
   ]
  },
  {
   "cell_type": "code",
   "execution_count": 15,
   "metadata": {},
   "outputs": [
    {
     "name": "stderr",
     "output_type": "stream",
     "text": [
      "/Users/jocelyn/opt/anaconda3/lib/python3.7/site-packages/ipykernel_launcher.py:2: UserWarning: Update your `LSTM` call to the Keras 2 API: `LSTM(batch_input_shape=[32, 50, 2..., units=50)`\n",
      "  \n",
      "/Users/jocelyn/opt/anaconda3/lib/python3.7/site-packages/ipykernel_launcher.py:4: UserWarning: Update your `Dense` call to the Keras 2 API: `Dense(1, activation=\"sigmoid\", kernel_initializer=\"uniform\")`\n",
      "  after removing the cwd from sys.path.\n"
     ]
    }
   ],
   "source": [
    "model_CutIn9 = Sequential()\n",
    "model_CutIn9.add(LSTM(output_dim=50, batch_input_shape=[batch_size, look_back, dimof_input]))\n",
    "model_CutIn9.add(Dropout(dropout))\n",
    "model_CutIn9.add(Dense(dimof_output, init='uniform', activation='sigmoid'))\n",
    "model_CutIn9.compile(loss='binary_crossentropy', optimizer='adam',metrics=['accuracy'])"
   ]
  },
  {
   "cell_type": "code",
   "execution_count": 16,
   "metadata": {},
   "outputs": [
    {
     "name": "stderr",
     "output_type": "stream",
     "text": [
      "/Users/jocelyn/opt/anaconda3/lib/python3.7/site-packages/ipykernel_launcher.py:7: UserWarning: The `nb_epoch` argument in `fit` has been renamed `epochs`.\n",
      "  import sys\n"
     ]
    },
    {
     "name": "stdout",
     "output_type": "stream",
     "text": [
      "Train on 365440 samples, validate on 365440 samples\n",
      "Epoch 1/100\n",
      "365440/365440 [==============================] - 2247s 6ms/step - loss: 0.8635 - accuracy: 0.7347 - val_loss: 1.0711 - val_accuracy: 0.7812\n",
      "Epoch 2/100\n",
      "365440/365440 [==============================] - 2241s 6ms/step - loss: 0.6035 - accuracy: 0.8323 - val_loss: 1.3069 - val_accuracy: 0.8154\n"
     ]
    }
   ],
   "source": [
    "history9 = model_CutIn9.fit(\n",
    "    X_all, Y_all,\n",
    "    class_weight=weights,\n",
    "    validation_split=0.5,\n",
    "    callbacks=[earlyStopping],\n",
    "    shuffle=True,\n",
    "    nb_epoch=num_epoch, batch_size=batch_size, verbose=1)"
   ]
  },
  {
   "cell_type": "code",
   "execution_count": 17,
   "metadata": {},
   "outputs": [
    {
     "data": {
      "image/png": "[encoded data removed]",
      "text/plain": [
       "<Figure size 432x288 with 1 Axes>"
      ]
     },
     "metadata": {
      "needs_background": "light"
     },
     "output_type": "display_data"
    }
   ],
   "source": [
    "# Plot history for training and validation loss.\n",
    "\n",
    "plt.plot(history9.history['accuracy'])\n",
    "plt.plot(history9.history['val_accuracy'])\n",
    "plt.title('2-layer LSTM model with more nodes')\n",
    "plt.ylabel('accuracy')\n",
    "plt.xlabel('epoch')\n",
    "plt.legend(['Train', 'Validate'], loc='upper left')\n",
    "plt.show()"
   ]
  },
  {
   "cell_type": "code",
   "execution_count": 18,
   "metadata": {},
   "outputs": [
    {
     "data": {
      "image/png": "[encoded data removed]",
      "text/plain": [
       "<Figure size 432x288 with 1 Axes>"
      ]
     },
     "metadata": {
      "needs_background": "light"
     },
     "output_type": "display_data"
    }
   ],
   "source": [
    "# Plot history for training and validation loss.\n",
    "\n",
    "plt.plot(history9.history['loss'])\n",
    "plt.plot(history9.history['val_loss'])\n",
    "plt.title('2-layer LSTM model with more nodes')\n",
    "plt.ylabel('loss')\n",
    "plt.xlabel('epoch')\n",
    "plt.legend(['Train', 'Validate'], loc='upper left')\n",
    "plt.show()"
   ]
  },
  {
   "cell_type": "code",
   "execution_count": 21,
   "metadata": {},
   "outputs": [
    {
     "name": "stderr",
     "output_type": "stream",
     "text": [
      "/Users/jocelyn/opt/anaconda3/lib/python3.7/site-packages/ipykernel_launcher.py:2: UserWarning: Update your `LSTM` call to the Keras 2 API: `LSTM(batch_input_shape=[32, 50, 2..., units=60)`\n",
      "  \n",
      "/Users/jocelyn/opt/anaconda3/lib/python3.7/site-packages/ipykernel_launcher.py:4: UserWarning: Update your `Dense` call to the Keras 2 API: `Dense(1, activation=\"sigmoid\", kernel_initializer=\"uniform\")`\n",
      "  after removing the cwd from sys.path.\n"
     ]
    }
   ],
   "source": [
    "model_CutIn10 = Sequential()\n",
    "model_CutIn10.add(LSTM(output_dim=60, batch_input_shape=[batch_size, look_back, dimof_input]))\n",
    "model_CutIn10.add(Dropout(dropout))\n",
    "model_CutIn10.add(Dense(dimof_output, init='uniform', activation='sigmoid'))\n",
    "model_CutIn10.compile(loss='binary_crossentropy', optimizer='adam',metrics=['accuracy'])"
   ]
  },
  {
   "cell_type": "code",
   "execution_count": 22,
   "metadata": {},
   "outputs": [
    {
     "name": "stderr",
     "output_type": "stream",
     "text": [
      "/Users/jocelyn/opt/anaconda3/lib/python3.7/site-packages/ipykernel_launcher.py:7: UserWarning: The `nb_epoch` argument in `fit` has been renamed `epochs`.\n",
      "  import sys\n"
     ]
    },
    {
     "name": "stdout",
     "output_type": "stream",
     "text": [
      "Train on 365440 samples, validate on 365440 samples\n",
      "Epoch 1/100\n",
      "365440/365440 [==============================] - 2479s 7ms/step - loss: 0.8445 - accuracy: 0.7436 - val_loss: 1.2839 - val_accuracy: 0.7675\n",
      "Epoch 2/100\n",
      "365440/365440 [==============================] - 2560s 7ms/step - loss: 0.5970 - accuracy: 0.8375 - val_loss: 1.3256 - val_accuracy: 0.8003\n"
     ]
    }
   ],
   "source": [
    "history10 = model_CutIn10.fit(\n",
    "    X_all, Y_all,\n",
    "    class_weight=weights,\n",
    "    validation_split=0.5,\n",
    "    callbacks=[earlyStopping],\n",
    "    shuffle=True,\n",
    "    nb_epoch=num_epoch, batch_size=batch_size, verbose=1)"
   ]
  },
  {
   "cell_type": "code",
   "execution_count": 23,
   "metadata": {},
   "outputs": [
    {
     "data": {
      "image/png": "[encoded data removed]",
      "text/plain": [
       "<Figure size 432x288 with 1 Axes>"
      ]
     },
     "metadata": {
      "needs_background": "light"
     },
     "output_type": "display_data"
    }
   ],
   "source": [
    "# Plot history for training and validation loss.\n",
    "\n",
    "plt.plot(history10.history['accuracy'])\n",
    "plt.plot(history10.history['val_accuracy'])\n",
    "plt.title('2-layer LSTM model with more nodes')\n",
    "plt.ylabel('accuracy')\n",
    "plt.xlabel('epoch')\n",
    "plt.legend(['Train', 'Validate'], loc='upper left')\n",
    "plt.show()"
   ]
  },
  {
   "cell_type": "code",
   "execution_count": 24,
   "metadata": {},
   "outputs": [
    {
     "data": {
      "image/png": "[encoded data removed]",
      "text/plain": [
       "<Figure size 432x288 with 1 Axes>"
      ]
     },
     "metadata": {
      "needs_background": "light"
     },
     "output_type": "display_data"
    }
   ],
   "source": [
    "# Plot history for training and validation loss.\n",
    "\n",
    "plt.plot(history10.history['loss'])\n",
    "plt.plot(history10.history['val_loss'])\n",
    "plt.title('2-layer LSTM model with more nodes')\n",
    "plt.ylabel('loss')\n",
    "plt.xlabel('epoch')\n",
    "plt.legend(['Train', 'Validate'], loc='upper left')\n",
    "plt.show()"
   ]
  },
  {
   "cell_type": "code",
   "execution_count": null,
   "metadata": {},
   "outputs": [],
   "source": []
  },
  {
   "cell_type": "code",
   "execution_count": null,
   "metadata": {},
   "outputs": [],
   "source": []
  },
  {
   "cell_type": "markdown",
   "metadata": {},
   "source": [
    "## serialize model to JSON\n",
    "https://machinelearningmastery.com/save-load-keras-deep-learning-models/"
   ]
  },
  {
   "cell_type": "code",
   "execution_count": 19,
   "metadata": {},
   "outputs": [
    {
     "name": "stdout",
     "output_type": "stream",
     "text": [
      "Saved model to disk\n"
     ]
    }
   ],
   "source": [
    "model_json = model_CutIn9.to_json()\n",
    "with open(\"CutInVolvo9.json\", \"w\") as json_file:\n",
    "    json_file.write(model_json)\n",
    "    \n",
    "# serialize weights to HDF5\n",
    "model_CutIn9.save_weights(\"CutInVolvo9_weights.h5\")\n",
    "print(\"Saved model to disk\")"
   ]
  },
  {
   "cell_type": "markdown",
   "metadata": {},
   "source": [
    "## Save Model Weights and Architecture Together"
   ]
  },
  {
   "cell_type": "code",
   "execution_count": 20,
   "metadata": {},
   "outputs": [
    {
     "name": "stdout",
     "output_type": "stream",
     "text": [
      "Saved model to disk\n"
     ]
    }
   ],
   "source": [
    "#model_Flow1.save(\"TrafficNetToVolvo_FlowMaskingSparse-1.h5\")\n",
    "model_CutIn9.save(\"CutInVolvo9.h5\")\n",
    "print(\"Saved model to disk\")"
   ]
  },
  {
   "cell_type": "markdown",
   "metadata": {},
   "source": [
    "## Predict for volvo data, code from previous 6.1"
   ]
  },
  {
   "cell_type": "code",
   "execution_count": 25,
   "metadata": {},
   "outputs": [
    {
     "data": {
      "text/plain": [
       "139520"
      ]
     },
     "execution_count": 25,
     "metadata": {},
     "output_type": "execute_result"
    }
   ],
   "source": [
    "volvo = pd.read_csv('../TrafficNet/VolvoData/2019w26_CPUload_Kiel_Amsterdam-0011.csv', usecols=['Lat','Long','Lane','Velocity','PosLgt2','PosLgt3','VelLgt1','VelLgt2','VelLgt3','VelLat3','AccLgt1','AccLgt2','AccLgt3','AccLat1','AccLat2','AccLat3','Angle1','Angle2','Angle3','Type1','Type2','Id1','Id2','Lane1','PositionInLane1','PositionInLane2','PositionInLane3','Lead','CutIn'])\n",
    "volvo.fillna(-1, inplace=True)\n",
    "\n",
    "Yvolvo = np.array(volvo['CutIn'].values)\n",
    "Xvolvo = np.array(volvo[['Lat','Long','Lane','Velocity','PosLgt2','PosLgt3','VelLgt1','VelLgt2','VelLgt3','VelLat3','AccLgt1','AccLgt2','AccLgt3','AccLat1','AccLat2','AccLat3','Angle1','Angle2','Angle3','Type1','Type2','Id1','Id2','Lane1','PositionInLane1','PositionInLane2','PositionInLane3','Lead']])\n",
    "    \n",
    "# Scale/whiten the X data\n",
    "scaler = StandardScaler()\n",
    "X_volvo = scaler.fit_transform(Xvolvo)\n",
    "XP_volvo, YP_volvo = create_dataset(X_volvo, Yvolvo, look_back=look_back)\n",
    "\n",
    "(len(XP_volvo)//64)*64"
   ]
  },
  {
   "cell_type": "code",
   "execution_count": 26,
   "metadata": {},
   "outputs": [],
   "source": [
    "XPP_volvo = XP_volvo[:139520]\n",
    "YPP_volvo = YP_volvo[:139520]"
   ]
  },
  {
   "cell_type": "code",
   "execution_count": 27,
   "metadata": {},
   "outputs": [
    {
     "name": "stdout",
     "output_type": "stream",
     "text": [
      "139520/139520 [==============================] - 169s 1ms/step\n",
      "0:02:49.150883\n",
      "0.7462299311926606\n"
     ]
    }
   ],
   "source": [
    "from datetime import datetime\n",
    "start=datetime.now()\n",
    "Y_predict_volvo = model_CutIn9.predict_classes(XPP_volvo, verbose=True)\n",
    "print(datetime.now()-start)\n",
    "\n",
    "#equal_arrays_volvo = (Y_predict_volvo == YPP_volvo).all(axis=1)\n",
    "#acc_volvo = np.count_nonzero(equal_arrays_volvo == True)/len(equal_arrays_volvo)\n",
    "a = Y_predict_volvo.tolist()\n",
    "a2 = [item[0] for item in a]\n",
    "b = YPP_volvo.tolist()\n",
    "equal_arrays_volvo = [i for i, (x, y) in enumerate(zip(a2, b)) if x == y]\n",
    "acc_volvo = len(equal_arrays_volvo)/len(a2)\n",
    "print(acc_volvo)"
   ]
  },
  {
   "cell_type": "code",
   "execution_count": 28,
   "metadata": {},
   "outputs": [],
   "source": [
    "f = open(\"predict_CutInVolvo9.csv\", \"w\")\n",
    "\n",
    "for index in range(len(a2)):\n",
    "    f.write(str(a2[index]) + \",\" + str(b[index]) + \"\\n\")\n",
    "f.close()"
   ]
  },
  {
   "cell_type": "code",
   "execution_count": null,
   "metadata": {},
   "outputs": [],
   "source": []
  },
  {
   "cell_type": "code",
   "execution_count": null,
   "metadata": {},
   "outputs": [],
   "source": []
  },
  {
   "cell_type": "code",
   "execution_count": null,
   "metadata": {},
   "outputs": [],
   "source": []
  },
  {
   "cell_type": "code",
   "execution_count": null,
   "metadata": {},
   "outputs": [],
   "source": []
  },
  {
   "cell_type": "code",
   "execution_count": null,
   "metadata": {},
   "outputs": [],
   "source": []
  },
  {
   "cell_type": "code",
   "execution_count": null,
   "metadata": {},
   "outputs": [],
   "source": []
  },
  {
   "cell_type": "code",
   "execution_count": null,
   "metadata": {},
   "outputs": [],
   "source": []
  },
  {
   "cell_type": "code",
   "execution_count": null,
   "metadata": {},
   "outputs": [],
   "source": []
  },
  {
   "cell_type": "code",
   "execution_count": null,
   "metadata": {},
   "outputs": [],
   "source": []
  },
  {
   "cell_type": "code",
   "execution_count": null,
   "metadata": {},
   "outputs": [],
   "source": []
  },
  {
   "cell_type": "code",
   "execution_count": null,
   "metadata": {},
   "outputs": [],
   "source": []
  },
  {
   "cell_type": "code",
   "execution_count": null,
   "metadata": {},
   "outputs": [],
   "source": []
  },
  {
   "cell_type": "code",
   "execution_count": null,
   "metadata": {},
   "outputs": [],
   "source": []
  },
  {
   "cell_type": "code",
   "execution_count": null,
   "metadata": {},
   "outputs": [],
   "source": []
  },
  {
   "cell_type": "code",
   "execution_count": null,
   "metadata": {},
   "outputs": [],
   "source": []
  },
  {
   "cell_type": "code",
   "execution_count": null,
   "metadata": {},
   "outputs": [],
   "source": []
  },
  {
   "cell_type": "code",
   "execution_count": null,
   "metadata": {},
   "outputs": [],
   "source": []
  },
  {
   "cell_type": "code",
   "execution_count": null,
   "metadata": {},
   "outputs": [],
   "source": []
  },
  {
   "cell_type": "code",
   "execution_count": null,
   "metadata": {},
   "outputs": [],
   "source": []
  },
  {
   "cell_type": "code",
   "execution_count": null,
   "metadata": {},
   "outputs": [],
   "source": []
  },
  {
   "cell_type": "code",
   "execution_count": null,
   "metadata": {},
   "outputs": [],
   "source": []
  },
  {
   "cell_type": "code",
   "execution_count": null,
   "metadata": {},
   "outputs": [],
   "source": []
  },
  {
   "cell_type": "code",
   "execution_count": null,
   "metadata": {},
   "outputs": [],
   "source": []
  },
  {
   "cell_type": "code",
   "execution_count": null,
   "metadata": {},
   "outputs": [],
   "source": []
  },
  {
   "cell_type": "code",
   "execution_count": null,
   "metadata": {},
   "outputs": [],
   "source": []
  },
  {
   "cell_type": "code",
   "execution_count": null,
   "metadata": {},
   "outputs": [],
   "source": []
  },
  {
   "cell_type": "code",
   "execution_count": null,
   "metadata": {},
   "outputs": [],
   "source": []
  },
  {
   "cell_type": "code",
   "execution_count": null,
   "metadata": {},
   "outputs": [],
   "source": []
  },
  {
   "cell_type": "code",
   "execution_count": null,
   "metadata": {},
   "outputs": [],
   "source": []
  },
  {
   "cell_type": "code",
   "execution_count": null,
   "metadata": {},
   "outputs": [],
   "source": []
  },
  {
   "cell_type": "markdown",
   "metadata": {},
   "source": [
    "## 7.3"
   ]
  },
  {
   "cell_type": "code",
   "execution_count": 15,
   "metadata": {},
   "outputs": [
    {
     "name": "stderr",
     "output_type": "stream",
     "text": [
      "/Users/jocelyn/opt/anaconda3/lib/python3.7/site-packages/ipykernel_launcher.py:2: UserWarning: Update your `LSTM` call to the Keras 2 API: `LSTM(batch_input_shape=[32, 50, 2..., units=256)`\n",
      "  \n",
      "/Users/jocelyn/opt/anaconda3/lib/python3.7/site-packages/ipykernel_launcher.py:5: UserWarning: Update your `Dense` call to the Keras 2 API: `Dense(1, activation=\"sigmoid\", kernel_initializer=\"uniform\")`\n",
      "  \"\"\"\n"
     ]
    }
   ],
   "source": [
    "model_CutIn2 = Sequential()\n",
    "model_CutIn2.add(LSTM(output_dim=256, batch_input_shape=[batch_size, look_back, dimof_input]))\n",
    "model_CutIn2.add(Dropout(dropout))\n",
    "model_CutIn2.add(Dense(100, activation='relu'))\n",
    "model_CutIn2.add(Dense(dimof_output, init='uniform', activation='sigmoid'))\n",
    "model_CutIn2.compile(loss='binary_crossentropy', optimizer='adam',metrics=['accuracy'])"
   ]
  },
  {
   "cell_type": "code",
   "execution_count": 16,
   "metadata": {},
   "outputs": [
    {
     "name": "stdout",
     "output_type": "stream",
     "text": [
      "Model: \"sequential_4\"\n",
      "_________________________________________________________________\n",
      "Layer (type)                 Output Shape              Param #   \n",
      "=================================================================\n",
      "lstm_6 (LSTM)                (32, 256)                 290816    \n",
      "_________________________________________________________________\n",
      "dropout_4 (Dropout)          (32, 256)                 0         \n",
      "_________________________________________________________________\n",
      "dense_2 (Dense)              (32, 100)                 25700     \n",
      "_________________________________________________________________\n",
      "dense_3 (Dense)              (32, 1)                   101       \n",
      "=================================================================\n",
      "Total params: 316,617\n",
      "Trainable params: 316,617\n",
      "Non-trainable params: 0\n",
      "_________________________________________________________________\n"
     ]
    }
   ],
   "source": [
    "model_CutIn2.summary()"
   ]
  },
  {
   "cell_type": "code",
   "execution_count": 17,
   "metadata": {},
   "outputs": [
    {
     "name": "stderr",
     "output_type": "stream",
     "text": [
      "/Users/jocelyn/opt/anaconda3/lib/python3.7/site-packages/ipykernel_launcher.py:7: UserWarning: The `nb_epoch` argument in `fit` has been renamed `epochs`.\n",
      "  import sys\n"
     ]
    },
    {
     "name": "stdout",
     "output_type": "stream",
     "text": [
      "Train on 305344 samples, validate on 305344 samples\n",
      "Epoch 1/100\n",
      "305344/305344 [==============================] - 3942s 13ms/step - loss: 0.9340 - accuracy: 0.8062 - val_loss: 2.5660 - val_accuracy: 0.7794\n",
      "Epoch 2/100\n",
      "305344/305344 [==============================] - 4183s 14ms/step - loss: 0.4449 - accuracy: 0.9037 - val_loss: 2.7474 - val_accuracy: 0.8797\n"
     ]
    }
   ],
   "source": [
    "history2 = model_CutIn2.fit(\n",
    "    X_all, Y_all,\n",
    "    class_weight=weights,\n",
    "    validation_split=0.5,\n",
    "    callbacks=[earlyStopping],\n",
    "    shuffle=True,\n",
    "    nb_epoch=num_epoch, batch_size=batch_size, verbose=1)"
   ]
  },
  {
   "cell_type": "code",
   "execution_count": 18,
   "metadata": {},
   "outputs": [
    {
     "data": {
      "image/png": "[encoded data removed]",
      "text/plain": [
       "<Figure size 432x288 with 1 Axes>"
      ]
     },
     "metadata": {
      "needs_background": "light"
     },
     "output_type": "display_data"
    }
   ],
   "source": [
    "# Plot history for training and validation loss.\n",
    "\n",
    "plt.plot(history2.history['accuracy'])\n",
    "plt.plot(history2.history['val_accuracy'])\n",
    "plt.title('model accuracy with replacing missing data')\n",
    "plt.ylabel('accuracy')\n",
    "plt.xlabel('epoch')\n",
    "plt.legend(['Train', 'Validate'], loc='upper left')\n",
    "plt.show()"
   ]
  },
  {
   "cell_type": "code",
   "execution_count": 19,
   "metadata": {},
   "outputs": [
    {
     "data": {
      "image/png": "[encoded data removed]",
      "text/plain": [
       "<Figure size 432x288 with 1 Axes>"
      ]
     },
     "metadata": {
      "needs_background": "light"
     },
     "output_type": "display_data"
    }
   ],
   "source": [
    "# Plot history for training and validation loss.\n",
    "\n",
    "plt.plot(history2.history['loss'])\n",
    "plt.plot(history2.history['val_loss'])\n",
    "plt.title('model loss with replacing missing data')\n",
    "plt.ylabel('loss')\n",
    "plt.xlabel('epoch')\n",
    "plt.legend(['Train', 'Validate'], loc='upper left')\n",
    "plt.show()"
   ]
  },
  {
   "cell_type": "markdown",
   "metadata": {},
   "source": [
    "## 7.7.1"
   ]
  },
  {
   "cell_type": "code",
   "execution_count": 8,
   "metadata": {},
   "outputs": [
    {
     "name": "stderr",
     "output_type": "stream",
     "text": [
      "/Users/jocelyn/opt/anaconda3/lib/python3.7/site-packages/ipykernel_launcher.py:2: UserWarning: Update your `LSTM` call to the Keras 2 API: `LSTM(batch_input_shape=[32, 50, 2..., units=100)`\n",
      "  \n"
     ]
    },
    {
     "name": "stdout",
     "output_type": "stream",
     "text": [
      "WARNING:tensorflow:From /Users/jocelyn/opt/anaconda3/lib/python3.7/site-packages/tensorflow/python/ops/nn_impl.py:180: add_dispatch_support.<locals>.wrapper (from tensorflow.python.ops.array_ops) is deprecated and will be removed in a future version.\n",
      "Instructions for updating:\n",
      "Use tf.where in 2.0, which has the same broadcast rule as np.where\n"
     ]
    },
    {
     "name": "stderr",
     "output_type": "stream",
     "text": [
      "/Users/jocelyn/opt/anaconda3/lib/python3.7/site-packages/ipykernel_launcher.py:5: UserWarning: Update your `Dense` call to the Keras 2 API: `Dense(1, activation=\"sigmoid\", kernel_initializer=\"uniform\")`\n",
      "  \"\"\"\n"
     ]
    }
   ],
   "source": [
    "model_CutIn3 = Sequential()\n",
    "model_CutIn3.add(LSTM(output_dim=100, batch_input_shape=[batch_size, look_back, dimof_input]))\n",
    "model_CutIn3.add(Dropout(dropout))\n",
    "model_CutIn3.add(Dense(100, activation='relu'))\n",
    "model_CutIn3.add(Dense(dimof_output, init='uniform', activation='sigmoid'))\n",
    "model_CutIn3.compile(loss='binary_crossentropy', optimizer='adam',metrics=['accuracy'])"
   ]
  },
  {
   "cell_type": "code",
   "execution_count": 9,
   "metadata": {},
   "outputs": [
    {
     "name": "stdout",
     "output_type": "stream",
     "text": [
      "Model: \"sequential_1\"\n",
      "_________________________________________________________________\n",
      "Layer (type)                 Output Shape              Param #   \n",
      "=================================================================\n",
      "lstm_1 (LSTM)                (32, 100)                 51200     \n",
      "_________________________________________________________________\n",
      "dropout_1 (Dropout)          (32, 100)                 0         \n",
      "_________________________________________________________________\n",
      "dense_1 (Dense)              (32, 100)                 10100     \n",
      "_________________________________________________________________\n",
      "dense_2 (Dense)              (32, 1)                   101       \n",
      "=================================================================\n",
      "Total params: 61,401\n",
      "Trainable params: 61,401\n",
      "Non-trainable params: 0\n",
      "_________________________________________________________________\n"
     ]
    }
   ],
   "source": [
    "model_CutIn3.summary()"
   ]
  },
  {
   "cell_type": "code",
   "execution_count": 10,
   "metadata": {},
   "outputs": [
    {
     "name": "stderr",
     "output_type": "stream",
     "text": [
      "/Users/jocelyn/opt/anaconda3/lib/python3.7/site-packages/ipykernel_launcher.py:7: UserWarning: The `nb_epoch` argument in `fit` has been renamed `epochs`.\n",
      "  import sys\n"
     ]
    },
    {
     "name": "stdout",
     "output_type": "stream",
     "text": [
      "WARNING:tensorflow:From /Users/jocelyn/opt/anaconda3/lib/python3.7/site-packages/keras/backend/tensorflow_backend.py:422: The name tf.global_variables is deprecated. Please use tf.compat.v1.global_variables instead.\n",
      "\n",
      "Train on 305344 samples, validate on 305344 samples\n",
      "Epoch 1/100\n",
      "305344/305344 [==============================] - 2568s 8ms/step - loss: 0.7229 - accuracy: 0.8543 - val_loss: 2.2043 - val_accuracy: 0.7578\n",
      "Epoch 2/100\n",
      "305344/305344 [==============================] - 2531s 8ms/step - loss: 0.3957 - accuracy: 0.9095 - val_loss: 4.2323 - val_accuracy: 0.9326\n"
     ]
    }
   ],
   "source": [
    "history3 = model_CutIn3.fit(\n",
    "    X_all, Y_all,\n",
    "    class_weight=weights,\n",
    "    validation_split=0.5,\n",
    "    callbacks=[earlyStopping],\n",
    "    shuffle=True,\n",
    "    nb_epoch=num_epoch, batch_size=batch_size, verbose=1)"
   ]
  },
  {
   "cell_type": "code",
   "execution_count": 11,
   "metadata": {},
   "outputs": [
    {
     "data": {
      "image/png": "[encoded data removed]",
      "text/plain": [
       "<Figure size 432x288 with 1 Axes>"
      ]
     },
     "metadata": {
      "needs_background": "light"
     },
     "output_type": "display_data"
    }
   ],
   "source": [
    "# Plot history for training and validation loss.\n",
    "\n",
    "plt.plot(history3.history['accuracy'])\n",
    "plt.plot(history3.history['val_accuracy'])\n",
    "plt.title('model accuracy with replacing missing data')\n",
    "plt.ylabel('accuracy')\n",
    "plt.xlabel('epoch')\n",
    "plt.legend(['Train', 'Validate'], loc='upper left')\n",
    "plt.show()"
   ]
  },
  {
   "cell_type": "code",
   "execution_count": 12,
   "metadata": {},
   "outputs": [
    {
     "data": {
      "image/png": "[encoded data removed]",
      "text/plain": [
       "<Figure size 432x288 with 1 Axes>"
      ]
     },
     "metadata": {
      "needs_background": "light"
     },
     "output_type": "display_data"
    }
   ],
   "source": [
    "# Plot history for training and validation loss.\n",
    "\n",
    "plt.plot(history3.history['loss'])\n",
    "plt.plot(history3.history['val_loss'])\n",
    "plt.title('model loss with replacing missing data')\n",
    "plt.ylabel('loss')\n",
    "plt.xlabel('epoch')\n",
    "plt.legend(['Train', 'Validate'], loc='upper left')\n",
    "plt.show()"
   ]
  },
  {
   "cell_type": "markdown",
   "metadata": {},
   "source": [
    "## serialize model to JSON\n",
    "https://machinelearningmastery.com/save-load-keras-deep-learning-models/"
   ]
  },
  {
   "cell_type": "code",
   "execution_count": 13,
   "metadata": {},
   "outputs": [
    {
     "name": "stdout",
     "output_type": "stream",
     "text": [
      "Saved model to disk\n"
     ]
    }
   ],
   "source": [
    "model_json2 = model_CutIn2.to_json()\n",
    "with open(\"1DY_CutInReplacingSparse-1.json\", \"w\") as json_file:\n",
    "    json_file.write(model_json2)\n",
    "    \n",
    "# serialize weights to HDF5\n",
    "model_CutIn2.save_weights(\"1DY_weights_CutInReplacingSparse-1.h5\")\n",
    "print(\"Saved model to disk\")"
   ]
  },
  {
   "cell_type": "markdown",
   "metadata": {},
   "source": [
    "## Save Model Weights and Architecture Together"
   ]
  },
  {
   "cell_type": "code",
   "execution_count": 14,
   "metadata": {},
   "outputs": [
    {
     "name": "stdout",
     "output_type": "stream",
     "text": [
      "Saved model to disk\n"
     ]
    }
   ],
   "source": [
    "#model_Flow1.save(\"TrafficNetToVolvo_FlowMaskingSparse-1.h5\")\n",
    "model_CutIn2.save(\"1DY_CutInReplacingSparse-1.h5\")\n",
    "print(\"Saved model to disk\")"
   ]
  },
  {
   "cell_type": "code",
   "execution_count": null,
   "metadata": {},
   "outputs": [],
   "source": [
    "# load and evaluate a saved model\n",
    "from numpy import loadtxt\n",
    "from keras.models import load_model\n",
    "\n",
    "# load model\n",
    "model = load_model('model.h5')\n",
    "# summarize model.\n",
    "model.summary()\n",
    "# load dataset\n",
    "dataset = loadtxt(\"pima-indians-diabetes.csv\", delimiter=\",\")\n",
    "# split into input (X) and output (Y) variables\n",
    "X = dataset[:,0:8]\n",
    "Y = dataset[:,8]\n",
    "# evaluate the model\n",
    "score = model.evaluate(X, Y, verbose=0)\n",
    "print(\"%s: %.2f%%\" % (model.metrics_names[1], score[1]*100))"
   ]
  },
  {
   "cell_type": "code",
   "execution_count": null,
   "metadata": {},
   "outputs": [],
   "source": [
    "# Write predictions to disk\n",
    "\n",
    "data1988.to_csv(\"TrafficNetToVolvo-6.1-CutIn-Masking_PredictionResult.csv\", encoding='utf_8_sig', index=False)"
   ]
  }
 ],
 "metadata": {
  "kernelspec": {
   "display_name": "Python 3",
   "language": "python",
   "name": "python3"
  },
  "language_info": {
   "codemirror_mode": {
    "name": "ipython",
    "version": 3
   },
   "file_extension": ".py",
   "mimetype": "text/x-python",
   "name": "python",
   "nbconvert_exporter": "python",
   "pygments_lexer": "ipython3",
   "version": "3.7.4"
  }
 },
 "nbformat": 4,
 "nbformat_minor": 1
}
