{
 "cells": [
  {
   "cell_type": "code",
   "execution_count": 2,
   "metadata": {
    "scrolled": false
   },
   "outputs": [
    {
     "name": "stderr",
     "output_type": "stream",
     "text": [
      "Using TensorFlow backend.\n",
      "/Users/jocelyn/opt/anaconda3/lib/python3.7/site-packages/tensorflow/python/framework/dtypes.py:516: FutureWarning: Passing (type, 1) or '1type' as a synonym of type is deprecated; in a future version of numpy, it will be understood as (type, (1,)) / '(1,)type'.\n",
      "  _np_qint8 = np.dtype([(\"qint8\", np.int8, 1)])\n",
      "/Users/jocelyn/opt/anaconda3/lib/python3.7/site-packages/tensorflow/python/framework/dtypes.py:517: FutureWarning: Passing (type, 1) or '1type' as a synonym of type is deprecated; in a future version of numpy, it will be understood as (type, (1,)) / '(1,)type'.\n",
      "  _np_quint8 = np.dtype([(\"quint8\", np.uint8, 1)])\n",
      "/Users/jocelyn/opt/anaconda3/lib/python3.7/site-packages/tensorflow/python/framework/dtypes.py:518: FutureWarning: Passing (type, 1) or '1type' as a synonym of type is deprecated; in a future version of numpy, it will be understood as (type, (1,)) / '(1,)type'.\n",
      "  _np_qint16 = np.dtype([(\"qint16\", np.int16, 1)])\n",
      "/Users/jocelyn/opt/anaconda3/lib/python3.7/site-packages/tensorflow/python/framework/dtypes.py:519: FutureWarning: Passing (type, 1) or '1type' as a synonym of type is deprecated; in a future version of numpy, it will be understood as (type, (1,)) / '(1,)type'.\n",
      "  _np_quint16 = np.dtype([(\"quint16\", np.uint16, 1)])\n",
      "/Users/jocelyn/opt/anaconda3/lib/python3.7/site-packages/tensorflow/python/framework/dtypes.py:520: FutureWarning: Passing (type, 1) or '1type' as a synonym of type is deprecated; in a future version of numpy, it will be understood as (type, (1,)) / '(1,)type'.\n",
      "  _np_qint32 = np.dtype([(\"qint32\", np.int32, 1)])\n",
      "/Users/jocelyn/opt/anaconda3/lib/python3.7/site-packages/tensorflow/python/framework/dtypes.py:525: FutureWarning: Passing (type, 1) or '1type' as a synonym of type is deprecated; in a future version of numpy, it will be understood as (type, (1,)) / '(1,)type'.\n",
      "  np_resource = np.dtype([(\"resource\", np.ubyte, 1)])\n",
      "/Users/jocelyn/opt/anaconda3/lib/python3.7/site-packages/tensorboard/compat/tensorflow_stub/dtypes.py:541: FutureWarning: Passing (type, 1) or '1type' as a synonym of type is deprecated; in a future version of numpy, it will be understood as (type, (1,)) / '(1,)type'.\n",
      "  _np_qint8 = np.dtype([(\"qint8\", np.int8, 1)])\n",
      "/Users/jocelyn/opt/anaconda3/lib/python3.7/site-packages/tensorboard/compat/tensorflow_stub/dtypes.py:542: FutureWarning: Passing (type, 1) or '1type' as a synonym of type is deprecated; in a future version of numpy, it will be understood as (type, (1,)) / '(1,)type'.\n",
      "  _np_quint8 = np.dtype([(\"quint8\", np.uint8, 1)])\n",
      "/Users/jocelyn/opt/anaconda3/lib/python3.7/site-packages/tensorboard/compat/tensorflow_stub/dtypes.py:543: FutureWarning: Passing (type, 1) or '1type' as a synonym of type is deprecated; in a future version of numpy, it will be understood as (type, (1,)) / '(1,)type'.\n",
      "  _np_qint16 = np.dtype([(\"qint16\", np.int16, 1)])\n",
      "/Users/jocelyn/opt/anaconda3/lib/python3.7/site-packages/tensorboard/compat/tensorflow_stub/dtypes.py:544: FutureWarning: Passing (type, 1) or '1type' as a synonym of type is deprecated; in a future version of numpy, it will be understood as (type, (1,)) / '(1,)type'.\n",
      "  _np_quint16 = np.dtype([(\"quint16\", np.uint16, 1)])\n",
      "/Users/jocelyn/opt/anaconda3/lib/python3.7/site-packages/tensorboard/compat/tensorflow_stub/dtypes.py:545: FutureWarning: Passing (type, 1) or '1type' as a synonym of type is deprecated; in a future version of numpy, it will be understood as (type, (1,)) / '(1,)type'.\n",
      "  _np_qint32 = np.dtype([(\"qint32\", np.int32, 1)])\n",
      "/Users/jocelyn/opt/anaconda3/lib/python3.7/site-packages/tensorboard/compat/tensorflow_stub/dtypes.py:550: FutureWarning: Passing (type, 1) or '1type' as a synonym of type is deprecated; in a future version of numpy, it will be understood as (type, (1,)) / '(1,)type'.\n",
      "  np_resource = np.dtype([(\"resource\", np.ubyte, 1)])\n"
     ]
    }
   ],
   "source": [
    "from keras.utils import np_utils\n",
    "from keras.models import Sequential\n",
    "from keras.layers import Dense, LSTM, Dropout\n",
    "from keras.callbacks import EarlyStopping\n",
    "from sklearn.preprocessing import StandardScaler\n",
    "\n",
    "import pandas as pd\n",
    "import numpy as np\n",
    "import glob\n",
    "import matplotlib.pyplot as plt\n",
    "import collections\n",
    "%matplotlib inline"
   ]
  },
  {
   "cell_type": "code",
   "execution_count": 3,
   "metadata": {
    "scrolled": false
   },
   "outputs": [
    {
     "name": "stdout",
     "output_type": "stream",
     "text": [
      "0\n",
      "(97434, 88) (97434,)\n",
      "1\n",
      "(46362, 88) (46362,)\n",
      "2\n",
      "(56119, 88) (56119,)\n",
      "3\n",
      "(107451, 88) (107451,)\n",
      "4\n",
      "(54506, 88) (54506,)\n",
      "5\n",
      "(56795, 88) (56795,)\n",
      "6\n",
      "(54873, 88) (54873,)\n",
      "7\n",
      "(139583, 88) (139583,)\n",
      "8\n",
      "(95999, 88) (95999,)\n",
      "9\n",
      "(93916, 88) (93916,)\n",
      "10\n",
      "(67954, 88) (67954,)\n",
      "11\n",
      "(70547, 88) (70547,)\n",
      "12\n",
      "(32138, 88) (32138,)\n"
     ]
    }
   ],
   "source": [
    "path = glob.glob('../TrafficNet/VolvoData/2019/*.csv')\n",
    "\n",
    "X_all = np.empty((1, 88))\n",
    "Y_all = np.empty((1,))\n",
    "\n",
    "for i in range(len(path)):\n",
    "    print(i)\n",
    "    \n",
    "    Flow = pd.read_csv(path[i], usecols=['Lat','Long','Acceleration','Decelerating','Indicator','InReverse','Lane','PositionInLane','Velocity','YawRate','PosLgt1','PosLgt2','PosLgt3','PosLgt4','PosLgt5','PosLgt6','PosLgt7','PosLat1','PosLat2','PosLat3','PosLat4','PosLat5','PosLat6','PosLat7','VelLgt1','VelLgt2','VelLgt3','VelLgt4','VelLgt5','VelLgt6','VelLgt7','VelLat1','VelLat2','VelLat3','VelLat4','VelLat5','VelLat6','VelLat7','AccLgt1','AccLgt2','AccLgt3','AccLgt4','AccLgt5','AccLgt6','AccLgt7','AccLat1','AccLat2','AccLat3','AccLat4','AccLat5','AccLat6','AccLat7','Angle1','Angle2','Angle3','Angle4','Angle5','Angle6','Angle7','Type1','Type2','Type3','Type4','Type5','Type6','Type7','Id1','Id2','Id3','Id4','Id5','Id6','Id7','Lane1','Lane2','Lane3','Lane4','Lane5','Lane6','Lane7','PositionInLane1','PositionInLane2','PositionInLane3','PositionInLane4','PositionInLane5','PositionInLane6','PositionInLane7','Lead','Flow'])\n",
    "    Flow.fillna(-1, inplace=True)\n",
    "    \n",
    "    Y_train = np.array(Flow['Flow'].values)\n",
    "    X_train = np.array(Flow[['Lat','Long','Acceleration','Decelerating','Indicator','InReverse','Lane','PositionInLane','Velocity','YawRate','PosLgt1','PosLgt2','PosLgt3','PosLgt4','PosLgt5','PosLgt6','PosLgt7','PosLat1','PosLat2','PosLat3','PosLat4','PosLat5','PosLat6','PosLat7','VelLgt1','VelLgt2','VelLgt3','VelLgt4','VelLgt5','VelLgt6','VelLgt7','VelLat1','VelLat2','VelLat3','VelLat4','VelLat5','VelLat6','VelLat7','AccLgt1','AccLgt2','AccLgt3','AccLgt4','AccLgt5','AccLgt6','AccLgt7','AccLat1','AccLat2','AccLat3','AccLat4','AccLat5','AccLat6','AccLat7','Angle1','Angle2','Angle3','Angle4','Angle5','Angle6','Angle7','Type1','Type2','Type3','Type4','Type5','Type6','Type7','Id1','Id2','Id3','Id4','Id5','Id6','Id7','Lane1','Lane2','Lane3','Lane4','Lane5','Lane6','Lane7','PositionInLane1','PositionInLane2','PositionInLane3','PositionInLane4','PositionInLane5','PositionInLane6','PositionInLane7','Lead']])\n",
    "    # Get dimensions of input and output\n",
    "    #dimof_output = int(np.max(Y_train) + 1)\n",
    "    dimof_output = 1\n",
    "    dimof_input = X_train.shape[1]\n",
    "\n",
    "    # Scale/whiten the X data\n",
    "    scaler = StandardScaler()\n",
    "    X_train = scaler.fit_transform(X_train)\n",
    "    #print(len(X_train))\n",
    "    print(X_train.shape, Y_train.shape)\n",
    "    \n",
    "    X_all = np.append(X_all, X_train, axis=0)\n",
    "    Y_all = np.append(Y_all, Y_train, axis=0)"
   ]
  },
  {
   "cell_type": "code",
   "execution_count": 4,
   "metadata": {},
   "outputs": [
    {
     "data": {
      "text/plain": [
       "973678"
      ]
     },
     "execution_count": 4,
     "metadata": {},
     "output_type": "execute_result"
    }
   ],
   "source": [
    "len(X_all)"
   ]
  },
  {
   "cell_type": "code",
   "execution_count": 5,
   "metadata": {},
   "outputs": [],
   "source": [
    "X_all = X_all[1:973678]\n",
    "Y_all = Y_all[1:973678]"
   ]
  },
  {
   "cell_type": "markdown",
   "metadata": {},
   "source": [
    "# Feature selection"
   ]
  },
  {
   "cell_type": "markdown",
   "metadata": {},
   "source": [
    "## ANOVA f-test Feature Selection"
   ]
  },
  {
   "cell_type": "code",
   "execution_count": 6,
   "metadata": {},
   "outputs": [],
   "source": [
    "# example of anova f-test feature selection for numerical data\n",
    "from pandas import read_csv\n",
    "from sklearn.model_selection import train_test_split\n",
    "from sklearn.feature_selection import SelectKBest\n",
    "from sklearn.feature_selection import f_classif\n",
    "from matplotlib import pyplot"
   ]
  },
  {
   "cell_type": "code",
   "execution_count": 7,
   "metadata": {},
   "outputs": [],
   "source": [
    "# feature selection\n",
    "def select_features(X_train, y_train, X_test):\n",
    "\t# configure to select all features\n",
    "\tfs = SelectKBest(score_func=f_classif, k='all')\n",
    "\t# learn relationship from training data\n",
    "\tfs.fit(X_train, y_train)\n",
    "\t# transform train input data\n",
    "\tX_train_fs = fs.transform(X_train)\n",
    "\t# transform test input data\n",
    "\tX_test_fs = fs.transform(X_test)\n",
    "\treturn X_train_fs, X_test_fs, fs"
   ]
  },
  {
   "cell_type": "code",
   "execution_count": 8,
   "metadata": {},
   "outputs": [
    {
     "name": "stdout",
     "output_type": "stream",
     "text": [
      "Feature 0: 138.375323\n",
      "Feature 1: 248.915221\n",
      "Feature 2: 2.523476\n",
      "Feature 3: 1430.408634\n",
      "Feature 4: 75.034517\n",
      "Feature 5: 20.479959\n",
      "Feature 6: 1287.331247\n",
      "Feature 7: 32.705931\n",
      "Feature 8: 10023.461992\n",
      "Feature 9: 48.208694\n",
      "Feature 10: 83597.029123\n",
      "Feature 11: 28623.934249\n",
      "Feature 12: 8685.817860\n",
      "Feature 13: 2021.341157\n",
      "Feature 14: 429.348062\n",
      "Feature 15: 77.712959\n",
      "Feature 16: 6.797093\n",
      "Feature 17: 3057.791867\n",
      "Feature 18: 2692.115698\n",
      "Feature 19: 1204.368069\n",
      "Feature 20: 328.074831\n",
      "Feature 21: 80.470287\n",
      "Feature 22: 14.660922\n",
      "Feature 23: 1.049266\n",
      "Feature 24: 169384.573826\n",
      "Feature 25: 39415.347118\n",
      "Feature 26: 10592.043956\n",
      "Feature 27: 2367.383912\n",
      "Feature 28: 496.292244\n",
      "Feature 29: 84.732781\n",
      "Feature 30: 6.827262\n",
      "Feature 31: 80511.579588\n",
      "Feature 32: 28479.725534\n",
      "Feature 33: 8334.050706\n",
      "Feature 34: 1898.791908\n",
      "Feature 35: 384.125148\n",
      "Feature 36: 54.940360\n",
      "Feature 37: 6.533253\n",
      "Feature 38: 229101.886904\n",
      "Feature 39: 44371.217781\n",
      "Feature 40: 11265.297593\n",
      "Feature 41: 2468.472702\n",
      "Feature 42: 524.139815\n",
      "Feature 43: 91.828638\n",
      "Feature 44: 7.845590\n",
      "Feature 45: 402899.759177\n",
      "Feature 46: 49561.661512\n",
      "Feature 47: 11879.822262\n",
      "Feature 48: 2587.225389\n",
      "Feature 49: 538.960069\n",
      "Feature 50: 93.334772\n",
      "Feature 51: 93.334772\n",
      "Feature 52: 275269.354342\n",
      "Feature 53: 47079.194039\n",
      "Feature 54: 11611.162031\n",
      "Feature 55: 2547.040813\n",
      "Feature 56: 520.597327\n",
      "Feature 57: 90.000908\n",
      "Feature 58: 7.086838\n",
      "Feature 59: 172390.512805\n",
      "Feature 60: 39522.695263\n",
      "Feature 61: 10385.696218\n",
      "Feature 62: 2333.065145\n",
      "Feature 63: 500.177334\n",
      "Feature 64: 85.675910\n",
      "Feature 65: 6.680482\n",
      "Feature 66: 108421.924243\n",
      "Feature 67: 32518.769453\n",
      "Feature 68: 9002.142588\n",
      "Feature 69: 2060.648268\n",
      "Feature 70: 427.364007\n",
      "Feature 71: 77.332335\n",
      "Feature 72: 7.119789\n",
      "Feature 73: 45034.343585\n",
      "Feature 74: 23439.075211\n",
      "Feature 75: 8075.334482\n",
      "Feature 76: 1956.039735\n",
      "Feature 77: 438.186342\n",
      "Feature 78: 79.616634\n",
      "Feature 79: 7.568315\n",
      "Feature 80: 67644.248547\n",
      "Feature 81: 30419.996840\n",
      "Feature 82: 9318.310769\n",
      "Feature 83: 2182.990078\n",
      "Feature 84: 471.722321\n",
      "Feature 85: 86.659391\n",
      "Feature 86: 7.300727\n",
      "Feature 87: 76163.404313\n"
     ]
    },
    {
     "data": {
      "image/png": "[encoded data removed]",
      "text/plain": [
       "<Figure size 432x288 with 1 Axes>"
      ]
     },
     "metadata": {
      "needs_background": "light"
     },
     "output_type": "display_data"
    }
   ],
   "source": [
    "# split into train and test sets\n",
    "X_train, X_test, y_train, y_test = train_test_split(X_all, Y_all, test_size=0.5, random_state=1)\n",
    "# feature selection\n",
    "X_train_fs, X_test_fs, fs = select_features(X_train, y_train, X_test)\n",
    "# what are scores for the features\n",
    "for i in range(len(fs.scores_)):\n",
    "\tprint('Feature %d: %f' % (i, fs.scores_[i]))\n",
    "# plot the scores\n",
    "pyplot.bar([i for i in range(len(fs.scores_))], fs.scores_)\n",
    "pyplot.show()"
   ]
  },
  {
   "cell_type": "markdown",
   "metadata": {},
   "source": [
    "# Modeling With Selected Features"
   ]
  },
  {
   "cell_type": "markdown",
   "metadata": {},
   "source": [
    "## Model Built Using All Features"
   ]
  },
  {
   "cell_type": "code",
   "execution_count": 9,
   "metadata": {},
   "outputs": [
    {
     "name": "stdout",
     "output_type": "stream",
     "text": [
      "Accuracy: 99.51\n"
     ]
    }
   ],
   "source": [
    "# evaluation of a model using all input features\n",
    "from pandas import read_csv\n",
    "from sklearn.model_selection import train_test_split\n",
    "from sklearn.linear_model import LogisticRegression\n",
    "from sklearn.metrics import accuracy_score\n",
    "\n",
    "# split into train and test sets\n",
    "#X_train, X_test, y_train, y_test = train_test_split(X, y, test_size=0.33, random_state=1)\n",
    "# fit the model\n",
    "model = LogisticRegression(solver='liblinear')\n",
    "model.fit(X_train, y_train)\n",
    "# evaluate the model\n",
    "yhat = model.predict(X_test)\n",
    "# evaluate predictions\n",
    "accuracy = accuracy_score(y_test, yhat)\n",
    "print('Accuracy: %.2f' % (accuracy*100))"
   ]
  },
  {
   "cell_type": "markdown",
   "metadata": {},
   "source": [
    "## Model Built Using ANOVA f-test Features"
   ]
  },
  {
   "cell_type": "code",
   "execution_count": 10,
   "metadata": {},
   "outputs": [
    {
     "name": "stdout",
     "output_type": "stream",
     "text": [
      "Accuracy: 99.42\n"
     ]
    }
   ],
   "source": [
    "# evaluation of a model using 4 features chosen with anova f-test\n",
    "from pandas import read_csv\n",
    "from sklearn.model_selection import train_test_split\n",
    "from sklearn.feature_selection import SelectKBest\n",
    "from sklearn.feature_selection import f_classif\n",
    "from sklearn.linear_model import LogisticRegression\n",
    "from sklearn.metrics import accuracy_score\n",
    "\n",
    "# feature selection\n",
    "def select_features_self(X_train, y_train, X_test):\n",
    "\t# configure to select a subset of features\n",
    "\tfs = SelectKBest(score_func=f_classif, k=30)\n",
    "\t# learn relationship from training data\n",
    "\tfs.fit(X_train, y_train)\n",
    "\t# transform train input data\n",
    "\tX_train_fs = fs.transform(X_train)\n",
    "\t# transform test input data\n",
    "\tX_test_fs = fs.transform(X_test)\n",
    "\treturn X_train_fs, X_test_fs, fs\n",
    "\n",
    "# feature selection\n",
    "X_train_fs, X_test_fs, fs = select_features_self(X_train, y_train, X_test)\n",
    "# fit the model\n",
    "model = LogisticRegression(solver='liblinear')\n",
    "model.fit(X_train_fs, y_train)\n",
    "# evaluate the model\n",
    "yhat_anova = model.predict(X_test_fs)\n",
    "# evaluate predictions\n",
    "accuracy_anova = accuracy_score(y_test, yhat_anova)\n",
    "print('Accuracy: %.2f' % (accuracy_anova*100))"
   ]
  },
  {
   "cell_type": "markdown",
   "metadata": {},
   "source": [
    "## Tune the Number of Selected Features"
   ]
  },
  {
   "cell_type": "code",
   "execution_count": 2,
   "metadata": {},
   "outputs": [],
   "source": [
    "from pandas import read_csv\n",
    "from sklearn.model_selection import RepeatedStratifiedKFold\n",
    "from sklearn.feature_selection import SelectKBest\n",
    "from sklearn.feature_selection import f_classif\n",
    "from sklearn.linear_model import LogisticRegression\n",
    "from sklearn.pipeline import Pipeline\n",
    "from sklearn.model_selection import GridSearchCV\n",
    "from matplotlib import pyplot\n",
    "from numpy import mean\n",
    "from numpy import std\n",
    "from sklearn.model_selection import cross_val_score\n",
    "from sklearn.model_selection import train_test_split"
   ]
  },
  {
   "cell_type": "code",
   "execution_count": 23,
   "metadata": {},
   "outputs": [
    {
     "name": "stdout",
     "output_type": "stream",
     "text": [
      "0\n",
      "(97434, 88) (97434,)\n",
      "1\n",
      "(46362, 88) (46362,)\n",
      "2\n",
      "(56119, 88) (56119,)\n",
      "3\n",
      "(107451, 88) (107451,)\n",
      "4\n",
      "(54506, 88) (54506,)\n"
     ]
    }
   ],
   "source": [
    "path = glob.glob('../TrafficNet/VolvoData/2019/*.csv')\n",
    "\n",
    "X_all = np.empty((1, 88))\n",
    "Y_all = np.empty((1,))\n",
    "\n",
    "for i in range(5):\n",
    "    print(i)\n",
    "    \n",
    "    Flow = pd.read_csv(path[i], usecols=['Lat','Long','Acceleration','Decelerating','Indicator','InReverse','Lane','PositionInLane','Velocity','YawRate','PosLgt1','PosLgt2','PosLgt3','PosLgt4','PosLgt5','PosLgt6','PosLgt7','PosLat1','PosLat2','PosLat3','PosLat4','PosLat5','PosLat6','PosLat7','VelLgt1','VelLgt2','VelLgt3','VelLgt4','VelLgt5','VelLgt6','VelLgt7','VelLat1','VelLat2','VelLat3','VelLat4','VelLat5','VelLat6','VelLat7','AccLgt1','AccLgt2','AccLgt3','AccLgt4','AccLgt5','AccLgt6','AccLgt7','AccLat1','AccLat2','AccLat3','AccLat4','AccLat5','AccLat6','AccLat7','Angle1','Angle2','Angle3','Angle4','Angle5','Angle6','Angle7','Type1','Type2','Type3','Type4','Type5','Type6','Type7','Id1','Id2','Id3','Id4','Id5','Id6','Id7','Lane1','Lane2','Lane3','Lane4','Lane5','Lane6','Lane7','PositionInLane1','PositionInLane2','PositionInLane3','PositionInLane4','PositionInLane5','PositionInLane6','PositionInLane7','Lead','Flow'])\n",
    "    Flow.fillna(-1, inplace=True)\n",
    "    \n",
    "    Y_train = np.array(Flow['Flow'].values)\n",
    "    X_train = np.array(Flow[['Lat','Long','Acceleration','Decelerating','Indicator','InReverse','Lane','PositionInLane','Velocity','YawRate','PosLgt1','PosLgt2','PosLgt3','PosLgt4','PosLgt5','PosLgt6','PosLgt7','PosLat1','PosLat2','PosLat3','PosLat4','PosLat5','PosLat6','PosLat7','VelLgt1','VelLgt2','VelLgt3','VelLgt4','VelLgt5','VelLgt6','VelLgt7','VelLat1','VelLat2','VelLat3','VelLat4','VelLat5','VelLat6','VelLat7','AccLgt1','AccLgt2','AccLgt3','AccLgt4','AccLgt5','AccLgt6','AccLgt7','AccLat1','AccLat2','AccLat3','AccLat4','AccLat5','AccLat6','AccLat7','Angle1','Angle2','Angle3','Angle4','Angle5','Angle6','Angle7','Type1','Type2','Type3','Type4','Type5','Type6','Type7','Id1','Id2','Id3','Id4','Id5','Id6','Id7','Lane1','Lane2','Lane3','Lane4','Lane5','Lane6','Lane7','PositionInLane1','PositionInLane2','PositionInLane3','PositionInLane4','PositionInLane5','PositionInLane6','PositionInLane7','Lead']])\n",
    "    # Get dimensions of input and output\n",
    "    #dimof_output = int(np.max(Y_train) + 1)\n",
    "    dimof_output = 1\n",
    "    dimof_input = X_train.shape[1]\n",
    "\n",
    "    # Scale/whiten the X data\n",
    "    scaler = StandardScaler()\n",
    "    X_train = scaler.fit_transform(X_train)\n",
    "    #print(len(X_train))\n",
    "    print(X_train.shape, Y_train.shape)\n",
    "    \n",
    "    X_all = np.append(X_all, X_train, axis=0)\n",
    "    Y_all = np.append(Y_all, Y_train, axis=0)"
   ]
  },
  {
   "cell_type": "code",
   "execution_count": 24,
   "metadata": {},
   "outputs": [
    {
     "data": {
      "text/plain": [
       "361873"
      ]
     },
     "execution_count": 24,
     "metadata": {},
     "output_type": "execute_result"
    }
   ],
   "source": [
    "len(X_all)"
   ]
  },
  {
   "cell_type": "code",
   "execution_count": 25,
   "metadata": {},
   "outputs": [],
   "source": [
    "X_all = X_all[1:361873]\n",
    "Y_all = Y_all[1:361873]"
   ]
  },
  {
   "cell_type": "code",
   "execution_count": 7,
   "metadata": {},
   "outputs": [
    {
     "name": "stderr",
     "output_type": "stream",
     "text": [
      "/Users/jocelyn/opt/anaconda3/lib/python3.7/site-packages/joblib/externals/loky/process_executor.py:706: UserWarning: A worker stopped while some jobs were given to the executor. This can be caused by a too short worker timeout or by a memory leak.\n",
      "  \"timeout or by a memory leak.\", UserWarning\n",
      "/Users/jocelyn/opt/anaconda3/lib/python3.7/site-packages/sklearn/feature_selection/univariate_selection.py:114: UserWarning: Features [ 5 16 23 30 37 44 58 65 72 79 86] are constant.\n",
      "  UserWarning)\n",
      "/Users/jocelyn/opt/anaconda3/lib/python3.7/site-packages/sklearn/feature_selection/univariate_selection.py:115: RuntimeWarning: invalid value encountered in true_divide\n",
      "  f = msb / msw\n"
     ]
    },
    {
     "name": "stdout",
     "output_type": "stream",
     "text": [
      "Best Mean Accuracy: 1.000\n",
      "Best Config: {'anova__k': 63}\n"
     ]
    }
   ],
   "source": [
    "# compare different numbers of features selected using anova f-test\n",
    "\n",
    "\n",
    "# define the evaluation method\n",
    "cv = RepeatedStratifiedKFold(n_splits=5, n_repeats=3, random_state=1)\n",
    "# define the pipeline to evaluate\n",
    "model = LogisticRegression(solver='liblinear')\n",
    "fs = SelectKBest(score_func=f_classif)\n",
    "pipeline = Pipeline(steps=[('anova',fs), ('lr', model)])\n",
    "# define the grid\n",
    "grid = dict()\n",
    "grid['anova__k'] = [i+1 for i in range(X_all.shape[1])]\n",
    "# define the grid search\n",
    "search = GridSearchCV(pipeline, grid, scoring='accuracy', n_jobs=-1, cv=cv)\n",
    "# perform the search\n",
    "results = search.fit(X_all, Y_all)\n",
    "# summarize best\n",
    "print('Best Mean Accuracy: %.3f' % results.best_score_)\n",
    "print('Best Config: %s' % results.best_params_)"
   ]
  },
  {
   "cell_type": "code",
   "execution_count": 8,
   "metadata": {
    "scrolled": true
   },
   "outputs": [
    {
     "name": "stdout",
     "output_type": "stream",
     "text": [
      ">1 0.994 (0.000)\n",
      ">2 0.994 (0.000)\n",
      ">3 0.994 (0.000)\n",
      ">4 0.994 (0.000)\n",
      ">5 0.994 (0.000)\n",
      ">6 0.994 (0.000)\n",
      ">7 0.994 (0.000)\n",
      ">8 0.994 (0.000)\n",
      ">9 0.994 (0.000)\n",
      ">10 0.994 (0.000)\n",
      ">11 0.994 (0.000)\n",
      ">12 0.994 (0.000)\n",
      ">13 0.994 (0.000)\n",
      ">14 0.994 (0.000)\n",
      ">15 0.994 (0.000)\n",
      ">16 0.994 (0.000)\n",
      ">17 0.994 (0.000)\n",
      ">18 0.994 (0.000)\n",
      ">19 0.994 (0.000)\n",
      ">20 0.994 (0.000)\n",
      ">21 0.994 (0.000)\n",
      ">22 0.994 (0.000)\n",
      ">23 0.994 (0.000)\n",
      ">24 0.994 (0.000)\n",
      ">25 0.994 (0.000)\n",
      ">26 0.994 (0.000)\n",
      ">27 0.994 (0.000)\n",
      ">28 0.994 (0.000)\n",
      ">29 0.994 (0.000)\n",
      ">30 0.994 (0.000)\n",
      ">31 0.994 (0.000)\n",
      ">32 0.994 (0.000)\n",
      ">33 0.994 (0.000)\n",
      ">34 1.000 (0.000)\n",
      ">35 1.000 (0.000)\n",
      ">36 1.000 (0.000)\n",
      ">37 1.000 (0.000)\n",
      ">38 1.000 (0.000)\n",
      ">39 1.000 (0.000)\n",
      ">40 1.000 (0.000)\n",
      ">41 1.000 (0.000)\n",
      ">42 1.000 (0.000)\n",
      ">43 1.000 (0.000)\n",
      ">44 1.000 (0.000)\n",
      ">45 1.000 (0.000)\n",
      ">46 1.000 (0.000)\n",
      ">47 1.000 (0.000)\n",
      ">48 1.000 (0.000)\n",
      ">49 1.000 (0.000)\n",
      ">50 1.000 (0.000)\n",
      ">51 1.000 (0.000)\n",
      ">52 1.000 (0.000)\n",
      ">53 1.000 (0.000)\n",
      ">54 1.000 (0.000)\n",
      ">55 1.000 (0.000)\n",
      ">56 1.000 (0.000)\n",
      ">57 1.000 (0.000)\n",
      ">58 1.000 (0.000)\n",
      ">59 1.000 (0.000)\n",
      ">60 1.000 (0.000)\n",
      ">61 1.000 (0.000)\n",
      ">62 1.000 (0.000)\n",
      ">63 1.000 (0.000)\n",
      ">64 1.000 (0.000)\n",
      ">65 1.000 (0.000)\n",
      ">66 1.000 (0.000)\n",
      ">67 1.000 (0.000)\n",
      ">68 1.000 (0.000)\n",
      ">69 1.000 (0.000)\n",
      ">70 1.000 (0.000)\n",
      ">71 1.000 (0.000)\n"
     ]
    },
    {
     "name": "stderr",
     "output_type": "stream",
     "text": [
      "/Users/jocelyn/opt/anaconda3/lib/python3.7/site-packages/joblib/externals/loky/process_executor.py:706: UserWarning: A worker stopped while some jobs were given to the executor. This can be caused by a too short worker timeout or by a memory leak.\n",
      "  \"timeout or by a memory leak.\", UserWarning\n"
     ]
    },
    {
     "name": "stdout",
     "output_type": "stream",
     "text": [
      ">72 1.000 (0.000)\n",
      ">73 1.000 (0.000)\n",
      ">74 1.000 (0.000)\n",
      ">75 1.000 (0.000)\n",
      ">76 1.000 (0.000)\n",
      ">77 1.000 (0.000)\n",
      ">78 1.000 (0.000)\n",
      ">79 1.000 (0.000)\n",
      ">80 1.000 (0.000)\n",
      ">81 1.000 (0.000)\n",
      ">82 1.000 (0.000)\n",
      ">83 1.000 (0.000)\n",
      ">84 1.000 (0.000)\n",
      ">85 1.000 (0.000)\n",
      ">86 1.000 (0.000)\n",
      ">87 1.000 (0.000)\n",
      ">88 1.000 (0.000)\n"
     ]
    },
    {
     "data": {
      "image/png": "[encoded data removed]",
      "text/plain": [
       "<Figure size 432x288 with 1 Axes>"
      ]
     },
     "metadata": {
      "needs_background": "light"
     },
     "output_type": "display_data"
    }
   ],
   "source": [
    "# compare different numbers of features selected using anova f-test\n",
    "\n",
    "\n",
    "# evaluate a give model using cross-validation\n",
    "def evaluate_model(model):\n",
    "\tcv = RepeatedStratifiedKFold(n_splits=5, n_repeats=3, random_state=1)\n",
    "\tscores = cross_val_score(model, X_all, Y_all, scoring='accuracy', cv=cv, n_jobs=-1, error_score='raise')\n",
    "\treturn scores\n",
    "\n",
    "# define number of features to evaluate\n",
    "num_features = [i+1 for i in range(X_all.shape[1])]\n",
    "# enumerate each number of features\n",
    "results = list()\n",
    "for k in num_features:\n",
    "\t# create pipeline\n",
    "\tmodel = LogisticRegression(solver='liblinear')\n",
    "\tfs = SelectKBest(score_func=f_classif, k=k)\n",
    "\tpipeline = Pipeline(steps=[('anova',fs), ('lr', model)])\n",
    "\t# evaluate the model\n",
    "\tscores = evaluate_model(pipeline)\n",
    "\tresults.append(scores)\n",
    "\t# summarize the results\n",
    "\tprint('>%d %.3f (%.3f)' % (k, mean(scores), std(scores)))\n",
    "# plot model performance for comparison\n",
    "pyplot.boxplot(results, labels=num_features, showmeans=True)\n",
    "pyplot.show()"
   ]
  },
  {
   "cell_type": "code",
   "execution_count": 9,
   "metadata": {},
   "outputs": [
    {
     "data": {
      "image/png": "[encoded data removed]",
      "text/plain": [
       "<Figure size 1440x432 with 1 Axes>"
      ]
     },
     "metadata": {
      "needs_background": "light"
     },
     "output_type": "display_data"
    }
   ],
   "source": [
    "pyplot.figure(figsize=(20,6))\n",
    "pyplot.boxplot(results, labels=num_features, showmeans=True, patch_artist=True)\n",
    "pyplot.xticks(fontsize=9)\n",
    "pyplot.yticks(fontsize=20)\n",
    "pyplot.show()"
   ]
  },
  {
   "cell_type": "code",
   "execution_count": 10,
   "metadata": {},
   "outputs": [
    {
     "data": {
      "image/png": "[encoded data removed]",
      "text/plain": [
       "<Figure size 1440x432 with 1 Axes>"
      ]
     },
     "metadata": {
      "needs_background": "light"
     },
     "output_type": "display_data"
    }
   ],
   "source": [
    "pyplot.figure(figsize=(20,6))\n",
    "pyplot.xticks(fontsize=9)\n",
    "pyplot.yticks(fontsize=20)\n",
    "\n",
    "bp = pyplot.boxplot(results, labels=num_features, showmeans=True, patch_artist=True)\n",
    "#ax = fig.add_subplot(111)\n",
    "for box in bp['boxes']:\n",
    "    # change outline color\n",
    "    box.set( color='#7570b3', linewidth=2)\n",
    "    # change fill color\n",
    "    box.set( facecolor = '#1b9e70' )\n",
    "\n",
    "## change color and linewidth of the whiskers\n",
    "for whisker in bp['whiskers']:\n",
    "    whisker.set(color='#7570b3', linewidth=2)\n",
    "\n",
    "## change color and linewidth of the caps\n",
    "for cap in bp['caps']:\n",
    "    cap.set(color='#7570b3', linewidth=2)\n",
    "\n",
    "## change color and linewidth of the medians\n",
    "for median in bp['medians']:\n",
    "    median.set(color='yellow', linewidth=2)\n",
    "\n",
    "## change the style of fliers and their fill\n",
    "for flier in bp['fliers']:\n",
    "    flier.set(marker='o', color='#e7298a', alpha=0.5)"
   ]
  },
  {
   "cell_type": "markdown",
   "metadata": {},
   "source": [
    "## the final 35 features"
   ]
  },
  {
   "cell_type": "code",
   "execution_count": 18,
   "metadata": {},
   "outputs": [],
   "source": [
    "# feature selection\n",
    "def select_features(X_train, y_train, X_test, n):\n",
    "\t# configure to select all features\n",
    "\tfs = SelectKBest(score_func=f_classif, k=n)\n",
    "\t# learn relationship from training data\n",
    "\tfs.fit(X_train, y_train)\n",
    "\t# transform train input data\n",
    "\tX_train_fs = fs.transform(X_train)\n",
    "\t# transform test input data\n",
    "\tX_test_fs = fs.transform(X_test)\n",
    "\treturn X_train_fs, X_test_fs, fs"
   ]
  },
  {
   "cell_type": "code",
   "execution_count": 26,
   "metadata": {},
   "outputs": [
    {
     "name": "stdout",
     "output_type": "stream",
     "text": [
      "Feature 0: 189.394894\n",
      "Feature 1: 232.092220\n",
      "Feature 2: 15.158710\n",
      "Feature 3: 832.816852\n",
      "Feature 4: 8.776901\n",
      "Feature 5: 7.071197\n",
      "Feature 6: 1017.372947\n",
      "Feature 7: 55.838480\n",
      "Feature 8: 4339.653764\n",
      "Feature 9: 17.020462\n",
      "Feature 10: 40038.488309\n",
      "Feature 11: 13008.917783\n",
      "Feature 12: 3568.581481\n",
      "Feature 13: 758.644237\n",
      "Feature 14: 110.135945\n",
      "Feature 15: 9.963195\n",
      "Feature 16: 0.135713\n",
      "Feature 17: 3783.077499\n",
      "Feature 18: 2117.632837\n",
      "Feature 19: 606.096169\n",
      "Feature 20: 169.150412\n",
      "Feature 21: 53.732455\n",
      "Feature 22: 4.731720\n",
      "Feature 23: 0.129020\n",
      "Feature 24: 94637.535481\n",
      "Feature 25: 18157.971833\n",
      "Feature 26: 4325.344256\n",
      "Feature 27: 880.383669\n",
      "Feature 28: 127.985087\n",
      "Feature 29: 11.068107\n",
      "Feature 30: 0.114619\n",
      "Feature 31: 41014.286376\n",
      "Feature 32: 12993.296383\n",
      "Feature 33: 3522.301230\n",
      "Feature 34: 749.256636\n",
      "Feature 35: 107.991068\n",
      "Feature 36: 6.790629\n",
      "Feature 37: 0.107133\n",
      "Feature 38: 129320.672305\n",
      "Feature 39: 19639.048899\n",
      "Feature 40: 4608.832992\n",
      "Feature 41: 948.400733\n",
      "Feature 42: 139.335927\n",
      "Feature 43: 12.662627\n",
      "Feature 44: 0.113923\n",
      "Feature 45: 251675.263912\n",
      "Feature 46: 21999.330437\n",
      "Feature 47: 4833.764919\n",
      "Feature 48: 966.519115\n",
      "Feature 49: 140.954860\n",
      "Feature 50: 12.806503\n",
      "Feature 51: 12.806503\n",
      "Feature 52: 151183.699686\n",
      "Feature 53: 21100.964535\n",
      "Feature 54: 4761.820582\n",
      "Feature 55: 962.149809\n",
      "Feature 56: 129.279723\n",
      "Feature 57: 12.823623\n",
      "Feature 58: 0.112800\n",
      "Feature 59: 92128.825244\n",
      "Feature 60: 18143.144389\n",
      "Feature 61: 4304.276004\n",
      "Feature 62: 890.889561\n",
      "Feature 63: 135.126267\n",
      "Feature 64: 12.037042\n",
      "Feature 65: 0.113923\n",
      "Feature 66: 49890.061243\n",
      "Feature 67: 13991.409946\n",
      "Feature 68: 3590.940879\n",
      "Feature 69: 769.070037\n",
      "Feature 70: 112.548521\n",
      "Feature 71: 10.504460\n",
      "Feature 72: 0.113923\n",
      "Feature 73: 26296.322157\n",
      "Feature 74: 11269.962450\n",
      "Feature 75: 3389.529636\n",
      "Feature 76: 787.074162\n",
      "Feature 77: 129.915564\n",
      "Feature 78: 12.215402\n",
      "Feature 79: 0.113923\n",
      "Feature 80: 39438.509463\n",
      "Feature 81: 13987.190981\n",
      "Feature 82: 3875.231666\n",
      "Feature 83: 859.318256\n",
      "Feature 84: 133.906189\n",
      "Feature 85: 12.549327\n",
      "Feature 86: 0.115045\n",
      "Feature 87: 37379.773656\n"
     ]
    },
    {
     "data": {
      "image/png": "[encoded data removed]",
      "text/plain": [
       "<Figure size 432x288 with 1 Axes>"
      ]
     },
     "metadata": {
      "needs_background": "light"
     },
     "output_type": "display_data"
    }
   ],
   "source": [
    "# split into train and test sets\n",
    "X_train, X_test, y_train, y_test = train_test_split(X_all, Y_all, test_size=0.5, random_state=1)\n",
    "# feature selection\n",
    "X_train_fs, X_test_fs, fs = select_features(X_train, y_train, X_test, 35)\n",
    "# what are scores for the features\n",
    "for i in range(len(fs.scores_)):\n",
    "\tprint('Feature %d: %f' % (i, fs.scores_[i]))\n",
    "# plot the scores\n",
    "pyplot.bar([i for i in range(len(fs.scores_))], fs.scores_)\n",
    "pyplot.show()"
   ]
  },
  {
   "cell_type": "code",
   "execution_count": 27,
   "metadata": {},
   "outputs": [
    {
     "data": {
      "text/plain": [
       "array([ 6,  8, 10, 11, 12, 17, 18, 24, 25, 26, 31, 32, 33, 38, 39, 40, 45,\n",
       "       46, 47, 52, 53, 54, 59, 60, 61, 66, 67, 68, 73, 74, 75, 80, 81, 82,\n",
       "       87])"
      ]
     },
     "execution_count": 27,
     "metadata": {},
     "output_type": "execute_result"
    }
   ],
   "source": [
    "fs.get_support(indices=True)"
   ]
  },
  {
   "cell_type": "markdown",
   "metadata": {},
   "source": [
    "[10, 11, 12, 17, 18, 24, 25, 26, 31, 32, 33, 38, 39, 40, 45, 46, 47,\n",
    "       52, 53, 54, 59, 60, 61, 66, 67, 68, 73, 74, 75, 80, 81, 82, 87]\n",
    "[ 6,  8, 10, 11, 12, 17, 18, 24, 25, 26, 31, 32, 33, 38, 39, 40, 45,\n",
    "       46, 47, 52, 53, 54, 59, 60, 61, 66, 67, 68, 73, 74, 75, 80, 81, 82,\n",
    "       87]\n",
    "\n",
    "多了6和8，即7和9 in excel"
   ]
  },
  {
   "cell_type": "code",
   "execution_count": 15,
   "metadata": {},
   "outputs": [
    {
     "data": {
      "text/plain": [
       "[11,\n",
       " 12,\n",
       " 13,\n",
       " 18,\n",
       " 19,\n",
       " 25,\n",
       " 26,\n",
       " 27,\n",
       " 32,\n",
       " 33,\n",
       " 34,\n",
       " 39,\n",
       " 40,\n",
       " 41,\n",
       " 46,\n",
       " 47,\n",
       " 48,\n",
       " 53,\n",
       " 54,\n",
       " 55,\n",
       " 60,\n",
       " 61,\n",
       " 62,\n",
       " 67,\n",
       " 68,\n",
       " 69,\n",
       " 74,\n",
       " 75,\n",
       " 76,\n",
       " 81,\n",
       " 82,\n",
       " 83,\n",
       " 88]"
      ]
     },
     "execution_count": 15,
     "metadata": {},
     "output_type": "execute_result"
    }
   ],
   "source": [
    "my_list33 = [10, 11, 12, 17, 18, 24, 25, 26, 31, 32, 33, 38, 39, 40, 45, 46, 47,\n",
    "       52, 53, 54, 59, 60, 61, 66, 67, 68, 73, 74, 75, 80, 81, 82, 87]\n",
    "new_list = [x+1 for x in my_list33]\n",
    "new_list"
   ]
  },
  {
   "cell_type": "markdown",
   "metadata": {},
   "source": [
    "# Train model"
   ]
  },
  {
   "cell_type": "code",
   "execution_count": 6,
   "metadata": {},
   "outputs": [],
   "source": [
    "# Set up a 'look back' dataset for sequence to label prediction with Keras.\n",
    "\n",
    "# The LSTM network expects the input data (X) to be provided with a specific\n",
    "# array structure in the form of: [samples, time steps, features].\n",
    "\n",
    "# create_dataset is adapted from\n",
    "# http://machinelearningmastery.com/time-series-prediction-lstm-recurrent-neural-networks-python-keras/\n",
    "\n",
    "def create_dataset(X, Y, **options):\n",
    "    \"\"\"Convert an array of X, Y values into a dataset matrix for and LSTM\"\"\"\n",
    "    \n",
    "    look_back = options.pop('look_back', None)\n",
    "    dataX, dataY = [], []\n",
    "    for i in range(len(X) - look_back):\n",
    "        a = X[i:(i+look_back)]\n",
    "        dataX.append(a)\n",
    "        dataY.append(Y[i + look_back - 1])\n",
    "    return np.array(dataX), np.array(dataY)\n",
    "\n",
    "# Predictions will be based on look_back minutes of data:\n",
    "look_back = 50"
   ]
  },
  {
   "cell_type": "markdown",
   "metadata": {},
   "source": [
    "[11,12,13,18,19,25,26,27,32,33, 34, 39, 40, 41, 46, 47, 48, 53, 54, 55, 60, 61, 62,67, 68, 69,74, 75, 76, 81, 82, 83, 88]\n",
    "'PosLgt1','PosLgt2','PosLgt3','PosLat1','PosLat2','VelLgt1','VelLgt2','VelLgt3','VelLat1','VelLat2','VelLat3','AccLgt1','AccLgt2','AccLgt3','AccLat1','AccLat2','AccLat3','Angle1','Angle2','Angle3','Type1','Type2','Type3','Id1','Id2','Id3','Lane1','Lane2','Lane3','PositionInLane1','PositionInLane2','PositionInLane3','Lead'"
   ]
  },
  {
   "cell_type": "code",
   "execution_count": 44,
   "metadata": {
    "scrolled": true
   },
   "outputs": [
    {
     "name": "stdout",
     "output_type": "stream",
     "text": [
      "0\n",
      "(97434, 35) (97434,)\n",
      "(97384, 50, 35) (97384,)\n",
      "1\n",
      "(46362, 35) (46362,)\n",
      "(46312, 50, 35) (46312,)\n",
      "2\n",
      "(56119, 35) (56119,)\n",
      "(56069, 50, 35) (56069,)\n",
      "3\n",
      "(107451, 35) (107451,)\n",
      "(107401, 50, 35) (107401,)\n",
      "4\n",
      "(54506, 35) (54506,)\n",
      "(54456, 50, 35) (54456,)\n",
      "5\n",
      "(56795, 35) (56795,)\n",
      "(56745, 50, 35) (56745,)\n",
      "6\n",
      "(54873, 35) (54873,)\n",
      "(54823, 50, 35) (54823,)\n",
      "7\n",
      "(95999, 35) (95999,)\n",
      "(95949, 50, 35) (95949,)\n",
      "8\n",
      "(93916, 35) (93916,)\n",
      "(93866, 50, 35) (93866,)\n",
      "9\n",
      "(67954, 35) (67954,)\n",
      "(67904, 50, 35) (67904,)\n",
      "10\n",
      "(70547, 35) (70547,)\n",
      "(70497, 50, 35) (70497,)\n",
      "11\n",
      "(32138, 35) (32138,)\n",
      "(32088, 50, 35) (32088,)\n"
     ]
    }
   ],
   "source": [
    "path = glob.glob('../TrafficNet/VolvoData/2019/*.csv')\n",
    "\n",
    "X_all = np.empty((1, 50, 35))\n",
    "Y_all = np.empty((1,))\n",
    "\n",
    "for i in range(len(path)):\n",
    "    print(i)\n",
    "    \n",
    "    Flow = pd.read_csv(path[i], usecols=['Lane','Velocity','PosLgt1','PosLgt2','PosLgt3','PosLat1','PosLat2','VelLgt1','VelLgt2','VelLgt3','VelLat1','VelLat2','VelLat3','AccLgt1','AccLgt2','AccLgt3','AccLat1','AccLat2','AccLat3','Angle1','Angle2','Angle3','Type1','Type2','Type3','Id1','Id2','Id3','Lane1','Lane2','Lane3','PositionInLane1','PositionInLane2','PositionInLane3','Lead','Flow'])\n",
    "    Flow.fillna(-1, inplace=True)\n",
    "    \n",
    "    Y_train = np.array(Flow['Flow'].values)\n",
    "    X_train = np.array(Flow[['Lane','Velocity','PosLgt1','PosLgt2','PosLgt3','PosLat1','PosLat2','VelLgt1','VelLgt2','VelLgt3','VelLat1','VelLat2','VelLat3','AccLgt1','AccLgt2','AccLgt3','AccLat1','AccLat2','AccLat3','Angle1','Angle2','Angle3','Type1','Type2','Type3','Id1','Id2','Id3','Lane1','Lane2','Lane3','PositionInLane1','PositionInLane2','PositionInLane3','Lead']])\n",
    "    # Get dimensions of input and output\n",
    "    #dimof_output = int(np.max(Y_train) + 1)\n",
    "    dimof_output = 1\n",
    "    dimof_input = X_train.shape[1]\n",
    "\n",
    "    # Scale/whiten the X data\n",
    "    scaler = StandardScaler()\n",
    "    X_train = scaler.fit_transform(X_train)\n",
    "    #print(len(X_train))\n",
    "    print(X_train.shape, Y_train.shape)\n",
    "    \n",
    "    X, Y = create_dataset(X_train, Y_train, look_back=look_back)\n",
    "    print(X.shape, Y.shape)\n",
    "    \n",
    "    X_all = np.append(X_all, X, axis=0)\n",
    "    Y_all = np.append(Y_all, Y, axis=0)"
   ]
  },
  {
   "cell_type": "code",
   "execution_count": 4,
   "metadata": {},
   "outputs": [
    {
     "data": {
      "text/plain": [
       "833473"
      ]
     },
     "execution_count": 4,
     "metadata": {},
     "output_type": "execute_result"
    }
   ],
   "source": [
    "(len(X_all)//64)*64 + 1"
   ]
  },
  {
   "cell_type": "code",
   "execution_count": 45,
   "metadata": {},
   "outputs": [
    {
     "data": {
      "text/plain": [
       "Counter({0.0: 749976, 1.0: 83496})"
      ]
     },
     "execution_count": 45,
     "metadata": {},
     "output_type": "execute_result"
    }
   ],
   "source": [
    "X_all = X_all[1:833473]\n",
    "Y_all = Y_all[1:833473]\n",
    "\n",
    "collections.Counter(Y_all)"
   ]
  },
  {
   "cell_type": "code",
   "execution_count": 6,
   "metadata": {},
   "outputs": [
    {
     "data": {
      "text/plain": [
       "8.982178787007761"
      ]
     },
     "execution_count": 6,
     "metadata": {},
     "output_type": "execute_result"
    }
   ],
   "source": [
    "457473/(457473+420671)\n",
    "749976/83496"
   ]
  },
  {
   "cell_type": "code",
   "execution_count": 46,
   "metadata": {},
   "outputs": [],
   "source": [
    "# Create the LSTM network.\n",
    "batch_size = 32\n",
    "dropout = 0.5\n",
    "num_epoch = 100\n",
    "earlyStopping = EarlyStopping(monitor='val_loss', patience=0, verbose=0, mode='auto')\n",
    "weights = {0:1, 1:9}"
   ]
  },
  {
   "cell_type": "code",
   "execution_count": 47,
   "metadata": {},
   "outputs": [
    {
     "name": "stderr",
     "output_type": "stream",
     "text": [
      "/Users/jocelyn/opt/anaconda3/lib/python3.7/site-packages/ipykernel_launcher.py:2: UserWarning: Update your `LSTM` call to the Keras 2 API: `LSTM(batch_input_shape=[32, 50, 3..., units=10)`\n",
      "  \n",
      "/Users/jocelyn/opt/anaconda3/lib/python3.7/site-packages/ipykernel_launcher.py:4: UserWarning: Update your `Dense` call to the Keras 2 API: `Dense(1, activation=\"sigmoid\", kernel_initializer=\"uniform\")`\n",
      "  after removing the cwd from sys.path.\n"
     ]
    }
   ],
   "source": [
    "model_Flow1 = Sequential()\n",
    "model_Flow1.add(LSTM(output_dim=10, batch_input_shape=[batch_size, look_back, dimof_input]))\n",
    "model_Flow1.add(Dropout(dropout))\n",
    "model_Flow1.add(Dense(dimof_output, init='uniform', activation='sigmoid'))\n",
    "model_Flow1.compile(loss='binary_crossentropy', optimizer='adam',metrics=['accuracy'])"
   ]
  },
  {
   "cell_type": "code",
   "execution_count": 10,
   "metadata": {},
   "outputs": [
    {
     "name": "stdout",
     "output_type": "stream",
     "text": [
      "Model: \"sequential_2\"\n",
      "_________________________________________________________________\n",
      "Layer (type)                 Output Shape              Param #   \n",
      "=================================================================\n",
      "lstm_2 (LSTM)                (32, 10)                  1840      \n",
      "_________________________________________________________________\n",
      "dropout_2 (Dropout)          (32, 10)                  0         \n",
      "_________________________________________________________________\n",
      "dense_2 (Dense)              (32, 1)                   11        \n",
      "=================================================================\n",
      "Total params: 1,851\n",
      "Trainable params: 1,851\n",
      "Non-trainable params: 0\n",
      "_________________________________________________________________\n"
     ]
    }
   ],
   "source": [
    "model_Flow1.summary()"
   ]
  },
  {
   "cell_type": "code",
   "execution_count": 48,
   "metadata": {},
   "outputs": [
    {
     "name": "stderr",
     "output_type": "stream",
     "text": [
      "/Users/jocelyn/opt/anaconda3/lib/python3.7/site-packages/ipykernel_launcher.py:6: UserWarning: The `nb_epoch` argument in `fit` has been renamed `epochs`.\n",
      "  \n"
     ]
    },
    {
     "name": "stdout",
     "output_type": "stream",
     "text": [
      "Train on 416736 samples, validate on 416736 samples\n",
      "Epoch 1/100\n",
      "416736/416736 [==============================] - 2719s 7ms/step - loss: 0.0344 - accuracy: 0.9920 - val_loss: 0.0397 - val_accuracy: 0.9844\n",
      "Epoch 2/100\n",
      "416736/416736 [==============================] - 2990s 7ms/step - loss: 0.0109 - accuracy: 0.9964 - val_loss: 0.0629 - val_accuracy: 0.9832\n"
     ]
    }
   ],
   "source": [
    "history1 = model_Flow1.fit(\n",
    "    X_all, Y_all,\n",
    "    validation_split=0.5,\n",
    "    callbacks=[earlyStopping],\n",
    "    shuffle=True,\n",
    "    nb_epoch=num_epoch, batch_size=batch_size, verbose=1)"
   ]
  },
  {
   "cell_type": "code",
   "execution_count": 49,
   "metadata": {},
   "outputs": [
    {
     "data": {
      "text/plain": [
       "{'val_loss': [0.03974730271026825, 0.06288969359351729],\n",
       " 'val_accuracy': [0.984404981136322, 0.9832243919372559],\n",
       " 'loss': [0.034387690377756075, 0.010917265902437117],\n",
       " 'accuracy': [0.99195653, 0.9963574]}"
      ]
     },
     "execution_count": 49,
     "metadata": {},
     "output_type": "execute_result"
    }
   ],
   "source": [
    "history1.history"
   ]
  },
  {
   "cell_type": "code",
   "execution_count": 50,
   "metadata": {},
   "outputs": [
    {
     "data": {
      "image/png": "[encoded data removed]",
      "text/plain": [
       "<Figure size 432x288 with 1 Axes>"
      ]
     },
     "metadata": {
      "needs_background": "light"
     },
     "output_type": "display_data"
    }
   ],
   "source": [
    "# Plot history for training and validation loss.\n",
    "\n",
    "plt.plot(history1.history['accuracy'])\n",
    "plt.plot(history1.history['val_accuracy'])\n",
    "plt.title('2-layer LSTM model')\n",
    "plt.ylabel('accuracy')\n",
    "plt.xlabel('epoch')\n",
    "plt.legend(['Train', 'Validate'], loc='upper left')\n",
    "plt.show()"
   ]
  },
  {
   "cell_type": "code",
   "execution_count": 51,
   "metadata": {},
   "outputs": [
    {
     "data": {
      "image/png": "[encoded data removed]",
      "text/plain": [
       "<Figure size 432x288 with 1 Axes>"
      ]
     },
     "metadata": {
      "needs_background": "light"
     },
     "output_type": "display_data"
    }
   ],
   "source": [
    "# Plot history for training and validation loss.\n",
    "\n",
    "plt.plot(history1.history['loss'])\n",
    "plt.plot(history1.history['val_loss'])\n",
    "plt.title('2-layer LSTM model')\n",
    "plt.ylabel('loss')\n",
    "plt.xlabel('epoch')\n",
    "plt.legend(['Train', 'Validate'], loc='upper left')\n",
    "plt.show()"
   ]
  },
  {
   "cell_type": "code",
   "execution_count": 15,
   "metadata": {},
   "outputs": [
    {
     "name": "stderr",
     "output_type": "stream",
     "text": [
      "/Users/jocelyn/opt/anaconda3/lib/python3.7/site-packages/ipykernel_launcher.py:2: UserWarning: Update your `LSTM` call to the Keras 2 API: `LSTM(batch_input_shape=[32, 50, 3..., units=10)`\n",
      "  \n",
      "/Users/jocelyn/opt/anaconda3/lib/python3.7/site-packages/ipykernel_launcher.py:6: UserWarning: Update your `Dense` call to the Keras 2 API: `Dense(1, activation=\"sigmoid\", kernel_initializer=\"uniform\")`\n",
      "  \n"
     ]
    }
   ],
   "source": [
    "model_Flow2 = Sequential()\n",
    "model_Flow2.add(LSTM(output_dim=10, batch_input_shape=[batch_size, look_back, dimof_input]))\n",
    "model_Flow2.add(Dropout(dropout))\n",
    "model_Flow2.add(Dense(30, activation='relu'))\n",
    "model_Flow2.add(Dropout(dropout))\n",
    "model_Flow2.add(Dense(dimof_output, init='uniform', activation='sigmoid'))\n",
    "model_Flow2.compile(loss='binary_crossentropy', optimizer='adam',metrics=['accuracy'])"
   ]
  },
  {
   "cell_type": "code",
   "execution_count": 10,
   "metadata": {},
   "outputs": [
    {
     "name": "stdout",
     "output_type": "stream",
     "text": [
      "Model: \"sequential_1\"\n",
      "_________________________________________________________________\n",
      "Layer (type)                 Output Shape              Param #   \n",
      "=================================================================\n",
      "lstm_1 (LSTM)                (32, 10)                  1320      \n",
      "_________________________________________________________________\n",
      "dropout_1 (Dropout)          (32, 10)                  0         \n",
      "_________________________________________________________________\n",
      "dense_1 (Dense)              (32, 30)                  330       \n",
      "_________________________________________________________________\n",
      "dropout_2 (Dropout)          (32, 30)                  0         \n",
      "_________________________________________________________________\n",
      "dense_2 (Dense)              (32, 1)                   31        \n",
      "=================================================================\n",
      "Total params: 1,681\n",
      "Trainable params: 1,681\n",
      "Non-trainable params: 0\n",
      "_________________________________________________________________\n"
     ]
    }
   ],
   "source": [
    "model_Flow2.summary()"
   ]
  },
  {
   "cell_type": "code",
   "execution_count": 16,
   "metadata": {},
   "outputs": [
    {
     "name": "stderr",
     "output_type": "stream",
     "text": [
      "/Users/jocelyn/opt/anaconda3/lib/python3.7/site-packages/ipykernel_launcher.py:6: UserWarning: The `nb_epoch` argument in `fit` has been renamed `epochs`.\n",
      "  \n"
     ]
    },
    {
     "name": "stdout",
     "output_type": "stream",
     "text": [
      "Train on 416736 samples, validate on 416736 samples\n",
      "Epoch 1/100\n",
      "416736/416736 [==============================] - 2946s 7ms/step - loss: 0.0345 - accuracy: 0.9893 - val_loss: 0.0638 - val_accuracy: 0.9811\n",
      "Epoch 2/100\n",
      "416736/416736 [==============================] - 3005s 7ms/step - loss: 0.0114 - accuracy: 0.9967 - val_loss: 0.1283 - val_accuracy: 0.9787\n"
     ]
    }
   ],
   "source": [
    "history2 = model_Flow2.fit(\n",
    "    X_all, Y_all,\n",
    "    validation_split=0.5,\n",
    "    callbacks=[earlyStopping],\n",
    "    shuffle=True,\n",
    "    nb_epoch=num_epoch, batch_size=batch_size, verbose=1)"
   ]
  },
  {
   "cell_type": "code",
   "execution_count": 17,
   "metadata": {},
   "outputs": [
    {
     "data": {
      "text/plain": [
       "{'val_loss': [0.06378744742221354, 0.12831311211609747],\n",
       " 'val_accuracy': [0.9810911417007446, 0.9786507487297058],\n",
       " 'loss': [0.03447545026151066, 0.011396870350109497],\n",
       " 'accuracy': [0.9892714, 0.99669814]}"
      ]
     },
     "execution_count": 17,
     "metadata": {},
     "output_type": "execute_result"
    }
   ],
   "source": [
    "history2.history"
   ]
  },
  {
   "cell_type": "code",
   "execution_count": 18,
   "metadata": {},
   "outputs": [
    {
     "data": {
      "image/png": "[encoded data removed]",
      "text/plain": [
       "<Figure size 432x288 with 1 Axes>"
      ]
     },
     "metadata": {
      "needs_background": "light"
     },
     "output_type": "display_data"
    }
   ],
   "source": [
    "# Plot history for training and validation loss.\n",
    "\n",
    "plt.plot(history2.history['accuracy'])\n",
    "plt.plot(history2.history['val_accuracy'])\n",
    "plt.title('3-layer LSTM model')\n",
    "plt.ylabel('accuracy')\n",
    "plt.xlabel('epoch')\n",
    "plt.legend(['Train', 'Validate'], loc='upper left')\n",
    "plt.show()"
   ]
  },
  {
   "cell_type": "code",
   "execution_count": 19,
   "metadata": {},
   "outputs": [
    {
     "data": {
      "image/png": "[encoded data removed]",
      "text/plain": [
       "<Figure size 432x288 with 1 Axes>"
      ]
     },
     "metadata": {
      "needs_background": "light"
     },
     "output_type": "display_data"
    }
   ],
   "source": [
    "# Plot history for training and validation loss.\n",
    "\n",
    "plt.plot(history2.history['loss'])\n",
    "plt.plot(history2.history['val_loss'])\n",
    "plt.title('3-layer LSTM model')\n",
    "plt.ylabel('loss')\n",
    "plt.xlabel('epoch')\n",
    "plt.legend(['Train', 'Validate'], loc='upper left')\n",
    "plt.show()"
   ]
  },
  {
   "cell_type": "code",
   "execution_count": 20,
   "metadata": {},
   "outputs": [
    {
     "name": "stderr",
     "output_type": "stream",
     "text": [
      "/Users/jocelyn/opt/anaconda3/lib/python3.7/site-packages/ipykernel_launcher.py:2: UserWarning: Update your `LSTM` call to the Keras 2 API: `LSTM(batch_input_shape=[32, 50, 3..., units=10)`\n",
      "  \n",
      "/Users/jocelyn/opt/anaconda3/lib/python3.7/site-packages/ipykernel_launcher.py:8: UserWarning: Update your `Dense` call to the Keras 2 API: `Dense(1, activation=\"sigmoid\", kernel_initializer=\"uniform\")`\n",
      "  \n"
     ]
    }
   ],
   "source": [
    "model_Flow3 = Sequential()\n",
    "model_Flow3.add(LSTM(output_dim=10, batch_input_shape=[batch_size, look_back, dimof_input]))\n",
    "model_Flow3.add(Dropout(dropout))\n",
    "model_Flow3.add(Dense(30, activation='relu'))\n",
    "model_Flow3.add(Dropout(dropout))\n",
    "model_Flow3.add(Dense(30, activation='relu'))\n",
    "model_Flow3.add(Dropout(dropout))\n",
    "model_Flow3.add(Dense(dimof_output, init='uniform', activation='sigmoid'))\n",
    "model_Flow3.compile(loss='binary_crossentropy', optimizer='adam',metrics=['accuracy'])"
   ]
  },
  {
   "cell_type": "code",
   "execution_count": 16,
   "metadata": {},
   "outputs": [
    {
     "name": "stdout",
     "output_type": "stream",
     "text": [
      "Model: \"sequential_2\"\n",
      "_________________________________________________________________\n",
      "Layer (type)                 Output Shape              Param #   \n",
      "=================================================================\n",
      "lstm_2 (LSTM)                (32, 10)                  1320      \n",
      "_________________________________________________________________\n",
      "dropout_3 (Dropout)          (32, 10)                  0         \n",
      "_________________________________________________________________\n",
      "dense_3 (Dense)              (32, 30)                  330       \n",
      "_________________________________________________________________\n",
      "dropout_4 (Dropout)          (32, 30)                  0         \n",
      "_________________________________________________________________\n",
      "dense_4 (Dense)              (32, 30)                  930       \n",
      "_________________________________________________________________\n",
      "dropout_5 (Dropout)          (32, 30)                  0         \n",
      "_________________________________________________________________\n",
      "dense_5 (Dense)              (32, 1)                   31        \n",
      "=================================================================\n",
      "Total params: 2,611\n",
      "Trainable params: 2,611\n",
      "Non-trainable params: 0\n",
      "_________________________________________________________________\n"
     ]
    }
   ],
   "source": [
    "model_Flow3.summary()"
   ]
  },
  {
   "cell_type": "code",
   "execution_count": 21,
   "metadata": {},
   "outputs": [
    {
     "name": "stderr",
     "output_type": "stream",
     "text": [
      "/Users/jocelyn/opt/anaconda3/lib/python3.7/site-packages/ipykernel_launcher.py:6: UserWarning: The `nb_epoch` argument in `fit` has been renamed `epochs`.\n",
      "  \n"
     ]
    },
    {
     "name": "stdout",
     "output_type": "stream",
     "text": [
      "Train on 416736 samples, validate on 416736 samples\n",
      "Epoch 1/100\n",
      "416736/416736 [==============================] - 3135s 8ms/step - loss: 0.0388 - accuracy: 0.9877 - val_loss: 0.0983 - val_accuracy: 0.9785\n",
      "Epoch 2/100\n",
      "416736/416736 [==============================] - 3302s 8ms/step - loss: 0.0145 - accuracy: 0.9952 - val_loss: 0.1370 - val_accuracy: 0.9783\n"
     ]
    }
   ],
   "source": [
    "history3 = model_Flow3.fit(\n",
    "    X_all, Y_all,\n",
    "    validation_split=0.5,\n",
    "    callbacks=[earlyStopping],\n",
    "    shuffle=True,\n",
    "    nb_epoch=num_epoch, batch_size=batch_size, verbose=1)"
   ]
  },
  {
   "cell_type": "code",
   "execution_count": 22,
   "metadata": {},
   "outputs": [
    {
     "data": {
      "text/plain": [
       "{'val_loss': [0.09825760731187172, 0.13701021012471296],\n",
       " 'val_accuracy': [0.978477954864502, 0.9782524108886719],\n",
       " 'loss': [0.038816187797419646, 0.014455556292935675],\n",
       " 'accuracy': [0.98767805, 0.9952224]}"
      ]
     },
     "execution_count": 22,
     "metadata": {},
     "output_type": "execute_result"
    }
   ],
   "source": [
    "history3.history"
   ]
  },
  {
   "cell_type": "code",
   "execution_count": 23,
   "metadata": {},
   "outputs": [
    {
     "data": {
      "image/png": "[encoded data removed]",
      "text/plain": [
       "<Figure size 432x288 with 1 Axes>"
      ]
     },
     "metadata": {
      "needs_background": "light"
     },
     "output_type": "display_data"
    }
   ],
   "source": [
    "# Plot history for training and validation loss.\n",
    "\n",
    "plt.plot(history3.history['accuracy'])\n",
    "plt.plot(history3.history['val_accuracy'])\n",
    "plt.title('4-layer LSTM model')\n",
    "plt.ylabel('accuracy')\n",
    "plt.xlabel('epoch')\n",
    "plt.legend(['Train', 'Validate'], loc='upper left')\n",
    "plt.show()"
   ]
  },
  {
   "cell_type": "code",
   "execution_count": 24,
   "metadata": {},
   "outputs": [
    {
     "data": {
      "image/png": "[encoded data removed]",
      "text/plain": [
       "<Figure size 432x288 with 1 Axes>"
      ]
     },
     "metadata": {
      "needs_background": "light"
     },
     "output_type": "display_data"
    }
   ],
   "source": [
    "# Plot history for training and validation loss.\n",
    "\n",
    "plt.plot(history3.history['loss'])\n",
    "plt.plot(history3.history['val_loss'])\n",
    "plt.title('4-layer LSTM model')\n",
    "plt.ylabel('loss')\n",
    "plt.xlabel('epoch')\n",
    "plt.legend(['Train', 'Validate'], loc='upper left')\n",
    "plt.show()"
   ]
  },
  {
   "cell_type": "code",
   "execution_count": 8,
   "metadata": {},
   "outputs": [
    {
     "name": "stderr",
     "output_type": "stream",
     "text": [
      "/Users/jocelyn/opt/anaconda3/lib/python3.7/site-packages/ipykernel_launcher.py:2: UserWarning: Update your `LSTM` call to the Keras 2 API: `LSTM(batch_input_shape=[32, 50, 3..., units=10)`\n",
      "  \n"
     ]
    },
    {
     "name": "stdout",
     "output_type": "stream",
     "text": [
      "WARNING:tensorflow:From /Users/jocelyn/opt/anaconda3/lib/python3.7/site-packages/tensorflow/python/ops/nn_impl.py:180: add_dispatch_support.<locals>.wrapper (from tensorflow.python.ops.array_ops) is deprecated and will be removed in a future version.\n",
      "Instructions for updating:\n",
      "Use tf.where in 2.0, which has the same broadcast rule as np.where\n"
     ]
    },
    {
     "name": "stderr",
     "output_type": "stream",
     "text": [
      "/Users/jocelyn/opt/anaconda3/lib/python3.7/site-packages/ipykernel_launcher.py:10: UserWarning: Update your `Dense` call to the Keras 2 API: `Dense(1, activation=\"sigmoid\", kernel_initializer=\"uniform\")`\n",
      "  # Remove the CWD from sys.path while we load stuff.\n"
     ]
    }
   ],
   "source": [
    "model_Flow4 = Sequential()\n",
    "model_Flow4.add(LSTM(output_dim=10, batch_input_shape=[batch_size, look_back, dimof_input]))\n",
    "model_Flow4.add(Dropout(dropout))\n",
    "model_Flow4.add(Dense(30, activation='relu'))\n",
    "model_Flow4.add(Dropout(dropout))\n",
    "model_Flow4.add(Dense(30, activation='relu'))\n",
    "model_Flow4.add(Dropout(dropout))\n",
    "model_Flow4.add(Dense(10, activation='relu'))\n",
    "model_Flow4.add(Dropout(dropout))\n",
    "model_Flow4.add(Dense(dimof_output, init='uniform', activation='sigmoid'))\n",
    "model_Flow4.compile(loss='binary_crossentropy', optimizer='adam',metrics=['accuracy'])"
   ]
  },
  {
   "cell_type": "code",
   "execution_count": 12,
   "metadata": {},
   "outputs": [
    {
     "name": "stdout",
     "output_type": "stream",
     "text": [
      "Model: \"sequential_2\"\n",
      "_________________________________________________________________\n",
      "Layer (type)                 Output Shape              Param #   \n",
      "=================================================================\n",
      "lstm_2 (LSTM)                (32, 10)                  1760      \n",
      "_________________________________________________________________\n",
      "dropout_4 (Dropout)          (32, 10)                  0         \n",
      "_________________________________________________________________\n",
      "dense_4 (Dense)              (32, 30)                  330       \n",
      "_________________________________________________________________\n",
      "dropout_5 (Dropout)          (32, 30)                  0         \n",
      "_________________________________________________________________\n",
      "dense_5 (Dense)              (32, 30)                  930       \n",
      "_________________________________________________________________\n",
      "dropout_6 (Dropout)          (32, 30)                  0         \n",
      "_________________________________________________________________\n",
      "dense_6 (Dense)              (32, 10)                  310       \n",
      "_________________________________________________________________\n",
      "dropout_7 (Dropout)          (32, 10)                  0         \n",
      "_________________________________________________________________\n",
      "dense_7 (Dense)              (32, 1)                   11        \n",
      "=================================================================\n",
      "Total params: 3,341\n",
      "Trainable params: 3,341\n",
      "Non-trainable params: 0\n",
      "_________________________________________________________________\n"
     ]
    }
   ],
   "source": [
    "model_Flow4.summary()"
   ]
  },
  {
   "cell_type": "code",
   "execution_count": 9,
   "metadata": {},
   "outputs": [
    {
     "name": "stderr",
     "output_type": "stream",
     "text": [
      "/Users/jocelyn/opt/anaconda3/lib/python3.7/site-packages/ipykernel_launcher.py:6: UserWarning: The `nb_epoch` argument in `fit` has been renamed `epochs`.\n",
      "  \n"
     ]
    },
    {
     "name": "stdout",
     "output_type": "stream",
     "text": [
      "WARNING:tensorflow:From /Users/jocelyn/opt/anaconda3/lib/python3.7/site-packages/keras/backend/tensorflow_backend.py:422: The name tf.global_variables is deprecated. Please use tf.compat.v1.global_variables instead.\n",
      "\n",
      "Train on 416736 samples, validate on 416736 samples\n",
      "Epoch 1/100\n",
      "416736/416736 [==============================] - 2628s 6ms/step - loss: 0.0493 - accuracy: 0.9834 - val_loss: 0.0604 - val_accuracy: 0.9817\n",
      "Epoch 2/100\n",
      "416736/416736 [==============================] - 2667s 6ms/step - loss: 0.0235 - accuracy: 0.9925 - val_loss: 0.1007 - val_accuracy: 0.9834\n"
     ]
    }
   ],
   "source": [
    "history4 = model_Flow4.fit(\n",
    "    X_all, Y_all,\n",
    "    validation_split=0.5,\n",
    "    callbacks=[earlyStopping],\n",
    "    shuffle=True,\n",
    "    nb_epoch=num_epoch, batch_size=batch_size, verbose=1)"
   ]
  },
  {
   "cell_type": "code",
   "execution_count": 10,
   "metadata": {},
   "outputs": [
    {
     "data": {
      "text/plain": [
       "{'val_loss': [0.06042624625828179, 0.10065398371843685],\n",
       " 'val_accuracy': [0.9817222356796265, 0.9834355711936951],\n",
       " 'loss': [0.04931181271653603, 0.023486194846254825],\n",
       " 'accuracy': [0.98340195, 0.99245083]}"
      ]
     },
     "execution_count": 10,
     "metadata": {},
     "output_type": "execute_result"
    }
   ],
   "source": [
    "history4.history"
   ]
  },
  {
   "cell_type": "code",
   "execution_count": 11,
   "metadata": {},
   "outputs": [
    {
     "data": {
      "image/png": "[encoded data removed]",
      "text/plain": [
       "<Figure size 432x288 with 1 Axes>"
      ]
     },
     "metadata": {
      "needs_background": "light"
     },
     "output_type": "display_data"
    }
   ],
   "source": [
    "# Plot history for training and validation loss.\n",
    "\n",
    "plt.plot(history4.history['accuracy'])\n",
    "plt.plot(history4.history['val_accuracy'])\n",
    "plt.title('5-layer LSTM model')\n",
    "plt.ylabel('accuracy')\n",
    "plt.xlabel('epoch')\n",
    "plt.legend(['Train', 'Validate'], loc='upper left')\n",
    "plt.show()"
   ]
  },
  {
   "cell_type": "code",
   "execution_count": 12,
   "metadata": {},
   "outputs": [
    {
     "data": {
      "image/png": "[encoded data removed]",
      "text/plain": [
       "<Figure size 432x288 with 1 Axes>"
      ]
     },
     "metadata": {
      "needs_background": "light"
     },
     "output_type": "display_data"
    }
   ],
   "source": [
    "# Plot history for training and validation loss.\n",
    "\n",
    "plt.plot(history4.history['loss'])\n",
    "plt.plot(history4.history['val_loss'])\n",
    "plt.title('5-layer LSTM model')\n",
    "plt.ylabel('loss')\n",
    "plt.xlabel('epoch')\n",
    "plt.legend(['Train', 'Validate'], loc='upper left')\n",
    "plt.show()"
   ]
  },
  {
   "cell_type": "code",
   "execution_count": 13,
   "metadata": {},
   "outputs": [
    {
     "name": "stderr",
     "output_type": "stream",
     "text": [
      "/Users/jocelyn/opt/anaconda3/lib/python3.7/site-packages/ipykernel_launcher.py:2: UserWarning: Update your `LSTM` call to the Keras 2 API: `LSTM(batch_input_shape=[32, 50, 3..., units=20)`\n",
      "  \n",
      "/Users/jocelyn/opt/anaconda3/lib/python3.7/site-packages/ipykernel_launcher.py:4: UserWarning: Update your `Dense` call to the Keras 2 API: `Dense(1, activation=\"sigmoid\", kernel_initializer=\"uniform\")`\n",
      "  after removing the cwd from sys.path.\n"
     ]
    }
   ],
   "source": [
    "model_Flow5 = Sequential()\n",
    "model_Flow5.add(LSTM(output_dim=20, batch_input_shape=[batch_size, look_back, dimof_input]))\n",
    "model_Flow5.add(Dropout(dropout))\n",
    "model_Flow5.add(Dense(dimof_output, init='uniform', activation='sigmoid'))\n",
    "model_Flow5.compile(loss='binary_crossentropy', optimizer='adam',metrics=['accuracy'])"
   ]
  },
  {
   "cell_type": "code",
   "execution_count": 14,
   "metadata": {},
   "outputs": [
    {
     "name": "stdout",
     "output_type": "stream",
     "text": [
      "Model: \"sequential_3\"\n",
      "_________________________________________________________________\n",
      "Layer (type)                 Output Shape              Param #   \n",
      "=================================================================\n",
      "lstm_2 (LSTM)                (32, 20)                  4480      \n",
      "_________________________________________________________________\n",
      "dropout_5 (Dropout)          (32, 20)                  0         \n",
      "_________________________________________________________________\n",
      "dense_5 (Dense)              (32, 1)                   21        \n",
      "=================================================================\n",
      "Total params: 4,501\n",
      "Trainable params: 4,501\n",
      "Non-trainable params: 0\n",
      "_________________________________________________________________\n"
     ]
    }
   ],
   "source": [
    "model_Flow5.summary()"
   ]
  },
  {
   "cell_type": "code",
   "execution_count": 15,
   "metadata": {},
   "outputs": [
    {
     "name": "stderr",
     "output_type": "stream",
     "text": [
      "/Users/jocelyn/opt/anaconda3/lib/python3.7/site-packages/ipykernel_launcher.py:6: UserWarning: The `nb_epoch` argument in `fit` has been renamed `epochs`.\n",
      "  \n"
     ]
    },
    {
     "name": "stdout",
     "output_type": "stream",
     "text": [
      "Train on 416736 samples, validate on 416736 samples\n",
      "Epoch 1/100\n",
      "416736/416736 [==============================] - 2912s 7ms/step - loss: 0.0221 - accuracy: 0.9941 - val_loss: 0.1390 - val_accuracy: 0.9786\n",
      "Epoch 2/100\n",
      "416736/416736 [==============================] - 2986s 7ms/step - loss: 0.0057 - accuracy: 0.9982 - val_loss: 0.1491 - val_accuracy: 0.9748\n"
     ]
    }
   ],
   "source": [
    "history5 = model_Flow5.fit(\n",
    "    X_all, Y_all,\n",
    "    validation_split=0.5,\n",
    "    callbacks=[earlyStopping],\n",
    "    shuffle=True,\n",
    "    nb_epoch=num_epoch, batch_size=batch_size, verbose=1)"
   ]
  },
  {
   "cell_type": "code",
   "execution_count": 16,
   "metadata": {},
   "outputs": [
    {
     "data": {
      "text/plain": [
       "{'val_loss': [0.13896331402930007, 0.1491097892125231],\n",
       " 'val_accuracy': [0.9785619378089905, 0.9747897982597351],\n",
       " 'loss': [0.022094737174714992, 0.005724612158338365],\n",
       " 'accuracy': [0.9941138, 0.9981763]}"
      ]
     },
     "execution_count": 16,
     "metadata": {},
     "output_type": "execute_result"
    }
   ],
   "source": [
    "history5.history"
   ]
  },
  {
   "cell_type": "code",
   "execution_count": 17,
   "metadata": {},
   "outputs": [
    {
     "data": {
      "image/png": "[encoded data removed]",
      "text/plain": [
       "<Figure size 432x288 with 1 Axes>"
      ]
     },
     "metadata": {
      "needs_background": "light"
     },
     "output_type": "display_data"
    }
   ],
   "source": [
    "# Plot history for training and validation loss.\n",
    "\n",
    "plt.plot(history5.history['accuracy'])\n",
    "plt.plot(history5.history['val_accuracy'])\n",
    "plt.title('2-layer LSTM model with more nodes')\n",
    "plt.ylabel('accuracy')\n",
    "plt.xlabel('epoch')\n",
    "plt.legend(['Train', 'Validate'], loc='upper left')\n",
    "plt.show()"
   ]
  },
  {
   "cell_type": "code",
   "execution_count": 18,
   "metadata": {},
   "outputs": [
    {
     "data": {
      "image/png": "[encoded data removed]",
      "text/plain": [
       "<Figure size 432x288 with 1 Axes>"
      ]
     },
     "metadata": {
      "needs_background": "light"
     },
     "output_type": "display_data"
    }
   ],
   "source": [
    "# Plot history for training and validation loss.\n",
    "\n",
    "plt.plot(history5.history['loss'])\n",
    "plt.plot(history5.history['val_loss'])\n",
    "plt.title('2-layer LSTM model with more nodes')\n",
    "plt.ylabel('loss')\n",
    "plt.xlabel('epoch')\n",
    "plt.legend(['Train', 'Validate'], loc='upper left')\n",
    "plt.show()"
   ]
  },
  {
   "cell_type": "markdown",
   "metadata": {},
   "source": [
    "## serialize model to JSON\n",
    "https://machinelearningmastery.com/save-load-keras-deep-learning-models/"
   ]
  },
  {
   "cell_type": "code",
   "execution_count": 52,
   "metadata": {},
   "outputs": [],
   "source": [
    "model_json1 = model_Flow1.to_json()\n",
    "with open(\"FlowVolvo1.json\", \"w\") as json_file:\n",
    "    json_file.write(model_json1)\n",
    "    \n",
    "# serialize weights to HDF5\n",
    "model_Flow1.save_weights(\"FlowVolvo1_weights.h5\")\n",
    "\n",
    "model_Flow1.save(\"FlowVolvo1.h5\")"
   ]
  },
  {
   "cell_type": "code",
   "execution_count": 20,
   "metadata": {},
   "outputs": [
    {
     "name": "stdout",
     "output_type": "stream",
     "text": [
      "Saved model to disk\n"
     ]
    }
   ],
   "source": [
    "model_json4 = model_Flow4.to_json()\n",
    "\n",
    "with open(\"FlowVolvo4.json\", \"w\") as json_file:\n",
    "    json_file.write(model_json4)\n",
    "    \n",
    "# serialize weights to HDF5\n",
    "model_Flow4.save_weights(\"FlowVolvo4_weights.h5\")\n",
    "\n",
    "print(\"Saved model to disk\")"
   ]
  },
  {
   "cell_type": "markdown",
   "metadata": {},
   "source": [
    "## Save Model Weights and Architecture Together"
   ]
  },
  {
   "cell_type": "code",
   "execution_count": 21,
   "metadata": {},
   "outputs": [
    {
     "name": "stdout",
     "output_type": "stream",
     "text": [
      "Saved model to disk\n"
     ]
    }
   ],
   "source": [
    "#model_Flow1.save(\"TrafficNetToVolvo_FlowMaskingSparse-1.h5\")\n",
    "model_Flow4.save(\"FlowVolvo4.h5\")\n",
    "\n",
    "print(\"Saved model to disk\")"
   ]
  },
  {
   "cell_type": "markdown",
   "metadata": {},
   "source": [
    "## Predict for volvo data, code from previous 6.1"
   ]
  },
  {
   "cell_type": "code",
   "execution_count": 3,
   "metadata": {},
   "outputs": [
    {
     "data": {
      "text/html": [
       "<div>\n",
       "<style scoped>\n",
       "    .dataframe tbody tr th:only-of-type {\n",
       "        vertical-align: middle;\n",
       "    }\n",
       "\n",
       "    .dataframe tbody tr th {\n",
       "        vertical-align: top;\n",
       "    }\n",
       "\n",
       "    .dataframe thead th {\n",
       "        text-align: right;\n",
       "    }\n",
       "</style>\n",
       "<table border=\"1\" class=\"dataframe\">\n",
       "  <thead>\n",
       "    <tr style=\"text-align: right;\">\n",
       "      <th></th>\n",
       "      <th>Lane</th>\n",
       "      <th>Velocity</th>\n",
       "      <th>PosLgt1</th>\n",
       "      <th>PosLgt2</th>\n",
       "      <th>PosLgt3</th>\n",
       "      <th>PosLat1</th>\n",
       "      <th>PosLat2</th>\n",
       "      <th>VelLgt1</th>\n",
       "      <th>VelLgt2</th>\n",
       "      <th>VelLgt3</th>\n",
       "      <th>...</th>\n",
       "      <th>Id2</th>\n",
       "      <th>Id3</th>\n",
       "      <th>Lane1</th>\n",
       "      <th>Lane2</th>\n",
       "      <th>Lane3</th>\n",
       "      <th>PositionInLane1</th>\n",
       "      <th>PositionInLane2</th>\n",
       "      <th>PositionInLane3</th>\n",
       "      <th>Lead</th>\n",
       "      <th>Flow</th>\n",
       "    </tr>\n",
       "  </thead>\n",
       "  <tbody>\n",
       "    <tr>\n",
       "      <td>0</td>\n",
       "      <td>1.0</td>\n",
       "      <td>0.74290</td>\n",
       "      <td>9.8657</td>\n",
       "      <td>NaN</td>\n",
       "      <td>NaN</td>\n",
       "      <td>0.50626</td>\n",
       "      <td>NaN</td>\n",
       "      <td>0.057183</td>\n",
       "      <td>NaN</td>\n",
       "      <td>NaN</td>\n",
       "      <td>...</td>\n",
       "      <td>NaN</td>\n",
       "      <td>NaN</td>\n",
       "      <td>0.0</td>\n",
       "      <td>NaN</td>\n",
       "      <td>NaN</td>\n",
       "      <td>0.63268</td>\n",
       "      <td>NaN</td>\n",
       "      <td>NaN</td>\n",
       "      <td>1.0</td>\n",
       "      <td>0</td>\n",
       "    </tr>\n",
       "    <tr>\n",
       "      <td>1</td>\n",
       "      <td>1.0</td>\n",
       "      <td>0.72335</td>\n",
       "      <td>9.8335</td>\n",
       "      <td>NaN</td>\n",
       "      <td>NaN</td>\n",
       "      <td>0.50702</td>\n",
       "      <td>NaN</td>\n",
       "      <td>0.044215</td>\n",
       "      <td>NaN</td>\n",
       "      <td>NaN</td>\n",
       "      <td>...</td>\n",
       "      <td>NaN</td>\n",
       "      <td>NaN</td>\n",
       "      <td>0.0</td>\n",
       "      <td>NaN</td>\n",
       "      <td>NaN</td>\n",
       "      <td>0.63840</td>\n",
       "      <td>NaN</td>\n",
       "      <td>NaN</td>\n",
       "      <td>1.0</td>\n",
       "      <td>0</td>\n",
       "    </tr>\n",
       "    <tr>\n",
       "      <td>2</td>\n",
       "      <td>1.0</td>\n",
       "      <td>0.70771</td>\n",
       "      <td>9.7691</td>\n",
       "      <td>NaN</td>\n",
       "      <td>NaN</td>\n",
       "      <td>0.51163</td>\n",
       "      <td>NaN</td>\n",
       "      <td>0.043706</td>\n",
       "      <td>NaN</td>\n",
       "      <td>NaN</td>\n",
       "      <td>...</td>\n",
       "      <td>NaN</td>\n",
       "      <td>NaN</td>\n",
       "      <td>0.0</td>\n",
       "      <td>NaN</td>\n",
       "      <td>NaN</td>\n",
       "      <td>0.63171</td>\n",
       "      <td>NaN</td>\n",
       "      <td>NaN</td>\n",
       "      <td>1.0</td>\n",
       "      <td>0</td>\n",
       "    </tr>\n",
       "    <tr>\n",
       "      <td>3</td>\n",
       "      <td>1.0</td>\n",
       "      <td>0.68816</td>\n",
       "      <td>9.7315</td>\n",
       "      <td>NaN</td>\n",
       "      <td>NaN</td>\n",
       "      <td>0.51237</td>\n",
       "      <td>NaN</td>\n",
       "      <td>0.043706</td>\n",
       "      <td>NaN</td>\n",
       "      <td>NaN</td>\n",
       "      <td>...</td>\n",
       "      <td>NaN</td>\n",
       "      <td>NaN</td>\n",
       "      <td>0.0</td>\n",
       "      <td>NaN</td>\n",
       "      <td>NaN</td>\n",
       "      <td>0.63326</td>\n",
       "      <td>NaN</td>\n",
       "      <td>NaN</td>\n",
       "      <td>1.0</td>\n",
       "      <td>0</td>\n",
       "    </tr>\n",
       "    <tr>\n",
       "      <td>4</td>\n",
       "      <td>1.0</td>\n",
       "      <td>0.67252</td>\n",
       "      <td>9.6849</td>\n",
       "      <td>NaN</td>\n",
       "      <td>NaN</td>\n",
       "      <td>0.51738</td>\n",
       "      <td>NaN</td>\n",
       "      <td>0.018643</td>\n",
       "      <td>NaN</td>\n",
       "      <td>NaN</td>\n",
       "      <td>...</td>\n",
       "      <td>NaN</td>\n",
       "      <td>NaN</td>\n",
       "      <td>0.0</td>\n",
       "      <td>NaN</td>\n",
       "      <td>NaN</td>\n",
       "      <td>0.63818</td>\n",
       "      <td>NaN</td>\n",
       "      <td>NaN</td>\n",
       "      <td>1.0</td>\n",
       "      <td>0</td>\n",
       "    </tr>\n",
       "  </tbody>\n",
       "</table>\n",
       "<p>5 rows × 36 columns</p>\n",
       "</div>"
      ],
      "text/plain": [
       "   Lane  Velocity  PosLgt1  PosLgt2  PosLgt3  PosLat1  PosLat2   VelLgt1  \\\n",
       "0   1.0   0.74290   9.8657      NaN      NaN  0.50626      NaN  0.057183   \n",
       "1   1.0   0.72335   9.8335      NaN      NaN  0.50702      NaN  0.044215   \n",
       "2   1.0   0.70771   9.7691      NaN      NaN  0.51163      NaN  0.043706   \n",
       "3   1.0   0.68816   9.7315      NaN      NaN  0.51237      NaN  0.043706   \n",
       "4   1.0   0.67252   9.6849      NaN      NaN  0.51738      NaN  0.018643   \n",
       "\n",
       "   VelLgt2  VelLgt3  ...  Id2  Id3  Lane1  Lane2  Lane3  PositionInLane1  \\\n",
       "0      NaN      NaN  ...  NaN  NaN    0.0    NaN    NaN          0.63268   \n",
       "1      NaN      NaN  ...  NaN  NaN    0.0    NaN    NaN          0.63840   \n",
       "2      NaN      NaN  ...  NaN  NaN    0.0    NaN    NaN          0.63171   \n",
       "3      NaN      NaN  ...  NaN  NaN    0.0    NaN    NaN          0.63326   \n",
       "4      NaN      NaN  ...  NaN  NaN    0.0    NaN    NaN          0.63818   \n",
       "\n",
       "   PositionInLane2  PositionInLane3  Lead  Flow  \n",
       "0              NaN              NaN   1.0     0  \n",
       "1              NaN              NaN   1.0     0  \n",
       "2              NaN              NaN   1.0     0  \n",
       "3              NaN              NaN   1.0     0  \n",
       "4              NaN              NaN   1.0     0  \n",
       "\n",
       "[5 rows x 36 columns]"
      ]
     },
     "execution_count": 3,
     "metadata": {},
     "output_type": "execute_result"
    }
   ],
   "source": [
    "volvo = pd.read_csv('../TrafficNet/VolvoData/2019w26_CPUload_Kiel_Amsterdam-0011.csv', usecols=['Lane','Velocity','PosLgt1','PosLgt2','PosLgt3','PosLat1','PosLat2','VelLgt1','VelLgt2','VelLgt3','VelLat1','VelLat2','VelLat3','AccLgt1','AccLgt2','AccLgt3','AccLat1','AccLat2','AccLat3','Angle1','Angle2','Angle3','Type1','Type2','Type3','Id1','Id2','Id3','Lane1','Lane2','Lane3','PositionInLane1','PositionInLane2','PositionInLane3','Lead','Flow'])\n",
    "volvo.head()"
   ]
  },
  {
   "cell_type": "code",
   "execution_count": 7,
   "metadata": {},
   "outputs": [
    {
     "data": {
      "text/plain": [
       "139520"
      ]
     },
     "execution_count": 7,
     "metadata": {},
     "output_type": "execute_result"
    }
   ],
   "source": [
    "volvo.fillna(-1, inplace=True)\n",
    "\n",
    "Yvolvo = np.array(volvo['Flow'].values)\n",
    "Xvolvo = np.array(volvo[['Lane','Velocity','PosLgt1','PosLgt2','PosLgt3','PosLat1','PosLat2','VelLgt1','VelLgt2','VelLgt3','VelLat1','VelLat2','VelLat3','AccLgt1','AccLgt2','AccLgt3','AccLat1','AccLat2','AccLat3','Angle1','Angle2','Angle3','Type1','Type2','Type3','Id1','Id2','Id3','Lane1','Lane2','Lane3','PositionInLane1','PositionInLane2','PositionInLane3','Lead']])\n",
    "\n",
    "    \n",
    "# Scale/whiten the X data\n",
    "scaler = StandardScaler()\n",
    "X_volvo = scaler.fit_transform(Xvolvo)\n",
    "XP_volvo, YP_volvo = create_dataset(X_volvo, Yvolvo, look_back=look_back)\n",
    "\n",
    "(len(XP_volvo)//64)*64"
   ]
  },
  {
   "cell_type": "code",
   "execution_count": 8,
   "metadata": {},
   "outputs": [],
   "source": [
    "XPP_volvo = XP_volvo[:139520]\n",
    "YPP_volvo = YP_volvo[:139520]"
   ]
  },
  {
   "cell_type": "code",
   "execution_count": 9,
   "metadata": {},
   "outputs": [
    {
     "name": "stdout",
     "output_type": "stream",
     "text": [
      "WARNING:tensorflow:From /Users/jocelyn/opt/anaconda3/lib/python3.7/site-packages/tensorflow/python/ops/nn_impl.py:180: add_dispatch_support.<locals>.wrapper (from tensorflow.python.ops.array_ops) is deprecated and will be removed in a future version.\n",
      "Instructions for updating:\n",
      "Use tf.where in 2.0, which has the same broadcast rule as np.where\n",
      "WARNING:tensorflow:From /Users/jocelyn/opt/anaconda3/lib/python3.7/site-packages/keras/backend/tensorflow_backend.py:422: The name tf.global_variables is deprecated. Please use tf.compat.v1.global_variables instead.\n",
      "\n"
     ]
    }
   ],
   "source": [
    "# load and evaluate a saved model\n",
    "from numpy import loadtxt\n",
    "from keras.models import load_model\n",
    "\n",
    "# load model\n",
    "model = load_model('FlowVolvo4.h5')"
   ]
  },
  {
   "cell_type": "code",
   "execution_count": 38,
   "metadata": {},
   "outputs": [
    {
     "name": "stdout",
     "output_type": "stream",
     "text": [
      "139520/139520 [==============================] - 78s 559us/step\n",
      "0:01:18.059588\n",
      "0.9998638188073394\n"
     ]
    }
   ],
   "source": [
    "from datetime import datetime\n",
    "start=datetime.now()\n",
    "Y_predict_volvo = model.predict_classes(XPP_volvo, verbose=True)\n",
    "print(datetime.now()-start)\n",
    "\n",
    "#equal_arrays_volvo = (Y_predict_volvo == YPP_volvo).all(axis=1)\n",
    "#acc_volvo = np.count_nonzero(equal_arrays_volvo == True)/len(equal_arrays_volvo)\n",
    "a = Y_predict_volvo.tolist()\n",
    "a2 = [item[0] for item in a]\n",
    "b = YPP_volvo.tolist()\n",
    "equal_arrays_volvo = [i for i, (x, y) in enumerate(zip(a2, b)) if x == y]\n",
    "acc_volvo = len(equal_arrays_volvo)/len(a2)\n",
    "print(acc_volvo)"
   ]
  },
  {
   "cell_type": "code",
   "execution_count": 43,
   "metadata": {},
   "outputs": [],
   "source": [
    "f = open(\"predict_FlowVolvo4.csv\", \"w\")\n",
    "\n",
    "for index in range(len(a2)):\n",
    "    f.write(str(a2[index]) + \",\" + str(b[index]) + \"\\n\")\n",
    "f.close()"
   ]
  },
  {
   "cell_type": "markdown",
   "metadata": {},
   "source": [
    "## Predict for TrafficNet data, Give up as more features cannot be found in TrafficNet"
   ]
  },
  {
   "cell_type": "code",
   "execution_count": null,
   "metadata": {},
   "outputs": [],
   "source": [
    "TrafficNet = pd.read_csv('../TrafficNet/VolvoData/Flow0.csv', usecols=['c10','GpsSpeedWsu','PosLgt1','PosLgt2','PosLgt3','PosLat1','PosLat2','VelLgt1','VelLgt2','VelLgt3','VelLat1','VelLat2','VelLat3','AccLgt1','AccLgt2','AccLgt3','AccLat1','AccLat2','AccLat3','Angle1','Angle2','Angle3','Type1','Type2','Type3','Id1','Id2','Id3','Lane1','Lane2','Lane3','PositionInLane1','PositionInLane2','PositionInLane3','Lead','Flow'])\n",
    "TrafficNet.head()"
   ]
  },
  {
   "cell_type": "code",
   "execution_count": null,
   "metadata": {},
   "outputs": [],
   "source": [
    "TrafficNet.fillna(-1, inplace=True)\n",
    "\n",
    "YNet = np.array(TrafficNet['Flow'].values)\n",
    "XNet = np.array(TrafficNet[['Lane','Velocity','PosLgt1','PosLgt2','PosLgt3','PosLat1','PosLat2','VelLgt1','VelLgt2','VelLgt3','VelLat1','VelLat2','VelLat3','AccLgt1','AccLgt2','AccLgt3','AccLat1','AccLat2','AccLat3','Angle1','Angle2','Angle3','Type1','Type2','Type3','Id1','Id2','Id3','Lane1','Lane2','Lane3','PositionInLane1','PositionInLane2','PositionInLane3','Lead']])\n",
    "\n",
    "    \n",
    "# Scale/whiten the X data\n",
    "X_Net = scaler.fit_transform(XNet)\n",
    "XP_Net, YP_Net = create_dataset(X_Net, YNet, look_back=look_back)\n",
    "\n",
    "(len(XP_Net)//64)*64 + 1"
   ]
  },
  {
   "cell_type": "code",
   "execution_count": null,
   "metadata": {},
   "outputs": [],
   "source": [
    "XPP_Net = XP_Net[:97408]\n",
    "YPP_Net = YP_Net[:97408]"
   ]
  },
  {
   "cell_type": "code",
   "execution_count": null,
   "metadata": {},
   "outputs": [],
   "source": [
    "from datetime import datetime\n",
    "start=datetime.now()\n",
    "Y_predict_Net = model_CutIn.predict_classes(XPP_Net, verbose=True)\n",
    "print(datetime.now()-start)\n",
    "\n",
    "equal_arrays_Net = (Y_predict_Net == YPP_Net).all(axis=1)\n",
    "acc_Net = np.count_nonzero(equal_arrays_Net == True)/len(equal_arrays_Net)\n",
    "print(acc_Net)"
   ]
  },
  {
   "cell_type": "markdown",
   "metadata": {},
   "source": [
    "## model_Flow4 predict"
   ]
  },
  {
   "cell_type": "code",
   "execution_count": 53,
   "metadata": {},
   "outputs": [
    {
     "name": "stdout",
     "output_type": "stream",
     "text": [
      "139520/139520 [==============================] - 118s 844us/step\n",
      "0:01:58.141999\n",
      "0.9996129587155963\n"
     ]
    }
   ],
   "source": [
    "start1=datetime.now()\n",
    "Y_predict_volvo1 = model_Flow1.predict_classes(XPP_volvo, verbose=True)\n",
    "print(datetime.now()-start1)\n",
    "\n",
    "#equal_arrays_volvo = (Y_predict_volvo == YPP_volvo).all(axis=1)\n",
    "#acc_volvo = np.count_nonzero(equal_arrays_volvo == True)/len(equal_arrays_volvo)\n",
    "a1 = Y_predict_volvo1.tolist()\n",
    "a21 = [item[0] for item in a1]\n",
    "#b = YPP_volvo.tolist()\n",
    "equal_arrays_volvo1 = [i for i, (x, y) in enumerate(zip(a21, b)) if x == y]\n",
    "acc_volvo1 = len(equal_arrays_volvo1)/len(a21)\n",
    "print(acc_volvo1)"
   ]
  },
  {
   "cell_type": "code",
   "execution_count": 54,
   "metadata": {},
   "outputs": [],
   "source": [
    "ff = open(\"predict_FlowVolvo1.csv\", \"w\")\n",
    "\n",
    "for index in range(len(a21)):\n",
    "    ff.write(str(a21[index]) + \",\" + str(b[index]) + \"\\n\")\n",
    "ff.close()"
   ]
  },
  {
   "cell_type": "code",
   "execution_count": null,
   "metadata": {},
   "outputs": [],
   "source": []
  },
  {
   "cell_type": "code",
   "execution_count": null,
   "metadata": {},
   "outputs": [],
   "source": []
  },
  {
   "cell_type": "code",
   "execution_count": null,
   "metadata": {},
   "outputs": [],
   "source": []
  },
  {
   "cell_type": "code",
   "execution_count": null,
   "metadata": {},
   "outputs": [],
   "source": []
  },
  {
   "cell_type": "code",
   "execution_count": null,
   "metadata": {},
   "outputs": [],
   "source": [
    "# load and evaluate a saved model\n",
    "from numpy import loadtxt\n",
    "from keras.models import load_model\n",
    "\n",
    "# load model\n",
    "model = load_model('model.h5')\n",
    "# summarize model.\n",
    "model.summary()\n",
    "# load dataset\n",
    "dataset = loadtxt(\"pima-indians-diabetes.csv\", delimiter=\",\")\n",
    "# split into input (X) and output (Y) variables\n",
    "X = dataset[:,0:8]\n",
    "Y = dataset[:,8]\n",
    "# evaluate the model\n",
    "score = model.evaluate(X, Y, verbose=0)\n",
    "print(\"%s: %.2f%%\" % (model.metrics_names[1], score[1]*100))"
   ]
  },
  {
   "cell_type": "code",
   "execution_count": null,
   "metadata": {},
   "outputs": [],
   "source": [
    "# Write predictions to disk\n",
    "\n",
    "data1988.to_csv(\"TrafficNetToVolvo-6.1-CutIn-Masking_PredictionResult.csv\", encoding='utf_8_sig', index=False)"
   ]
  }
 ],
 "metadata": {
  "kernelspec": {
   "display_name": "Python 3",
   "language": "python",
   "name": "python3"
  },
  "language_info": {
   "codemirror_mode": {
    "name": "ipython",
    "version": 3
   },
   "file_extension": ".py",
   "mimetype": "text/x-python",
   "name": "python",
   "nbconvert_exporter": "python",
   "pygments_lexer": "ipython3",
   "version": "3.7.4"
  }
 },
 "nbformat": 4,
 "nbformat_minor": 1
}
