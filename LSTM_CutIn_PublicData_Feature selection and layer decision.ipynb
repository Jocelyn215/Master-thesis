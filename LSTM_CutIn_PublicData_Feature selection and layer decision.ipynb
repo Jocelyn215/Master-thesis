{
 "cells": [
  {
   "cell_type": "code",
   "execution_count": 1,
   "metadata": {
    "scrolled": false
   },
   "outputs": [
    {
     "name": "stderr",
     "output_type": "stream",
     "text": [
      "Using TensorFlow backend.\n",
      "/Users/jocelyn/opt/anaconda3/lib/python3.7/site-packages/tensorflow/python/framework/dtypes.py:516: FutureWarning: Passing (type, 1) or '1type' as a synonym of type is deprecated; in a future version of numpy, it will be understood as (type, (1,)) / '(1,)type'.\n",
      "  _np_qint8 = np.dtype([(\"qint8\", np.int8, 1)])\n",
      "/Users/jocelyn/opt/anaconda3/lib/python3.7/site-packages/tensorflow/python/framework/dtypes.py:517: FutureWarning: Passing (type, 1) or '1type' as a synonym of type is deprecated; in a future version of numpy, it will be understood as (type, (1,)) / '(1,)type'.\n",
      "  _np_quint8 = np.dtype([(\"quint8\", np.uint8, 1)])\n",
      "/Users/jocelyn/opt/anaconda3/lib/python3.7/site-packages/tensorflow/python/framework/dtypes.py:518: FutureWarning: Passing (type, 1) or '1type' as a synonym of type is deprecated; in a future version of numpy, it will be understood as (type, (1,)) / '(1,)type'.\n",
      "  _np_qint16 = np.dtype([(\"qint16\", np.int16, 1)])\n",
      "/Users/jocelyn/opt/anaconda3/lib/python3.7/site-packages/tensorflow/python/framework/dtypes.py:519: FutureWarning: Passing (type, 1) or '1type' as a synonym of type is deprecated; in a future version of numpy, it will be understood as (type, (1,)) / '(1,)type'.\n",
      "  _np_quint16 = np.dtype([(\"quint16\", np.uint16, 1)])\n",
      "/Users/jocelyn/opt/anaconda3/lib/python3.7/site-packages/tensorflow/python/framework/dtypes.py:520: FutureWarning: Passing (type, 1) or '1type' as a synonym of type is deprecated; in a future version of numpy, it will be understood as (type, (1,)) / '(1,)type'.\n",
      "  _np_qint32 = np.dtype([(\"qint32\", np.int32, 1)])\n",
      "/Users/jocelyn/opt/anaconda3/lib/python3.7/site-packages/tensorflow/python/framework/dtypes.py:525: FutureWarning: Passing (type, 1) or '1type' as a synonym of type is deprecated; in a future version of numpy, it will be understood as (type, (1,)) / '(1,)type'.\n",
      "  np_resource = np.dtype([(\"resource\", np.ubyte, 1)])\n",
      "/Users/jocelyn/opt/anaconda3/lib/python3.7/site-packages/tensorboard/compat/tensorflow_stub/dtypes.py:541: FutureWarning: Passing (type, 1) or '1type' as a synonym of type is deprecated; in a future version of numpy, it will be understood as (type, (1,)) / '(1,)type'.\n",
      "  _np_qint8 = np.dtype([(\"qint8\", np.int8, 1)])\n",
      "/Users/jocelyn/opt/anaconda3/lib/python3.7/site-packages/tensorboard/compat/tensorflow_stub/dtypes.py:542: FutureWarning: Passing (type, 1) or '1type' as a synonym of type is deprecated; in a future version of numpy, it will be understood as (type, (1,)) / '(1,)type'.\n",
      "  _np_quint8 = np.dtype([(\"quint8\", np.uint8, 1)])\n",
      "/Users/jocelyn/opt/anaconda3/lib/python3.7/site-packages/tensorboard/compat/tensorflow_stub/dtypes.py:543: FutureWarning: Passing (type, 1) or '1type' as a synonym of type is deprecated; in a future version of numpy, it will be understood as (type, (1,)) / '(1,)type'.\n",
      "  _np_qint16 = np.dtype([(\"qint16\", np.int16, 1)])\n",
      "/Users/jocelyn/opt/anaconda3/lib/python3.7/site-packages/tensorboard/compat/tensorflow_stub/dtypes.py:544: FutureWarning: Passing (type, 1) or '1type' as a synonym of type is deprecated; in a future version of numpy, it will be understood as (type, (1,)) / '(1,)type'.\n",
      "  _np_quint16 = np.dtype([(\"quint16\", np.uint16, 1)])\n",
      "/Users/jocelyn/opt/anaconda3/lib/python3.7/site-packages/tensorboard/compat/tensorflow_stub/dtypes.py:545: FutureWarning: Passing (type, 1) or '1type' as a synonym of type is deprecated; in a future version of numpy, it will be understood as (type, (1,)) / '(1,)type'.\n",
      "  _np_qint32 = np.dtype([(\"qint32\", np.int32, 1)])\n",
      "/Users/jocelyn/opt/anaconda3/lib/python3.7/site-packages/tensorboard/compat/tensorflow_stub/dtypes.py:550: FutureWarning: Passing (type, 1) or '1type' as a synonym of type is deprecated; in a future version of numpy, it will be understood as (type, (1,)) / '(1,)type'.\n",
      "  np_resource = np.dtype([(\"resource\", np.ubyte, 1)])\n"
     ]
    }
   ],
   "source": [
    "from keras.utils import np_utils\n",
    "from keras.models import Sequential\n",
    "from keras.layers import Dense, LSTM, Dropout\n",
    "from keras.callbacks import EarlyStopping\n",
    "from sklearn.preprocessing import StandardScaler\n",
    "from pandas import read_csv\n",
    "\n",
    "import pandas as pd\n",
    "import numpy as np\n",
    "import glob\n",
    "import matplotlib.pyplot as plt\n",
    "import collections\n",
    "%matplotlib inline"
   ]
  },
  {
   "cell_type": "markdown",
   "metadata": {},
   "source": [
    "# standardization"
   ]
  },
  {
   "cell_type": "code",
   "execution_count": 2,
   "metadata": {
    "scrolled": true
   },
   "outputs": [
    {
     "name": "stdout",
     "output_type": "stream",
     "text": [
      "0\n",
      "(5976, 51) (5976,)\n",
      "1\n",
      "(2423, 51) (2423,)\n",
      "2\n",
      "(2345, 51) (2345,)\n",
      "3\n",
      "(3696, 51) (3696,)\n",
      "4\n",
      "(25025, 51) (25025,)\n",
      "5\n",
      "(1177, 51) (1177,)\n",
      "6\n",
      "(2178, 51) (2178,)\n",
      "7\n",
      "(5528, 51) (5528,)\n",
      "8\n",
      "(6143, 51) (6143,)\n",
      "9\n",
      "(6731, 51) (6731,)\n",
      "10\n",
      "(1944, 51) (1944,)\n",
      "11\n",
      "(99130, 51) (99130,)\n",
      "12\n",
      "(1404, 51) (1404,)\n",
      "13\n",
      "(14184, 51) (14184,)\n",
      "14\n",
      "(2829, 51) (2829,)\n",
      "15\n",
      "(5314, 51) (5314,)\n",
      "16\n",
      "(3303, 51) (3303,)\n",
      "17\n",
      "(1512, 51) (1512,)\n",
      "18\n",
      "(110769, 51) (110769,)\n",
      "19\n",
      "(7328, 51) (7328,)\n",
      "20\n",
      "(7946, 51) (7946,)\n",
      "21\n",
      "(89520, 51) (89520,)\n",
      "22\n",
      "(2739, 51) (2739,)\n",
      "23\n",
      "(519, 51) (519,)\n",
      "24\n",
      "(5560, 51) (5560,)\n",
      "25\n",
      "(3787, 51) (3787,)\n",
      "26\n",
      "(691, 51) (691,)\n",
      "27\n",
      "(8180, 51) (8180,)\n",
      "28\n",
      "(2330, 51) (2330,)\n",
      "29\n",
      "(6807, 51) (6807,)\n",
      "30\n",
      "(764, 51) (764,)\n",
      "31\n",
      "(6193, 51) (6193,)\n",
      "32\n",
      "(8186, 51) (8186,)\n",
      "33\n",
      "(1992, 51) (1992,)\n",
      "34\n",
      "(7704, 51) (7704,)\n",
      "35\n",
      "(7601, 51) (7601,)\n",
      "36\n",
      "(5814, 51) (5814,)\n",
      "37\n",
      "(5027, 51) (5027,)\n",
      "38\n",
      "(7710, 51) (7710,)\n",
      "39\n",
      "(85656, 51) (85656,)\n",
      "40\n",
      "(14261, 51) (14261,)\n",
      "41\n",
      "(8030, 51) (8030,)\n",
      "42\n",
      "(279, 51) (279,)\n",
      "43\n",
      "(8459, 51) (8459,)\n",
      "44\n",
      "(1009, 51) (1009,)\n",
      "45\n",
      "(7322, 51) (7322,)\n"
     ]
    }
   ],
   "source": [
    "path = glob.glob('../Users/XiaonfengWang/Desktop/TrafficNet/TrafficNetToVolvo_CutIn/*.csv')\n",
    "\n",
    "X_all = np.empty((1, 51))\n",
    "Y_all = np.empty((1,))\n",
    "\n",
    "for i in range(len(path)):\n",
    "    print(i)\n",
    "    \n",
    "    CutIn = pd.read_csv(path[i], usecols=['LatitudeWsu','LongitudeWsu','GpsHeadingWsu','GpsSpeedWsu','SpeedWsu','AxWsu','CutIn','LaneDistanceLeft','LaneDistanceRight','LaneHeading','o1','o2','o3','o4','o5','o6','o7','r1','r2','r3','r4','r5','r6','r7','rr1','rr2','rr3','rr4','rr5','rr6','rr7','t1','t2','t3','t4','t5','t6','t7','tt1','tt2','tt3','tt4','tt5','tt6','tt7','c1','c2','c3','c4','c5','c6','c7'])\n",
    "    \n",
    "    CutIn.fillna(-1, inplace=True)\n",
    "    \n",
    "    Y_train = np.array(CutIn['CutIn'].values)\n",
    "    X_train = np.array(CutIn[['LatitudeWsu','LongitudeWsu','GpsHeadingWsu','GpsSpeedWsu','SpeedWsu','AxWsu','LaneDistanceLeft','LaneDistanceRight','LaneHeading','o1','o2','o3','o4','o5','o6','o7','r1','r2','r3','r4','r5','r6','r7','rr1','rr2','rr3','rr4','rr5','rr6','rr7','t1','t2','t3','t4','t5','t6','t7','tt1','tt2','tt3','tt4','tt5','tt6','tt7','c1','c2','c3','c4','c5','c6','c7']])\n",
    "             \n",
    "    # Get dimensions of input and output\n",
    "    #dimof_output = int(np.max(Y_train) + 1)\n",
    "    dimof_output = 1\n",
    "    dimof_input = X_train.shape[1]\n",
    "             \n",
    "    #print('dimof_input_train: ', dimof_input)\n",
    "    #print('dimof_output_train: ', dimof_output)\n",
    "\n",
    "    # Scale/whiten the X data\n",
    "    scaler = StandardScaler()\n",
    "    X_train = scaler.fit_transform(X_train)\n",
    "    #print(len(X_train))\n",
    "    print(X_train.shape, Y_train.shape)\n",
    "    \n",
    "    # Set y as categorical data\n",
    "    #Y_train = np_utils.to_categorical(Y_train, dimof_output)\n",
    "    #print(len(Y_train))\n",
    "    \n",
    "    X_all = np.append(X_all, X_train, axis=0)\n",
    "    Y_all = np.append(Y_all, Y_train, axis=0)"
   ]
  },
  {
   "cell_type": "code",
   "execution_count": 7,
   "metadata": {},
   "outputs": [
    {
     "data": {
      "text/plain": [
       "613026"
      ]
     },
     "execution_count": 7,
     "metadata": {},
     "output_type": "execute_result"
    }
   ],
   "source": [
    "len(X_all)"
   ]
  },
  {
   "cell_type": "code",
   "execution_count": 3,
   "metadata": {},
   "outputs": [],
   "source": [
    "X_all = X_all[1:613026]\n",
    "Y_all = Y_all[1:613026]"
   ]
  },
  {
   "cell_type": "markdown",
   "metadata": {},
   "source": [
    "# Feature selection"
   ]
  },
  {
   "cell_type": "markdown",
   "metadata": {},
   "source": [
    "## ANOVA f-test Feature Selection"
   ]
  },
  {
   "cell_type": "code",
   "execution_count": 13,
   "metadata": {},
   "outputs": [],
   "source": [
    "# example of anova f-test feature selection for numerical data\n",
    "from pandas import read_csv\n",
    "from sklearn.model_selection import train_test_split\n",
    "from sklearn.feature_selection import SelectKBest\n",
    "from sklearn.feature_selection import f_classif\n",
    "from matplotlib import pyplot"
   ]
  },
  {
   "cell_type": "code",
   "execution_count": 8,
   "metadata": {},
   "outputs": [],
   "source": [
    "# feature selection\n",
    "def select_features(X_train, y_train, X_test):\n",
    "\t# configure to select all features\n",
    "\tfs = SelectKBest(score_func=f_classif, k='all')\n",
    "\t# learn relationship from training data\n",
    "\tfs.fit(X_train, y_train)\n",
    "\t# transform train input data\n",
    "\tX_train_fs = fs.transform(X_train)\n",
    "\t# transform test input data\n",
    "\tX_test_fs = fs.transform(X_test)\n",
    "\treturn X_train_fs, X_test_fs, fs"
   ]
  },
  {
   "cell_type": "code",
   "execution_count": 14,
   "metadata": {},
   "outputs": [
    {
     "name": "stderr",
     "output_type": "stream",
     "text": [
      "/Users/jocelyn/opt/anaconda3/lib/python3.7/site-packages/sklearn/feature_selection/univariate_selection.py:114: UserWarning: Features [12 19 26 33 40 47] are constant.\n",
      "  UserWarning)\n",
      "/Users/jocelyn/opt/anaconda3/lib/python3.7/site-packages/sklearn/feature_selection/univariate_selection.py:115: RuntimeWarning: invalid value encountered in true_divide\n",
      "  f = msb / msw\n"
     ]
    },
    {
     "name": "stdout",
     "output_type": "stream",
     "text": [
      "Feature 0: 1.604626\n",
      "Feature 1: 8.510065\n",
      "Feature 2: 99.898695\n",
      "Feature 3: 424.428779\n",
      "Feature 4: 424.017030\n",
      "Feature 5: 2.195810\n",
      "Feature 6: 10.706128\n",
      "Feature 7: 102.228578\n",
      "Feature 8: 207.094854\n",
      "Feature 9: 1518.725616\n",
      "Feature 10: 1.550086\n",
      "Feature 11: 13.170481\n",
      "Feature 12: nan\n",
      "Feature 13: 1.304493\n",
      "Feature 14: 0.718978\n",
      "Feature 15: 0.059626\n",
      "Feature 16: 7364.237690\n",
      "Feature 17: 85.087863\n",
      "Feature 18: 0.628862\n",
      "Feature 19: nan\n",
      "Feature 20: 1.394406\n",
      "Feature 21: 0.770721\n",
      "Feature 22: 0.062312\n",
      "Feature 23: 349.197660\n",
      "Feature 24: 39.953973\n",
      "Feature 25: 32.600662\n",
      "Feature 26: nan\n",
      "Feature 27: 0.381406\n",
      "Feature 28: 0.151846\n",
      "Feature 29: 0.041223\n",
      "Feature 30: 1.306866\n",
      "Feature 31: 9.723084\n",
      "Feature 32: 0.896796\n",
      "Feature 33: nan\n",
      "Feature 34: 0.264119\n",
      "Feature 35: 0.373614\n",
      "Feature 36: 0.097079\n",
      "Feature 37: 742.845767\n",
      "Feature 38: 2.919856\n",
      "Feature 39: 19.992031\n",
      "Feature 40: nan\n",
      "Feature 41: 1.270404\n",
      "Feature 42: 0.687886\n",
      "Feature 43: 0.042855\n",
      "Feature 44: 215.042276\n",
      "Feature 45: 0.244813\n",
      "Feature 46: 6.008691\n",
      "Feature 47: nan\n",
      "Feature 48: 1.595342\n",
      "Feature 49: 0.881040\n",
      "Feature 50: 0.062770\n"
     ]
    },
    {
     "data": {
      "image/png": "[encoded data removed]",
      "text/plain": [
       "<Figure size 432x288 with 1 Axes>"
      ]
     },
     "metadata": {
      "needs_background": "light"
     },
     "output_type": "display_data"
    }
   ],
   "source": [
    "# split into train and test sets\n",
    "X_train, X_test, y_train, y_test = train_test_split(X_all, Y_all, test_size=0.5, random_state=1)\n",
    "# feature selection\n",
    "X_train_fs, X_test_fs, fs = select_features(X_train, y_train, X_test)\n",
    "# what are scores for the features\n",
    "for i in range(len(fs.scores_)):\n",
    "\tprint('Feature %d: %f' % (i, fs.scores_[i]))\n",
    "# plot the scores\n",
    "pyplot.bar([i for i in range(len(fs.scores_))], fs.scores_)\n",
    "pyplot.show()"
   ]
  },
  {
   "cell_type": "markdown",
   "metadata": {},
   "source": [
    "## Mutual Information Feature Selection"
   ]
  },
  {
   "cell_type": "code",
   "execution_count": 4,
   "metadata": {},
   "outputs": [],
   "source": [
    "# example of mutual information feature selection for numerical input data\n",
    "from pandas import read_csv\n",
    "from sklearn.model_selection import train_test_split\n",
    "from sklearn.feature_selection import SelectKBest\n",
    "from sklearn.feature_selection import mutual_info_classif\n",
    "from matplotlib import pyplot"
   ]
  },
  {
   "cell_type": "code",
   "execution_count": null,
   "metadata": {},
   "outputs": [],
   "source": [
    "# feature selection\n",
    "def Mutual_select_features(X_train, y_train, X_test):\n",
    "\t# configure to select all features\n",
    "\tfsm = SelectKBest(score_func=mutual_info_classif, k='all')\n",
    "\t# learn relationship from training data\n",
    "\tfsm.fit(X_train, y_train)\n",
    "\t# transform train input data\n",
    "\tX_train_fsm = fsm.transform(X_train)\n",
    "\t# transform test input data\n",
    "\tX_test_fsm = fsm.transform(X_test)\n",
    "\treturn X_train_fsm, X_test_fsm, fsm\n",
    "\n",
    "# split into train and test sets\n",
    "X_train, X_test, y_train, y_test = train_test_split(X_all, Y_all, test_size=0.5, random_state=1)\n",
    "# feature selection\n",
    "X_train_fsm, X_test_fsm, fsm = Mutual_select_features(X_train, y_train, X_test)\n",
    "# what are scores for the features\n",
    "for i in range(len(fsm.scores_)):\n",
    "\tprint('Feature %d: %f' % (i, fsm.scores_[i]))\n",
    "# plot the scores\n",
    "pyplot.bar([i for i in range(len(fsm.scores_))], fsm.scores_)\n",
    "pyplot.show()"
   ]
  },
  {
   "cell_type": "markdown",
   "metadata": {},
   "source": [
    "# Modeling With Selected Features"
   ]
  },
  {
   "cell_type": "markdown",
   "metadata": {},
   "source": [
    "## Model Built Using All Features"
   ]
  },
  {
   "cell_type": "code",
   "execution_count": 14,
   "metadata": {},
   "outputs": [
    {
     "name": "stdout",
     "output_type": "stream",
     "text": [
      "Accuracy: 98.75\n"
     ]
    }
   ],
   "source": [
    "# evaluation of a model using all input features\n",
    "from pandas import read_csv\n",
    "from sklearn.model_selection import train_test_split\n",
    "from sklearn.linear_model import LogisticRegression\n",
    "from sklearn.metrics import accuracy_score\n",
    "\n",
    "# split into train and test sets\n",
    "#X_train, X_test, y_train, y_test = train_test_split(X, y, test_size=0.33, random_state=1)\n",
    "# fit the model\n",
    "model = LogisticRegression(solver='liblinear')\n",
    "model.fit(X_train, y_train)\n",
    "# evaluate the model\n",
    "yhat = model.predict(X_test)\n",
    "# evaluate predictions\n",
    "accuracy = accuracy_score(y_test, yhat)\n",
    "print('Accuracy: %.2f' % (accuracy*100))"
   ]
  },
  {
   "cell_type": "markdown",
   "metadata": {},
   "source": [
    "## Model Built Using ANOVA f-test Features"
   ]
  },
  {
   "cell_type": "code",
   "execution_count": 18,
   "metadata": {},
   "outputs": [
    {
     "name": "stderr",
     "output_type": "stream",
     "text": [
      "/Users/jocelyn/opt/anaconda3/lib/python3.7/site-packages/sklearn/feature_selection/univariate_selection.py:114: UserWarning: Features [12 19 26 33 40 47] are constant.\n",
      "  UserWarning)\n",
      "/Users/jocelyn/opt/anaconda3/lib/python3.7/site-packages/sklearn/feature_selection/univariate_selection.py:115: RuntimeWarning: invalid value encountered in true_divide\n",
      "  f = msb / msw\n"
     ]
    },
    {
     "name": "stdout",
     "output_type": "stream",
     "text": [
      "Accuracy: 98.75\n"
     ]
    }
   ],
   "source": [
    "# evaluation of a model using 4 features chosen with anova f-test\n",
    "from pandas import read_csv\n",
    "from sklearn.model_selection import train_test_split\n",
    "from sklearn.feature_selection import SelectKBest\n",
    "from sklearn.feature_selection import f_classif\n",
    "from sklearn.linear_model import LogisticRegression\n",
    "from sklearn.metrics import accuracy_score\n",
    "\n",
    "# feature selection\n",
    "def select_features(X_train, y_train, X_test):\n",
    "\t# configure to select a subset of features\n",
    "\tfs = SelectKBest(score_func=f_classif, k=10)\n",
    "\t# learn relationship from training data\n",
    "\tfs.fit(X_train, y_train)\n",
    "\t# transform train input data\n",
    "\tX_train_fs = fs.transform(X_train)\n",
    "\t# transform test input data\n",
    "\tX_test_fs = fs.transform(X_test)\n",
    "\treturn X_train_fs, X_test_fs, fs\n",
    "\n",
    "# feature selection\n",
    "X_train_fs, X_test_fs, fs = select_features(X_train, y_train, X_test)\n",
    "# fit the model\n",
    "model = LogisticRegression(solver='liblinear')\n",
    "model.fit(X_train_fs, y_train)\n",
    "# evaluate the model\n",
    "yhat_anova = model.predict(X_test_fs)\n",
    "# evaluate predictions\n",
    "accuracy_anova = accuracy_score(y_test, yhat_anova)\n",
    "print('Accuracy: %.2f' % (accuracy_anova*100))"
   ]
  },
  {
   "cell_type": "markdown",
   "metadata": {},
   "source": [
    "## Tune the Number of Selected Features"
   ]
  },
  {
   "cell_type": "code",
   "execution_count": 2,
   "metadata": {},
   "outputs": [],
   "source": [
    "from pandas import read_csv\n",
    "from sklearn.model_selection import RepeatedStratifiedKFold\n",
    "from sklearn.feature_selection import SelectKBest\n",
    "from sklearn.feature_selection import f_classif\n",
    "from sklearn.linear_model import LogisticRegression\n",
    "from sklearn.pipeline import Pipeline\n",
    "from sklearn.model_selection import GridSearchCV\n",
    "from matplotlib import pyplot\n",
    "from numpy import mean\n",
    "from numpy import std\n",
    "from sklearn.model_selection import cross_val_score\n",
    "from sklearn.model_selection import train_test_split\n",
    "import glob"
   ]
  },
  {
   "cell_type": "code",
   "execution_count": 3,
   "metadata": {},
   "outputs": [
    {
     "name": "stdout",
     "output_type": "stream",
     "text": [
      "0\n",
      "(5976, 51) (5976,)\n",
      "1\n",
      "(2423, 51) (2423,)\n",
      "2\n",
      "(2345, 51) (2345,)\n",
      "3\n",
      "(3696, 51) (3696,)\n",
      "4\n",
      "(25025, 51) (25025,)\n",
      "5\n",
      "(1177, 51) (1177,)\n",
      "6\n",
      "(2178, 51) (2178,)\n",
      "7\n",
      "(5528, 51) (5528,)\n",
      "8\n",
      "(6143, 51) (6143,)\n",
      "9\n",
      "(6731, 51) (6731,)\n",
      "10\n",
      "(1944, 51) (1944,)\n",
      "11\n",
      "(99130, 51) (99130,)\n",
      "12\n",
      "(1404, 51) (1404,)\n",
      "13\n",
      "(14184, 51) (14184,)\n",
      "14\n",
      "(2829, 51) (2829,)\n",
      "15\n",
      "(5314, 51) (5314,)\n",
      "16\n",
      "(3303, 51) (3303,)\n",
      "17\n",
      "(1512, 51) (1512,)\n",
      "18\n",
      "(110769, 51) (110769,)\n",
      "19\n",
      "(7328, 51) (7328,)\n"
     ]
    }
   ],
   "source": [
    "path = glob.glob('../Users/XiaonfengWang/Desktop/TrafficNet/TrafficNetToVolvo_CutIn/*.csv')\n",
    "\n",
    "X_all = np.empty((1, 51))\n",
    "Y_all = np.empty((1,))\n",
    "\n",
    "for i in range(20):\n",
    "    print(i)\n",
    "    \n",
    "    CutIn = pd.read_csv(path[i], usecols=['LatitudeWsu','LongitudeWsu','GpsHeadingWsu','GpsSpeedWsu','SpeedWsu','AxWsu','CutIn','LaneDistanceLeft','LaneDistanceRight','LaneHeading','o1','o2','o3','o4','o5','o6','o7','r1','r2','r3','r4','r5','r6','r7','rr1','rr2','rr3','rr4','rr5','rr6','rr7','t1','t2','t3','t4','t5','t6','t7','tt1','tt2','tt3','tt4','tt5','tt6','tt7','c1','c2','c3','c4','c5','c6','c7'])\n",
    "    \n",
    "    CutIn.fillna(-1, inplace=True)\n",
    "    \n",
    "    Y_train = np.array(CutIn['CutIn'].values)\n",
    "    X_train = np.array(CutIn[['LatitudeWsu','LongitudeWsu','GpsHeadingWsu','GpsSpeedWsu','SpeedWsu','AxWsu','LaneDistanceLeft','LaneDistanceRight','LaneHeading','o1','o2','o3','o4','o5','o6','o7','r1','r2','r3','r4','r5','r6','r7','rr1','rr2','rr3','rr4','rr5','rr6','rr7','t1','t2','t3','t4','t5','t6','t7','tt1','tt2','tt3','tt4','tt5','tt6','tt7','c1','c2','c3','c4','c5','c6','c7']])\n",
    "             \n",
    "    # Get dimensions of input and output\n",
    "    #dimof_output = int(np.max(Y_train) + 1)\n",
    "    dimof_output = 1\n",
    "    dimof_input = X_train.shape[1]\n",
    "             \n",
    "    #print('dimof_input_train: ', dimof_input)\n",
    "    #print('dimof_output_train: ', dimof_output)\n",
    "\n",
    "    # Scale/whiten the X data\n",
    "    scaler = StandardScaler()\n",
    "    X_train = scaler.fit_transform(X_train)\n",
    "    #print(len(X_train))\n",
    "    print(X_train.shape, Y_train.shape)\n",
    "    \n",
    "    # Set y as categorical data\n",
    "    #Y_train = np_utils.to_categorical(Y_train, dimof_output)\n",
    "    #print(len(Y_train))\n",
    "    \n",
    "    X_all = np.append(X_all, X_train, axis=0)\n",
    "    Y_all = np.append(Y_all, Y_train, axis=0)"
   ]
  },
  {
   "cell_type": "code",
   "execution_count": 4,
   "metadata": {},
   "outputs": [
    {
     "data": {
      "text/plain": [
       "308940"
      ]
     },
     "execution_count": 4,
     "metadata": {},
     "output_type": "execute_result"
    }
   ],
   "source": [
    "len(X_all)"
   ]
  },
  {
   "cell_type": "code",
   "execution_count": 5,
   "metadata": {},
   "outputs": [],
   "source": [
    "X_all = X_all[1:308940]\n",
    "Y_all = Y_all[1:308940]"
   ]
  },
  {
   "cell_type": "code",
   "execution_count": 9,
   "metadata": {},
   "outputs": [
    {
     "name": "stdout",
     "output_type": "stream",
     "text": [
      "Best Mean Accuracy: 0.992\n",
      "Best Config: {'anova__k': 2}\n"
     ]
    },
    {
     "name": "stderr",
     "output_type": "stream",
     "text": [
      "/Users/jocelyn/opt/anaconda3/lib/python3.7/site-packages/sklearn/feature_selection/univariate_selection.py:114: UserWarning: Features [12 19 26 33 40 47] are constant.\n",
      "  UserWarning)\n",
      "/Users/jocelyn/opt/anaconda3/lib/python3.7/site-packages/sklearn/feature_selection/univariate_selection.py:115: RuntimeWarning: invalid value encountered in true_divide\n",
      "  f = msb / msw\n"
     ]
    }
   ],
   "source": [
    "# compare different numbers of features selected using anova f-test\n",
    "\n",
    "\n",
    "# define the evaluation method\n",
    "cv = RepeatedStratifiedKFold(n_splits=5, n_repeats=3, random_state=1)\n",
    "# define the pipeline to evaluate\n",
    "model = LogisticRegression(solver='liblinear')\n",
    "fs = SelectKBest(score_func=f_classif)\n",
    "pipeline = Pipeline(steps=[('anova',fs), ('lr', model)])\n",
    "# define the grid\n",
    "grid = dict()\n",
    "grid['anova__k'] = [i+1 for i in range(X_all.shape[1])]\n",
    "# define the grid search\n",
    "search = GridSearchCV(pipeline, grid, scoring='accuracy', n_jobs=-1, cv=cv)\n",
    "# perform the search\n",
    "results = search.fit(X_all, Y_all)\n",
    "# summarize best\n",
    "print('Best Mean Accuracy: %.3f' % results.best_score_)\n",
    "print('Best Config: %s' % results.best_params_)"
   ]
  },
  {
   "cell_type": "code",
   "execution_count": 10,
   "metadata": {
    "scrolled": true
   },
   "outputs": [
    {
     "name": "stdout",
     "output_type": "stream",
     "text": [
      ">1 0.992 (0.000)\n",
      ">2 0.992 (0.000)\n",
      ">3 0.992 (0.000)\n",
      ">4 0.992 (0.000)\n",
      ">5 0.992 (0.000)\n",
      ">6 0.992 (0.000)\n",
      ">7 0.992 (0.000)\n",
      ">8 0.992 (0.000)\n",
      ">9 0.992 (0.000)\n",
      ">10 0.992 (0.000)\n",
      ">11 0.992 (0.000)\n",
      ">12 0.992 (0.000)\n",
      ">13 0.992 (0.000)\n",
      ">14 0.992 (0.000)\n",
      ">15 0.992 (0.000)\n",
      ">16 0.992 (0.000)\n",
      ">17 0.992 (0.000)\n",
      ">18 0.992 (0.000)\n",
      ">19 0.992 (0.000)\n",
      ">20 0.992 (0.000)\n",
      ">21 0.992 (0.000)\n",
      ">22 0.992 (0.000)\n",
      ">23 0.992 (0.000)\n",
      ">24 0.992 (0.000)\n",
      ">25 0.992 (0.000)\n",
      ">26 0.992 (0.000)\n",
      ">27 0.992 (0.000)\n",
      ">28 0.992 (0.000)\n",
      ">29 0.992 (0.000)\n",
      ">30 0.992 (0.000)\n",
      ">31 0.992 (0.000)\n",
      ">32 0.992 (0.000)\n",
      ">33 0.992 (0.000)\n",
      ">34 0.992 (0.000)\n",
      ">35 0.992 (0.000)\n",
      ">36 0.992 (0.000)\n",
      ">37 0.992 (0.000)\n",
      ">38 0.992 (0.000)\n",
      ">39 0.992 (0.000)\n",
      ">40 0.992 (0.000)\n",
      ">41 0.992 (0.000)\n",
      ">42 0.992 (0.000)\n",
      ">43 0.992 (0.000)\n",
      ">44 0.992 (0.000)\n",
      ">45 0.992 (0.000)\n",
      ">46 0.992 (0.000)\n",
      ">47 0.992 (0.000)\n",
      ">48 0.992 (0.000)\n",
      ">49 0.992 (0.000)\n",
      ">50 0.992 (0.000)\n",
      ">51 0.992 (0.000)\n"
     ]
    },
    {
     "data": {
      "image/png": "[encoded data removed]",
      "text/plain": [
       "<Figure size 432x288 with 1 Axes>"
      ]
     },
     "metadata": {
      "needs_background": "light"
     },
     "output_type": "display_data"
    }
   ],
   "source": [
    "# compare different numbers of features selected using anova f-test\n",
    "\n",
    "\n",
    "# evaluate a give model using cross-validation\n",
    "def evaluate_model(model):\n",
    "\tcv = RepeatedStratifiedKFold(n_splits=5, n_repeats=3, random_state=1)\n",
    "\tscores = cross_val_score(model, X_all, Y_all, scoring='accuracy', cv=cv, n_jobs=-1, error_score='raise')\n",
    "\treturn scores\n",
    "\n",
    "# define number of features to evaluate\n",
    "num_features = [i+1 for i in range(X_all.shape[1])]\n",
    "# enumerate each number of features\n",
    "results = list()\n",
    "for k in num_features:\n",
    "\t# create pipeline\n",
    "\tmodel = LogisticRegression(solver='liblinear')\n",
    "\tfs = SelectKBest(score_func=f_classif, k=k)\n",
    "\tpipeline = Pipeline(steps=[('anova',fs), ('lr', model)])\n",
    "\t# evaluate the model\n",
    "\tscores = evaluate_model(pipeline)\n",
    "\tresults.append(scores)\n",
    "\t# summarize the results\n",
    "\tprint('>%d %.3f (%.3f)' % (k, mean(scores), std(scores)))\n",
    "# plot model performance for comparison\n",
    "pyplot.boxplot(results, labels=num_features, showmeans=True)\n",
    "pyplot.show()"
   ]
  },
  {
   "cell_type": "code",
   "execution_count": 68,
   "metadata": {},
   "outputs": [
    {
     "data": {
      "image/png": "[encoded data removed]",
      "text/plain": [
       "<Figure size 1440x432 with 1 Axes>"
      ]
     },
     "metadata": {
      "needs_background": "light"
     },
     "output_type": "display_data"
    }
   ],
   "source": [
    "pyplot.figure(figsize=(20,6))\n",
    "pyplot.boxplot(results, labels=num_features, showmeans=True, patch_artist=True)\n",
    "pyplot.xticks(fontsize=15)\n",
    "pyplot.yticks(fontsize=20)\n",
    "pyplot.show()"
   ]
  },
  {
   "cell_type": "code",
   "execution_count": 70,
   "metadata": {},
   "outputs": [
    {
     "data": {
      "text/plain": [
       "<Figure size 432x288 with 0 Axes>"
      ]
     },
     "metadata": {},
     "output_type": "display_data"
    }
   ],
   "source": [
    "pyplot.savefig('boxplot.png',bbox_inches='tight')"
   ]
  },
  {
   "cell_type": "code",
   "execution_count": 62,
   "metadata": {},
   "outputs": [
    {
     "data": {
      "image/png": "[encoded data removed]",
      "text/plain": [
       "<Figure size 1440x432 with 1 Axes>"
      ]
     },
     "metadata": {
      "needs_background": "light"
     },
     "output_type": "display_data"
    }
   ],
   "source": [
    "pyplot.figure(figsize=(20,6))\n",
    "pyplot.xticks(fontsize=15)\n",
    "pyplot.yticks(fontsize=20)\n",
    "\n",
    "bp = pyplot.boxplot(results, labels=num_features, showmeans=True, patch_artist=True)\n",
    "#ax = fig.add_subplot(111)\n",
    "for box in bp['boxes']:\n",
    "    # change outline color\n",
    "    box.set( color='#7570b3', linewidth=2)\n",
    "    # change fill color\n",
    "    box.set( facecolor = '#1b9e70' )\n",
    "\n",
    "## change color and linewidth of the whiskers\n",
    "for whisker in bp['whiskers']:\n",
    "    whisker.set(color='#7570b3', linewidth=2)\n",
    "\n",
    "## change color and linewidth of the caps\n",
    "for cap in bp['caps']:\n",
    "    cap.set(color='#7570b3', linewidth=2)\n",
    "\n",
    "## change color and linewidth of the medians\n",
    "for median in bp['medians']:\n",
    "    median.set(color='yellow', linewidth=2)\n",
    "\n",
    "## change the style of fliers and their fill\n",
    "for flier in bp['fliers']:\n",
    "    flier.set(marker='o', color='#e7298a', alpha=0.5)"
   ]
  },
  {
   "cell_type": "markdown",
   "metadata": {},
   "source": [
    "## the final 21 features"
   ]
  },
  {
   "cell_type": "code",
   "execution_count": 6,
   "metadata": {},
   "outputs": [],
   "source": [
    "# feature selection\n",
    "def select_features(X_train, y_train, X_test):\n",
    "\t# configure to select all features\n",
    "\tfs = SelectKBest(score_func=f_classif, k=21)\n",
    "\t# learn relationship from training data\n",
    "\tfs.fit(X_train, y_train)\n",
    "\t# transform train input data\n",
    "\tX_train_fs = fs.transform(X_train)\n",
    "\t# transform test input data\n",
    "\tX_test_fs = fs.transform(X_test)\n",
    "\treturn X_train_fs, X_test_fs, fs"
   ]
  },
  {
   "cell_type": "code",
   "execution_count": 7,
   "metadata": {},
   "outputs": [
    {
     "name": "stderr",
     "output_type": "stream",
     "text": [
      "/Users/jocelyn/opt/anaconda3/lib/python3.7/site-packages/sklearn/feature_selection/univariate_selection.py:114: UserWarning: Features [12 19 26 33 40 47] are constant.\n",
      "  UserWarning)\n",
      "/Users/jocelyn/opt/anaconda3/lib/python3.7/site-packages/sklearn/feature_selection/univariate_selection.py:115: RuntimeWarning: invalid value encountered in true_divide\n",
      "  f = msb / msw\n"
     ]
    },
    {
     "name": "stdout",
     "output_type": "stream",
     "text": [
      "Feature 0: 0.011998\n",
      "Feature 1: 16.112282\n",
      "Feature 2: 3.034105\n",
      "Feature 3: 126.467080\n",
      "Feature 4: 128.532589\n",
      "Feature 5: 47.217913\n",
      "Feature 6: 6.998053\n",
      "Feature 7: 5.484125\n",
      "Feature 8: 129.497631\n",
      "Feature 9: 501.846869\n",
      "Feature 10: 8.208881\n",
      "Feature 11: 12.778113\n",
      "Feature 12: nan\n",
      "Feature 13: 0.537253\n",
      "Feature 14: 0.354145\n",
      "Feature 15: 0.078966\n",
      "Feature 16: 2717.514251\n",
      "Feature 17: 7.769623\n",
      "Feature 18: 18.557991\n",
      "Feature 19: nan\n",
      "Feature 20: 0.605286\n",
      "Feature 21: 0.386928\n",
      "Feature 22: 0.076940\n",
      "Feature 23: 77.281670\n",
      "Feature 24: 9.464861\n",
      "Feature 25: 24.047635\n",
      "Feature 26: nan\n",
      "Feature 27: 0.247245\n",
      "Feature 28: 0.240207\n",
      "Feature 29: 0.025469\n",
      "Feature 30: 0.916249\n",
      "Feature 31: 20.306635\n",
      "Feature 32: 7.848061\n",
      "Feature 33: nan\n",
      "Feature 34: 0.054474\n",
      "Feature 35: 0.196904\n",
      "Feature 36: 0.024831\n",
      "Feature 37: 23.413544\n",
      "Feature 38: 0.076796\n",
      "Feature 39: 1.140303\n",
      "Feature 40: nan\n",
      "Feature 41: 0.493572\n",
      "Feature 42: 0.327598\n",
      "Feature 43: 0.076955\n",
      "Feature 44: 60.851977\n",
      "Feature 45: 0.045743\n",
      "Feature 46: 16.418940\n",
      "Feature 47: nan\n",
      "Feature 48: 0.688599\n",
      "Feature 49: 0.420586\n",
      "Feature 50: 0.076955\n"
     ]
    },
    {
     "data": {
      "image/png": "[encoded data removed]",
      "text/plain": [
       "<Figure size 432x288 with 1 Axes>"
      ]
     },
     "metadata": {
      "needs_background": "light"
     },
     "output_type": "display_data"
    }
   ],
   "source": [
    "# split into train and test sets\n",
    "X_train, X_test, y_train, y_test = train_test_split(X_all, Y_all, test_size=0.5, random_state=1)\n",
    "# feature selection\n",
    "X_train_fs, X_test_fs, fs = select_features(X_train, y_train, X_test)\n",
    "# what are scores for the features\n",
    "for i in range(len(fs.scores_)):\n",
    "\tprint('Feature %d: %f' % (i, fs.scores_[i]))\n",
    "# plot the scores\n",
    "pyplot.bar([i for i in range(len(fs.scores_))], fs.scores_)\n",
    "pyplot.show()"
   ]
  },
  {
   "cell_type": "code",
   "execution_count": 8,
   "metadata": {},
   "outputs": [
    {
     "data": {
      "text/plain": [
       "array([ 1,  3,  4,  5,  6,  7,  8,  9, 10, 11, 16, 17, 18, 23, 24, 25, 31,\n",
       "       32, 37, 44, 46])"
      ]
     },
     "execution_count": 8,
     "metadata": {},
     "output_type": "execute_result"
    }
   ],
   "source": [
    "fs.get_support(indices=True)"
   ]
  },
  {
   "cell_type": "markdown",
   "metadata": {},
   "source": [
    "# Layer decision of LSTM for CutIn_Net"
   ]
  },
  {
   "cell_type": "code",
   "execution_count": 2,
   "metadata": {},
   "outputs": [],
   "source": [
    "# Set up a 'look back' dataset for sequence to label prediction with Keras.\n",
    "\n",
    "# The LSTM network expects the input data (X) to be provided with a specific\n",
    "# array structure in the form of: [samples, time steps, features].\n",
    "\n",
    "# create_dataset is adapted from\n",
    "# http://machinelearningmastery.com/time-series-prediction-lstm-recurrent-neural-networks-python-keras/\n",
    "\n",
    "def create_dataset(X, Y, **options):\n",
    "    \"\"\"Convert an array of X, Y values into a dataset matrix for and LSTM\"\"\"\n",
    "    \n",
    "    look_back = options.pop('look_back', None)\n",
    "    dataX, dataY = [], []\n",
    "    for i in range(len(X) - look_back):\n",
    "        a = X[i:(i+look_back)]\n",
    "        dataX.append(a)\n",
    "        dataY.append(Y[i + look_back - 1])\n",
    "    return np.array(dataX), np.array(dataY)\n",
    "\n",
    "# Predictions will be based on look_back minutes of data:\n",
    "look_back = 50"
   ]
  },
  {
   "cell_type": "code",
   "execution_count": 3,
   "metadata": {
    "scrolled": true
   },
   "outputs": [
    {
     "name": "stdout",
     "output_type": "stream",
     "text": [
      "0\n",
      "(5976, 21) (5976,)\n",
      "(5926, 50, 21) (5926,)\n",
      "1\n",
      "(2423, 21) (2423,)\n",
      "(2373, 50, 21) (2373,)\n",
      "2\n",
      "(2345, 21) (2345,)\n",
      "(2295, 50, 21) (2295,)\n",
      "3\n",
      "(3696, 21) (3696,)\n",
      "(3646, 50, 21) (3646,)\n",
      "4\n",
      "(25025, 21) (25025,)\n",
      "(24975, 50, 21) (24975,)\n",
      "5\n",
      "(1177, 21) (1177,)\n",
      "(1127, 50, 21) (1127,)\n",
      "6\n",
      "(2178, 21) (2178,)\n",
      "(2128, 50, 21) (2128,)\n",
      "7\n",
      "(5528, 21) (5528,)\n",
      "(5478, 50, 21) (5478,)\n",
      "8\n",
      "(6143, 21) (6143,)\n",
      "(6093, 50, 21) (6093,)\n",
      "9\n",
      "(6731, 21) (6731,)\n",
      "(6681, 50, 21) (6681,)\n",
      "10\n",
      "(1944, 21) (1944,)\n",
      "(1894, 50, 21) (1894,)\n",
      "11\n",
      "(99130, 21) (99130,)\n",
      "(99080, 50, 21) (99080,)\n",
      "12\n",
      "(1404, 21) (1404,)\n",
      "(1354, 50, 21) (1354,)\n",
      "13\n",
      "(2829, 21) (2829,)\n",
      "(2779, 50, 21) (2779,)\n",
      "14\n",
      "(5314, 21) (5314,)\n",
      "(5264, 50, 21) (5264,)\n",
      "15\n",
      "(3303, 21) (3303,)\n",
      "(3253, 50, 21) (3253,)\n",
      "16\n",
      "(1512, 21) (1512,)\n",
      "(1462, 50, 21) (1462,)\n",
      "17\n",
      "(110769, 21) (110769,)\n",
      "(110719, 50, 21) (110719,)\n",
      "18\n",
      "(7328, 21) (7328,)\n",
      "(7278, 50, 21) (7278,)\n",
      "19\n",
      "(7946, 21) (7946,)\n",
      "(7896, 50, 21) (7896,)\n",
      "20\n",
      "(89520, 21) (89520,)\n",
      "(89470, 50, 21) (89470,)\n",
      "21\n",
      "(2739, 21) (2739,)\n",
      "(2689, 50, 21) (2689,)\n",
      "22\n",
      "(519, 21) (519,)\n",
      "(469, 50, 21) (469,)\n",
      "23\n",
      "(5560, 21) (5560,)\n",
      "(5510, 50, 21) (5510,)\n",
      "24\n",
      "(3787, 21) (3787,)\n",
      "(3737, 50, 21) (3737,)\n",
      "25\n",
      "(691, 21) (691,)\n",
      "(641, 50, 21) (641,)\n",
      "26\n",
      "(8180, 21) (8180,)\n",
      "(8130, 50, 21) (8130,)\n",
      "27\n",
      "(2330, 21) (2330,)\n",
      "(2280, 50, 21) (2280,)\n",
      "28\n",
      "(6807, 21) (6807,)\n",
      "(6757, 50, 21) (6757,)\n",
      "29\n",
      "(764, 21) (764,)\n",
      "(714, 50, 21) (714,)\n",
      "30\n",
      "(6193, 21) (6193,)\n",
      "(6143, 50, 21) (6143,)\n",
      "31\n",
      "(8186, 21) (8186,)\n",
      "(8136, 50, 21) (8136,)\n",
      "32\n",
      "(1992, 21) (1992,)\n",
      "(1942, 50, 21) (1942,)\n",
      "33\n",
      "(7704, 21) (7704,)\n",
      "(7654, 50, 21) (7654,)\n",
      "34\n",
      "(7601, 21) (7601,)\n",
      "(7551, 50, 21) (7551,)\n",
      "35\n",
      "(5814, 21) (5814,)\n",
      "(5764, 50, 21) (5764,)\n",
      "36\n",
      "(5027, 21) (5027,)\n",
      "(4977, 50, 21) (4977,)\n",
      "37\n",
      "(7710, 21) (7710,)\n",
      "(7660, 50, 21) (7660,)\n",
      "38\n",
      "(85656, 21) (85656,)\n",
      "(85606, 50, 21) (85606,)\n",
      "39\n",
      "(14261, 21) (14261,)\n",
      "(14211, 50, 21) (14211,)\n",
      "40\n",
      "(8030, 21) (8030,)\n",
      "(7980, 50, 21) (7980,)\n",
      "41\n",
      "(279, 21) (279,)\n",
      "(229, 50, 21) (229,)\n",
      "42\n",
      "(8459, 21) (8459,)\n",
      "(8409, 50, 21) (8409,)\n",
      "43\n",
      "(1009, 21) (1009,)\n",
      "(959, 50, 21) (959,)\n",
      "44\n",
      "(7322, 21) (7322,)\n",
      "(7272, 50, 21) (7272,)\n"
     ]
    }
   ],
   "source": [
    "path = glob.glob('../Users/XiaonfengWang/Desktop/TrafficNet/TrafficNetToVolvo_CutIn/*.csv')\n",
    "\n",
    "X_all = np.empty((1, 50, 21))\n",
    "Y_all = np.empty((1,))\n",
    "\n",
    "for i in range(len(path)):\n",
    "    print(i)\n",
    "    \n",
    "    CutIn = pd.read_csv(path[i], usecols=['LatitudeWsu','LongitudeWsu','GpsHeadingWsu','GpsSpeedWsu','SpeedWsu','LaneDistanceLeft','LaneDistanceRight','LaneHeading','CutIn','o1','o2','o3','r1','r2','r3','t1','t2','t3','tt2','tt3','c2','c3']) \n",
    "    CutIn.fillna(-1, inplace=True)\n",
    "    \n",
    "    Y_train = np.array(CutIn['CutIn'].values)\n",
    "    X_train = np.array(CutIn[['LatitudeWsu','LongitudeWsu','GpsHeadingWsu','GpsSpeedWsu','SpeedWsu','LaneDistanceLeft','LaneDistanceRight','LaneHeading','o1','o2','o3','r1','r2','r3','t1','t2','t3','tt2','tt3','c2','c3']])\n",
    "    \n",
    "    # Get dimensions of input and output\n",
    "    #dimof_output = int(np.max(Y_train) + 1)\n",
    "    dimof_output = 1\n",
    "    dimof_input = X_train.shape[1]\n",
    "             \n",
    "    #print('dimof_input_train: ', dimof_input)\n",
    "    #print('dimof_output_train: ', dimof_output)\n",
    "\n",
    "    # Scale/whiten the X data\n",
    "    scaler = StandardScaler()\n",
    "    X_train = scaler.fit_transform(X_train)\n",
    "    #print(len(X_train))\n",
    "    print(X_train.shape, Y_train.shape)\n",
    "    \n",
    "    # Set y as categorical data\n",
    "    #Y_train = np_utils.to_categorical(Y_train, dimof_output)\n",
    "    #print(len(Y_train))\n",
    "    \n",
    "    X, Y = create_dataset(X_train, Y_train, look_back=look_back)\n",
    "    print(X.shape, Y.shape)\n",
    "    \n",
    "    X_all = np.append(X_all, X, axis=0)\n",
    "    Y_all = np.append(Y_all, Y, axis=0)"
   ]
  },
  {
   "cell_type": "code",
   "execution_count": 5,
   "metadata": {},
   "outputs": [
    {
     "data": {
      "text/plain": [
       "596545"
      ]
     },
     "execution_count": 5,
     "metadata": {},
     "output_type": "execute_result"
    }
   ],
   "source": [
    "(len(X_all)//64)*64 + 1"
   ]
  },
  {
   "cell_type": "code",
   "execution_count": 4,
   "metadata": {},
   "outputs": [
    {
     "data": {
      "text/plain": [
       "Counter({1.0: 7461, 0.0: 589083})"
      ]
     },
     "execution_count": 4,
     "metadata": {},
     "output_type": "execute_result"
    }
   ],
   "source": [
    "X_all = X_all[1:596545]\n",
    "Y_all = Y_all[1:596545]\n",
    "\n",
    "collections.Counter(Y_all)"
   ]
  },
  {
   "cell_type": "code",
   "execution_count": 8,
   "metadata": {},
   "outputs": [
    {
     "data": {
      "text/plain": [
       "1.266544782314207"
      ]
     },
     "execution_count": 8,
     "metadata": {},
     "output_type": "execute_result"
    }
   ],
   "source": [
    "7461/589083*100"
   ]
  },
  {
   "cell_type": "code",
   "execution_count": 5,
   "metadata": {},
   "outputs": [],
   "source": [
    "# Create the LSTM network.\n",
    "batch_size = 32\n",
    "dropout = 0.5\n",
    "num_epoch = 100\n",
    "earlyStopping = EarlyStopping(monitor='val_loss', patience=0, verbose=0, mode='auto')\n",
    "weights = {0:1, 1:100}"
   ]
  },
  {
   "cell_type": "code",
   "execution_count": 6,
   "metadata": {},
   "outputs": [],
   "source": [
    "# Shared Feature Extraction Layer\n",
    "from keras.utils import plot_model\n",
    "from keras.models import Model\n",
    "from keras.layers import Input\n",
    "from keras.layers import Dense\n",
    "from keras.layers.recurrent import LSTM\n",
    "from keras.layers.merge import concatenate"
   ]
  },
  {
   "cell_type": "code",
   "execution_count": 9,
   "metadata": {},
   "outputs": [
    {
     "name": "stderr",
     "output_type": "stream",
     "text": [
      "/Users/jocelyn/opt/anaconda3/lib/python3.7/site-packages/ipykernel_launcher.py:26: UserWarning: The `nb_epoch` argument in `fit` has been renamed `epochs`.\n"
     ]
    },
    {
     "name": "stdout",
     "output_type": "stream",
     "text": [
      "Train on 305344 samples, validate on 305344 samples\n",
      "Epoch 1/100\n",
      "305344/305344 [==============================] - 1696s 6ms/step - loss: 0.6426 - accuracy: 0.8808 - val_loss: 2.6898 - val_accuracy: 0.7810\n",
      "Epoch 2/100\n",
      "305344/305344 [==============================] - 1757s 6ms/step - loss: 0.3904 - accuracy: 0.9128 - val_loss: 2.9066 - val_accuracy: 0.8027\n"
     ]
    },
    {
     "data": {
      "text/plain": [
       "<keras.callbacks.callbacks.History at 0x1a44bc2850>"
      ]
     },
     "execution_count": 9,
     "metadata": {},
     "output_type": "execute_result"
    }
   ],
   "source": [
    "def Functional1():\n",
    "    # define input\n",
    "    visible = Input(shape=(50,27))\n",
    "    # feature extraction\n",
    "    extract1 = LSTM(10)(visible)\n",
    "    # first interpretation model\n",
    "    interp1 = Dense(10, activation='relu')(extract1)\n",
    "    # second interpretation model\n",
    "    interp11 = Dense(10, activation='relu')(extract1)\n",
    "    interp12 = Dense(20, activation='relu')(interp11)\n",
    "    interp13 = Dense(10, activation='relu')(interp12)\n",
    "    # merge interpretation\n",
    "    merge = concatenate([interp1, interp13])\n",
    "    # output\n",
    "    output = Dense(1, activation='sigmoid')(merge)\n",
    "    model = Model(inputs=visible, outputs=output)\n",
    "    model.compile(loss='binary_crossentropy', optimizer='adam', metrics=['accuracy'])\n",
    "    return model\n",
    "\n",
    "Functional1 = Functional1()\n",
    "Functional1.fit(X_all, Y_all,\n",
    "    class_weight=weights,\n",
    "    validation_split=0.5,\n",
    "    callbacks=[earlyStopping],\n",
    "    shuffle=True,\n",
    "    nb_epoch=num_epoch, batch_size=batch_size, verbose=1)\n",
    "\n",
    "#_, accuracy = model.evaluate(X, trainY)\n",
    "#print('Accuracy: %.2f' % (accuracy*100))"
   ]
  },
  {
   "cell_type": "code",
   "execution_count": null,
   "metadata": {},
   "outputs": [],
   "source": [
    "# Multilayer Perceptron\n",
    "from keras.utils import plot_model\n",
    "from keras.models import Model\n",
    "from keras.layers import Input\n",
    "from keras.layers import Dense\n",
    "visible = Input(shape=(10,))\n",
    "hidden1 = Dense(10, activation='relu')(visible)\n",
    "hidden2 = Dense(20, activation='relu')(hidden1)\n",
    "hidden3 = Dense(10, activation='relu')(hidden2)\n",
    "output = Dense(1, activation='sigmoid')(hidden3)\n",
    "model = Model(inputs=visible, outputs=output)\n",
    "# summarize layers\n",
    "print(model.summary())\n",
    "# plot graph\n",
    "plot_model(model, to_file='multilayer_perceptron_graph.png')"
   ]
  },
  {
   "cell_type": "markdown",
   "metadata": {},
   "source": [
    "## 6.6 model_CutIn1 simplest"
   ]
  },
  {
   "cell_type": "code",
   "execution_count": 10,
   "metadata": {},
   "outputs": [
    {
     "name": "stderr",
     "output_type": "stream",
     "text": [
      "/Users/jocelyn/opt/anaconda3/lib/python3.7/site-packages/ipykernel_launcher.py:2: UserWarning: Update your `LSTM` call to the Keras 2 API: `LSTM(batch_input_shape=[32, 50, 2..., units=10)`\n",
      "  \n",
      "/Users/jocelyn/opt/anaconda3/lib/python3.7/site-packages/ipykernel_launcher.py:4: UserWarning: Update your `Dense` call to the Keras 2 API: `Dense(1, activation=\"sigmoid\", kernel_initializer=\"uniform\")`\n",
      "  after removing the cwd from sys.path.\n"
     ]
    },
    {
     "name": "stdout",
     "output_type": "stream",
     "text": [
      "WARNING:tensorflow:From /Users/jocelyn/opt/anaconda3/lib/python3.7/site-packages/tensorflow/python/ops/nn_impl.py:180: add_dispatch_support.<locals>.wrapper (from tensorflow.python.ops.array_ops) is deprecated and will be removed in a future version.\n",
      "Instructions for updating:\n",
      "Use tf.where in 2.0, which has the same broadcast rule as np.where\n"
     ]
    }
   ],
   "source": [
    "model_CutIn1 = Sequential()\n",
    "model_CutIn1.add(LSTM(output_dim=10, batch_input_shape=[batch_size, look_back, dimof_input]))\n",
    "model_CutIn1.add(Dropout(dropout))\n",
    "model_CutIn1.add(Dense(dimof_output, init='uniform', activation='sigmoid'))\n",
    "model_CutIn1.compile(loss='binary_crossentropy', optimizer='adam',metrics=['accuracy'])"
   ]
  },
  {
   "cell_type": "code",
   "execution_count": 11,
   "metadata": {},
   "outputs": [
    {
     "name": "stdout",
     "output_type": "stream",
     "text": [
      "Model: \"sequential_1\"\n",
      "_________________________________________________________________\n",
      "Layer (type)                 Output Shape              Param #   \n",
      "=================================================================\n",
      "lstm_1 (LSTM)                (32, 10)                  1280      \n",
      "_________________________________________________________________\n",
      "dropout_1 (Dropout)          (32, 10)                  0         \n",
      "_________________________________________________________________\n",
      "dense_1 (Dense)              (32, 1)                   11        \n",
      "=================================================================\n",
      "Total params: 1,291\n",
      "Trainable params: 1,291\n",
      "Non-trainable params: 0\n",
      "_________________________________________________________________\n"
     ]
    }
   ],
   "source": [
    "model_CutIn1.summary()"
   ]
  },
  {
   "cell_type": "code",
   "execution_count": 12,
   "metadata": {},
   "outputs": [
    {
     "name": "stderr",
     "output_type": "stream",
     "text": [
      "/Users/jocelyn/opt/anaconda3/lib/python3.7/site-packages/ipykernel_launcher.py:7: UserWarning: The `nb_epoch` argument in `fit` has been renamed `epochs`.\n",
      "  import sys\n"
     ]
    },
    {
     "name": "stdout",
     "output_type": "stream",
     "text": [
      "WARNING:tensorflow:From /Users/jocelyn/opt/anaconda3/lib/python3.7/site-packages/keras/backend/tensorflow_backend.py:422: The name tf.global_variables is deprecated. Please use tf.compat.v1.global_variables instead.\n",
      "\n",
      "Train on 298272 samples, validate on 298272 samples\n",
      "Epoch 1/100\n",
      "298272/298272 [==============================] - 1136s 4ms/step - loss: 0.9335 - accuracy: 0.7745 - val_loss: 1.4903 - val_accuracy: 0.8044\n",
      "Epoch 2/100\n",
      "298272/298272 [==============================] - 1024s 3ms/step - loss: 0.6830 - accuracy: 0.8361 - val_loss: 1.7643 - val_accuracy: 0.8754\n"
     ]
    }
   ],
   "source": [
    "history1 = model_CutIn1.fit(\n",
    "    X_all, Y_all,\n",
    "    class_weight=weights,\n",
    "    validation_split=0.5,\n",
    "    callbacks=[earlyStopping],\n",
    "    shuffle=True,\n",
    "    nb_epoch=num_epoch, batch_size=batch_size, verbose=1)"
   ]
  },
  {
   "cell_type": "code",
   "execution_count": 13,
   "metadata": {},
   "outputs": [
    {
     "data": {
      "text/plain": [
       "{'val_loss': [1.4902933307173702, 1.7643374966691991],\n",
       " 'val_accuracy': [0.8043631315231323, 0.8753553628921509],\n",
       " 'loss': [0.9335409086567306, 0.682951611249587],\n",
       " 'accuracy': [0.7744542, 0.83608586]}"
      ]
     },
     "execution_count": 13,
     "metadata": {},
     "output_type": "execute_result"
    }
   ],
   "source": [
    "history1.history"
   ]
  },
  {
   "cell_type": "code",
   "execution_count": 14,
   "metadata": {},
   "outputs": [
    {
     "data": {
      "image/png": "[encoded data removed]",
      "text/plain": [
       "<Figure size 432x288 with 1 Axes>"
      ]
     },
     "metadata": {
      "needs_background": "light"
     },
     "output_type": "display_data"
    }
   ],
   "source": [
    "# Plot history for training and validation loss.\n",
    "\n",
    "plt.plot(history1.history['accuracy'])\n",
    "plt.plot(history1.history['val_accuracy'])\n",
    "plt.title('2-layer LSTM model')\n",
    "plt.ylabel('accuracy')\n",
    "plt.xlabel('epoch')\n",
    "plt.legend(['Train', 'Validate'], loc='upper left')\n",
    "plt.show()"
   ]
  },
  {
   "cell_type": "code",
   "execution_count": 15,
   "metadata": {},
   "outputs": [
    {
     "data": {
      "image/png": "[encoded data removed]",
      "text/plain": [
       "<Figure size 432x288 with 1 Axes>"
      ]
     },
     "metadata": {
      "needs_background": "light"
     },
     "output_type": "display_data"
    }
   ],
   "source": [
    "# Plot history for training and validation loss.\n",
    "\n",
    "plt.plot(history1.history['loss'])\n",
    "plt.plot(history1.history['val_loss'])\n",
    "plt.title('2-layer LSTM model')\n",
    "plt.ylabel('loss')\n",
    "plt.xlabel('epoch')\n",
    "plt.legend(['Train', 'Validate'], loc='upper left')\n",
    "plt.show()"
   ]
  },
  {
   "cell_type": "markdown",
   "metadata": {},
   "source": [
    "## 2 hidden layers"
   ]
  },
  {
   "cell_type": "code",
   "execution_count": 16,
   "metadata": {},
   "outputs": [
    {
     "name": "stderr",
     "output_type": "stream",
     "text": [
      "/Users/jocelyn/opt/anaconda3/lib/python3.7/site-packages/ipykernel_launcher.py:2: UserWarning: Update your `LSTM` call to the Keras 2 API: `LSTM(batch_input_shape=[32, 50, 2..., units=10)`\n",
      "  \n",
      "/Users/jocelyn/opt/anaconda3/lib/python3.7/site-packages/ipykernel_launcher.py:6: UserWarning: Update your `Dense` call to the Keras 2 API: `Dense(1, activation=\"sigmoid\", kernel_initializer=\"uniform\")`\n",
      "  \n"
     ]
    }
   ],
   "source": [
    "model_CutIn2 = Sequential()\n",
    "model_CutIn2.add(LSTM(output_dim=10, batch_input_shape=[batch_size, look_back, dimof_input]))\n",
    "model_CutIn2.add(Dropout(dropout))\n",
    "model_CutIn2.add(Dense(30, activation='relu'))\n",
    "model_CutIn2.add(Dropout(dropout))\n",
    "model_CutIn2.add(Dense(dimof_output, init='uniform', activation='sigmoid'))\n",
    "model_CutIn2.compile(loss='binary_crossentropy', optimizer='adam',metrics=['accuracy'])"
   ]
  },
  {
   "cell_type": "code",
   "execution_count": 19,
   "metadata": {},
   "outputs": [],
   "source": [
    "from keras.utils import plot_model"
   ]
  },
  {
   "cell_type": "code",
   "execution_count": null,
   "metadata": {},
   "outputs": [],
   "source": [
    "plot_model(model_CutIn2)"
   ]
  },
  {
   "cell_type": "code",
   "execution_count": 17,
   "metadata": {},
   "outputs": [
    {
     "name": "stderr",
     "output_type": "stream",
     "text": [
      "/Users/jocelyn/opt/anaconda3/lib/python3.7/site-packages/ipykernel_launcher.py:7: UserWarning: The `nb_epoch` argument in `fit` has been renamed `epochs`.\n",
      "  import sys\n"
     ]
    },
    {
     "name": "stdout",
     "output_type": "stream",
     "text": [
      "Train on 298272 samples, validate on 298272 samples\n",
      "Epoch 1/100\n",
      "298272/298272 [==============================] - 1084s 4ms/step - loss: 1.0071 - accuracy: 0.7059 - val_loss: 1.5066 - val_accuracy: 0.7247\n",
      "Epoch 2/100\n",
      "298272/298272 [==============================] - 1097s 4ms/step - loss: 0.7894 - accuracy: 0.7372 - val_loss: 2.0250 - val_accuracy: 0.7680\n"
     ]
    }
   ],
   "source": [
    "history2 = model_CutIn2.fit(\n",
    "    X_all, Y_all,\n",
    "    class_weight=weights,\n",
    "    validation_split=0.5,\n",
    "    callbacks=[earlyStopping],\n",
    "    shuffle=True,\n",
    "    nb_epoch=num_epoch, batch_size=batch_size, verbose=1)"
   ]
  },
  {
   "cell_type": "code",
   "execution_count": 17,
   "metadata": {},
   "outputs": [
    {
     "name": "stdout",
     "output_type": "stream",
     "text": [
      "Model: \"sequential_2\"\n",
      "_________________________________________________________________\n",
      "Layer (type)                 Output Shape              Param #   \n",
      "=================================================================\n",
      "lstm_2 (LSTM)                (32, 10)                  1880      \n",
      "_________________________________________________________________\n",
      "dropout_2 (Dropout)          (32, 10)                  0         \n",
      "_________________________________________________________________\n",
      "dense_2 (Dense)              (32, 30)                  330       \n",
      "_________________________________________________________________\n",
      "dropout_3 (Dropout)          (32, 30)                  0         \n",
      "_________________________________________________________________\n",
      "dense_3 (Dense)              (32, 1)                   31        \n",
      "=================================================================\n",
      "Total params: 2,241\n",
      "Trainable params: 2,241\n",
      "Non-trainable params: 0\n",
      "_________________________________________________________________\n"
     ]
    }
   ],
   "source": [
    "model_CutIn2.summary()"
   ]
  },
  {
   "cell_type": "code",
   "execution_count": 18,
   "metadata": {},
   "outputs": [
    {
     "data": {
      "image/png": "[encoded data removed]",
      "text/plain": [
       "<Figure size 432x288 with 1 Axes>"
      ]
     },
     "metadata": {
      "needs_background": "light"
     },
     "output_type": "display_data"
    }
   ],
   "source": [
    "# Plot history for training and validation loss.\n",
    "\n",
    "plt.plot(history2.history['accuracy'])\n",
    "plt.plot(history2.history['val_accuracy'])\n",
    "plt.title('3-layer LSTM model')\n",
    "plt.ylabel('accuracy')\n",
    "plt.xlabel('epoch')\n",
    "plt.legend(['Train', 'Validate'], loc='upper left')\n",
    "plt.show()"
   ]
  },
  {
   "cell_type": "code",
   "execution_count": 19,
   "metadata": {},
   "outputs": [
    {
     "data": {
      "image/png": "[encoded data removed]",
      "text/plain": [
       "<Figure size 432x288 with 1 Axes>"
      ]
     },
     "metadata": {
      "needs_background": "light"
     },
     "output_type": "display_data"
    }
   ],
   "source": [
    "# Plot history for training and validation loss.\n",
    "\n",
    "plt.plot(history2.history['loss'])\n",
    "plt.plot(history2.history['val_loss'])\n",
    "plt.title('3-layer LSTM model')\n",
    "plt.ylabel('loss')\n",
    "plt.xlabel('epoch')\n",
    "plt.legend(['Train', 'Validate'], loc='upper left')\n",
    "plt.show()"
   ]
  },
  {
   "cell_type": "code",
   "execution_count": 20,
   "metadata": {},
   "outputs": [
    {
     "data": {
      "text/plain": [
       "{'val_loss': [1.5066250463348254, 2.025043395553832],\n",
       " 'val_accuracy': [0.7247277498245239, 0.7680338621139526],\n",
       " 'loss': [1.007069079705976, 0.7893889320646792],\n",
       " 'accuracy': [0.70586914, 0.737213]}"
      ]
     },
     "execution_count": 20,
     "metadata": {},
     "output_type": "execute_result"
    }
   ],
   "source": [
    "history2.history"
   ]
  },
  {
   "cell_type": "markdown",
   "metadata": {},
   "source": [
    "## Model 3"
   ]
  },
  {
   "cell_type": "code",
   "execution_count": 21,
   "metadata": {},
   "outputs": [
    {
     "name": "stderr",
     "output_type": "stream",
     "text": [
      "/Users/jocelyn/opt/anaconda3/lib/python3.7/site-packages/ipykernel_launcher.py:2: UserWarning: Update your `LSTM` call to the Keras 2 API: `LSTM(batch_input_shape=[32, 50, 2..., units=10)`\n",
      "  \n",
      "/Users/jocelyn/opt/anaconda3/lib/python3.7/site-packages/ipykernel_launcher.py:8: UserWarning: Update your `Dense` call to the Keras 2 API: `Dense(1, activation=\"sigmoid\", kernel_initializer=\"uniform\")`\n",
      "  \n"
     ]
    }
   ],
   "source": [
    "model_CutIn3 = Sequential()\n",
    "model_CutIn3.add(LSTM(output_dim=10, batch_input_shape=[batch_size, look_back, dimof_input]))\n",
    "model_CutIn3.add(Dropout(dropout))\n",
    "model_CutIn3.add(Dense(30, activation='relu'))\n",
    "model_CutIn3.add(Dropout(dropout))\n",
    "model_CutIn3.add(Dense(30, activation='relu'))\n",
    "model_CutIn3.add(Dropout(dropout))\n",
    "model_CutIn3.add(Dense(dimof_output, init='uniform', activation='sigmoid'))\n",
    "model_CutIn3.compile(loss='binary_crossentropy', optimizer='adam',metrics=['accuracy'])"
   ]
  },
  {
   "cell_type": "code",
   "execution_count": 22,
   "metadata": {},
   "outputs": [
    {
     "name": "stdout",
     "output_type": "stream",
     "text": [
      "Model: \"sequential_3\"\n",
      "_________________________________________________________________\n",
      "Layer (type)                 Output Shape              Param #   \n",
      "=================================================================\n",
      "lstm_3 (LSTM)                (32, 10)                  1880      \n",
      "_________________________________________________________________\n",
      "dropout_4 (Dropout)          (32, 10)                  0         \n",
      "_________________________________________________________________\n",
      "dense_4 (Dense)              (32, 30)                  330       \n",
      "_________________________________________________________________\n",
      "dropout_5 (Dropout)          (32, 30)                  0         \n",
      "_________________________________________________________________\n",
      "dense_5 (Dense)              (32, 30)                  930       \n",
      "_________________________________________________________________\n",
      "dropout_6 (Dropout)          (32, 30)                  0         \n",
      "_________________________________________________________________\n",
      "dense_6 (Dense)              (32, 1)                   31        \n",
      "=================================================================\n",
      "Total params: 3,171\n",
      "Trainable params: 3,171\n",
      "Non-trainable params: 0\n",
      "_________________________________________________________________\n"
     ]
    }
   ],
   "source": [
    "model_CutIn3.summary()"
   ]
  },
  {
   "cell_type": "code",
   "execution_count": 22,
   "metadata": {},
   "outputs": [
    {
     "name": "stderr",
     "output_type": "stream",
     "text": [
      "/Users/jocelyn/opt/anaconda3/lib/python3.7/site-packages/ipykernel_launcher.py:7: UserWarning: The `nb_epoch` argument in `fit` has been renamed `epochs`.\n",
      "  import sys\n"
     ]
    },
    {
     "name": "stdout",
     "output_type": "stream",
     "text": [
      "Train on 298272 samples, validate on 298272 samples\n",
      "Epoch 1/100\n",
      "298272/298272 [==============================] - 1187s 4ms/step - loss: 1.0439 - accuracy: 0.6964 - val_loss: 1.5558 - val_accuracy: 0.7588\n",
      "Epoch 2/100\n",
      "298272/298272 [==============================] - 1148s 4ms/step - loss: 0.8471 - accuracy: 0.7308 - val_loss: 1.9920 - val_accuracy: 0.8239\n"
     ]
    }
   ],
   "source": [
    "history3 = model_CutIn3.fit(\n",
    "    X_all, Y_all,\n",
    "    class_weight=weights,\n",
    "    validation_split=0.5,\n",
    "    callbacks=[earlyStopping],\n",
    "    shuffle=True,\n",
    "    nb_epoch=num_epoch, batch_size=batch_size, verbose=1)"
   ]
  },
  {
   "cell_type": "code",
   "execution_count": 23,
   "metadata": {},
   "outputs": [
    {
     "data": {
      "text/plain": [
       "{'val_loss': [1.5557986725982071, 1.9920260457398513],\n",
       " 'val_accuracy': [0.7587805986404419, 0.8238956332206726],\n",
       " 'loss': [1.043948266368646, 0.8470522745630028],\n",
       " 'accuracy': [0.69644487, 0.730843]}"
      ]
     },
     "execution_count": 23,
     "metadata": {},
     "output_type": "execute_result"
    }
   ],
   "source": [
    "history3.history"
   ]
  },
  {
   "cell_type": "code",
   "execution_count": 24,
   "metadata": {},
   "outputs": [
    {
     "data": {
      "image/png": "[encoded data removed]",
      "text/plain": [
       "<Figure size 432x288 with 1 Axes>"
      ]
     },
     "metadata": {
      "needs_background": "light"
     },
     "output_type": "display_data"
    }
   ],
   "source": [
    "# Plot history for training and validation loss.\n",
    "\n",
    "plt.plot(history3.history['accuracy'])\n",
    "plt.plot(history3.history['val_accuracy'])\n",
    "plt.title('4-layer LSTM model')\n",
    "plt.ylabel('accuracy')\n",
    "plt.xlabel('epoch')\n",
    "plt.legend(['Train', 'Validate'], loc='upper left')\n",
    "plt.show()"
   ]
  },
  {
   "cell_type": "code",
   "execution_count": 25,
   "metadata": {},
   "outputs": [
    {
     "data": {
      "image/png": "[encoded data removed]",
      "text/plain": [
       "<Figure size 432x288 with 1 Axes>"
      ]
     },
     "metadata": {
      "needs_background": "light"
     },
     "output_type": "display_data"
    }
   ],
   "source": [
    "# Plot history for training and validation loss.\n",
    "\n",
    "plt.plot(history3.history['loss'])\n",
    "plt.plot(history3.history['val_loss'])\n",
    "plt.title('4-layer LSTM model')\n",
    "plt.ylabel('loss')\n",
    "plt.xlabel('epoch')\n",
    "plt.legend(['Train', 'Validate'], loc='upper left')\n",
    "plt.show()"
   ]
  },
  {
   "cell_type": "markdown",
   "metadata": {},
   "source": [
    "## Model 4"
   ]
  },
  {
   "cell_type": "code",
   "execution_count": 26,
   "metadata": {},
   "outputs": [
    {
     "name": "stderr",
     "output_type": "stream",
     "text": [
      "/Users/jocelyn/opt/anaconda3/lib/python3.7/site-packages/ipykernel_launcher.py:2: UserWarning: Update your `LSTM` call to the Keras 2 API: `LSTM(batch_input_shape=[32, 50, 2..., units=10)`\n",
      "  \n",
      "/Users/jocelyn/opt/anaconda3/lib/python3.7/site-packages/ipykernel_launcher.py:10: UserWarning: Update your `Dense` call to the Keras 2 API: `Dense(1, activation=\"sigmoid\", kernel_initializer=\"uniform\")`\n",
      "  # Remove the CWD from sys.path while we load stuff.\n"
     ]
    }
   ],
   "source": [
    "model_CutIn4 = Sequential()\n",
    "model_CutIn4.add(LSTM(output_dim=10, batch_input_shape=[batch_size, look_back, dimof_input]))\n",
    "model_CutIn4.add(Dropout(dropout))\n",
    "model_CutIn4.add(Dense(30, activation='relu'))\n",
    "model_CutIn4.add(Dropout(dropout))\n",
    "model_CutIn4.add(Dense(30, activation='relu'))\n",
    "model_CutIn4.add(Dropout(dropout))\n",
    "model_CutIn4.add(Dense(10, activation='relu'))\n",
    "model_CutIn4.add(Dropout(dropout))\n",
    "model_CutIn4.add(Dense(dimof_output, init='uniform', activation='sigmoid'))\n",
    "model_CutIn4.compile(loss='binary_crossentropy', optimizer='adam',metrics=['accuracy'])"
   ]
  },
  {
   "cell_type": "code",
   "execution_count": 12,
   "metadata": {},
   "outputs": [
    {
     "name": "stdout",
     "output_type": "stream",
     "text": [
      "Model: \"sequential_2\"\n",
      "_________________________________________________________________\n",
      "Layer (type)                 Output Shape              Param #   \n",
      "=================================================================\n",
      "lstm_2 (LSTM)                (32, 10)                  1880      \n",
      "_________________________________________________________________\n",
      "dropout_4 (Dropout)          (32, 10)                  0         \n",
      "_________________________________________________________________\n",
      "dense_4 (Dense)              (32, 30)                  330       \n",
      "_________________________________________________________________\n",
      "dropout_5 (Dropout)          (32, 30)                  0         \n",
      "_________________________________________________________________\n",
      "dense_5 (Dense)              (32, 30)                  930       \n",
      "_________________________________________________________________\n",
      "dropout_6 (Dropout)          (32, 30)                  0         \n",
      "_________________________________________________________________\n",
      "dense_6 (Dense)              (32, 10)                  310       \n",
      "_________________________________________________________________\n",
      "dropout_7 (Dropout)          (32, 10)                  0         \n",
      "_________________________________________________________________\n",
      "dense_7 (Dense)              (32, 1)                   11        \n",
      "=================================================================\n",
      "Total params: 3,461\n",
      "Trainable params: 3,461\n",
      "Non-trainable params: 0\n",
      "_________________________________________________________________\n"
     ]
    }
   ],
   "source": [
    "model_CutIn4.summary()"
   ]
  },
  {
   "cell_type": "code",
   "execution_count": 27,
   "metadata": {},
   "outputs": [
    {
     "name": "stderr",
     "output_type": "stream",
     "text": [
      "/Users/jocelyn/opt/anaconda3/lib/python3.7/site-packages/ipykernel_launcher.py:7: UserWarning: The `nb_epoch` argument in `fit` has been renamed `epochs`.\n",
      "  import sys\n"
     ]
    },
    {
     "name": "stdout",
     "output_type": "stream",
     "text": [
      "Train on 298272 samples, validate on 298272 samples\n",
      "Epoch 1/100\n",
      "298272/298272 [==============================] - 1220s 4ms/step - loss: 1.1078 - accuracy: 0.6648 - val_loss: 1.3385 - val_accuracy: 0.7026\n",
      "Epoch 2/100\n",
      "298272/298272 [==============================] - 1227s 4ms/step - loss: 0.8782 - accuracy: 0.6994 - val_loss: 1.6631 - val_accuracy: 0.7205\n"
     ]
    }
   ],
   "source": [
    "history4 = model_CutIn4.fit(\n",
    "    X_all, Y_all,\n",
    "    class_weight=weights,\n",
    "    validation_split=0.5,\n",
    "    callbacks=[earlyStopping],\n",
    "    shuffle=True,\n",
    "    nb_epoch=num_epoch, batch_size=batch_size, verbose=1)"
   ]
  },
  {
   "cell_type": "code",
   "execution_count": 28,
   "metadata": {},
   "outputs": [
    {
     "data": {
      "text/plain": [
       "{'val_loss': [1.3385463565080271, 1.6630580398207138],\n",
       " 'val_accuracy': [0.702643871307373, 0.7205402851104736],\n",
       " 'loss': [1.1077830144109777, 0.8781549592143015],\n",
       " 'accuracy': [0.6648328, 0.6993583]}"
      ]
     },
     "execution_count": 28,
     "metadata": {},
     "output_type": "execute_result"
    }
   ],
   "source": [
    "history4.history"
   ]
  },
  {
   "cell_type": "code",
   "execution_count": 29,
   "metadata": {},
   "outputs": [
    {
     "data": {
      "image/png": "[encoded data removed]",
      "text/plain": [
       "<Figure size 432x288 with 1 Axes>"
      ]
     },
     "metadata": {
      "needs_background": "light"
     },
     "output_type": "display_data"
    }
   ],
   "source": [
    "# Plot history for training and validation loss.\n",
    "\n",
    "plt.plot(history4.history['accuracy'])\n",
    "plt.plot(history4.history['val_accuracy'])\n",
    "plt.title('5-layer LSTM model')\n",
    "plt.ylabel('accuracy')\n",
    "plt.xlabel('epoch')\n",
    "plt.legend(['Train', 'Validate'], loc='upper left')\n",
    "plt.show()"
   ]
  },
  {
   "cell_type": "code",
   "execution_count": 30,
   "metadata": {},
   "outputs": [
    {
     "data": {
      "image/png": "[encoded data removed]",
      "text/plain": [
       "<Figure size 432x288 with 1 Axes>"
      ]
     },
     "metadata": {
      "needs_background": "light"
     },
     "output_type": "display_data"
    }
   ],
   "source": [
    "# Plot history for training and validation loss.\n",
    "\n",
    "plt.plot(history4.history['loss'])\n",
    "plt.plot(history4.history['val_loss'])\n",
    "plt.title('5-layer LSTM model')\n",
    "plt.ylabel('loss')\n",
    "plt.xlabel('epoch')\n",
    "plt.legend(['Train', 'Validate'], loc='upper left')\n",
    "plt.show()"
   ]
  },
  {
   "cell_type": "code",
   "execution_count": 33,
   "metadata": {},
   "outputs": [
    {
     "name": "stderr",
     "output_type": "stream",
     "text": [
      "/Users/jocelyn/opt/anaconda3/lib/python3.7/site-packages/ipykernel_launcher.py:2: UserWarning: Update your `LSTM` call to the Keras 2 API: `LSTM(batch_input_shape=[32, 50, 2..., units=30)`\n",
      "  \n",
      "/Users/jocelyn/opt/anaconda3/lib/python3.7/site-packages/ipykernel_launcher.py:4: UserWarning: Update your `Dense` call to the Keras 2 API: `Dense(1, activation=\"sigmoid\", kernel_initializer=\"uniform\")`\n",
      "  after removing the cwd from sys.path.\n"
     ]
    }
   ],
   "source": [
    "model_CutIn5 = Sequential()\n",
    "model_CutIn5.add(LSTM(output_dim=30, batch_input_shape=[batch_size, look_back, dimof_input]))\n",
    "model_CutIn5.add(Dropout(dropout))\n",
    "model_CutIn5.add(Dense(dimof_output, init='uniform', activation='sigmoid'))\n",
    "model_CutIn5.compile(loss='binary_crossentropy', optimizer='adam',metrics=['accuracy'])"
   ]
  },
  {
   "cell_type": "code",
   "execution_count": 34,
   "metadata": {},
   "outputs": [
    {
     "name": "stdout",
     "output_type": "stream",
     "text": [
      "Model: \"sequential_5\"\n",
      "_________________________________________________________________\n",
      "Layer (type)                 Output Shape              Param #   \n",
      "=================================================================\n",
      "lstm_5 (LSTM)                (32, 30)                  6240      \n",
      "_________________________________________________________________\n",
      "dropout_11 (Dropout)         (32, 30)                  0         \n",
      "_________________________________________________________________\n",
      "dense_11 (Dense)             (32, 1)                   31        \n",
      "=================================================================\n",
      "Total params: 6,271\n",
      "Trainable params: 6,271\n",
      "Non-trainable params: 0\n",
      "_________________________________________________________________\n"
     ]
    }
   ],
   "source": [
    "model_CutIn5.summary()"
   ]
  },
  {
   "cell_type": "code",
   "execution_count": 35,
   "metadata": {},
   "outputs": [
    {
     "name": "stderr",
     "output_type": "stream",
     "text": [
      "/Users/jocelyn/opt/anaconda3/lib/python3.7/site-packages/ipykernel_launcher.py:7: UserWarning: The `nb_epoch` argument in `fit` has been renamed `epochs`.\n",
      "  import sys\n"
     ]
    },
    {
     "name": "stdout",
     "output_type": "stream",
     "text": [
      "Train on 298272 samples, validate on 298272 samples\n",
      "Epoch 1/100\n",
      "298272/298272 [==============================] - 1584s 5ms/step - loss: 0.7671 - accuracy: 0.8373 - val_loss: 2.0212 - val_accuracy: 0.8887\n",
      "Epoch 2/100\n",
      "298272/298272 [==============================] - 1784s 6ms/step - loss: 0.4973 - accuracy: 0.9034 - val_loss: 2.9778 - val_accuracy: 0.9066\n"
     ]
    }
   ],
   "source": [
    "history5 = model_CutIn5.fit(\n",
    "    X_all, Y_all,\n",
    "    class_weight=weights,\n",
    "    validation_split=0.5,\n",
    "    callbacks=[earlyStopping],\n",
    "    shuffle=True,\n",
    "    nb_epoch=num_epoch, batch_size=batch_size, verbose=1)"
   ]
  },
  {
   "cell_type": "code",
   "execution_count": 36,
   "metadata": {},
   "outputs": [
    {
     "data": {
      "text/plain": [
       "{'val_loss': [2.021237313914242, 2.977776445663319],\n",
       " 'val_accuracy': [0.8886687159538269, 0.9066120982170105],\n",
       " 'loss': [0.767136476275306, 0.49729643482505065],\n",
       " 'accuracy': [0.8372727, 0.9033969]}"
      ]
     },
     "execution_count": 36,
     "metadata": {},
     "output_type": "execute_result"
    }
   ],
   "source": [
    "history5.history"
   ]
  },
  {
   "cell_type": "code",
   "execution_count": 37,
   "metadata": {},
   "outputs": [
    {
     "data": {
      "image/png": "[encoded data removed]",
      "text/plain": [
       "<Figure size 432x288 with 1 Axes>"
      ]
     },
     "metadata": {
      "needs_background": "light"
     },
     "output_type": "display_data"
    }
   ],
   "source": [
    "# Plot history for training and validation loss.\n",
    "\n",
    "plt.plot(history5.history['accuracy'])\n",
    "plt.plot(history5.history['val_accuracy'])\n",
    "plt.title('2-layer LSTM model with more nodes')\n",
    "plt.ylabel('accuracy')\n",
    "plt.xlabel('epoch')\n",
    "plt.legend(['Train', 'Validate'], loc='upper left')\n",
    "plt.show()"
   ]
  },
  {
   "cell_type": "code",
   "execution_count": 38,
   "metadata": {},
   "outputs": [
    {
     "data": {
      "image/png": "[encoded data removed]",
      "text/plain": [
       "<Figure size 432x288 with 1 Axes>"
      ]
     },
     "metadata": {
      "needs_background": "light"
     },
     "output_type": "display_data"
    }
   ],
   "source": [
    "# Plot history for training and validation loss.\n",
    "\n",
    "plt.plot(history5.history['loss'])\n",
    "plt.plot(history5.history['val_loss'])\n",
    "plt.title('2-layer LSTM model with more nodes')\n",
    "plt.ylabel('loss')\n",
    "plt.xlabel('epoch')\n",
    "plt.legend(['Train', 'Validate'], loc='upper left')\n",
    "plt.show()"
   ]
  },
  {
   "cell_type": "code",
   "execution_count": 6,
   "metadata": {},
   "outputs": [
    {
     "name": "stderr",
     "output_type": "stream",
     "text": [
      "/Users/jocelyn/opt/anaconda3/lib/python3.7/site-packages/ipykernel_launcher.py:2: UserWarning: Update your `LSTM` call to the Keras 2 API: `LSTM(batch_input_shape=[32, 50, 2..., units=50)`\n",
      "  \n",
      "/Users/jocelyn/opt/anaconda3/lib/python3.7/site-packages/ipykernel_launcher.py:4: UserWarning: Update your `Dense` call to the Keras 2 API: `Dense(1, activation=\"sigmoid\", kernel_initializer=\"uniform\")`\n",
      "  after removing the cwd from sys.path.\n"
     ]
    },
    {
     "name": "stdout",
     "output_type": "stream",
     "text": [
      "WARNING:tensorflow:From /Users/jocelyn/opt/anaconda3/lib/python3.7/site-packages/tensorflow/python/ops/nn_impl.py:180: add_dispatch_support.<locals>.wrapper (from tensorflow.python.ops.array_ops) is deprecated and will be removed in a future version.\n",
      "Instructions for updating:\n",
      "Use tf.where in 2.0, which has the same broadcast rule as np.where\n"
     ]
    }
   ],
   "source": [
    "model_CutIn6 = Sequential()\n",
    "model_CutIn6.add(LSTM(output_dim=50, batch_input_shape=[batch_size, look_back, dimof_input]))\n",
    "model_CutIn6.add(Dropout(dropout))\n",
    "model_CutIn6.add(Dense(dimof_output, init='uniform', activation='sigmoid'))\n",
    "model_CutIn6.compile(loss='binary_crossentropy', optimizer='adam',metrics=['accuracy'])"
   ]
  },
  {
   "cell_type": "code",
   "execution_count": 7,
   "metadata": {},
   "outputs": [
    {
     "name": "stderr",
     "output_type": "stream",
     "text": [
      "/Users/jocelyn/opt/anaconda3/lib/python3.7/site-packages/ipykernel_launcher.py:7: UserWarning: The `nb_epoch` argument in `fit` has been renamed `epochs`.\n",
      "  import sys\n"
     ]
    },
    {
     "name": "stdout",
     "output_type": "stream",
     "text": [
      "WARNING:tensorflow:From /Users/jocelyn/opt/anaconda3/lib/python3.7/site-packages/keras/backend/tensorflow_backend.py:422: The name tf.global_variables is deprecated. Please use tf.compat.v1.global_variables instead.\n",
      "\n",
      "Train on 298272 samples, validate on 298272 samples\n",
      "Epoch 1/100\n",
      "298272/298272 [==============================] - 1352s 5ms/step - loss: 0.7402 - accuracy: 0.8474 - val_loss: 2.0735 - val_accuracy: 0.8870\n",
      "Epoch 2/100\n",
      "298272/298272 [==============================] - 1382s 5ms/step - loss: 0.4433 - accuracy: 0.9042 - val_loss: 2.6212 - val_accuracy: 0.8883\n"
     ]
    }
   ],
   "source": [
    "history6 = model_CutIn6.fit(\n",
    "    X_all, Y_all,\n",
    "    class_weight=weights,\n",
    "    validation_split=0.5,\n",
    "    callbacks=[earlyStopping],\n",
    "    shuffle=True,\n",
    "    nb_epoch=num_epoch, batch_size=batch_size, verbose=1)"
   ]
  },
  {
   "cell_type": "code",
   "execution_count": 8,
   "metadata": {},
   "outputs": [
    {
     "name": "stdout",
     "output_type": "stream",
     "text": [
      "Model: \"sequential_1\"\n",
      "_________________________________________________________________\n",
      "Layer (type)                 Output Shape              Param #   \n",
      "=================================================================\n",
      "lstm_1 (LSTM)                (32, 50)                  14400     \n",
      "_________________________________________________________________\n",
      "dropout_1 (Dropout)          (32, 50)                  0         \n",
      "_________________________________________________________________\n",
      "dense_1 (Dense)              (32, 1)                   51        \n",
      "=================================================================\n",
      "Total params: 14,451\n",
      "Trainable params: 14,451\n",
      "Non-trainable params: 0\n",
      "_________________________________________________________________\n"
     ]
    }
   ],
   "source": [
    "model_CutIn6.summary()"
   ]
  },
  {
   "cell_type": "code",
   "execution_count": 9,
   "metadata": {},
   "outputs": [
    {
     "data": {
      "image/png": "[encoded data removed]",
      "text/plain": [
       "<Figure size 432x288 with 1 Axes>"
      ]
     },
     "metadata": {
      "needs_background": "light"
     },
     "output_type": "display_data"
    }
   ],
   "source": [
    "# Plot history for training and validation loss.\n",
    "\n",
    "plt.plot(history6.history['accuracy'])\n",
    "plt.plot(history6.history['val_accuracy'])\n",
    "plt.title('2-layer LSTM model with more nodes')\n",
    "plt.ylabel('accuracy')\n",
    "plt.xlabel('epoch')\n",
    "plt.legend(['Train', 'Validate'], loc='upper left')\n",
    "plt.show()"
   ]
  },
  {
   "cell_type": "code",
   "execution_count": 10,
   "metadata": {},
   "outputs": [
    {
     "data": {
      "image/png": "[encoded data removed]",
      "text/plain": [
       "<Figure size 432x288 with 1 Axes>"
      ]
     },
     "metadata": {
      "needs_background": "light"
     },
     "output_type": "display_data"
    }
   ],
   "source": [
    "# Plot history for training and validation loss.\n",
    "\n",
    "plt.plot(history6.history['loss'])\n",
    "plt.plot(history6.history['val_loss'])\n",
    "plt.title('2-layer LSTM model with more nodes')\n",
    "plt.ylabel('loss')\n",
    "plt.xlabel('epoch')\n",
    "plt.legend(['Train', 'Validate'], loc='upper left')\n",
    "plt.show()"
   ]
  },
  {
   "cell_type": "code",
   "execution_count": 13,
   "metadata": {},
   "outputs": [
    {
     "name": "stderr",
     "output_type": "stream",
     "text": [
      "/Users/jocelyn/opt/anaconda3/lib/python3.7/site-packages/ipykernel_launcher.py:2: UserWarning: Update your `LSTM` call to the Keras 2 API: `LSTM(batch_input_shape=[32, 50, 2..., units=40)`\n",
      "  \n",
      "/Users/jocelyn/opt/anaconda3/lib/python3.7/site-packages/ipykernel_launcher.py:4: UserWarning: Update your `Dense` call to the Keras 2 API: `Dense(1, activation=\"sigmoid\", kernel_initializer=\"uniform\")`\n",
      "  after removing the cwd from sys.path.\n"
     ]
    }
   ],
   "source": [
    "model_CutIn7 = Sequential()\n",
    "model_CutIn7.add(LSTM(output_dim=40, batch_input_shape=[batch_size, look_back, dimof_input]))\n",
    "model_CutIn7.add(Dropout(dropout))\n",
    "model_CutIn7.add(Dense(dimof_output, init='uniform', activation='sigmoid'))\n",
    "model_CutIn7.compile(loss='binary_crossentropy', optimizer='adam',metrics=['accuracy'])"
   ]
  },
  {
   "cell_type": "code",
   "execution_count": 14,
   "metadata": {},
   "outputs": [
    {
     "name": "stderr",
     "output_type": "stream",
     "text": [
      "/Users/jocelyn/opt/anaconda3/lib/python3.7/site-packages/ipykernel_launcher.py:7: UserWarning: The `nb_epoch` argument in `fit` has been renamed `epochs`.\n",
      "  import sys\n"
     ]
    },
    {
     "name": "stdout",
     "output_type": "stream",
     "text": [
      "Train on 298272 samples, validate on 298272 samples\n",
      "Epoch 1/100\n",
      "298272/298272 [==============================] - 1257s 4ms/step - loss: 0.7745 - accuracy: 0.8248 - val_loss: 1.8259 - val_accuracy: 0.8236\n",
      "Epoch 2/100\n",
      "298272/298272 [==============================] - 1390s 5ms/step - loss: 0.5319 - accuracy: 0.8836 - val_loss: 2.6512 - val_accuracy: 0.8865\n"
     ]
    }
   ],
   "source": [
    "history7 = model_CutIn7.fit(\n",
    "    X_all, Y_all,\n",
    "    class_weight=weights,\n",
    "    validation_split=0.5,\n",
    "    callbacks=[earlyStopping],\n",
    "    shuffle=True,\n",
    "    nb_epoch=num_epoch, batch_size=batch_size, verbose=1)"
   ]
  },
  {
   "cell_type": "code",
   "execution_count": 15,
   "metadata": {},
   "outputs": [
    {
     "name": "stdout",
     "output_type": "stream",
     "text": [
      "Model: \"sequential_3\"\n",
      "_________________________________________________________________\n",
      "Layer (type)                 Output Shape              Param #   \n",
      "=================================================================\n",
      "lstm_3 (LSTM)                (32, 40)                  9920      \n",
      "_________________________________________________________________\n",
      "dropout_3 (Dropout)          (32, 40)                  0         \n",
      "_________________________________________________________________\n",
      "dense_3 (Dense)              (32, 1)                   41        \n",
      "=================================================================\n",
      "Total params: 9,961\n",
      "Trainable params: 9,961\n",
      "Non-trainable params: 0\n",
      "_________________________________________________________________\n"
     ]
    }
   ],
   "source": [
    "model_CutIn7.summary()"
   ]
  },
  {
   "cell_type": "code",
   "execution_count": 16,
   "metadata": {},
   "outputs": [
    {
     "data": {
      "image/png": "[encoded data removed]",
      "text/plain": [
       "<Figure size 432x288 with 1 Axes>"
      ]
     },
     "metadata": {
      "needs_background": "light"
     },
     "output_type": "display_data"
    }
   ],
   "source": [
    "# Plot history for training and validation loss.\n",
    "\n",
    "plt.plot(history7.history['accuracy'])\n",
    "plt.plot(history7.history['val_accuracy'])\n",
    "plt.title('2-layer LSTM model with more nodes')\n",
    "plt.ylabel('accuracy')\n",
    "plt.xlabel('epoch')\n",
    "plt.legend(['Train', 'Validate'], loc='upper left')\n",
    "plt.show()"
   ]
  },
  {
   "cell_type": "code",
   "execution_count": null,
   "metadata": {},
   "outputs": [],
   "source": []
  }
 ],
 "metadata": {
  "kernelspec": {
   "display_name": "Python 3",
   "language": "python",
   "name": "python3"
  },
  "language_info": {
   "codemirror_mode": {
    "name": "ipython",
    "version": 3
   },
   "file_extension": ".py",
   "mimetype": "text/x-python",
   "name": "python",
   "nbconvert_exporter": "python",
   "pygments_lexer": "ipython3",
   "version": "3.7.4"
  }
 },
 "nbformat": 4,
 "nbformat_minor": 1
}
