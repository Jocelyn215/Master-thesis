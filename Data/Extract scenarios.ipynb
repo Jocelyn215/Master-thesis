{
 "cells": [ 
  {
   "cell_type": "code",
   "execution_count": null,
   "metadata": {},
   "outputs": [],
   "source": [
    "import pandas as pd\n",
    "import numpy as np\n",
    "import csv\n",
    "import matplotlib.pyplot as plt\n",
    "import glob\n",
    "import itertools"
   ]
  },
  {
   "cell_type": "markdown",
   "metadata": {},
   "source": [
    "# These codes are for Volvo data. Just changing the folder name for TrafficNet data."
   ]
  },
  {
   "cell_type": "markdown",
   "metadata": {},
   "source": [
    "## Exact Cutin\n",
    "\n",
    "All the Cutin scenarios are saved in the folder AllCutIn, then split this folder to two folders, ALLCutInTest (2000 scenarios) and AllCutInTrain (the other scenarios)."
   ]
  },
  {
   "cell_type": "code",
   "execution_count": null,
   "metadata": {},
   "outputs": [],
   "source": [
    "path = glob.glob('C:\\\\Users\\\\XWANG221\\\\Downloads\\\\Volvo\\\\2017csv\\\\*.csv')\n",
    "\n",
    "# To count the total number of Cutin in all files\n",
    "count = 0 \n",
    "\n",
    "for j in range(len(path)):\n",
    "    \n",
    "    cols = ['DeviceID','Lat','Long','Acceleration','Decelerating','Indicator','InReverse','Lane','PositionInLane','Velocity','YawRate','PosLgt1','PosLgt2','PosLgt3','PosLgt4','PosLgt5','PosLgt6','PosLgt7','PosLat1','PosLat2','PosLat3','PosLat4','PosLat5','PosLat6','PosLat7','VelLgt1','VelLgt2','VelLgt3','VelLgt4','VelLgt5','VelLgt6','VelLgt7','VelLat1','VelLat2','VelLat3','VelLat4','VelLat5','VelLat6','VelLat7','AccLgt1','AccLgt2','AccLgt3','AccLgt4','AccLgt5','AccLgt6','AccLgt7','AccLat1','AccLat2','AccLat3','AccLat4','AccLat5','AccLat6','AccLat7','Angle1','Angle2','Angle3','Angle4','Angle5','Angle6','Angle7','Type1','Type2','Type3','Type4','Type5','Type6','Type7','Id1','Id2','Id3','Id4','Id5','Id6','Id7','Lane1','Lane2','Lane3','Lane4','Lane5','Lane6','Lane7','PositionInLane1','PositionInLane2','PositionInLane3','PositionInLane4','PositionInLane5','PositionInLane6','PositionInLane7','Lead','CutIn','Flow','Following']\n",
    "    file = pd.read_csv(path[j],header=None,names=cols)\n",
    "\n",
    "    nums_predict = np.where(file['CutIn']==1)[0].tolist()\n",
    "    \n",
    "    # save the start time, end time in a pair in the list\n",
    "    ranges_predict = sum((list(t) for t in zip(nums_predict, nums_predict[1:]) if t[0]+1 != t[1]), [])\n",
    "    \n",
    "    # insert the start time of the first Cutin\n",
    "    ranges_predict.insert(0,nums_predict[0])\n",
    "    # insert the end time of the last Cutin\n",
    "    ranges_predict.append(nums_predict[-1])\n",
    "\n",
    "\n",
    "    for i in range(len(ranges_predict)):\n",
    "        if i % 2 == 0:\n",
    "            \n",
    "            # I used the start time of the Cutin - 30 since the sliding window is 30 in the beginning. \n",
    "            # I changed this number when I tried to use different size of silding windows\n",
    "            if ranges_predict[i]-30-(ranges_predict[i+1]-ranges_predict[i])/2 >= 0:\n",
    "                start = ranges_predict[i]-30-(ranges_predict[i+1]-ranges_predict[i])/2\n",
    "                end = ranges_predict[i+1]+(ranges_predict[i+1]-ranges_predict[i])/2\n",
    "                CutIn = file.loc[start:end]\n",
    "                CutIn.to_csv('C:\\\\Users\\\\XWANG221\\\\Downloads\\\\Mixed_Flow\\\\VolvoData\\\\AllCutIn\\\\'+str(j)+'_'+str(i)+'.csv', encoding='utf-8', index=False)\n",
    "                count=count+1\n",
    "                i=i+2\n",
    "            else:\n",
    "                start = 0\n",
    "                end = ranges_predict[i+1]+(ranges_predict[i+1]-ranges_predict[i])/2\n",
    "                CutIn = file.loc[start:end]\n",
    "                CutIn.to_csv('C:\\\\Users\\\\XWANG221\\\\Downloads\\\\Mixed_Flow\\\\VolvoData\\\\AllCutIn\\\\'+str(j)+'_'+str(i)+'.csv', encoding='utf-8', index=False)\n",
    "                count=count+1\n",
    "                i=i+2\n"
   ]
  },
  {
   "cell_type": "markdown",
   "metadata": {},
   "source": [
    "## Exact Free Flow\n",
    "\n",
    "All the Free Flow scenarios are saved in the folder Flow, then split this folder to two folders, Test_Flow (1000 scenarios) and Train_Flow (the other scenarios)."
   ]
  },
  {
   "cell_type": "code",
   "execution_count": null,
   "metadata": {},
   "outputs": [],
   "source": [
    "path = glob.glob('C:\\\\Users\\\\XWANG221\\\\Downloads\\\\Volvo\\\\2017csv\\\\*.csv')\n",
    "\n",
    "# To count the total number of Free Flow in all files\n",
    "count = 0 \n",
    "\n",
    "for j in range(len(path)):\n",
    "    \n",
    "    cols = ['DeviceID','Lat','Long','Acceleration','Decelerating','Indicator','InReverse','Lane','PositionInLane','Velocity','YawRate','PosLgt1','PosLgt2','PosLgt3','PosLgt4','PosLgt5','PosLgt6','PosLgt7','PosLat1','PosLat2','PosLat3','PosLat4','PosLat5','PosLat6','PosLat7','VelLgt1','VelLgt2','VelLgt3','VelLgt4','VelLgt5','VelLgt6','VelLgt7','VelLat1','VelLat2','VelLat3','VelLat4','VelLat5','VelLat6','VelLat7','AccLgt1','AccLgt2','AccLgt3','AccLgt4','AccLgt5','AccLgt6','AccLgt7','AccLat1','AccLat2','AccLat3','AccLat4','AccLat5','AccLat6','AccLat7','Angle1','Angle2','Angle3','Angle4','Angle5','Angle6','Angle7','Type1','Type2','Type3','Type4','Type5','Type6','Type7','Id1','Id2','Id3','Id4','Id5','Id6','Id7','Lane1','Lane2','Lane3','Lane4','Lane5','Lane6','Lane7','PositionInLane1','PositionInLane2','PositionInLane3','PositionInLane4','PositionInLane5','PositionInLane6','PositionInLane7','Lead','CutIn','Flow','Following']\n",
    "    file = pd.read_csv(path[j],header=None,names=cols)\n",
    "\n",
    "    nums_predict = np.where(file['Flow']==1)[0].tolist()\n",
    "    \n",
    "    # save the start time, end time in a pair in the list\n",
    "    ranges_predict = sum((list(t) for t in zip(nums_predict, nums_predict[1:]) if t[0]+1 != t[1]), [])\n",
    "    \n",
    "    # insert the start time of the first Cutin\n",
    "    ranges_predict.insert(0,nums_predict[0])\n",
    "    # insert the end time of the last Cutin\n",
    "    ranges_predict.append(nums_predict[-1])\n",
    "\n",
    "\n",
    "    for i in range(len(ranges_predict)):\n",
    "        if i % 2 == 0:\n",
    "            \n",
    "            # I used the start time - 50 since the sliding window is 50. \n",
    "            if ranges_predict[i]-50-(ranges_predict[i+1]-ranges_predict[i])/2 >= 0:\n",
    "                start = ranges_predict[i]-50-(ranges_predict[i+1]-ranges_predict[i])/2\n",
    "                end = ranges_predict[i+1]+(ranges_predict[i+1]-ranges_predict[i])/2\n",
    "                CutIn = file.loc[start:end]\n",
    "                CutIn.to_csv('C:\\\\Users\\\\XWANG221\\\\Downloads\\\\Mixed_Flow\\\\VolvoData\\\\Flow\\\\'+str(j)+'_'+str(i)+'.csv', encoding='utf-8', index=False)\n",
    "                count=count+1\n",
    "                i=i+2\n",
    "            else:\n",
    "                start = 0\n",
    "                end = ranges_predict[i+1]+(ranges_predict[i+1]-ranges_predict[i])/2\n",
    "                CutIn = file.loc[start:end]\n",
    "                CutIn.to_csv('C:\\\\Users\\\\XWANG221\\\\Downloads\\\\Mixed_Flow\\\\VolvoData\\\\Flow\\\\'+str(j)+'_'+str(i)+'.csv', encoding='utf-8', index=False)\n",
    "                count=count+1\n",
    "                i=i+2\n"
   ]
  },
  {
   "cell_type": "markdown",
   "metadata": {},
   "source": [
    "## Exact Car Following\n",
    "\n",
    "All the Car Following scenarios are saved in the folder Flow, then split this folder to two folders, Test_Following (1000 scenarios) and Train_Following (the other scenarios)."
   ]
  },
  {
   "cell_type": "code",
   "execution_count": null,
   "metadata": {},
   "outputs": [],
   "source": [
    "path = glob.glob('C:\\\\Users\\\\XWANG221\\\\Downloads\\\\Volvo\\\\2017csv\\\\*.csv')\n",
    "\n",
    "# To count the total number of Car Following in all files\n",
    "count = 0 \n",
    "\n",
    "for j in range(len(path)):\n",
    "    \n",
    "    cols = ['DeviceID','Lat','Long','Acceleration','Decelerating','Indicator','InReverse','Lane','PositionInLane','Velocity','YawRate','PosLgt1','PosLgt2','PosLgt3','PosLgt4','PosLgt5','PosLgt6','PosLgt7','PosLat1','PosLat2','PosLat3','PosLat4','PosLat5','PosLat6','PosLat7','VelLgt1','VelLgt2','VelLgt3','VelLgt4','VelLgt5','VelLgt6','VelLgt7','VelLat1','VelLat2','VelLat3','VelLat4','VelLat5','VelLat6','VelLat7','AccLgt1','AccLgt2','AccLgt3','AccLgt4','AccLgt5','AccLgt6','AccLgt7','AccLat1','AccLat2','AccLat3','AccLat4','AccLat5','AccLat6','AccLat7','Angle1','Angle2','Angle3','Angle4','Angle5','Angle6','Angle7','Type1','Type2','Type3','Type4','Type5','Type6','Type7','Id1','Id2','Id3','Id4','Id5','Id6','Id7','Lane1','Lane2','Lane3','Lane4','Lane5','Lane6','Lane7','PositionInLane1','PositionInLane2','PositionInLane3','PositionInLane4','PositionInLane5','PositionInLane6','PositionInLane7','Lead','CutIn','Flow','Following']\n",
    "    file = pd.read_csv(path[j],header=None,names=cols)\n",
    "\n",
    "    nums_predict = np.where(file['Following']==1)[0].tolist()\n",
    "    \n",
    "    # save the start time, end time in a pair in the list\n",
    "    ranges_predict = sum((list(t) for t in zip(nums_predict, nums_predict[1:]) if t[0]+1 != t[1]), [])\n",
    "    \n",
    "    # insert the start time of the first Cutin\n",
    "    ranges_predict.insert(0,nums_predict[0])\n",
    "    # insert the end time of the last Cutin\n",
    "    ranges_predict.append(nums_predict[-1])\n",
    "\n",
    "\n",
    "    for i in range(len(ranges_predict)):\n",
    "        if i % 2 == 0:\n",
    "            \n",
    "            # I used the start time - 50 since the sliding window is 50.\n",
    "            if ranges_predict[i]-50-(ranges_predict[i+1]-ranges_predict[i])/2 >= 0:\n",
    "                start = ranges_predict[i]-50-(ranges_predict[i+1]-ranges_predict[i])/2\n",
    "                end = ranges_predict[i+1]+(ranges_predict[i+1]-ranges_predict[i])/2\n",
    "                CutIn = file.loc[start:end]\n",
    "                CutIn.to_csv('C:\\\\Users\\\\XWANG221\\\\Downloads\\\\Mixed_Flow\\\\VolvoData\\\\Following\\\\'+str(j)+'_'+str(i)+'.csv', encoding='utf-8', index=False)\n",
    "                count=count+1\n",
    "                i=i+2\n",
    "            else:\n",
    "                start = 0\n",
    "                end = ranges_predict[i+1]+(ranges_predict[i+1]-ranges_predict[i])/2\n",
    "                CutIn = file.loc[start:end]\n",
    "                CutIn.to_csv('C:\\\\Users\\\\XWANG221\\\\Downloads\\\\Mixed_Flow\\\\VolvoData\\\\Following\\\\'+str(j)+'_'+str(i)+'.csv', encoding='utf-8', index=False)\n",
    "                count=count+1\n",
    "                i=i+2\n"
   ]
  }
 ],
 "metadata": {
  "kernelspec": {
   "display_name": "Python 3",
   "language": "python",
   "name": "python3"
  },
  "language_info": {
   "codemirror_mode": {
    "name": "ipython",
    "version": 3
   },
   "file_extension": ".py",
   "mimetype": "text/x-python",
   "name": "python",
   "nbconvert_exporter": "python",
   "pygments_lexer": "ipython3",
   "version": "3.7.4"
  }
 },
 "nbformat": 4,
 "nbformat_minor": 2
}
