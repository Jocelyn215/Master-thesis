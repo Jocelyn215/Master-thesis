{
 "cells": [
  {
   "cell_type": "code",
   "execution_count": 1,
   "metadata": {
    "scrolled": false
   },
   "outputs": [
    {
     "name": "stderr",
     "output_type": "stream",
     "text": [
      "Using TensorFlow backend.\n",
      "/Users/jocelyn/opt/anaconda3/lib/python3.7/site-packages/tensorflow/python/framework/dtypes.py:516: FutureWarning: Passing (type, 1) or '1type' as a synonym of type is deprecated; in a future version of numpy, it will be understood as (type, (1,)) / '(1,)type'.\n",
      "  _np_qint8 = np.dtype([(\"qint8\", np.int8, 1)])\n",
      "/Users/jocelyn/opt/anaconda3/lib/python3.7/site-packages/tensorflow/python/framework/dtypes.py:517: FutureWarning: Passing (type, 1) or '1type' as a synonym of type is deprecated; in a future version of numpy, it will be understood as (type, (1,)) / '(1,)type'.\n",
      "  _np_quint8 = np.dtype([(\"quint8\", np.uint8, 1)])\n",
      "/Users/jocelyn/opt/anaconda3/lib/python3.7/site-packages/tensorflow/python/framework/dtypes.py:518: FutureWarning: Passing (type, 1) or '1type' as a synonym of type is deprecated; in a future version of numpy, it will be understood as (type, (1,)) / '(1,)type'.\n",
      "  _np_qint16 = np.dtype([(\"qint16\", np.int16, 1)])\n",
      "/Users/jocelyn/opt/anaconda3/lib/python3.7/site-packages/tensorflow/python/framework/dtypes.py:519: FutureWarning: Passing (type, 1) or '1type' as a synonym of type is deprecated; in a future version of numpy, it will be understood as (type, (1,)) / '(1,)type'.\n",
      "  _np_quint16 = np.dtype([(\"quint16\", np.uint16, 1)])\n",
      "/Users/jocelyn/opt/anaconda3/lib/python3.7/site-packages/tensorflow/python/framework/dtypes.py:520: FutureWarning: Passing (type, 1) or '1type' as a synonym of type is deprecated; in a future version of numpy, it will be understood as (type, (1,)) / '(1,)type'.\n",
      "  _np_qint32 = np.dtype([(\"qint32\", np.int32, 1)])\n",
      "/Users/jocelyn/opt/anaconda3/lib/python3.7/site-packages/tensorflow/python/framework/dtypes.py:525: FutureWarning: Passing (type, 1) or '1type' as a synonym of type is deprecated; in a future version of numpy, it will be understood as (type, (1,)) / '(1,)type'.\n",
      "  np_resource = np.dtype([(\"resource\", np.ubyte, 1)])\n",
      "/Users/jocelyn/opt/anaconda3/lib/python3.7/site-packages/tensorboard/compat/tensorflow_stub/dtypes.py:541: FutureWarning: Passing (type, 1) or '1type' as a synonym of type is deprecated; in a future version of numpy, it will be understood as (type, (1,)) / '(1,)type'.\n",
      "  _np_qint8 = np.dtype([(\"qint8\", np.int8, 1)])\n",
      "/Users/jocelyn/opt/anaconda3/lib/python3.7/site-packages/tensorboard/compat/tensorflow_stub/dtypes.py:542: FutureWarning: Passing (type, 1) or '1type' as a synonym of type is deprecated; in a future version of numpy, it will be understood as (type, (1,)) / '(1,)type'.\n",
      "  _np_quint8 = np.dtype([(\"quint8\", np.uint8, 1)])\n",
      "/Users/jocelyn/opt/anaconda3/lib/python3.7/site-packages/tensorboard/compat/tensorflow_stub/dtypes.py:543: FutureWarning: Passing (type, 1) or '1type' as a synonym of type is deprecated; in a future version of numpy, it will be understood as (type, (1,)) / '(1,)type'.\n",
      "  _np_qint16 = np.dtype([(\"qint16\", np.int16, 1)])\n",
      "/Users/jocelyn/opt/anaconda3/lib/python3.7/site-packages/tensorboard/compat/tensorflow_stub/dtypes.py:544: FutureWarning: Passing (type, 1) or '1type' as a synonym of type is deprecated; in a future version of numpy, it will be understood as (type, (1,)) / '(1,)type'.\n",
      "  _np_quint16 = np.dtype([(\"quint16\", np.uint16, 1)])\n",
      "/Users/jocelyn/opt/anaconda3/lib/python3.7/site-packages/tensorboard/compat/tensorflow_stub/dtypes.py:545: FutureWarning: Passing (type, 1) or '1type' as a synonym of type is deprecated; in a future version of numpy, it will be understood as (type, (1,)) / '(1,)type'.\n",
      "  _np_qint32 = np.dtype([(\"qint32\", np.int32, 1)])\n",
      "/Users/jocelyn/opt/anaconda3/lib/python3.7/site-packages/tensorboard/compat/tensorflow_stub/dtypes.py:550: FutureWarning: Passing (type, 1) or '1type' as a synonym of type is deprecated; in a future version of numpy, it will be understood as (type, (1,)) / '(1,)type'.\n",
      "  np_resource = np.dtype([(\"resource\", np.ubyte, 1)])\n"
     ]
    }
   ],
   "source": [
    "from keras.utils import np_utils\n",
    "from keras.models import Sequential\n",
    "from keras.layers import Dense, LSTM, Dropout\n",
    "from keras.callbacks import EarlyStopping\n",
    "from sklearn.preprocessing import StandardScaler\n",
    "\n",
    "import pandas as pd\n",
    "import numpy as np\n",
    "import glob\n",
    "\n",
    "import matplotlib.pyplot as plt\n",
    "import collections\n",
    "%matplotlib inline"
   ]
  },
  {
   "cell_type": "code",
   "execution_count": 2,
   "metadata": {
    "scrolled": false
   },
   "outputs": [
    {
     "name": "stdout",
     "output_type": "stream",
     "text": [
      "0\n",
      "(97434, 88) (97434,)\n",
      "1\n",
      "(46362, 88) (46362,)\n",
      "2\n",
      "(56119, 88) (56119,)\n",
      "3\n",
      "(107451, 88) (107451,)\n",
      "4\n",
      "(54506, 88) (54506,)\n",
      "5\n",
      "(56795, 88) (56795,)\n",
      "6\n",
      "(54873, 88) (54873,)\n",
      "7\n",
      "(139583, 88) (139583,)\n",
      "8\n",
      "(95999, 88) (95999,)\n",
      "9\n",
      "(93916, 88) (93916,)\n",
      "10\n",
      "(67954, 88) (67954,)\n",
      "11\n",
      "(70547, 88) (70547,)\n",
      "12\n",
      "(32138, 88) (32138,)\n"
     ]
    }
   ],
   "source": [
    "path = glob.glob('../TrafficNet/VolvoData/2019/*.csv')\n",
    "\n",
    "X_all = np.empty((1, 88))\n",
    "Y_all = np.empty((1,))\n",
    "\n",
    "for i in range(len(path)):\n",
    "    print(i)\n",
    "    \n",
    "    Following = pd.read_csv(path[i], usecols=['Lat','Long','Acceleration','Decelerating','Indicator','InReverse','Lane','PositionInLane','Velocity','YawRate','PosLgt1','PosLgt2','PosLgt3','PosLgt4','PosLgt5','PosLgt6','PosLgt7','PosLat1','PosLat2','PosLat3','PosLat4','PosLat5','PosLat6','PosLat7','VelLgt1','VelLgt2','VelLgt3','VelLgt4','VelLgt5','VelLgt6','VelLgt7','VelLat1','VelLat2','VelLat3','VelLat4','VelLat5','VelLat6','VelLat7','AccLgt1','AccLgt2','AccLgt3','AccLgt4','AccLgt5','AccLgt6','AccLgt7','AccLat1','AccLat2','AccLat3','AccLat4','AccLat5','AccLat6','AccLat7','Angle1','Angle2','Angle3','Angle4','Angle5','Angle6','Angle7','Type1','Type2','Type3','Type4','Type5','Type6','Type7','Id1','Id2','Id3','Id4','Id5','Id6','Id7','Lane1','Lane2','Lane3','Lane4','Lane5','Lane6','Lane7','PositionInLane1','PositionInLane2','PositionInLane3','PositionInLane4','PositionInLane5','PositionInLane6','PositionInLane7','Lead','Following'])\n",
    "    Following.fillna(-1, inplace=True)\n",
    "    \n",
    "    Y_train = np.array(Following['Following'].values)\n",
    "    X_train = np.array(Following[['Lat','Long','Acceleration','Decelerating','Indicator','InReverse','Lane','PositionInLane','Velocity','YawRate','PosLgt1','PosLgt2','PosLgt3','PosLgt4','PosLgt5','PosLgt6','PosLgt7','PosLat1','PosLat2','PosLat3','PosLat4','PosLat5','PosLat6','PosLat7','VelLgt1','VelLgt2','VelLgt3','VelLgt4','VelLgt5','VelLgt6','VelLgt7','VelLat1','VelLat2','VelLat3','VelLat4','VelLat5','VelLat6','VelLat7','AccLgt1','AccLgt2','AccLgt3','AccLgt4','AccLgt5','AccLgt6','AccLgt7','AccLat1','AccLat2','AccLat3','AccLat4','AccLat5','AccLat6','AccLat7','Angle1','Angle2','Angle3','Angle4','Angle5','Angle6','Angle7','Type1','Type2','Type3','Type4','Type5','Type6','Type7','Id1','Id2','Id3','Id4','Id5','Id6','Id7','Lane1','Lane2','Lane3','Lane4','Lane5','Lane6','Lane7','PositionInLane1','PositionInLane2','PositionInLane3','PositionInLane4','PositionInLane5','PositionInLane6','PositionInLane7','Lead']])\n",
    "    # Get dimensions of input and output\n",
    "    #dimof_output = int(np.max(Y_train) + 1)\n",
    "    dimof_output = 1\n",
    "    dimof_input = X_train.shape[1]\n",
    "\n",
    "    # Scale/whiten the X data\n",
    "    scaler = StandardScaler()\n",
    "    X_train = scaler.fit_transform(X_train)\n",
    "    #print(len(X_train))\n",
    "    print(X_train.shape, Y_train.shape)\n",
    "    \n",
    "    X_all = np.append(X_all, X_train, axis=0)\n",
    "    Y_all = np.append(Y_all, Y_train, axis=0)"
   ]
  },
  {
   "cell_type": "code",
   "execution_count": 4,
   "metadata": {},
   "outputs": [
    {
     "data": {
      "text/plain": [
       "973678"
      ]
     },
     "execution_count": 4,
     "metadata": {},
     "output_type": "execute_result"
    }
   ],
   "source": [
    "len(X_all)"
   ]
  },
  {
   "cell_type": "code",
   "execution_count": 3,
   "metadata": {},
   "outputs": [],
   "source": [
    "X_all = X_all[1:973678]\n",
    "Y_all = Y_all[1:973678]"
   ]
  },
  {
   "cell_type": "markdown",
   "metadata": {},
   "source": [
    "# Feature selection"
   ]
  },
  {
   "cell_type": "markdown",
   "metadata": {},
   "source": [
    "## ANOVA f-test Feature Selection"
   ]
  },
  {
   "cell_type": "code",
   "execution_count": 4,
   "metadata": {},
   "outputs": [],
   "source": [
    "# example of anova f-test feature selection for numerical data\n",
    "from pandas import read_csv\n",
    "from sklearn.model_selection import train_test_split\n",
    "from sklearn.feature_selection import SelectKBest\n",
    "from sklearn.feature_selection import f_classif\n",
    "from matplotlib import pyplot"
   ]
  },
  {
   "cell_type": "code",
   "execution_count": 5,
   "metadata": {},
   "outputs": [],
   "source": [
    "# feature selection\n",
    "def select_features(X_train, y_train, X_test):\n",
    "\t# configure to select all features\n",
    "\tfs = SelectKBest(score_func=f_classif, k='all')\n",
    "\t# learn relationship from training data\n",
    "\tfs.fit(X_train, y_train)\n",
    "\t# transform train input data\n",
    "\tX_train_fs = fs.transform(X_train)\n",
    "\t# transform test input data\n",
    "\tX_test_fs = fs.transform(X_test)\n",
    "\treturn X_train_fs, X_test_fs, fs"
   ]
  },
  {
   "cell_type": "code",
   "execution_count": 6,
   "metadata": {},
   "outputs": [
    {
     "name": "stdout",
     "output_type": "stream",
     "text": [
      "Feature 0: 1249.765263\n",
      "Feature 1: 899.140808\n",
      "Feature 2: 58.660942\n",
      "Feature 3: 111.520364\n",
      "Feature 4: 907.022875\n",
      "Feature 5: 219.526874\n",
      "Feature 6: 4778.547826\n",
      "Feature 7: 9161.778386\n",
      "Feature 8: 101822.714181\n",
      "Feature 9: 6.733487\n",
      "Feature 10: 50133.273621\n",
      "Feature 11: 54824.250521\n",
      "Feature 12: 28809.613973\n",
      "Feature 13: 9753.041460\n",
      "Feature 14: 2236.124340\n",
      "Feature 15: 530.876644\n",
      "Feature 16: 85.168782\n",
      "Feature 17: 1247.956771\n",
      "Feature 18: 4335.586739\n",
      "Feature 19: 2349.211200\n",
      "Feature 20: 755.293508\n",
      "Feature 21: 231.860189\n",
      "Feature 22: 121.497806\n",
      "Feature 23: 0.190080\n",
      "Feature 24: 267461.769885\n",
      "Feature 25: 180449.509738\n",
      "Feature 26: 64138.885316\n",
      "Feature 27: 17956.151476\n",
      "Feature 28: 4082.294036\n",
      "Feature 29: 955.528821\n",
      "Feature 30: 157.609096\n",
      "Feature 31: 20211.490609\n",
      "Feature 32: 37434.367844\n",
      "Feature 33: 21305.263497\n",
      "Feature 34: 6493.225452\n",
      "Feature 35: 1316.407444\n",
      "Feature 36: 286.112066\n",
      "Feature 37: 43.937751\n",
      "Feature 38: 63419.848476\n",
      "Feature 39: 66976.546529\n",
      "Feature 40: 30389.808617\n",
      "Feature 41: 8434.216698\n",
      "Feature 42: 1746.219687\n",
      "Feature 43: 347.785549\n",
      "Feature 44: 61.850177\n",
      "Feature 45: 90749.713641\n",
      "Feature 46: 77279.501749\n",
      "Feature 47: 32486.139023\n",
      "Feature 48: 8972.124552\n",
      "Feature 49: 1770.228387\n",
      "Feature 50: 368.004349\n",
      "Feature 51: 368.004349\n",
      "Feature 52: 64042.764032\n",
      "Feature 53: 70168.930062\n",
      "Feature 54: 30987.009510\n",
      "Feature 55: 8726.514060\n",
      "Feature 56: 1709.683630\n",
      "Feature 57: 368.952659\n",
      "Feature 58: 63.412064\n",
      "Feature 59: 45427.858594\n",
      "Feature 60: 51371.539095\n",
      "Feature 61: 24631.720566\n",
      "Feature 62: 7037.190904\n",
      "Feature 63: 1300.510537\n",
      "Feature 64: 249.660961\n",
      "Feature 65: 49.547419\n",
      "Feature 66: 36795.486255\n",
      "Feature 67: 48434.256110\n",
      "Feature 68: 23061.862805\n",
      "Feature 69: 6760.054005\n",
      "Feature 70: 1361.520778\n",
      "Feature 71: 381.048450\n",
      "Feature 72: 71.874253\n",
      "Feature 73: 19504.818676\n",
      "Feature 74: 39377.858870\n",
      "Feature 75: 20574.716636\n",
      "Feature 76: 6223.326761\n",
      "Feature 77: 1345.194742\n",
      "Feature 78: 367.342486\n",
      "Feature 79: 51.796836\n",
      "Feature 80: 24436.542161\n",
      "Feature 81: 47325.651586\n",
      "Feature 82: 23620.416128\n",
      "Feature 83: 6877.097688\n",
      "Feature 84: 1413.635547\n",
      "Feature 85: 346.160711\n",
      "Feature 86: 50.915916\n",
      "Feature 87: 240050.820731\n"
     ]
    },
    {
     "data": {
      "image/png": "[encoded data removed]",
      "text/plain": [
       "<Figure size 432x288 with 1 Axes>"
      ]
     },
     "metadata": {
      "needs_background": "light"
     },
     "output_type": "display_data"
    }
   ],
   "source": [
    "# split into train and test sets\n",
    "X_train, X_test, y_train, y_test = train_test_split(X_all, Y_all, test_size=0.5, random_state=1)\n",
    "# feature selection\n",
    "X_train_fs, X_test_fs, fs = select_features(X_train, y_train, X_test)\n",
    "# what are scores for the features\n",
    "for i in range(len(fs.scores_)):\n",
    "\tprint('Feature %d: %f' % (i, fs.scores_[i]))\n",
    "# plot the scores\n",
    "pyplot.bar([i for i in range(len(fs.scores_))], fs.scores_)\n",
    "pyplot.show()"
   ]
  },
  {
   "cell_type": "markdown",
   "metadata": {},
   "source": [
    "# Modeling With Selected Features"
   ]
  },
  {
   "cell_type": "markdown",
   "metadata": {},
   "source": [
    "## Model Built Using All Features"
   ]
  },
  {
   "cell_type": "code",
   "execution_count": 7,
   "metadata": {},
   "outputs": [
    {
     "name": "stdout",
     "output_type": "stream",
     "text": [
      "Accuracy: 91.63\n"
     ]
    }
   ],
   "source": [
    "# evaluation of a model using all input features\n",
    "from pandas import read_csv\n",
    "from sklearn.model_selection import train_test_split\n",
    "from sklearn.linear_model import LogisticRegression\n",
    "from sklearn.metrics import accuracy_score\n",
    "\n",
    "# split into train and test sets\n",
    "#X_train, X_test, y_train, y_test = train_test_split(X, y, test_size=0.33, random_state=1)\n",
    "# fit the model\n",
    "model = LogisticRegression(solver='liblinear')\n",
    "model.fit(X_train, y_train)\n",
    "# evaluate the model\n",
    "yhat = model.predict(X_test)\n",
    "# evaluate predictions\n",
    "accuracy = accuracy_score(y_test, yhat)\n",
    "print('Accuracy: %.2f' % (accuracy*100))"
   ]
  },
  {
   "cell_type": "markdown",
   "metadata": {},
   "source": [
    "## Model Built Using ANOVA f-test Features"
   ]
  },
  {
   "cell_type": "code",
   "execution_count": 8,
   "metadata": {},
   "outputs": [
    {
     "name": "stdout",
     "output_type": "stream",
     "text": [
      "Accuracy: 91.12\n"
     ]
    }
   ],
   "source": [
    "# evaluation of a model using 4 features chosen with anova f-test\n",
    "from pandas import read_csv\n",
    "from sklearn.model_selection import train_test_split\n",
    "from sklearn.feature_selection import SelectKBest\n",
    "from sklearn.feature_selection import f_classif\n",
    "from sklearn.linear_model import LogisticRegression\n",
    "from sklearn.metrics import accuracy_score\n",
    "\n",
    "# feature selection\n",
    "def select_features_self(X_train, y_train, X_test):\n",
    "\t# configure to select a subset of features\n",
    "\tfs = SelectKBest(score_func=f_classif, k=33)\n",
    "\t# learn relationship from training data\n",
    "\tfs.fit(X_train, y_train)\n",
    "\t# transform train input data\n",
    "\tX_train_fs = fs.transform(X_train)\n",
    "\t# transform test input data\n",
    "\tX_test_fs = fs.transform(X_test)\n",
    "\treturn X_train_fs, X_test_fs, fs\n",
    "\n",
    "# feature selection\n",
    "X_train_fs, X_test_fs, fs = select_features_self(X_train, y_train, X_test)\n",
    "# fit the model\n",
    "model = LogisticRegression(solver='liblinear')\n",
    "model.fit(X_train_fs, y_train)\n",
    "# evaluate the model\n",
    "yhat_anova = model.predict(X_test_fs)\n",
    "# evaluate predictions\n",
    "accuracy_anova = accuracy_score(y_test, yhat_anova)\n",
    "print('Accuracy: %.2f' % (accuracy_anova*100))"
   ]
  },
  {
   "cell_type": "markdown",
   "metadata": {},
   "source": [
    "## Tune the Number of Selected Features"
   ]
  },
  {
   "cell_type": "code",
   "execution_count": 45,
   "metadata": {},
   "outputs": [],
   "source": [
    "from pandas import read_csv\n",
    "from sklearn.model_selection import RepeatedStratifiedKFold\n",
    "from sklearn.feature_selection import SelectKBest\n",
    "from sklearn.feature_selection import f_classif\n",
    "from sklearn.linear_model import LogisticRegression\n",
    "from sklearn.pipeline import Pipeline\n",
    "from sklearn.model_selection import GridSearchCV\n",
    "from matplotlib import pyplot\n",
    "from numpy import mean\n",
    "from numpy import std\n",
    "from sklearn.model_selection import cross_val_score\n",
    "from sklearn.model_selection import train_test_split"
   ]
  },
  {
   "cell_type": "code",
   "execution_count": 46,
   "metadata": {},
   "outputs": [
    {
     "name": "stdout",
     "output_type": "stream",
     "text": [
      "0\n",
      "(97434, 88) (97434,)\n",
      "1\n",
      "(46362, 88) (46362,)\n",
      "2\n",
      "(56119, 88) (56119,)\n",
      "3\n",
      "(107451, 88) (107451,)\n",
      "4\n",
      "(54506, 88) (54506,)\n"
     ]
    }
   ],
   "source": [
    "path = glob.glob('../TrafficNet/VolvoData/2019/*.csv')\n",
    "\n",
    "X_all = np.empty((1, 88))\n",
    "Y_all = np.empty((1,))\n",
    "\n",
    "for i in range(5):\n",
    "    print(i)\n",
    "    \n",
    "    Following = pd.read_csv(path[i], usecols=['Lat','Long','Acceleration','Decelerating','Indicator','InReverse','Lane','PositionInLane','Velocity','YawRate','PosLgt1','PosLgt2','PosLgt3','PosLgt4','PosLgt5','PosLgt6','PosLgt7','PosLat1','PosLat2','PosLat3','PosLat4','PosLat5','PosLat6','PosLat7','VelLgt1','VelLgt2','VelLgt3','VelLgt4','VelLgt5','VelLgt6','VelLgt7','VelLat1','VelLat2','VelLat3','VelLat4','VelLat5','VelLat6','VelLat7','AccLgt1','AccLgt2','AccLgt3','AccLgt4','AccLgt5','AccLgt6','AccLgt7','AccLat1','AccLat2','AccLat3','AccLat4','AccLat5','AccLat6','AccLat7','Angle1','Angle2','Angle3','Angle4','Angle5','Angle6','Angle7','Type1','Type2','Type3','Type4','Type5','Type6','Type7','Id1','Id2','Id3','Id4','Id5','Id6','Id7','Lane1','Lane2','Lane3','Lane4','Lane5','Lane6','Lane7','PositionInLane1','PositionInLane2','PositionInLane3','PositionInLane4','PositionInLane5','PositionInLane6','PositionInLane7','Lead','Following'])\n",
    "    Following.fillna(-1, inplace=True)\n",
    "    \n",
    "    Y_train = np.array(Following['Following'].values)\n",
    "    X_train = np.array(Following[['Lat','Long','Acceleration','Decelerating','Indicator','InReverse','Lane','PositionInLane','Velocity','YawRate','PosLgt1','PosLgt2','PosLgt3','PosLgt4','PosLgt5','PosLgt6','PosLgt7','PosLat1','PosLat2','PosLat3','PosLat4','PosLat5','PosLat6','PosLat7','VelLgt1','VelLgt2','VelLgt3','VelLgt4','VelLgt5','VelLgt6','VelLgt7','VelLat1','VelLat2','VelLat3','VelLat4','VelLat5','VelLat6','VelLat7','AccLgt1','AccLgt2','AccLgt3','AccLgt4','AccLgt5','AccLgt6','AccLgt7','AccLat1','AccLat2','AccLat3','AccLat4','AccLat5','AccLat6','AccLat7','Angle1','Angle2','Angle3','Angle4','Angle5','Angle6','Angle7','Type1','Type2','Type3','Type4','Type5','Type6','Type7','Id1','Id2','Id3','Id4','Id5','Id6','Id7','Lane1','Lane2','Lane3','Lane4','Lane5','Lane6','Lane7','PositionInLane1','PositionInLane2','PositionInLane3','PositionInLane4','PositionInLane5','PositionInLane6','PositionInLane7','Lead']])\n",
    "    # Get dimensions of input and output\n",
    "    #dimof_output = int(np.max(Y_train) + 1)\n",
    "    dimof_output = 1\n",
    "    dimof_input = X_train.shape[1]\n",
    "\n",
    "    # Scale/whiten the X data\n",
    "    scaler = StandardScaler()\n",
    "    X_train = scaler.fit_transform(X_train)\n",
    "    #print(len(X_train))\n",
    "    print(X_train.shape, Y_train.shape)\n",
    "    \n",
    "    X_all = np.append(X_all, X_train, axis=0)\n",
    "    Y_all = np.append(Y_all, Y_train, axis=0)"
   ]
  },
  {
   "cell_type": "code",
   "execution_count": 47,
   "metadata": {},
   "outputs": [
    {
     "data": {
      "text/plain": [
       "361873"
      ]
     },
     "execution_count": 47,
     "metadata": {},
     "output_type": "execute_result"
    }
   ],
   "source": [
    "len(X_all)"
   ]
  },
  {
   "cell_type": "code",
   "execution_count": 48,
   "metadata": {},
   "outputs": [],
   "source": [
    "X_all = X_all[1:361873]\n",
    "Y_all = Y_all[1:361873]"
   ]
  },
  {
   "cell_type": "code",
   "execution_count": 5,
   "metadata": {
    "scrolled": false
   },
   "outputs": [
    {
     "name": "stderr",
     "output_type": "stream",
     "text": [
      "/Users/jocelyn/opt/anaconda3/lib/python3.7/site-packages/joblib/externals/loky/process_executor.py:706: UserWarning: A worker stopped while some jobs were given to the executor. This can be caused by a too short worker timeout or by a memory leak.\n",
      "  \"timeout or by a memory leak.\", UserWarning\n",
      "/Users/jocelyn/opt/anaconda3/lib/python3.7/site-packages/sklearn/feature_selection/univariate_selection.py:114: UserWarning: Features [ 5 16 23 30 37 44 58 65 72 79 86] are constant.\n",
      "  UserWarning)\n",
      "/Users/jocelyn/opt/anaconda3/lib/python3.7/site-packages/sklearn/feature_selection/univariate_selection.py:115: RuntimeWarning: invalid value encountered in true_divide\n",
      "  f = msb / msw\n"
     ]
    },
    {
     "name": "stdout",
     "output_type": "stream",
     "text": [
      "Best Mean Accuracy: 0.934\n",
      "Best Config: {'anova__k': 59}\n"
     ]
    }
   ],
   "source": [
    "# compare different numbers of features selected using anova f-test\n",
    "\n",
    "\n",
    "# define the evaluation method\n",
    "cv = RepeatedStratifiedKFold(n_splits=5, n_repeats=3, random_state=1)\n",
    "# define the pipeline to evaluate\n",
    "model = LogisticRegression(solver='liblinear')\n",
    "fs = SelectKBest(score_func=f_classif)\n",
    "pipeline = Pipeline(steps=[('anova',fs), ('lr', model)])\n",
    "# define the grid\n",
    "grid = dict()\n",
    "grid['anova__k'] = [i+1 for i in range(X_all.shape[1])]\n",
    "# define the grid search\n",
    "search = GridSearchCV(pipeline, grid, scoring='accuracy', n_jobs=-1, cv=cv)\n",
    "# perform the search\n",
    "results = search.fit(X_all, Y_all)\n",
    "# summarize best\n",
    "print('Best Mean Accuracy: %.3f' % results.best_score_)\n",
    "print('Best Config: %s' % results.best_params_)"
   ]
  },
  {
   "cell_type": "code",
   "execution_count": 6,
   "metadata": {
    "scrolled": true
   },
   "outputs": [
    {
     "name": "stdout",
     "output_type": "stream",
     "text": [
      ">1 0.901 (0.002)\n",
      ">2 0.903 (0.002)\n",
      ">3 0.903 (0.002)\n",
      ">4 0.904 (0.002)\n",
      ">5 0.904 (0.002)\n",
      ">6 0.905 (0.002)\n",
      ">7 0.895 (0.002)\n",
      ">8 0.896 (0.002)\n",
      ">9 0.896 (0.002)\n",
      ">10 0.898 (0.002)\n",
      ">11 0.897 (0.002)\n",
      ">12 0.898 (0.002)\n",
      ">13 0.903 (0.002)\n",
      ">14 0.904 (0.002)\n",
      ">15 0.904 (0.002)\n",
      ">16 0.904 (0.002)\n",
      ">17 0.904 (0.002)\n",
      ">18 0.904 (0.002)\n",
      ">19 0.907 (0.002)\n",
      ">20 0.903 (0.002)\n",
      ">21 0.905 (0.002)\n",
      ">22 0.905 (0.002)\n",
      ">23 0.906 (0.002)\n",
      ">24 0.908 (0.004)\n",
      ">25 0.914 (0.002)\n",
      ">26 0.914 (0.002)\n",
      ">27 0.914 (0.002)\n",
      ">28 0.915 (0.002)\n",
      ">29 0.915 (0.002)\n",
      ">30 0.915 (0.002)\n",
      ">31 0.916 (0.002)\n",
      ">32 0.916 (0.002)\n",
      ">33 0.916 (0.002)\n",
      ">34 0.918 (0.002)\n",
      ">35 0.921 (0.002)\n",
      ">36 0.920 (0.002)\n",
      ">37 0.920 (0.002)\n",
      ">38 0.920 (0.002)\n",
      ">39 0.920 (0.002)\n",
      ">40 0.920 (0.002)\n",
      ">41 0.920 (0.002)\n",
      ">42 0.920 (0.002)\n",
      ">43 0.921 (0.002)\n",
      ">44 0.921 (0.002)\n",
      ">45 0.921 (0.002)\n",
      ">46 0.923 (0.002)\n",
      ">47 0.923 (0.002)\n",
      ">48 0.923 (0.002)\n",
      ">49 0.923 (0.002)\n",
      ">50 0.923 (0.002)\n",
      ">51 0.926 (0.005)\n",
      ">52 0.929 (0.005)\n",
      ">53 0.931 (0.004)\n",
      ">54 0.931 (0.004)\n",
      ">55 0.931 (0.004)\n",
      ">56 0.931 (0.004)\n",
      ">57 0.932 (0.004)\n",
      ">58 0.933 (0.003)\n",
      ">59 0.934 (0.002)\n",
      ">60 0.934 (0.002)\n",
      ">61 0.934 (0.002)\n",
      ">62 0.934 (0.002)\n",
      ">63 0.934 (0.002)\n",
      ">64 0.934 (0.002)\n",
      ">65 0.934 (0.002)\n",
      ">66 0.934 (0.002)\n",
      ">67 0.934 (0.002)\n",
      ">68 0.934 (0.002)\n",
      ">69 0.934 (0.002)\n",
      ">70 0.934 (0.002)\n",
      ">71 0.934 (0.002)\n",
      ">72 0.934 (0.002)\n",
      ">73 0.934 (0.002)\n",
      ">74 0.934 (0.002)\n",
      ">75 0.934 (0.002)\n",
      ">76 0.934 (0.002)\n",
      ">77 0.934 (0.002)\n",
      ">78 0.934 (0.002)\n",
      ">79 0.934 (0.002)\n",
      ">80 0.934 (0.002)\n",
      ">81 0.934 (0.002)\n",
      ">82 0.934 (0.002)\n",
      ">83 0.934 (0.002)\n",
      ">84 0.934 (0.002)\n",
      ">85 0.934 (0.002)\n",
      ">86 0.934 (0.002)\n",
      ">87 0.934 (0.002)\n",
      ">88 0.934 (0.002)\n"
     ]
    },
    {
     "data": {
      "image/png": "[encoded data removed]",
      "text/plain": [
       "<Figure size 432x288 with 1 Axes>"
      ]
     },
     "metadata": {
      "needs_background": "light"
     },
     "output_type": "display_data"
    }
   ],
   "source": [
    "# compare different numbers of features selected using anova f-test\n",
    "\n",
    "\n",
    "# evaluate a give model using cross-validation\n",
    "def evaluate_model(model):\n",
    "\tcv = RepeatedStratifiedKFold(n_splits=5, n_repeats=3, random_state=1)\n",
    "\tscores = cross_val_score(model, X_all, Y_all, scoring='accuracy', cv=cv, n_jobs=-1, error_score='raise')\n",
    "\treturn scores\n",
    "\n",
    "# define number of features to evaluate\n",
    "num_features = [i+1 for i in range(X_all.shape[1])]\n",
    "# enumerate each number of features\n",
    "results = list()\n",
    "for k in num_features:\n",
    "\t# create pipeline\n",
    "\tmodel = LogisticRegression(solver='liblinear')\n",
    "\tfs = SelectKBest(score_func=f_classif, k=k)\n",
    "\tpipeline = Pipeline(steps=[('anova',fs), ('lr', model)])\n",
    "\t# evaluate the model\n",
    "\tscores = evaluate_model(pipeline)\n",
    "\tresults.append(scores)\n",
    "\t# summarize the results\n",
    "\tprint('>%d %.3f (%.3f)' % (k, mean(scores), std(scores)))\n",
    "# plot model performance for comparison\n",
    "pyplot.boxplot(results, labels=num_features, showmeans=True)\n",
    "pyplot.show()"
   ]
  },
  {
   "cell_type": "code",
   "execution_count": 7,
   "metadata": {},
   "outputs": [
    {
     "data": {
      "image/png": "[encoded data removed]",
      "text/plain": [
       "<Figure size 1440x432 with 1 Axes>"
      ]
     },
     "metadata": {
      "needs_background": "light"
     },
     "output_type": "display_data"
    }
   ],
   "source": [
    "pyplot.figure(figsize=(20,6))\n",
    "pyplot.boxplot(results, labels=num_features, showmeans=True, patch_artist=True)\n",
    "pyplot.xticks(fontsize=9)\n",
    "pyplot.yticks(fontsize=20)\n",
    "pyplot.show()"
   ]
  },
  {
   "cell_type": "code",
   "execution_count": 8,
   "metadata": {},
   "outputs": [
    {
     "data": {
      "image/png": "[encoded data removed]",
      "text/plain": [
       "<Figure size 1440x432 with 1 Axes>"
      ]
     },
     "metadata": {
      "needs_background": "light"
     },
     "output_type": "display_data"
    }
   ],
   "source": [
    "pyplot.figure(figsize=(20,6))\n",
    "pyplot.xticks(fontsize=9)\n",
    "pyplot.yticks(fontsize=20)\n",
    "\n",
    "bp = pyplot.boxplot(results, labels=num_features, showmeans=True, patch_artist=True)\n",
    "#ax = fig.add_subplot(111)\n",
    "for box in bp['boxes']:\n",
    "    # change outline color\n",
    "    box.set( color='#7570b3', linewidth=2)\n",
    "    # change fill color\n",
    "    box.set( facecolor = '#1b9e70' )\n",
    "\n",
    "## change color and linewidth of the whiskers\n",
    "for whisker in bp['whiskers']:\n",
    "    whisker.set(color='#7570b3', linewidth=2)\n",
    "\n",
    "## change color and linewidth of the caps\n",
    "for cap in bp['caps']:\n",
    "    cap.set(color='#7570b3', linewidth=2)\n",
    "\n",
    "## change color and linewidth of the medians\n",
    "for median in bp['medians']:\n",
    "    median.set(color='yellow', linewidth=2)\n",
    "\n",
    "## change the style of fliers and their fill\n",
    "for flier in bp['fliers']:\n",
    "    flier.set(marker='o', color='#e7298a', alpha=0.5)"
   ]
  },
  {
   "cell_type": "markdown",
   "metadata": {},
   "source": [
    "## the final 59 features"
   ]
  },
  {
   "cell_type": "code",
   "execution_count": 50,
   "metadata": {},
   "outputs": [],
   "source": [
    "# feature selection\n",
    "def select_features(X_train, y_train, X_test, n):\n",
    "\t# configure to select all features\n",
    "\tfs = SelectKBest(score_func=f_classif, k=n)\n",
    "\t# learn relationship from training data\n",
    "\tfs.fit(X_train, y_train)\n",
    "\t# transform train input data\n",
    "\tX_train_fs = fs.transform(X_train)\n",
    "\t# transform test input data\n",
    "\tX_test_fs = fs.transform(X_test)\n",
    "\treturn X_train_fs, X_test_fs, fs"
   ]
  },
  {
   "cell_type": "code",
   "execution_count": 51,
   "metadata": {},
   "outputs": [
    {
     "name": "stdout",
     "output_type": "stream",
     "text": [
      "Feature 0: 416.777594\n",
      "Feature 1: 238.301498\n",
      "Feature 2: 21.317291\n",
      "Feature 3: 4.465424\n",
      "Feature 4: 30.851215\n",
      "Feature 5: 149.077271\n",
      "Feature 6: 158.585614\n",
      "Feature 7: 956.401900\n",
      "Feature 8: 24742.780123\n",
      "Feature 9: 8.708557\n",
      "Feature 10: 17645.708291\n",
      "Feature 11: 16076.715258\n",
      "Feature 12: 7633.233419\n",
      "Feature 13: 1773.948908\n",
      "Feature 14: 181.171347\n",
      "Feature 15: 21.890166\n",
      "Feature 16: 1.442066\n",
      "Feature 17: 906.965022\n",
      "Feature 18: 1821.412246\n",
      "Feature 19: 983.518697\n",
      "Feature 20: 138.286482\n",
      "Feature 21: 0.666879\n",
      "Feature 22: 0.071182\n",
      "Feature 23: 1.507142\n",
      "Feature 24: 89183.747818\n",
      "Feature 25: 54690.656010\n",
      "Feature 26: 16729.299474\n",
      "Feature 27: 3556.396891\n",
      "Feature 28: 365.600611\n",
      "Feature 29: 47.134848\n",
      "Feature 30: 1.273737\n",
      "Feature 31: 9526.658493\n",
      "Feature 32: 14812.740096\n",
      "Feature 33: 5828.315985\n",
      "Feature 34: 1252.026601\n",
      "Feature 35: 68.851331\n",
      "Feature 36: 3.950017\n",
      "Feature 37: 1.301561\n",
      "Feature 38: 28680.938132\n",
      "Feature 39: 24380.598128\n",
      "Feature 40: 8017.155595\n",
      "Feature 41: 1610.136186\n",
      "Feature 42: 117.701584\n",
      "Feature 43: 8.714444\n",
      "Feature 44: 1.268889\n",
      "Feature 45: 37428.013870\n",
      "Feature 46: 26656.979428\n",
      "Feature 47: 8055.017815\n",
      "Feature 48: 1573.028333\n",
      "Feature 49: 108.979152\n",
      "Feature 50: 7.447029\n",
      "Feature 51: 7.447029\n",
      "Feature 52: 28406.128239\n",
      "Feature 53: 25157.748191\n",
      "Feature 54: 7929.346666\n",
      "Feature 55: 1573.301760\n",
      "Feature 56: 114.831540\n",
      "Feature 57: 7.199028\n",
      "Feature 58: 1.262537\n",
      "Feature 59: 28737.192988\n",
      "Feature 60: 23834.092912\n",
      "Feature 61: 8002.485767\n",
      "Feature 62: 1784.821647\n",
      "Feature 63: 133.511558\n",
      "Feature 64: 8.358150\n",
      "Feature 65: 1.268889\n",
      "Feature 66: 15755.159420\n",
      "Feature 67: 17136.330293\n",
      "Feature 68: 6124.749178\n",
      "Feature 69: 1283.138518\n",
      "Feature 70: 108.161656\n",
      "Feature 71: 8.411903\n",
      "Feature 72: 1.268889\n",
      "Feature 73: 7701.321806\n",
      "Feature 74: 13894.990078\n",
      "Feature 75: 5953.877406\n",
      "Feature 76: 1211.596223\n",
      "Feature 77: 51.669393\n",
      "Feature 78: 6.507667\n",
      "Feature 79: 1.268889\n",
      "Feature 80: 10043.574614\n",
      "Feature 81: 16376.186791\n",
      "Feature 82: 6385.282766\n",
      "Feature 83: 1229.077395\n",
      "Feature 84: 56.222695\n",
      "Feature 85: 5.374874\n",
      "Feature 86: 1.318835\n",
      "Feature 87: 98562.672890\n"
     ]
    },
    {
     "data": {
      "image/png": "[encoded data removed]",
      "text/plain": [
       "<Figure size 432x288 with 1 Axes>"
      ]
     },
     "metadata": {
      "needs_background": "light"
     },
     "output_type": "display_data"
    }
   ],
   "source": [
    "# split into train and test sets\n",
    "X_train, X_test, y_train, y_test = train_test_split(X_all, Y_all, test_size=0.5, random_state=1)\n",
    "# feature selection\n",
    "X_train_fs, X_test_fs, fs = select_features(X_train, y_train, X_test, 59)\n",
    "# what are scores for the features\n",
    "for i in range(len(fs.scores_)):\n",
    "\tprint('Feature %d: %f' % (i, fs.scores_[i]))\n",
    "# plot the scores\n",
    "pyplot.bar([i for i in range(len(fs.scores_))], fs.scores_)\n",
    "pyplot.show()"
   ]
  },
  {
   "cell_type": "code",
   "execution_count": 52,
   "metadata": {},
   "outputs": [
    {
     "data": {
      "text/plain": [
       "array([ 0,  1,  5,  6,  7,  8, 10, 11, 12, 13, 14, 17, 18, 19, 20, 24, 25,\n",
       "       26, 27, 28, 31, 32, 33, 34, 35, 38, 39, 40, 41, 42, 45, 46, 47, 48,\n",
       "       49, 52, 53, 54, 55, 56, 59, 60, 61, 62, 63, 66, 67, 68, 69, 70, 73,\n",
       "       74, 75, 76, 80, 81, 82, 83, 87])"
      ]
     },
     "execution_count": 52,
     "metadata": {},
     "output_type": "execute_result"
    }
   ],
   "source": [
    "fs.get_support(indices=True)"
   ]
  },
  {
   "cell_type": "markdown",
   "metadata": {},
   "source": [
    "'Lat','Long','InReverse','Lane','PositionInLane','Velocity','PosLgt1','PosLgt2','PosLgt3','PosLgt4','PosLgt5','PosLat1','PosLat2','PosLat3','PosLat4','VelLgt1','VelLgt2','VelLgt3','VelLgt4','VelLgt5','VelLat1','VelLat2','VelLat3','VelLat4','VelLat5','AccLgt1','AccLgt2','AccLgt3','AccLgt4','AccLgt5','AccLat1','AccLat2','AccLat3','AccLat4','AccLat5','Angle1','Angle2','Angle3','Angle4','Angle5','Type1','Type2','Type3','Type4','Type5','Id1','Id2','Id3','Id4','Id5','Lane1','Lane2','Lane3','Lane4','PositionInLane1','PositionInLane2','PositionInLane3','PositionInLane4','Lead'"
   ]
  },
  {
   "cell_type": "code",
   "execution_count": 34,
   "metadata": {
    "scrolled": true
   },
   "outputs": [],
   "source": [
    "my_list57 = [ 0,  1,  3,  7,  8,  9, 10, 11, 12, 13, 17, 18, 19, 20, 24, 25, 26,\n",
    "       27, 28, 31, 32, 33, 34, 38, 39, 40, 41, 42, 45, 46, 47, 48, 49, 52,\n",
    "       53, 54, 55, 59, 60, 61, 62, 63, 66, 67, 68, 69, 70, 73, 74, 75, 76,\n",
    "       80, 81, 82, 83, 84, 87]\n",
    "new_list = [x+1 for x in my_list57]\n"
   ]
  },
  {
   "cell_type": "markdown",
   "metadata": {},
   "source": [
    "# Train model"
   ]
  },
  {
   "cell_type": "code",
   "execution_count": 2,
   "metadata": {},
   "outputs": [],
   "source": [
    "# Set up a 'look back' dataset for sequence to label prediction with Keras.\n",
    "\n",
    "# The LSTM network expects the input data (X) to be provided with a specific\n",
    "# array structure in the form of: [samples, time steps, features].\n",
    "\n",
    "# create_dataset is adapted from\n",
    "# http://machinelearningmastery.com/time-series-prediction-lstm-recurrent-neural-networks-python-keras/\n",
    "\n",
    "def create_dataset(X, Y, **options):\n",
    "    \"\"\"Convert an array of X, Y values into a dataset matrix for and LSTM\"\"\"\n",
    "    \n",
    "    look_back = options.pop('look_back', None)\n",
    "    dataX, dataY = [], []\n",
    "    for i in range(len(X) - look_back):\n",
    "        a = X[i:(i+look_back)]\n",
    "        dataX.append(a)\n",
    "        dataY.append(Y[i + look_back - 1])\n",
    "    return np.array(dataX), np.array(dataY)\n",
    "\n",
    "# Predictions will be based on look_back minutes of data:\n",
    "look_back = 50"
   ]
  },
  {
   "cell_type": "markdown",
   "metadata": {},
   "source": [
    "'Lat','Long','Decelerating','PositionInLane','Velocity','YawRate','PosLgt1','PosLgt2','PosLgt3','PosLgt4','PosLat1','PosLat2','PosLat3','PosLat4','VelLgt1','VelLgt2','VelLgt3','VelLgt4','VelLgt5','VelLat1','VelLat2','VelLat3','VelLat4','AccLgt1','AccLgt2','AccLgt3','AccLgt4','AccLgt5','AccLat1','AccLat2','AccLat3','AccLat4','AccLat5','Angle1','Angle2','Angle3','Angle4','Type1','Type2','Type3','Type4','Type5','Id1','Id2','Id3','Id4','Id5','Lane1','Lane2','Lane3','Lane4','PositionInLane1','PositionInLane2','PositionInLane3','PositionInLane4','PositionInLane5','Lead'"
   ]
  },
  {
   "cell_type": "code",
   "execution_count": 3,
   "metadata": {
    "scrolled": true
   },
   "outputs": [
    {
     "name": "stdout",
     "output_type": "stream",
     "text": [
      "../TrafficNet/VolvoData/2019/2019w20_Sensor_P514_EU-0024.csv\n",
      "(46362, 59) (46362,)\n",
      "(46312, 50, 59) (46312,)\n",
      "../TrafficNet/VolvoData/2019/2019w05_ConnectedSafety_EU-0052.csv\n",
      "(56119, 59) (56119,)\n",
      "(56069, 50, 59) (56069,)\n",
      "../TrafficNet/VolvoData/2019/2019w26_CPUload_Kiel_Amsterdam-0002.csv\n",
      "(107451, 59) (107451,)\n",
      "(107401, 50, 59) (107401,)\n",
      "../TrafficNet/VolvoData/2019/2019w05_ConnectedSafety_EU-0118.csv\n",
      "(54506, 59) (54506,)\n",
      "(54456, 50, 59) (54456,)\n",
      "../TrafficNet/VolvoData/2019/2019w05_ConnectedSafety_EU-0051.csv\n",
      "(56795, 59) (56795,)\n",
      "(56745, 50, 59) (56745,)\n",
      "../TrafficNet/VolvoData/2019/2019w20_Sensor_P514_EU-0051.csv\n",
      "(54873, 59) (54873,)\n",
      "(54823, 50, 59) (54823,)\n",
      "../TrafficNet/VolvoData/2019/2019w26_CPUload_Kiel_Amsterdam-0008.csv\n",
      "(95999, 59) (95999,)\n",
      "(95949, 50, 59) (95949,)\n"
     ]
    }
   ],
   "source": [
    "path = glob.glob('../TrafficNet/VolvoData/2019/*.csv')\n",
    "\n",
    "X_all = np.empty((1, 50, 59))\n",
    "Y_all = np.empty((1,))\n",
    "\n",
    "for i in range(1,8):\n",
    "    print(path[i])\n",
    "    \n",
    "    Following = pd.read_csv(path[i], usecols=['Lat','Long','InReverse','Lane','PositionInLane','Velocity','PosLgt1','PosLgt2','PosLgt3','PosLgt4','PosLgt5','PosLat1','PosLat2','PosLat3','PosLat4','VelLgt1','VelLgt2','VelLgt3','VelLgt4','VelLgt5','VelLat1','VelLat2','VelLat3','VelLat4','VelLat5','AccLgt1','AccLgt2','AccLgt3','AccLgt4','AccLgt5','AccLat1','AccLat2','AccLat3','AccLat4','AccLat5','Angle1','Angle2','Angle3','Angle4','Angle5','Type1','Type2','Type3','Type4','Type5','Id1','Id2','Id3','Id4','Id5','Lane1','Lane2','Lane3','Lane4','PositionInLane1','PositionInLane2','PositionInLane3','PositionInLane4','Lead','Following'])\n",
    "    Following.fillna(-1, inplace=True)\n",
    "    \n",
    "    Y_train = np.array(Following['Following'].values)\n",
    "    X_train = np.array(Following[['Lat','Long','InReverse','Lane','PositionInLane','Velocity','PosLgt1','PosLgt2','PosLgt3','PosLgt4','PosLgt5','PosLat1','PosLat2','PosLat3','PosLat4','VelLgt1','VelLgt2','VelLgt3','VelLgt4','VelLgt5','VelLat1','VelLat2','VelLat3','VelLat4','VelLat5','AccLgt1','AccLgt2','AccLgt3','AccLgt4','AccLgt5','AccLat1','AccLat2','AccLat3','AccLat4','AccLat5','Angle1','Angle2','Angle3','Angle4','Angle5','Type1','Type2','Type3','Type4','Type5','Id1','Id2','Id3','Id4','Id5','Lane1','Lane2','Lane3','Lane4','PositionInLane1','PositionInLane2','PositionInLane3','PositionInLane4','Lead']])\n",
    "    # Get dimensions of input and output\n",
    "    #dimof_output = int(np.max(Y_train) + 1)\n",
    "    dimof_output = 1\n",
    "    dimof_input = X_train.shape[1]\n",
    "\n",
    "    # Scale/whiten the X data\n",
    "    scaler = StandardScaler()\n",
    "    X_train = scaler.fit_transform(X_train)\n",
    "    #print(len(X_train))\n",
    "    print(X_train.shape, Y_train.shape)\n",
    "    \n",
    "    X, Y = create_dataset(X_train, Y_train, look_back=look_back)\n",
    "    print(X.shape, Y.shape)\n",
    "    \n",
    "    X_all = np.append(X_all, X, axis=0)\n",
    "    Y_all = np.append(Y_all, Y, axis=0)"
   ]
  },
  {
   "cell_type": "code",
   "execution_count": 4,
   "metadata": {},
   "outputs": [
    {
     "data": {
      "text/plain": [
       "471745"
      ]
     },
     "execution_count": 4,
     "metadata": {},
     "output_type": "execute_result"
    }
   ],
   "source": [
    "(len(X_all)//64)*64 + 1"
   ]
  },
  {
   "cell_type": "code",
   "execution_count": 5,
   "metadata": {},
   "outputs": [
    {
     "data": {
      "text/plain": [
       "Counter({1.0: 205872, 0.0: 265872})"
      ]
     },
     "execution_count": 5,
     "metadata": {},
     "output_type": "execute_result"
    }
   ],
   "source": [
    "X_all = X_all[1:471745]\n",
    "Y_all = Y_all[1:471745]\n",
    "\n",
    "collections.Counter(Y_all)"
   ]
  },
  {
   "cell_type": "code",
   "execution_count": 6,
   "metadata": {},
   "outputs": [
    {
     "data": {
      "text/plain": [
       "0.774327495937895"
      ]
     },
     "execution_count": 6,
     "metadata": {},
     "output_type": "execute_result"
    }
   ],
   "source": [
    "205872/265872"
   ]
  },
  {
   "cell_type": "code",
   "execution_count": 7,
   "metadata": {},
   "outputs": [],
   "source": [
    "# Create the LSTM network.\n",
    "batch_size = 32\n",
    "dropout = 0.5\n",
    "num_epoch = 100\n",
    "earlyStopping = EarlyStopping(monitor='val_loss', patience=0, verbose=0, mode='auto')\n",
    "weights = {0:1, 1:1}"
   ]
  },
  {
   "cell_type": "code",
   "execution_count": 10,
   "metadata": {},
   "outputs": [
    {
     "name": "stderr",
     "output_type": "stream",
     "text": [
      "/Users/jocelyn/opt/anaconda3/lib/python3.7/site-packages/ipykernel_launcher.py:2: UserWarning: Update your `LSTM` call to the Keras 2 API: `LSTM(batch_input_shape=[32, 50, 5..., units=10)`\n",
      "  \n",
      "/Users/jocelyn/opt/anaconda3/lib/python3.7/site-packages/ipykernel_launcher.py:4: UserWarning: Update your `Dense` call to the Keras 2 API: `Dense(1, activation=\"sigmoid\", kernel_initializer=\"uniform\")`\n",
      "  after removing the cwd from sys.path.\n"
     ]
    },
    {
     "name": "stdout",
     "output_type": "stream",
     "text": [
      "WARNING:tensorflow:From /Users/jocelyn/opt/anaconda3/lib/python3.7/site-packages/tensorflow/python/ops/nn_impl.py:180: add_dispatch_support.<locals>.wrapper (from tensorflow.python.ops.array_ops) is deprecated and will be removed in a future version.\n",
      "Instructions for updating:\n",
      "Use tf.where in 2.0, which has the same broadcast rule as np.where\n"
     ]
    }
   ],
   "source": [
    "model_Flow1 = Sequential()\n",
    "model_Flow1.add(LSTM(output_dim=10, batch_input_shape=[batch_size, look_back, dimof_input]))\n",
    "model_Flow1.add(Dropout(dropout))\n",
    "model_Flow1.add(Dense(dimof_output, init='uniform', activation='sigmoid'))\n",
    "model_Flow1.compile(loss='binary_crossentropy', optimizer='adam',metrics=['accuracy'])"
   ]
  },
  {
   "cell_type": "code",
   "execution_count": 11,
   "metadata": {},
   "outputs": [
    {
     "name": "stdout",
     "output_type": "stream",
     "text": [
      "Model: \"sequential_1\"\n",
      "_________________________________________________________________\n",
      "Layer (type)                 Output Shape              Param #   \n",
      "=================================================================\n",
      "lstm_1 (LSTM)                (32, 10)                  2800      \n",
      "_________________________________________________________________\n",
      "dropout_1 (Dropout)          (32, 10)                  0         \n",
      "_________________________________________________________________\n",
      "dense_1 (Dense)              (32, 1)                   11        \n",
      "=================================================================\n",
      "Total params: 2,811\n",
      "Trainable params: 2,811\n",
      "Non-trainable params: 0\n",
      "_________________________________________________________________\n"
     ]
    }
   ],
   "source": [
    "model_Flow1.summary()"
   ]
  },
  {
   "cell_type": "code",
   "execution_count": 12,
   "metadata": {},
   "outputs": [
    {
     "name": "stderr",
     "output_type": "stream",
     "text": [
      "/Users/jocelyn/opt/anaconda3/lib/python3.7/site-packages/ipykernel_launcher.py:6: UserWarning: The `nb_epoch` argument in `fit` has been renamed `epochs`.\n",
      "  \n"
     ]
    },
    {
     "name": "stdout",
     "output_type": "stream",
     "text": [
      "WARNING:tensorflow:From /Users/jocelyn/opt/anaconda3/lib/python3.7/site-packages/keras/backend/tensorflow_backend.py:422: The name tf.global_variables is deprecated. Please use tf.compat.v1.global_variables instead.\n",
      "\n",
      "Train on 284544 samples, validate on 284544 samples\n",
      "Epoch 1/100\n",
      "284544/284544 [==============================] - 2126s 7ms/step - loss: 0.1417 - accuracy: 0.9485 - val_loss: 0.3041 - val_accuracy: 0.9244\n",
      "Epoch 2/100\n",
      "284544/284544 [==============================] - 2337s 8ms/step - loss: 0.0761 - accuracy: 0.9716 - val_loss: 0.3233 - val_accuracy: 0.9262\n"
     ]
    }
   ],
   "source": [
    "history1 = model_Flow1.fit(\n",
    "    X_all, Y_all,\n",
    "    validation_split=0.5,\n",
    "    callbacks=[earlyStopping],\n",
    "    shuffle=True,\n",
    "    nb_epoch=num_epoch, batch_size=batch_size, verbose=1)"
   ]
  },
  {
   "cell_type": "code",
   "execution_count": 13,
   "metadata": {},
   "outputs": [
    {
     "data": {
      "text/plain": [
       "{'val_loss': [0.3041487165044521, 0.32330540867271146],\n",
       " 'val_accuracy': [0.9244299530982971, 0.9262117743492126],\n",
       " 'loss': [0.14168367269545293, 0.07614327611563391],\n",
       " 'accuracy': [0.94847196, 0.971551]}"
      ]
     },
     "execution_count": 13,
     "metadata": {},
     "output_type": "execute_result"
    }
   ],
   "source": [
    "history1.history"
   ]
  },
  {
   "cell_type": "code",
   "execution_count": 14,
   "metadata": {},
   "outputs": [
    {
     "data": {
      "image/png": "[encoded data removed]",
      "text/plain": [
       "<Figure size 432x288 with 1 Axes>"
      ]
     },
     "metadata": {
      "needs_background": "light"
     },
     "output_type": "display_data"
    }
   ],
   "source": [
    "# Plot history for training and validation loss.\n",
    "\n",
    "plt.plot(history1.history['accuracy'])\n",
    "plt.plot(history1.history['val_accuracy'])\n",
    "plt.title('2-layer LSTM model')\n",
    "plt.ylabel('accuracy')\n",
    "plt.xlabel('epoch')\n",
    "plt.legend(['Train', 'Validate'], loc='upper left')\n",
    "plt.show()"
   ]
  },
  {
   "cell_type": "code",
   "execution_count": 15,
   "metadata": {},
   "outputs": [
    {
     "data": {
      "image/png": "[encoded data removed]",
      "text/plain": [
       "<Figure size 432x288 with 1 Axes>"
      ]
     },
     "metadata": {
      "needs_background": "light"
     },
     "output_type": "display_data"
    }
   ],
   "source": [
    "# Plot history for training and validation loss.\n",
    "\n",
    "plt.plot(history1.history['loss'])\n",
    "plt.plot(history1.history['val_loss'])\n",
    "plt.title('2-layer LSTM model')\n",
    "plt.ylabel('loss')\n",
    "plt.xlabel('epoch')\n",
    "plt.legend(['Train', 'Validate'], loc='upper left')\n",
    "plt.show()"
   ]
  },
  {
   "cell_type": "code",
   "execution_count": 16,
   "metadata": {},
   "outputs": [
    {
     "name": "stderr",
     "output_type": "stream",
     "text": [
      "/Users/jocelyn/opt/anaconda3/lib/python3.7/site-packages/ipykernel_launcher.py:2: UserWarning: Update your `LSTM` call to the Keras 2 API: `LSTM(batch_input_shape=[32, 50, 5..., units=10)`\n",
      "  \n",
      "/Users/jocelyn/opt/anaconda3/lib/python3.7/site-packages/ipykernel_launcher.py:6: UserWarning: Update your `Dense` call to the Keras 2 API: `Dense(1, activation=\"sigmoid\", kernel_initializer=\"uniform\")`\n",
      "  \n"
     ]
    }
   ],
   "source": [
    "model_Flow2 = Sequential()\n",
    "model_Flow2.add(LSTM(output_dim=10, batch_input_shape=[batch_size, look_back, dimof_input]))\n",
    "model_Flow2.add(Dropout(dropout))\n",
    "model_Flow2.add(Dense(30, activation='relu'))\n",
    "model_Flow2.add(Dropout(dropout))\n",
    "model_Flow2.add(Dense(dimof_output, init='uniform', activation='sigmoid'))\n",
    "model_Flow2.compile(loss='binary_crossentropy', optimizer='adam',metrics=['accuracy'])"
   ]
  },
  {
   "cell_type": "code",
   "execution_count": 14,
   "metadata": {},
   "outputs": [
    {
     "name": "stdout",
     "output_type": "stream",
     "text": [
      "Model: \"sequential_2\"\n",
      "_________________________________________________________________\n",
      "Layer (type)                 Output Shape              Param #   \n",
      "=================================================================\n",
      "lstm_2 (LSTM)                (32, 10)                  2720      \n",
      "_________________________________________________________________\n",
      "dropout_2 (Dropout)          (32, 10)                  0         \n",
      "_________________________________________________________________\n",
      "dense_2 (Dense)              (32, 30)                  330       \n",
      "_________________________________________________________________\n",
      "dropout_3 (Dropout)          (32, 30)                  0         \n",
      "_________________________________________________________________\n",
      "dense_3 (Dense)              (32, 1)                   31        \n",
      "=================================================================\n",
      "Total params: 3,081\n",
      "Trainable params: 3,081\n",
      "Non-trainable params: 0\n",
      "_________________________________________________________________\n"
     ]
    }
   ],
   "source": [
    "model_Flow2.summary()"
   ]
  },
  {
   "cell_type": "code",
   "execution_count": 17,
   "metadata": {},
   "outputs": [
    {
     "name": "stderr",
     "output_type": "stream",
     "text": [
      "/Users/jocelyn/opt/anaconda3/lib/python3.7/site-packages/ipykernel_launcher.py:6: UserWarning: The `nb_epoch` argument in `fit` has been renamed `epochs`.\n",
      "  \n"
     ]
    },
    {
     "name": "stdout",
     "output_type": "stream",
     "text": [
      "Train on 284544 samples, validate on 284544 samples\n",
      "Epoch 1/100\n",
      "284544/284544 [==============================] - 2391s 8ms/step - loss: 0.1423 - accuracy: 0.9473 - val_loss: 0.4351 - val_accuracy: 0.9146\n",
      "Epoch 2/100\n",
      "284544/284544 [==============================] - 2286s 8ms/step - loss: 0.0838 - accuracy: 0.9711 - val_loss: 0.3375 - val_accuracy: 0.9325\n",
      "Epoch 3/100\n",
      "284544/284544 [==============================] - 2335s 8ms/step - loss: 0.0686 - accuracy: 0.9764 - val_loss: 0.4252 - val_accuracy: 0.9300\n"
     ]
    }
   ],
   "source": [
    "history2 = model_Flow2.fit(\n",
    "    X_all, Y_all,\n",
    "    validation_split=0.5,\n",
    "    callbacks=[earlyStopping],\n",
    "    shuffle=True,\n",
    "    nb_epoch=num_epoch, batch_size=batch_size, verbose=1)"
   ]
  },
  {
   "cell_type": "code",
   "execution_count": 18,
   "metadata": {},
   "outputs": [
    {
     "data": {
      "text/plain": [
       "{'val_loss': [0.4350904177227971, 0.3375181975126447, 0.42520617820533047],\n",
       " 'val_accuracy': [0.9145896434783936, 0.9325200915336609, 0.929961621761322],\n",
       " 'loss': [0.14232472889430395, 0.08376300796415315, 0.06864543325913751],\n",
       " 'accuracy': [0.94725597, 0.9710941, 0.97640085]}"
      ]
     },
     "execution_count": 18,
     "metadata": {},
     "output_type": "execute_result"
    }
   ],
   "source": [
    "history2.history"
   ]
  },
  {
   "cell_type": "code",
   "execution_count": 19,
   "metadata": {},
   "outputs": [
    {
     "data": {
      "image/png": "[encoded data removed]",
      "text/plain": [
       "<Figure size 432x288 with 1 Axes>"
      ]
     },
     "metadata": {
      "needs_background": "light"
     },
     "output_type": "display_data"
    }
   ],
   "source": [
    "# Plot history for training and validation loss.\n",
    "\n",
    "plt.plot(history2.history['accuracy'])\n",
    "plt.plot(history2.history['val_accuracy'])\n",
    "plt.title('3-layer LSTM model')\n",
    "plt.ylabel('accuracy')\n",
    "plt.xlabel('epoch')\n",
    "plt.legend(['Train', 'Validate'], loc='upper left')\n",
    "plt.show()"
   ]
  },
  {
   "cell_type": "code",
   "execution_count": 20,
   "metadata": {},
   "outputs": [
    {
     "data": {
      "image/png": "[encoded data removed]",
      "text/plain": [
       "<Figure size 432x288 with 1 Axes>"
      ]
     },
     "metadata": {
      "needs_background": "light"
     },
     "output_type": "display_data"
    }
   ],
   "source": [
    "# Plot history for training and validation loss.\n",
    "\n",
    "plt.plot(history2.history['loss'])\n",
    "plt.plot(history2.history['val_loss'])\n",
    "plt.title('3-layer LSTM model')\n",
    "plt.ylabel('loss')\n",
    "plt.xlabel('epoch')\n",
    "plt.legend(['Train', 'Validate'], loc='upper left')\n",
    "plt.show()"
   ]
  },
  {
   "cell_type": "code",
   "execution_count": 21,
   "metadata": {},
   "outputs": [
    {
     "name": "stderr",
     "output_type": "stream",
     "text": [
      "/Users/jocelyn/opt/anaconda3/lib/python3.7/site-packages/ipykernel_launcher.py:2: UserWarning: Update your `LSTM` call to the Keras 2 API: `LSTM(batch_input_shape=[32, 50, 5..., units=10)`\n",
      "  \n",
      "/Users/jocelyn/opt/anaconda3/lib/python3.7/site-packages/ipykernel_launcher.py:8: UserWarning: Update your `Dense` call to the Keras 2 API: `Dense(1, activation=\"sigmoid\", kernel_initializer=\"uniform\")`\n",
      "  \n"
     ]
    }
   ],
   "source": [
    "model_Flow3 = Sequential()\n",
    "model_Flow3.add(LSTM(output_dim=10, batch_input_shape=[batch_size, look_back, dimof_input]))\n",
    "model_Flow3.add(Dropout(dropout))\n",
    "model_Flow3.add(Dense(30, activation='relu'))\n",
    "model_Flow3.add(Dropout(dropout))\n",
    "model_Flow3.add(Dense(30, activation='relu'))\n",
    "model_Flow3.add(Dropout(dropout))\n",
    "model_Flow3.add(Dense(dimof_output, init='uniform', activation='sigmoid'))\n",
    "model_Flow3.compile(loss='binary_crossentropy', optimizer='adam',metrics=['accuracy'])"
   ]
  },
  {
   "cell_type": "code",
   "execution_count": 20,
   "metadata": {},
   "outputs": [
    {
     "name": "stdout",
     "output_type": "stream",
     "text": [
      "Model: \"sequential_3\"\n",
      "_________________________________________________________________\n",
      "Layer (type)                 Output Shape              Param #   \n",
      "=================================================================\n",
      "lstm_3 (LSTM)                (32, 10)                  2720      \n",
      "_________________________________________________________________\n",
      "dropout_4 (Dropout)          (32, 10)                  0         \n",
      "_________________________________________________________________\n",
      "dense_4 (Dense)              (32, 30)                  330       \n",
      "_________________________________________________________________\n",
      "dropout_5 (Dropout)          (32, 30)                  0         \n",
      "_________________________________________________________________\n",
      "dense_5 (Dense)              (32, 30)                  930       \n",
      "_________________________________________________________________\n",
      "dropout_6 (Dropout)          (32, 30)                  0         \n",
      "_________________________________________________________________\n",
      "dense_6 (Dense)              (32, 1)                   31        \n",
      "=================================================================\n",
      "Total params: 4,011\n",
      "Trainable params: 4,011\n",
      "Non-trainable params: 0\n",
      "_________________________________________________________________\n"
     ]
    }
   ],
   "source": [
    "model_Flow3.summary()"
   ]
  },
  {
   "cell_type": "code",
   "execution_count": 22,
   "metadata": {},
   "outputs": [
    {
     "name": "stderr",
     "output_type": "stream",
     "text": [
      "/Users/jocelyn/opt/anaconda3/lib/python3.7/site-packages/ipykernel_launcher.py:6: UserWarning: The `nb_epoch` argument in `fit` has been renamed `epochs`.\n",
      "  \n"
     ]
    },
    {
     "name": "stdout",
     "output_type": "stream",
     "text": [
      "Train on 284544 samples, validate on 284544 samples\n",
      "Epoch 1/100\n",
      "284544/284544 [==============================] - 2471s 9ms/step - loss: 0.1445 - accuracy: 0.9472 - val_loss: 0.3628 - val_accuracy: 0.9183\n",
      "Epoch 2/100\n",
      "284544/284544 [==============================] - 2473s 9ms/step - loss: 0.0796 - accuracy: 0.9731 - val_loss: 0.4069 - val_accuracy: 0.9212\n"
     ]
    }
   ],
   "source": [
    "history3 = model_Flow3.fit(\n",
    "    X_all, Y_all,\n",
    "    validation_split=0.5,\n",
    "    callbacks=[earlyStopping],\n",
    "    shuffle=True,\n",
    "    nb_epoch=num_epoch, batch_size=batch_size, verbose=1)"
   ]
  },
  {
   "cell_type": "code",
   "execution_count": 23,
   "metadata": {},
   "outputs": [
    {
     "data": {
      "text/plain": [
       "{'val_loss': [0.362787202033087, 0.4068854886051332],\n",
       " 'val_accuracy': [0.9182551503181458, 0.9211861491203308],\n",
       " 'loss': [0.14447938424072262, 0.07962984826308789],\n",
       " 'accuracy': [0.9472173, 0.97310436]}"
      ]
     },
     "execution_count": 23,
     "metadata": {},
     "output_type": "execute_result"
    }
   ],
   "source": [
    "history3.history"
   ]
  },
  {
   "cell_type": "code",
   "execution_count": 24,
   "metadata": {},
   "outputs": [
    {
     "data": {
      "image/png": "[encoded data removed]",
      "text/plain": [
       "<Figure size 432x288 with 1 Axes>"
      ]
     },
     "metadata": {
      "needs_background": "light"
     },
     "output_type": "display_data"
    }
   ],
   "source": [
    "# Plot history for training and validation loss.\n",
    "\n",
    "plt.plot(history3.history['accuracy'])\n",
    "plt.plot(history3.history['val_accuracy'])\n",
    "plt.title('4-layer LSTM model')\n",
    "plt.ylabel('accuracy')\n",
    "plt.xlabel('epoch')\n",
    "plt.legend(['Train', 'Validate'], loc='upper left')\n",
    "plt.show()"
   ]
  },
  {
   "cell_type": "code",
   "execution_count": 25,
   "metadata": {},
   "outputs": [
    {
     "data": {
      "image/png": "[encoded data removed]",
      "text/plain": [
       "<Figure size 432x288 with 1 Axes>"
      ]
     },
     "metadata": {
      "needs_background": "light"
     },
     "output_type": "display_data"
    }
   ],
   "source": [
    "# Plot history for training and validation loss.\n",
    "\n",
    "plt.plot(history3.history['loss'])\n",
    "plt.plot(history3.history['val_loss'])\n",
    "plt.title('4-layer LSTM model')\n",
    "plt.ylabel('loss')\n",
    "plt.xlabel('epoch')\n",
    "plt.legend(['Train', 'Validate'], loc='upper left')\n",
    "plt.show()"
   ]
  },
  {
   "cell_type": "code",
   "execution_count": 8,
   "metadata": {},
   "outputs": [
    {
     "name": "stderr",
     "output_type": "stream",
     "text": [
      "/Users/jocelyn/opt/anaconda3/lib/python3.7/site-packages/ipykernel_launcher.py:2: UserWarning: Update your `LSTM` call to the Keras 2 API: `LSTM(batch_input_shape=[32, 50, 5..., units=10)`\n",
      "  \n"
     ]
    },
    {
     "name": "stdout",
     "output_type": "stream",
     "text": [
      "WARNING:tensorflow:From /Users/jocelyn/opt/anaconda3/lib/python3.7/site-packages/tensorflow/python/ops/nn_impl.py:180: add_dispatch_support.<locals>.wrapper (from tensorflow.python.ops.array_ops) is deprecated and will be removed in a future version.\n",
      "Instructions for updating:\n",
      "Use tf.where in 2.0, which has the same broadcast rule as np.where\n"
     ]
    },
    {
     "name": "stderr",
     "output_type": "stream",
     "text": [
      "/Users/jocelyn/opt/anaconda3/lib/python3.7/site-packages/ipykernel_launcher.py:10: UserWarning: Update your `Dense` call to the Keras 2 API: `Dense(1, activation=\"sigmoid\", kernel_initializer=\"uniform\")`\n",
      "  # Remove the CWD from sys.path while we load stuff.\n"
     ]
    }
   ],
   "source": [
    "model_Flow4 = Sequential()\n",
    "model_Flow4.add(LSTM(output_dim=10, batch_input_shape=[batch_size, look_back, dimof_input]))\n",
    "model_Flow4.add(Dropout(dropout))\n",
    "model_Flow4.add(Dense(30, activation='relu'))\n",
    "model_Flow4.add(Dropout(dropout))\n",
    "model_Flow4.add(Dense(30, activation='relu'))\n",
    "model_Flow4.add(Dropout(dropout))\n",
    "model_Flow4.add(Dense(10, activation='relu'))\n",
    "model_Flow4.add(Dropout(dropout))\n",
    "model_Flow4.add(Dense(dimof_output, init='uniform', activation='sigmoid'))\n",
    "model_Flow4.compile(loss='binary_crossentropy', optimizer='adam',metrics=['accuracy'])"
   ]
  },
  {
   "cell_type": "code",
   "execution_count": 26,
   "metadata": {},
   "outputs": [
    {
     "name": "stdout",
     "output_type": "stream",
     "text": [
      "Model: \"sequential_4\"\n",
      "_________________________________________________________________\n",
      "Layer (type)                 Output Shape              Param #   \n",
      "=================================================================\n",
      "lstm_4 (LSTM)                (32, 10)                  2720      \n",
      "_________________________________________________________________\n",
      "dropout_7 (Dropout)          (32, 10)                  0         \n",
      "_________________________________________________________________\n",
      "dense_7 (Dense)              (32, 30)                  330       \n",
      "_________________________________________________________________\n",
      "dropout_8 (Dropout)          (32, 30)                  0         \n",
      "_________________________________________________________________\n",
      "dense_8 (Dense)              (32, 30)                  930       \n",
      "_________________________________________________________________\n",
      "dropout_9 (Dropout)          (32, 30)                  0         \n",
      "_________________________________________________________________\n",
      "dense_9 (Dense)              (32, 10)                  310       \n",
      "_________________________________________________________________\n",
      "dropout_10 (Dropout)         (32, 10)                  0         \n",
      "_________________________________________________________________\n",
      "dense_10 (Dense)             (32, 1)                   11        \n",
      "=================================================================\n",
      "Total params: 4,301\n",
      "Trainable params: 4,301\n",
      "Non-trainable params: 0\n",
      "_________________________________________________________________\n"
     ]
    }
   ],
   "source": [
    "model_Flow4.summary()"
   ]
  },
  {
   "cell_type": "code",
   "execution_count": 9,
   "metadata": {},
   "outputs": [
    {
     "name": "stderr",
     "output_type": "stream",
     "text": [
      "/Users/jocelyn/opt/anaconda3/lib/python3.7/site-packages/ipykernel_launcher.py:6: UserWarning: The `nb_epoch` argument in `fit` has been renamed `epochs`.\n",
      "  \n"
     ]
    },
    {
     "name": "stdout",
     "output_type": "stream",
     "text": [
      "WARNING:tensorflow:From /Users/jocelyn/opt/anaconda3/lib/python3.7/site-packages/keras/backend/tensorflow_backend.py:422: The name tf.global_variables is deprecated. Please use tf.compat.v1.global_variables instead.\n",
      "\n",
      "Train on 235872 samples, validate on 235872 samples\n",
      "Epoch 1/100\n",
      "235872/235872 [==============================] - 1655s 7ms/step - loss: 0.2056 - accuracy: 0.9307 - val_loss: 0.3713 - val_accuracy: 0.9213\n",
      "Epoch 2/100\n",
      "235872/235872 [==============================] - 1752s 7ms/step - loss: 0.1195 - accuracy: 0.9639 - val_loss: 0.3875 - val_accuracy: 0.9297\n"
     ]
    }
   ],
   "source": [
    "history4 = model_Flow4.fit(\n",
    "    X_all, Y_all,\n",
    "    validation_split=0.5,\n",
    "    callbacks=[earlyStopping],\n",
    "    shuffle=True,\n",
    "    nb_epoch=num_epoch, batch_size=batch_size, verbose=1)"
   ]
  },
  {
   "cell_type": "code",
   "execution_count": 10,
   "metadata": {},
   "outputs": [
    {
     "data": {
      "text/plain": [
       "{'val_loss': [0.37133047851284184, 0.38745036169851693],\n",
       " 'val_accuracy': [0.9212878346443176, 0.9296694993972778],\n",
       " 'loss': [0.20555034998676466, 0.11946064939669605],\n",
       " 'accuracy': [0.9307463, 0.9638787]}"
      ]
     },
     "execution_count": 10,
     "metadata": {},
     "output_type": "execute_result"
    }
   ],
   "source": [
    "history4.history"
   ]
  },
  {
   "cell_type": "code",
   "execution_count": 11,
   "metadata": {},
   "outputs": [
    {
     "data": {
      "image/png": "[encoded data removed]",
      "text/plain": [
       "<Figure size 432x288 with 1 Axes>"
      ]
     },
     "metadata": {
      "needs_background": "light"
     },
     "output_type": "display_data"
    }
   ],
   "source": [
    "# Plot history for training and validation loss.\n",
    "\n",
    "plt.plot(history4.history['accuracy'])\n",
    "plt.plot(history4.history['val_accuracy'])\n",
    "plt.title('5-layer LSTM model')\n",
    "plt.ylabel('accuracy')\n",
    "plt.xlabel('epoch')\n",
    "plt.legend(['Train', 'Validate'], loc='upper left')\n",
    "plt.show()"
   ]
  },
  {
   "cell_type": "code",
   "execution_count": 12,
   "metadata": {},
   "outputs": [
    {
     "data": {
      "image/png": "[encoded data removed]",
      "text/plain": [
       "<Figure size 432x288 with 1 Axes>"
      ]
     },
     "metadata": {
      "needs_background": "light"
     },
     "output_type": "display_data"
    }
   ],
   "source": [
    "# Plot history for training and validation loss.\n",
    "\n",
    "plt.plot(history4.history['loss'])\n",
    "plt.plot(history4.history['val_loss'])\n",
    "plt.title('5-layer LSTM model')\n",
    "plt.ylabel('loss')\n",
    "plt.xlabel('epoch')\n",
    "plt.legend(['Train', 'Validate'], loc='upper left')\n",
    "plt.show()"
   ]
  },
  {
   "cell_type": "code",
   "execution_count": 13,
   "metadata": {},
   "outputs": [
    {
     "name": "stderr",
     "output_type": "stream",
     "text": [
      "/Users/jocelyn/opt/anaconda3/lib/python3.7/site-packages/ipykernel_launcher.py:2: UserWarning: Update your `LSTM` call to the Keras 2 API: `LSTM(batch_input_shape=[32, 50, 5..., units=20)`\n",
      "  \n",
      "/Users/jocelyn/opt/anaconda3/lib/python3.7/site-packages/ipykernel_launcher.py:6: UserWarning: Update your `Dense` call to the Keras 2 API: `Dense(1, activation=\"sigmoid\", kernel_initializer=\"uniform\")`\n",
      "  \n"
     ]
    }
   ],
   "source": [
    "model_Flow5 = Sequential()\n",
    "model_Flow5.add(LSTM(output_dim=20, batch_input_shape=[batch_size, look_back, dimof_input]))\n",
    "model_Flow5.add(Dropout(dropout))\n",
    "model_Flow5.add(Dense(40, activation='relu'))\n",
    "model_Flow5.add(Dropout(dropout))\n",
    "model_Flow5.add(Dense(dimof_output, init='uniform', activation='sigmoid'))\n",
    "model_Flow5.compile(loss='binary_crossentropy', optimizer='adam',metrics=['accuracy'])"
   ]
  },
  {
   "cell_type": "code",
   "execution_count": 27,
   "metadata": {},
   "outputs": [
    {
     "name": "stdout",
     "output_type": "stream",
     "text": [
      "Model: \"sequential_4\"\n",
      "_________________________________________________________________\n",
      "Layer (type)                 Output Shape              Param #   \n",
      "=================================================================\n",
      "lstm_4 (LSTM)                (32, 20)                  6400      \n",
      "_________________________________________________________________\n",
      "dropout_7 (Dropout)          (32, 20)                  0         \n",
      "_________________________________________________________________\n",
      "dense_7 (Dense)              (32, 40)                  840       \n",
      "_________________________________________________________________\n",
      "dropout_8 (Dropout)          (32, 40)                  0         \n",
      "_________________________________________________________________\n",
      "dense_8 (Dense)              (32, 1)                   41        \n",
      "=================================================================\n",
      "Total params: 7,281\n",
      "Trainable params: 7,281\n",
      "Non-trainable params: 0\n",
      "_________________________________________________________________\n"
     ]
    }
   ],
   "source": [
    "model_Flow5.summary()"
   ]
  },
  {
   "cell_type": "code",
   "execution_count": 14,
   "metadata": {},
   "outputs": [
    {
     "name": "stderr",
     "output_type": "stream",
     "text": [
      "/Users/jocelyn/opt/anaconda3/lib/python3.7/site-packages/ipykernel_launcher.py:6: UserWarning: The `nb_epoch` argument in `fit` has been renamed `epochs`.\n",
      "  \n"
     ]
    },
    {
     "name": "stdout",
     "output_type": "stream",
     "text": [
      "Train on 235872 samples, validate on 235872 samples\n",
      "Epoch 1/100\n",
      "235872/235872 [==============================] - 1795s 8ms/step - loss: 0.1015 - accuracy: 0.9640 - val_loss: 0.3035 - val_accuracy: 0.9360\n",
      "Epoch 2/100\n",
      "235872/235872 [==============================] - 1793s 8ms/step - loss: 0.0479 - accuracy: 0.9837 - val_loss: 0.3395 - val_accuracy: 0.9372\n"
     ]
    }
   ],
   "source": [
    "history5 = model_Flow5.fit(\n",
    "    X_all, Y_all,\n",
    "    validation_split=0.5,\n",
    "    callbacks=[earlyStopping],\n",
    "    shuffle=True,\n",
    "    nb_epoch=num_epoch, batch_size=batch_size, verbose=1)"
   ]
  },
  {
   "cell_type": "code",
   "execution_count": 15,
   "metadata": {},
   "outputs": [
    {
     "data": {
      "text/plain": [
       "{'val_loss': [0.3035388656740294, 0.3394814555314338],\n",
       " 'val_accuracy': [0.9359822273254395, 0.9371650815010071],\n",
       " 'loss': [0.10148630073286337, 0.047910040498418766],\n",
       " 'accuracy': [0.9640101, 0.9837115]}"
      ]
     },
     "execution_count": 15,
     "metadata": {},
     "output_type": "execute_result"
    }
   ],
   "source": [
    "history5.history"
   ]
  },
  {
   "cell_type": "code",
   "execution_count": 16,
   "metadata": {},
   "outputs": [
    {
     "data": {
      "image/png": "[encoded data removed]",
      "text/plain": [
       "<Figure size 432x288 with 1 Axes>"
      ]
     },
     "metadata": {
      "needs_background": "light"
     },
     "output_type": "display_data"
    }
   ],
   "source": [
    "# Plot history for training and validation loss.\n",
    "\n",
    "plt.plot(history5.history['accuracy'])\n",
    "plt.plot(history5.history['val_accuracy'])\n",
    "plt.title('3-layer LSTM model with more nodes')\n",
    "plt.ylabel('accuracy')\n",
    "plt.xlabel('epoch')\n",
    "plt.legend(['Train', 'Validate'], loc='upper left')\n",
    "plt.show()"
   ]
  },
  {
   "cell_type": "code",
   "execution_count": 17,
   "metadata": {},
   "outputs": [
    {
     "data": {
      "image/png": "[encoded data removed]",
      "text/plain": [
       "<Figure size 432x288 with 1 Axes>"
      ]
     },
     "metadata": {
      "needs_background": "light"
     },
     "output_type": "display_data"
    }
   ],
   "source": [
    "# Plot history for training and validation loss.\n",
    "\n",
    "plt.plot(history5.history['loss'])\n",
    "plt.plot(history5.history['val_loss'])\n",
    "plt.title('3-layer LSTM model with more nodes')\n",
    "plt.ylabel('loss')\n",
    "plt.xlabel('epoch')\n",
    "plt.legend(['Train', 'Validate'], loc='upper left')\n",
    "plt.show()"
   ]
  },
  {
   "cell_type": "code",
   "execution_count": 20,
   "metadata": {},
   "outputs": [
    {
     "name": "stderr",
     "output_type": "stream",
     "text": [
      "/Users/jocelyn/opt/anaconda3/lib/python3.7/site-packages/ipykernel_launcher.py:2: UserWarning: Update your `LSTM` call to the Keras 2 API: `LSTM(batch_input_shape=[32, 50, 5..., units=30)`\n",
      "  \n",
      "/Users/jocelyn/opt/anaconda3/lib/python3.7/site-packages/ipykernel_launcher.py:6: UserWarning: Update your `Dense` call to the Keras 2 API: `Dense(1, activation=\"sigmoid\", kernel_initializer=\"uniform\")`\n",
      "  \n"
     ]
    }
   ],
   "source": [
    "model_Flow6 = Sequential()\n",
    "model_Flow6.add(LSTM(output_dim=30, batch_input_shape=[batch_size, look_back, dimof_input]))\n",
    "model_Flow6.add(Dropout(dropout))\n",
    "model_Flow6.add(Dense(50, activation='relu'))\n",
    "model_Flow6.add(Dropout(dropout))\n",
    "model_Flow6.add(Dense(dimof_output, init='uniform', activation='sigmoid'))\n",
    "model_Flow6.compile(loss='binary_crossentropy', optimizer='adam',metrics=['accuracy'])"
   ]
  },
  {
   "cell_type": "code",
   "execution_count": 21,
   "metadata": {},
   "outputs": [
    {
     "name": "stdout",
     "output_type": "stream",
     "text": [
      "Model: \"sequential_3\"\n",
      "_________________________________________________________________\n",
      "Layer (type)                 Output Shape              Param #   \n",
      "=================================================================\n",
      "lstm_3 (LSTM)                (32, 30)                  10800     \n",
      "_________________________________________________________________\n",
      "dropout_7 (Dropout)          (32, 30)                  0         \n",
      "_________________________________________________________________\n",
      "dense_7 (Dense)              (32, 50)                  1550      \n",
      "_________________________________________________________________\n",
      "dropout_8 (Dropout)          (32, 50)                  0         \n",
      "_________________________________________________________________\n",
      "dense_8 (Dense)              (32, 1)                   51        \n",
      "=================================================================\n",
      "Total params: 12,401\n",
      "Trainable params: 12,401\n",
      "Non-trainable params: 0\n",
      "_________________________________________________________________\n"
     ]
    }
   ],
   "source": [
    "model_Flow6.summary()"
   ]
  },
  {
   "cell_type": "code",
   "execution_count": 22,
   "metadata": {},
   "outputs": [
    {
     "name": "stderr",
     "output_type": "stream",
     "text": [
      "/Users/jocelyn/opt/anaconda3/lib/python3.7/site-packages/ipykernel_launcher.py:6: UserWarning: The `nb_epoch` argument in `fit` has been renamed `epochs`.\n",
      "  \n"
     ]
    },
    {
     "name": "stdout",
     "output_type": "stream",
     "text": [
      "Train on 235872 samples, validate on 235872 samples\n",
      "Epoch 1/100\n",
      "235872/235872 [==============================] - 1887s 8ms/step - loss: 0.0927 - accuracy: 0.9668 - val_loss: 0.3031 - val_accuracy: 0.9308\n",
      "Epoch 2/100\n",
      "235872/235872 [==============================] - 1901s 8ms/step - loss: 0.0439 - accuracy: 0.9850 - val_loss: 0.3687 - val_accuracy: 0.9306\n"
     ]
    }
   ],
   "source": [
    "history6 = model_Flow6.fit(\n",
    "    X_all, Y_all,\n",
    "    validation_split=0.5,\n",
    "    callbacks=[earlyStopping],\n",
    "    shuffle=True,\n",
    "    nb_epoch=num_epoch, batch_size=batch_size, verbose=1)"
   ]
  },
  {
   "cell_type": "code",
   "execution_count": 23,
   "metadata": {},
   "outputs": [
    {
     "data": {
      "text/plain": [
       "{'val_loss': [0.30311211386263953, 0.36871775568399695],\n",
       " 'val_accuracy': [0.930759072303772, 0.9305852055549622],\n",
       " 'loss': [0.09269670927251765, 0.043870982669435454],\n",
       " 'accuracy': [0.9667659, 0.9849707]}"
      ]
     },
     "execution_count": 23,
     "metadata": {},
     "output_type": "execute_result"
    }
   ],
   "source": [
    "history6.history"
   ]
  },
  {
   "cell_type": "code",
   "execution_count": 24,
   "metadata": {},
   "outputs": [
    {
     "data": {
      "image/png": "[encoded data removed]",
      "text/plain": [
       "<Figure size 432x288 with 1 Axes>"
      ]
     },
     "metadata": {
      "needs_background": "light"
     },
     "output_type": "display_data"
    }
   ],
   "source": [
    "# Plot history for training and validation loss.\n",
    "\n",
    "plt.plot(history6.history['accuracy'])\n",
    "plt.plot(history6.history['val_accuracy'])\n",
    "plt.title('3-layer LSTM model with more nodes')\n",
    "plt.ylabel('accuracy')\n",
    "plt.xlabel('epoch')\n",
    "plt.legend(['Train', 'Validate'], loc='upper left')\n",
    "plt.show()"
   ]
  },
  {
   "cell_type": "code",
   "execution_count": 25,
   "metadata": {},
   "outputs": [
    {
     "data": {
      "image/png": "[encoded data removed]",
      "text/plain": [
       "<Figure size 432x288 with 1 Axes>"
      ]
     },
     "metadata": {
      "needs_background": "light"
     },
     "output_type": "display_data"
    }
   ],
   "source": [
    "# Plot history for training and validation loss.\n",
    "\n",
    "plt.plot(history6.history['loss'])\n",
    "plt.plot(history6.history['val_loss'])\n",
    "plt.title('3-layer LSTM model with more nodes')\n",
    "plt.ylabel('loss')\n",
    "plt.xlabel('epoch')\n",
    "plt.legend(['Train', 'Validate'], loc='upper left')\n",
    "plt.show()"
   ]
  },
  {
   "cell_type": "markdown",
   "metadata": {},
   "source": [
    "## serialize model to JSON\n",
    "https://machinelearningmastery.com/save-load-keras-deep-learning-models/"
   ]
  },
  {
   "cell_type": "code",
   "execution_count": 18,
   "metadata": {},
   "outputs": [
    {
     "name": "stdout",
     "output_type": "stream",
     "text": [
      "Saved model to disk\n"
     ]
    }
   ],
   "source": [
    "model_json2 = model_Flow6.to_json()\n",
    "with open(\"FollowingVolvo6.json\", \"w\") as json_file:\n",
    "    json_file.write(model_json2)\n",
    "    \n",
    "# serialize weights to HDF5\n",
    "model_Flow6.save_weights(\"FollowingVolvo6_weights.h5\")\n",
    "print(\"Saved model to disk\")"
   ]
  },
  {
   "cell_type": "markdown",
   "metadata": {},
   "source": [
    "## Save Model Weights and Architecture Together"
   ]
  },
  {
   "cell_type": "code",
   "execution_count": 19,
   "metadata": {},
   "outputs": [
    {
     "name": "stdout",
     "output_type": "stream",
     "text": [
      "Saved model to disk\n"
     ]
    }
   ],
   "source": [
    "#model_Flow1.save(\"TrafficNetToVolvo_FlowMaskingSparse-1.h5\")\n",
    "model_Flow6.save(\"FollowingVolvo6.h5\")\n",
    "print(\"Saved model to disk\")"
   ]
  },
  {
   "cell_type": "code",
   "execution_count": 27,
   "metadata": {},
   "outputs": [],
   "source": [
    "volvo = pd.read_csv('../TrafficNet/VolvoData/2019w26_CPUload_Kiel_Amsterdam-0011.csv', usecols=['Lat','Long','InReverse','Lane','PositionInLane','Velocity','PosLgt1','PosLgt2','PosLgt3','PosLgt4','PosLgt5','PosLat1','PosLat2','PosLat3','PosLat4','VelLgt1','VelLgt2','VelLgt3','VelLgt4','VelLgt5','VelLat1','VelLat2','VelLat3','VelLat4','VelLat5','AccLgt1','AccLgt2','AccLgt3','AccLgt4','AccLgt5','AccLat1','AccLat2','AccLat3','AccLat4','AccLat5','Angle1','Angle2','Angle3','Angle4','Angle5','Type1','Type2','Type3','Type4','Type5','Id1','Id2','Id3','Id4','Id5','Lane1','Lane2','Lane3','Lane4','PositionInLane1','PositionInLane2','PositionInLane3','PositionInLane4','Lead','Following'])\n",
    "volvo.fillna(-1, inplace=True)\n",
    "\n",
    "Yvolvo = np.array(volvo['Following'].values)\n",
    "Xvolvo = np.array(volvo[['Lat','Long','InReverse','Lane','PositionInLane','Velocity','PosLgt1','PosLgt2','PosLgt3','PosLgt4','PosLgt5','PosLat1','PosLat2','PosLat3','PosLat4','VelLgt1','VelLgt2','VelLgt3','VelLgt4','VelLgt5','VelLat1','VelLat2','VelLat3','VelLat4','VelLat5','AccLgt1','AccLgt2','AccLgt3','AccLgt4','AccLgt5','AccLat1','AccLat2','AccLat3','AccLat4','AccLat5','Angle1','Angle2','Angle3','Angle4','Angle5','Type1','Type2','Type3','Type4','Type5','Id1','Id2','Id3','Id4','Id5','Lane1','Lane2','Lane3','Lane4','PositionInLane1','PositionInLane2','PositionInLane3','PositionInLane4','Lead']])\n",
    "    \n",
    "# Scale/whiten the X data\n",
    "scaler = StandardScaler()\n",
    "X_volvo = scaler.fit_transform(Xvolvo)\n",
    "XP_volvo, YP_volvo = create_dataset(X_volvo, Yvolvo, look_back=look_back)\n",
    "\n",
    "(len(XP_volvo)//64)*64\n",
    "\n",
    "XPP_volvo = XP_volvo[:139520]\n",
    "YPP_volvo = YP_volvo[:139520]"
   ]
  },
  {
   "cell_type": "code",
   "execution_count": 28,
   "metadata": {},
   "outputs": [
    {
     "name": "stdout",
     "output_type": "stream",
     "text": [
      "139520/139520 [==============================] - 123s 880us/step\n",
      "0:02:03.215906\n",
      "0.8813575114678899\n"
     ]
    }
   ],
   "source": [
    "from datetime import datetime\n",
    "start=datetime.now()\n",
    "Y_predict_volvo = model_Flow5.predict_classes(XPP_volvo, verbose=True)\n",
    "print(datetime.now()-start)\n",
    "\n",
    "#equal_arrays_volvo = (Y_predict_volvo == YPP_volvo).all(axis=1)\n",
    "#acc_volvo = np.count_nonzero(equal_arrays_volvo == True)/len(equal_arrays_volvo)\n",
    "a = Y_predict_volvo.tolist()\n",
    "a2 = [item[0] for item in a]\n",
    "b = YPP_volvo.tolist()\n",
    "equal_arrays_volvo = [i for i, (x, y) in enumerate(zip(a2, b)) if x == y]\n",
    "acc_volvo = len(equal_arrays_volvo)/len(a2)\n",
    "print(acc_volvo)"
   ]
  },
  {
   "cell_type": "code",
   "execution_count": 29,
   "metadata": {},
   "outputs": [],
   "source": [
    "f = open(\"predict_FollowingVolvo5.csv\", \"w\")\n",
    "\n",
    "for index in range(len(a2)):\n",
    "    f.write(str(a2[index]) + \",\" + str(b[index]) + \"\\n\")\n",
    "f.close()"
   ]
  },
  {
   "cell_type": "code",
   "execution_count": null,
   "metadata": {},
   "outputs": [],
   "source": []
  },
  {
   "cell_type": "code",
   "execution_count": null,
   "metadata": {},
   "outputs": [],
   "source": []
  },
  {
   "cell_type": "code",
   "execution_count": null,
   "metadata": {},
   "outputs": [],
   "source": []
  },
  {
   "cell_type": "code",
   "execution_count": null,
   "metadata": {},
   "outputs": [],
   "source": []
  },
  {
   "cell_type": "code",
   "execution_count": null,
   "metadata": {},
   "outputs": [],
   "source": []
  },
  {
   "cell_type": "code",
   "execution_count": null,
   "metadata": {},
   "outputs": [],
   "source": []
  },
  {
   "cell_type": "code",
   "execution_count": null,
   "metadata": {},
   "outputs": [],
   "source": []
  },
  {
   "cell_type": "code",
   "execution_count": null,
   "metadata": {},
   "outputs": [],
   "source": [
    "# load and evaluate a saved model\n",
    "from numpy import loadtxt\n",
    "from keras.models import load_model\n",
    "\n",
    "# load model\n",
    "model = load_model('model.h5')\n",
    "# summarize model.\n",
    "model.summary()\n",
    "# load dataset\n",
    "dataset = loadtxt(\"pima-indians-diabetes.csv\", delimiter=\",\")\n",
    "# split into input (X) and output (Y) variables\n",
    "X = dataset[:,0:8]\n",
    "Y = dataset[:,8]\n",
    "# evaluate the model\n",
    "score = model.evaluate(X, Y, verbose=0)\n",
    "print(\"%s: %.2f%%\" % (model.metrics_names[1], score[1]*100))"
   ]
  },
  {
   "cell_type": "code",
   "execution_count": null,
   "metadata": {},
   "outputs": [],
   "source": []
  },
  {
   "cell_type": "code",
   "execution_count": null,
   "metadata": {},
   "outputs": [],
   "source": [
    "# Write predictions to disk\n",
    "\n",
    "data1988.to_csv(\"TrafficNetToVolvo-6.1-CutIn-Masking_PredictionResult.csv\", encoding='utf_8_sig', index=False)"
   ]
  }
 ],
 "metadata": {
  "kernelspec": {
   "display_name": "Python 3",
   "language": "python",
   "name": "python3"
  },
  "language_info": {
   "codemirror_mode": {
    "name": "ipython",
    "version": 3
   },
   "file_extension": ".py",
   "mimetype": "text/x-python",
   "name": "python",
   "nbconvert_exporter": "python",
   "pygments_lexer": "ipython3",
   "version": "3.7.4"
  }
 },
 "nbformat": 4,
 "nbformat_minor": 1
}
